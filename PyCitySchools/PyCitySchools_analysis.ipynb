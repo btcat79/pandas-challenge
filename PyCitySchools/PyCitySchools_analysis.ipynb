{
 "cells": [
  {
   "attachments": {},
   "cell_type": "markdown",
   "metadata": {},
   "source": [
    "# PyCity Schools Analysis\n",
    "\n",
    "- Your analysis here\n",
    "  \n",
    "---Unfortunately, I can't seem to figure out how to solve this error of having non-numeric data in the math scores and possibly english scores. Really frustrating. I will keep trying and hope to resubmit."
   ]
  },
  {
   "cell_type": "code",
   "execution_count": 1,
   "metadata": {},
   "outputs": [
    {
     "data": {
      "text/html": [
       "<div>\n",
       "<style scoped>\n",
       "    .dataframe tbody tr th:only-of-type {\n",
       "        vertical-align: middle;\n",
       "    }\n",
       "\n",
       "    .dataframe tbody tr th {\n",
       "        vertical-align: top;\n",
       "    }\n",
       "\n",
       "    .dataframe thead th {\n",
       "        text-align: right;\n",
       "    }\n",
       "</style>\n",
       "<table border=\"1\" class=\"dataframe\">\n",
       "  <thead>\n",
       "    <tr style=\"text-align: right;\">\n",
       "      <th></th>\n",
       "      <th>Student ID</th>\n",
       "      <th>student_name</th>\n",
       "      <th>gender</th>\n",
       "      <th>grade</th>\n",
       "      <th>school_name</th>\n",
       "      <th>reading_score</th>\n",
       "      <th>math_score</th>\n",
       "      <th>School ID</th>\n",
       "      <th>type</th>\n",
       "      <th>size</th>\n",
       "      <th>budget</th>\n",
       "    </tr>\n",
       "  </thead>\n",
       "  <tbody>\n",
       "    <tr>\n",
       "      <th>0</th>\n",
       "      <td>0</td>\n",
       "      <td>Paul Bradley</td>\n",
       "      <td>M</td>\n",
       "      <td>9th</td>\n",
       "      <td>Huang High School</td>\n",
       "      <td>66</td>\n",
       "      <td>79</td>\n",
       "      <td>0</td>\n",
       "      <td>District</td>\n",
       "      <td>2917</td>\n",
       "      <td>1910635</td>\n",
       "    </tr>\n",
       "    <tr>\n",
       "      <th>1</th>\n",
       "      <td>1</td>\n",
       "      <td>Victor Smith</td>\n",
       "      <td>M</td>\n",
       "      <td>12th</td>\n",
       "      <td>Huang High School</td>\n",
       "      <td>94</td>\n",
       "      <td>61</td>\n",
       "      <td>0</td>\n",
       "      <td>District</td>\n",
       "      <td>2917</td>\n",
       "      <td>1910635</td>\n",
       "    </tr>\n",
       "    <tr>\n",
       "      <th>2</th>\n",
       "      <td>2</td>\n",
       "      <td>Kevin Rodriguez</td>\n",
       "      <td>M</td>\n",
       "      <td>12th</td>\n",
       "      <td>Huang High School</td>\n",
       "      <td>90</td>\n",
       "      <td>60</td>\n",
       "      <td>0</td>\n",
       "      <td>District</td>\n",
       "      <td>2917</td>\n",
       "      <td>1910635</td>\n",
       "    </tr>\n",
       "    <tr>\n",
       "      <th>3</th>\n",
       "      <td>3</td>\n",
       "      <td>Dr. Richard Scott</td>\n",
       "      <td>M</td>\n",
       "      <td>12th</td>\n",
       "      <td>Huang High School</td>\n",
       "      <td>67</td>\n",
       "      <td>58</td>\n",
       "      <td>0</td>\n",
       "      <td>District</td>\n",
       "      <td>2917</td>\n",
       "      <td>1910635</td>\n",
       "    </tr>\n",
       "    <tr>\n",
       "      <th>4</th>\n",
       "      <td>4</td>\n",
       "      <td>Bonnie Ray</td>\n",
       "      <td>F</td>\n",
       "      <td>9th</td>\n",
       "      <td>Huang High School</td>\n",
       "      <td>97</td>\n",
       "      <td>84</td>\n",
       "      <td>0</td>\n",
       "      <td>District</td>\n",
       "      <td>2917</td>\n",
       "      <td>1910635</td>\n",
       "    </tr>\n",
       "  </tbody>\n",
       "</table>\n",
       "</div>"
      ],
      "text/plain": [
       "   Student ID       student_name gender grade        school_name  \\\n",
       "0           0       Paul Bradley      M   9th  Huang High School   \n",
       "1           1       Victor Smith      M  12th  Huang High School   \n",
       "2           2    Kevin Rodriguez      M  12th  Huang High School   \n",
       "3           3  Dr. Richard Scott      M  12th  Huang High School   \n",
       "4           4         Bonnie Ray      F   9th  Huang High School   \n",
       "\n",
       "   reading_score  math_score  School ID      type  size   budget  \n",
       "0             66          79          0  District  2917  1910635  \n",
       "1             94          61          0  District  2917  1910635  \n",
       "2             90          60          0  District  2917  1910635  \n",
       "3             67          58          0  District  2917  1910635  \n",
       "4             97          84          0  District  2917  1910635  "
      ]
     },
     "execution_count": 1,
     "metadata": {},
     "output_type": "execute_result"
    }
   ],
   "source": [
    "# Dependencies and Setup\n",
    "import pandas as pd\n",
    "from pathlib import Path\n",
    "\n",
    "# File to Load (Remember to Change These)\n",
    "school_data_to_load = Path(\"Resources/schools_complete.csv\")\n",
    "student_data_to_load = Path(\"Resources/students_complete.csv\")\n",
    "\n",
    "# Read School and Student Data File and store into Pandas DataFrames\n",
    "school_data = pd.read_csv(school_data_to_load)\n",
    "student_data = pd.read_csv(student_data_to_load)\n",
    "\n",
    "# Combine the data into a single dataset.\n",
    "school_data_complete = pd.merge(student_data, school_data, how=\"left\", on=[\"school_name\", \"school_name\"])\n",
    "\n",
    "# Clean the data by dropping rows with non-numeric math_score or reading_score\n",
    "school_data_complete = school_data_complete[pd.to_numeric(school_data_complete[\"math_score\"], errors='coerce').notna()]\n",
    "school_data_complete = school_data_complete[pd.to_numeric(school_data_complete[\"reading_score\"], errors='coerce').notna()]\n",
    "\n",
    "\n",
    "school_data_complete.head()\n"
   ]
  },
  {
   "cell_type": "code",
   "execution_count": 28,
   "metadata": {},
   "outputs": [
    {
     "name": "stdout",
     "output_type": "stream",
     "text": [
      "Student ID        int64\n",
      "student_name     object\n",
      "gender           object\n",
      "grade            object\n",
      "school_name      object\n",
      "reading_score     int64\n",
      "math_score        int64\n",
      "School ID         int64\n",
      "type             object\n",
      "size              int64\n",
      "budget            int64\n",
      "dtype: object\n"
     ]
    }
   ],
   "source": [
    "print(school_data_complete.dtypes)\n"
   ]
  },
  {
   "cell_type": "code",
   "execution_count": 33,
   "metadata": {},
   "outputs": [],
   "source": [
    "# Convert math_score and reading_score to numeric, replace non-convertible values with NaN\n",
    "school_data_complete[\"math_score\"] = pd.to_numeric(school_data_complete[\"math_score\"], errors='coerce')\n",
    "school_data_complete[\"reading_score\"] = pd.to_numeric(school_data_complete[\"reading_score\"], errors='coerce')\n",
    "\n",
    "# Drop rows with NaN values in math_score or reading_score\n",
    "school_data_complete = school_data_complete.dropna(subset=[\"math_score\", \"reading_score\"])\n"
   ]
  },
  {
   "cell_type": "code",
   "execution_count": 35,
   "metadata": {},
   "outputs": [
    {
     "name": "stdout",
     "output_type": "stream",
     "text": [
      "math_score       float64\n",
      "reading_score    float64\n",
      "dtype: object\n"
     ]
    }
   ],
   "source": [
    "# Convert math_score and reading_score to float64\n",
    "school_data_complete[\"math_score\"] = school_data_complete[\"math_score\"].astype(float)\n",
    "school_data_complete[\"reading_score\"] = school_data_complete[\"reading_score\"].astype(float)\n",
    "\n",
    "# Check if the conversion was successful\n",
    "print(school_data_complete.dtypes[[\"math_score\", \"reading_score\"]])\n"
   ]
  },
  {
   "cell_type": "code",
   "execution_count": 50,
   "metadata": {},
   "outputs": [
    {
     "ename": "TypeError",
     "evalue": "agg function failed [how->mean,dtype->object]",
     "output_type": "error",
     "traceback": [
      "\u001b[1;31m---------------------------------------------------------------------------\u001b[0m",
      "\u001b[1;31mTypeError\u001b[0m                                 Traceback (most recent call last)",
      "File \u001b[1;32m~\\anaconda3\\envs\\dev\\lib\\site-packages\\pandas\\core\\groupby\\groupby.py:1942\u001b[0m, in \u001b[0;36mGroupBy._agg_py_fallback\u001b[1;34m(self, how, values, ndim, alt)\u001b[0m\n\u001b[0;32m   1941\u001b[0m \u001b[38;5;28;01mtry\u001b[39;00m:\n\u001b[1;32m-> 1942\u001b[0m     res_values \u001b[38;5;241m=\u001b[39m \u001b[38;5;28;43mself\u001b[39;49m\u001b[38;5;241;43m.\u001b[39;49m\u001b[43m_grouper\u001b[49m\u001b[38;5;241;43m.\u001b[39;49m\u001b[43magg_series\u001b[49m\u001b[43m(\u001b[49m\u001b[43mser\u001b[49m\u001b[43m,\u001b[49m\u001b[43m \u001b[49m\u001b[43malt\u001b[49m\u001b[43m,\u001b[49m\u001b[43m \u001b[49m\u001b[43mpreserve_dtype\u001b[49m\u001b[38;5;241;43m=\u001b[39;49m\u001b[38;5;28;43;01mTrue\u001b[39;49;00m\u001b[43m)\u001b[49m\n\u001b[0;32m   1943\u001b[0m \u001b[38;5;28;01mexcept\u001b[39;00m \u001b[38;5;167;01mException\u001b[39;00m \u001b[38;5;28;01mas\u001b[39;00m err:\n",
      "File \u001b[1;32m~\\anaconda3\\envs\\dev\\lib\\site-packages\\pandas\\core\\groupby\\ops.py:864\u001b[0m, in \u001b[0;36mBaseGrouper.agg_series\u001b[1;34m(self, obj, func, preserve_dtype)\u001b[0m\n\u001b[0;32m    862\u001b[0m     preserve_dtype \u001b[38;5;241m=\u001b[39m \u001b[38;5;28;01mTrue\u001b[39;00m\n\u001b[1;32m--> 864\u001b[0m result \u001b[38;5;241m=\u001b[39m \u001b[38;5;28;43mself\u001b[39;49m\u001b[38;5;241;43m.\u001b[39;49m\u001b[43m_aggregate_series_pure_python\u001b[49m\u001b[43m(\u001b[49m\u001b[43mobj\u001b[49m\u001b[43m,\u001b[49m\u001b[43m \u001b[49m\u001b[43mfunc\u001b[49m\u001b[43m)\u001b[49m\n\u001b[0;32m    866\u001b[0m npvalues \u001b[38;5;241m=\u001b[39m lib\u001b[38;5;241m.\u001b[39mmaybe_convert_objects(result, try_float\u001b[38;5;241m=\u001b[39m\u001b[38;5;28;01mFalse\u001b[39;00m)\n",
      "File \u001b[1;32m~\\anaconda3\\envs\\dev\\lib\\site-packages\\pandas\\core\\groupby\\ops.py:885\u001b[0m, in \u001b[0;36mBaseGrouper._aggregate_series_pure_python\u001b[1;34m(self, obj, func)\u001b[0m\n\u001b[0;32m    884\u001b[0m \u001b[38;5;28;01mfor\u001b[39;00m i, group \u001b[38;5;129;01min\u001b[39;00m \u001b[38;5;28menumerate\u001b[39m(splitter):\n\u001b[1;32m--> 885\u001b[0m     res \u001b[38;5;241m=\u001b[39m \u001b[43mfunc\u001b[49m\u001b[43m(\u001b[49m\u001b[43mgroup\u001b[49m\u001b[43m)\u001b[49m\n\u001b[0;32m    886\u001b[0m     res \u001b[38;5;241m=\u001b[39m extract_result(res)\n",
      "File \u001b[1;32m~\\anaconda3\\envs\\dev\\lib\\site-packages\\pandas\\core\\groupby\\groupby.py:2454\u001b[0m, in \u001b[0;36mGroupBy.mean.<locals>.<lambda>\u001b[1;34m(x)\u001b[0m\n\u001b[0;32m   2451\u001b[0m \u001b[38;5;28;01melse\u001b[39;00m:\n\u001b[0;32m   2452\u001b[0m     result \u001b[38;5;241m=\u001b[39m \u001b[38;5;28mself\u001b[39m\u001b[38;5;241m.\u001b[39m_cython_agg_general(\n\u001b[0;32m   2453\u001b[0m         \u001b[38;5;124m\"\u001b[39m\u001b[38;5;124mmean\u001b[39m\u001b[38;5;124m\"\u001b[39m,\n\u001b[1;32m-> 2454\u001b[0m         alt\u001b[38;5;241m=\u001b[39m\u001b[38;5;28;01mlambda\u001b[39;00m x: \u001b[43mSeries\u001b[49m\u001b[43m(\u001b[49m\u001b[43mx\u001b[49m\u001b[43m,\u001b[49m\u001b[43m \u001b[49m\u001b[43mcopy\u001b[49m\u001b[38;5;241;43m=\u001b[39;49m\u001b[38;5;28;43;01mFalse\u001b[39;49;00m\u001b[43m)\u001b[49m\u001b[38;5;241;43m.\u001b[39;49m\u001b[43mmean\u001b[49m\u001b[43m(\u001b[49m\u001b[43mnumeric_only\u001b[49m\u001b[38;5;241;43m=\u001b[39;49m\u001b[43mnumeric_only\u001b[49m\u001b[43m)\u001b[49m,\n\u001b[0;32m   2455\u001b[0m         numeric_only\u001b[38;5;241m=\u001b[39mnumeric_only,\n\u001b[0;32m   2456\u001b[0m     )\n\u001b[0;32m   2457\u001b[0m     \u001b[38;5;28;01mreturn\u001b[39;00m result\u001b[38;5;241m.\u001b[39m__finalize__(\u001b[38;5;28mself\u001b[39m\u001b[38;5;241m.\u001b[39mobj, method\u001b[38;5;241m=\u001b[39m\u001b[38;5;124m\"\u001b[39m\u001b[38;5;124mgroupby\u001b[39m\u001b[38;5;124m\"\u001b[39m)\n",
      "File \u001b[1;32m~\\anaconda3\\envs\\dev\\lib\\site-packages\\pandas\\core\\series.py:6549\u001b[0m, in \u001b[0;36mSeries.mean\u001b[1;34m(self, axis, skipna, numeric_only, **kwargs)\u001b[0m\n\u001b[0;32m   6541\u001b[0m \u001b[38;5;129m@doc\u001b[39m(make_doc(\u001b[38;5;124m\"\u001b[39m\u001b[38;5;124mmean\u001b[39m\u001b[38;5;124m\"\u001b[39m, ndim\u001b[38;5;241m=\u001b[39m\u001b[38;5;241m1\u001b[39m))\n\u001b[0;32m   6542\u001b[0m \u001b[38;5;28;01mdef\u001b[39;00m \u001b[38;5;21mmean\u001b[39m(\n\u001b[0;32m   6543\u001b[0m     \u001b[38;5;28mself\u001b[39m,\n\u001b[1;32m   (...)\u001b[0m\n\u001b[0;32m   6547\u001b[0m     \u001b[38;5;241m*\u001b[39m\u001b[38;5;241m*\u001b[39mkwargs,\n\u001b[0;32m   6548\u001b[0m ):\n\u001b[1;32m-> 6549\u001b[0m     \u001b[38;5;28;01mreturn\u001b[39;00m NDFrame\u001b[38;5;241m.\u001b[39mmean(\u001b[38;5;28mself\u001b[39m, axis, skipna, numeric_only, \u001b[38;5;241m*\u001b[39m\u001b[38;5;241m*\u001b[39mkwargs)\n",
      "File \u001b[1;32m~\\anaconda3\\envs\\dev\\lib\\site-packages\\pandas\\core\\generic.py:12420\u001b[0m, in \u001b[0;36mNDFrame.mean\u001b[1;34m(self, axis, skipna, numeric_only, **kwargs)\u001b[0m\n\u001b[0;32m  12413\u001b[0m \u001b[38;5;28;01mdef\u001b[39;00m \u001b[38;5;21mmean\u001b[39m(\n\u001b[0;32m  12414\u001b[0m     \u001b[38;5;28mself\u001b[39m,\n\u001b[0;32m  12415\u001b[0m     axis: Axis \u001b[38;5;241m|\u001b[39m \u001b[38;5;28;01mNone\u001b[39;00m \u001b[38;5;241m=\u001b[39m \u001b[38;5;241m0\u001b[39m,\n\u001b[1;32m   (...)\u001b[0m\n\u001b[0;32m  12418\u001b[0m     \u001b[38;5;241m*\u001b[39m\u001b[38;5;241m*\u001b[39mkwargs,\n\u001b[0;32m  12419\u001b[0m ) \u001b[38;5;241m-\u001b[39m\u001b[38;5;241m>\u001b[39m Series \u001b[38;5;241m|\u001b[39m \u001b[38;5;28mfloat\u001b[39m:\n\u001b[1;32m> 12420\u001b[0m     \u001b[38;5;28;01mreturn\u001b[39;00m \u001b[38;5;28mself\u001b[39m\u001b[38;5;241m.\u001b[39m_stat_function(\n\u001b[0;32m  12421\u001b[0m         \u001b[38;5;124m\"\u001b[39m\u001b[38;5;124mmean\u001b[39m\u001b[38;5;124m\"\u001b[39m, nanops\u001b[38;5;241m.\u001b[39mnanmean, axis, skipna, numeric_only, \u001b[38;5;241m*\u001b[39m\u001b[38;5;241m*\u001b[39mkwargs\n\u001b[0;32m  12422\u001b[0m     )\n",
      "File \u001b[1;32m~\\anaconda3\\envs\\dev\\lib\\site-packages\\pandas\\core\\generic.py:12377\u001b[0m, in \u001b[0;36mNDFrame._stat_function\u001b[1;34m(self, name, func, axis, skipna, numeric_only, **kwargs)\u001b[0m\n\u001b[0;32m  12375\u001b[0m validate_bool_kwarg(skipna, \u001b[38;5;124m\"\u001b[39m\u001b[38;5;124mskipna\u001b[39m\u001b[38;5;124m\"\u001b[39m, none_allowed\u001b[38;5;241m=\u001b[39m\u001b[38;5;28;01mFalse\u001b[39;00m)\n\u001b[1;32m> 12377\u001b[0m \u001b[38;5;28;01mreturn\u001b[39;00m \u001b[38;5;28;43mself\u001b[39;49m\u001b[38;5;241;43m.\u001b[39;49m\u001b[43m_reduce\u001b[49m\u001b[43m(\u001b[49m\n\u001b[0;32m  12378\u001b[0m \u001b[43m    \u001b[49m\u001b[43mfunc\u001b[49m\u001b[43m,\u001b[49m\u001b[43m \u001b[49m\u001b[43mname\u001b[49m\u001b[38;5;241;43m=\u001b[39;49m\u001b[43mname\u001b[49m\u001b[43m,\u001b[49m\u001b[43m \u001b[49m\u001b[43maxis\u001b[49m\u001b[38;5;241;43m=\u001b[39;49m\u001b[43maxis\u001b[49m\u001b[43m,\u001b[49m\u001b[43m \u001b[49m\u001b[43mskipna\u001b[49m\u001b[38;5;241;43m=\u001b[39;49m\u001b[43mskipna\u001b[49m\u001b[43m,\u001b[49m\u001b[43m \u001b[49m\u001b[43mnumeric_only\u001b[49m\u001b[38;5;241;43m=\u001b[39;49m\u001b[43mnumeric_only\u001b[49m\n\u001b[0;32m  12379\u001b[0m \u001b[43m\u001b[49m\u001b[43m)\u001b[49m\n",
      "File \u001b[1;32m~\\anaconda3\\envs\\dev\\lib\\site-packages\\pandas\\core\\series.py:6457\u001b[0m, in \u001b[0;36mSeries._reduce\u001b[1;34m(self, op, name, axis, skipna, numeric_only, filter_type, **kwds)\u001b[0m\n\u001b[0;32m   6453\u001b[0m     \u001b[38;5;28;01mraise\u001b[39;00m \u001b[38;5;167;01mTypeError\u001b[39;00m(\n\u001b[0;32m   6454\u001b[0m         \u001b[38;5;124mf\u001b[39m\u001b[38;5;124m\"\u001b[39m\u001b[38;5;124mSeries.\u001b[39m\u001b[38;5;132;01m{\u001b[39;00mname\u001b[38;5;132;01m}\u001b[39;00m\u001b[38;5;124m does not allow \u001b[39m\u001b[38;5;132;01m{\u001b[39;00mkwd_name\u001b[38;5;132;01m}\u001b[39;00m\u001b[38;5;124m=\u001b[39m\u001b[38;5;132;01m{\u001b[39;00mnumeric_only\u001b[38;5;132;01m}\u001b[39;00m\u001b[38;5;124m \u001b[39m\u001b[38;5;124m\"\u001b[39m\n\u001b[0;32m   6455\u001b[0m         \u001b[38;5;124m\"\u001b[39m\u001b[38;5;124mwith non-numeric dtypes.\u001b[39m\u001b[38;5;124m\"\u001b[39m\n\u001b[0;32m   6456\u001b[0m     )\n\u001b[1;32m-> 6457\u001b[0m \u001b[38;5;28;01mreturn\u001b[39;00m op(delegate, skipna\u001b[38;5;241m=\u001b[39mskipna, \u001b[38;5;241m*\u001b[39m\u001b[38;5;241m*\u001b[39mkwds)\n",
      "File \u001b[1;32m~\\anaconda3\\envs\\dev\\lib\\site-packages\\pandas\\core\\nanops.py:147\u001b[0m, in \u001b[0;36mbottleneck_switch.__call__.<locals>.f\u001b[1;34m(values, axis, skipna, **kwds)\u001b[0m\n\u001b[0;32m    146\u001b[0m \u001b[38;5;28;01melse\u001b[39;00m:\n\u001b[1;32m--> 147\u001b[0m     result \u001b[38;5;241m=\u001b[39m alt(values, axis\u001b[38;5;241m=\u001b[39maxis, skipna\u001b[38;5;241m=\u001b[39mskipna, \u001b[38;5;241m*\u001b[39m\u001b[38;5;241m*\u001b[39mkwds)\n\u001b[0;32m    149\u001b[0m \u001b[38;5;28;01mreturn\u001b[39;00m result\n",
      "File \u001b[1;32m~\\anaconda3\\envs\\dev\\lib\\site-packages\\pandas\\core\\nanops.py:404\u001b[0m, in \u001b[0;36m_datetimelike_compat.<locals>.new_func\u001b[1;34m(values, axis, skipna, mask, **kwargs)\u001b[0m\n\u001b[0;32m    402\u001b[0m     mask \u001b[38;5;241m=\u001b[39m isna(values)\n\u001b[1;32m--> 404\u001b[0m result \u001b[38;5;241m=\u001b[39m func(values, axis\u001b[38;5;241m=\u001b[39maxis, skipna\u001b[38;5;241m=\u001b[39mskipna, mask\u001b[38;5;241m=\u001b[39mmask, \u001b[38;5;241m*\u001b[39m\u001b[38;5;241m*\u001b[39mkwargs)\n\u001b[0;32m    406\u001b[0m \u001b[38;5;28;01mif\u001b[39;00m datetimelike:\n",
      "File \u001b[1;32m~\\anaconda3\\envs\\dev\\lib\\site-packages\\pandas\\core\\nanops.py:720\u001b[0m, in \u001b[0;36mnanmean\u001b[1;34m(values, axis, skipna, mask)\u001b[0m\n\u001b[0;32m    719\u001b[0m the_sum \u001b[38;5;241m=\u001b[39m values\u001b[38;5;241m.\u001b[39msum(axis, dtype\u001b[38;5;241m=\u001b[39mdtype_sum)\n\u001b[1;32m--> 720\u001b[0m the_sum \u001b[38;5;241m=\u001b[39m \u001b[43m_ensure_numeric\u001b[49m\u001b[43m(\u001b[49m\u001b[43mthe_sum\u001b[49m\u001b[43m)\u001b[49m\n\u001b[0;32m    722\u001b[0m \u001b[38;5;28;01mif\u001b[39;00m axis \u001b[38;5;129;01mis\u001b[39;00m \u001b[38;5;129;01mnot\u001b[39;00m \u001b[38;5;28;01mNone\u001b[39;00m \u001b[38;5;129;01mand\u001b[39;00m \u001b[38;5;28mgetattr\u001b[39m(the_sum, \u001b[38;5;124m\"\u001b[39m\u001b[38;5;124mndim\u001b[39m\u001b[38;5;124m\"\u001b[39m, \u001b[38;5;28;01mFalse\u001b[39;00m):\n",
      "File \u001b[1;32m~\\anaconda3\\envs\\dev\\lib\\site-packages\\pandas\\core\\nanops.py:1701\u001b[0m, in \u001b[0;36m_ensure_numeric\u001b[1;34m(x)\u001b[0m\n\u001b[0;32m   1699\u001b[0m \u001b[38;5;28;01mif\u001b[39;00m \u001b[38;5;28misinstance\u001b[39m(x, \u001b[38;5;28mstr\u001b[39m):\n\u001b[0;32m   1700\u001b[0m     \u001b[38;5;66;03m# GH#44008, GH#36703 avoid casting e.g. strings to numeric\u001b[39;00m\n\u001b[1;32m-> 1701\u001b[0m     \u001b[38;5;28;01mraise\u001b[39;00m \u001b[38;5;167;01mTypeError\u001b[39;00m(\u001b[38;5;124mf\u001b[39m\u001b[38;5;124m\"\u001b[39m\u001b[38;5;124mCould not convert string \u001b[39m\u001b[38;5;124m'\u001b[39m\u001b[38;5;132;01m{\u001b[39;00mx\u001b[38;5;132;01m}\u001b[39;00m\u001b[38;5;124m'\u001b[39m\u001b[38;5;124m to numeric\u001b[39m\u001b[38;5;124m\"\u001b[39m)\n\u001b[0;32m   1702\u001b[0m \u001b[38;5;28;01mtry\u001b[39;00m:\n",
      "\u001b[1;31mTypeError\u001b[0m: Could not convert string 'Blake MartinKathryn KaneRichard HaasFrank MarshCharles Goodman Jr.James BurtonJames RogersWendy FoxLori LambertAaron MoyerAntonio FosterMichael DeanRobin VegaStephanie RobbinsJoseph WebsterDavid HarperMichaela MorganJeffrey ShermanZachary WilliamsDebra OwenDevin PhillipsKenneth JuarezJennifer MartinKatie IngramLaura CastilloJessica ButlerDaniel ThomasAlan HallRobin CastilloAshley BowmanGerald SmithJustin RobertsDavid HernandezMatthew SinghFrancisco HoffmanRichard DuranThomas GarciaJessica RussellBobby KempCaitlin BlakeJeffrey MurphyJeremiah WhiteCraig WestMichael HuynhAndrea CummingsWalter HernandezJohnny RogersJohn LopezElizabeth DavisLisa AguilarCarolyn RobinsonDanielle HarrisStacy CordovaDarren FieldsDaniel GonzalezRobert CruzChristopher BookerKristin JohnsonHayley MoralesKevin MartinMiss Erin Bradley DDSNatalie BennettKellie MatthewsAnna MyersTeresa VasquezTimothy HigginsMichael CaseyCraig HollowayAnthony FordGerald RodriguezJulie DavisCody LeeNicole RoseAnne MccallTrevor RiggsJordan RoseSteven RichardsonDiana CostaCathy ConnerChristopher HooperMichael SimonBarbara JacobsSavannah WallaceSamuel DelacruzDiana SosaSara MartinezMichelle ThomasGabriela HughesKathryn RosarioChristopher LongMr. Michael AllenErik LambertCasey JonesJoseph KellyDebra BrownEmma WatsonJacqueline SheaSara MurphyNatalie GrantCatherine BrownMartin CrawfordCourtney TorresMary MartinPeter MillerTaylor DayDavid CannonRoy HarrisonBarbara HarrisKelly Romero MDValerie MayGerald GrayDonald CraigApril FisherLisa LeeBradley HunterTaylor HortonKevin HuffmanErica GouldAnna Yang MDJohn WilliamsonBruce GarciaCynthia SchultzMichael RussoJohn White DVMJeffrey AndersenKylie MooreAnthony SpencerChristopher ConwayElizabeth FieldsBlake GainesDonald EdwardsMr. James BarnesJoseph AllenLarry PerezElizabeth SharpJason AndersonLinda JensenMr. Carlos WarnerAndrew CastanedaElizabeth SmithAngela WallKim FoleyCarol PetersonChristina MartinezAshley NguyenJames FerrellRobert WilliamsKayla RodriguezGwendolyn FosterJoshua BaldwinDeborah DavisRobert RodriguezDarius WilliamsApril VazquezEbony AlexanderBrian TrevinoThomas CookJoy ShahWilliam RiveraShawn MccartyEdward MurrayDana MitchellHector CrawfordRussell GonzalezJoel HamptonChristina JacksonDavid BirdCameron YangChristopher LawrenceHeidi WrightPhilip LongAndrew TaylorJeffrey RiveraLauren LeeMargaret CantrellAndrea GreenTabitha AdamsAustin JohnstonMichael GomezLinda BuchananDaniel CrossGuy ThomasSteven KingKaren AllenAnthony SmithDesiree GordonJillian GeorgeEric OsbornJesse ToddMalik WhiteScott ClarkJesus RodriguezAngela VelezLinda SinghJennifer FarleyWilliam PerrySarah WilliamsAmanda TaylorAshley GonzalezAnna NelsonParker WardShannon WilsonAmy StephensTerry SantanaHeather ReidLinda HarrisStanley HowardDeborah MeadowsJacob WilsonHeather MaloneTammy MooneyJustin BernardErin BartonJoseph OdonnellBrenda CaldwellNicolas MendozaMarcus KellyMichelle CampbellJames AlexanderCameron DavisMelvin SmithApril StevensAnthony TorresAnita FloresManuel MillerAllison BradshawWayne GuerreroMonique CarterTyler SilvaChristine LeeJay SmithRobert ReyesRichard MacdonaldLinda KimAmber NelsonJerry MartinJonathan TuckerShane HansenEmily MyersChelsea KempAnthony FosterMelanie KellerKaren ThompsonMichael HouseKerri GardnerJordan HawkinsMichael McfarlandRita GordonNicholas OrtizMelissa BowmanKim DeckerJerry BrownWilliam SimpsonAmanda DavisCory BradleyBrandon MedinaShaun ColemanHolly DavisPatricia WilliamsLarry ClineChase VillaDeborah HillDonald HarrisJeremy CharlesKaren MunozCynthia BrowningTyler GonzalezRyan HammondRobert RiversMichael HuffHarry BrownSamuel WoodChristian ValenciaKristen GreenCharles TaylorJacqueline RiveraRichard WallerLaura LindseyMiranda LaraAnthony PittmanMonica WilsonJoshua YoungAaron GonzalezMark AlvarezTimothy LongJustin BarnettJohn KhanPatricia IngramMatthew ThomasAriel HarrisonRyan NormanMargaret SantiagoPatrick WyattWilliam SmithWilliam AdamsRobert RomanDonald PayneHeather GouldJesus JacksonAimee AndersonRyan KimJacqueline SnowJennifer SchroederMelissa ReedApril Calderon MDOlivia CruzMichael WaltersErin HaleBenjamin GonzalezMichael AndersonJulie MortonBrett GarciaJoyce KnightPeggy BautistaChristopher CarterGina BarberSandra HartHeidi AshleyJames HarrisChristian MorenoKimberly PattersonLisa KnightDavid HarrisKari BartonDeborah MaciasLuis StewartCourtney PowersRichard MeyersAndrew SpenceSean WatkinsRobert MitchellNathan JonesWilliam DunlapAdam CruzCurtis HallPeter GonzalezChristy RobbinsLori HoltPatricia TuckerCarl FoxBarbara RobinsonJonathan YoungSteven WongKaren DavisJoanna SantosAshley CarterJohn ParkerAdam HerringSara BowenPatricia MillerJessica CraneJim StevensJordan MclaughlinAlison CaldwellChad FowlerKeith MartinezKenneth RobinsonKatherine WilsonVincent MartinTracey BensonEthan BeltranJeffrey GriffinNatasha EverettErin ParksStephen ThompsonJay KhanRobert AndersonChristopher FergusonDaniel KingWanda JohnsonDanny BanksBenjamin MurrayKristen SmithJohn CarrilloBradley ClaytonMark BrowningLogan BooneChristopher GrimesMrs. Kimberly Key DDSEric Park DDSAaron PearsonBrian MosleyPatricia MarshJennifer AndersonDanielle HoodMatthew CarterRandy GrantJohn SanchezStephanie ThomasLauren BradyLeonard HarrisCathy MercadoJuan YoungRobert GrayZachary WaltonRoberto SmithSheila LewisGloria VegaAlison NunezJennifer StevensPatrick Barker PhDSteven MccoyConnie PattersonAna BurnsMichael Singh Jr.Douglas SharpAlexander DicksonMary EstradaAaron EvansWilliam RamirezRebecca PrattChloe DownsKatherine CaseBrooke CarterNancy AlexanderJeremy MaxwellJames FlemingMakayla GutierrezBlake ButlerSteven JacksonAnna FrankTina JonesDale HernandezNicholas ReedJoshua FloresBianca BoyerWilliam ThompsonBrittany McmillanJanet GrantDeanna RichardsonJonathan LongMichelle PalmerKevin RojasLuis StevensJonathan Smith Jr.Samantha PattersonBrittany BensonAlfred McdowellMichael WrightChloe JohnsonMonique YangDouglas ChapmanMichael BallardTanya RichardsonBryan LynchRenee OconnorEmily PowellLouis WatersAdrian GrayMichelle HarrisMaria StewartWendy WilliamsNathan DominguezErin RamirezKristin KellerAmber FergusonShannon BrownJordan StewartJonathan WeberRay HarrisBrian DunnAdam CabreraJose MorrisonRyan PetersonBruce MendozaLori ZamoraRobert MendozaEmily MartinJamie MillerNathan AtkinsonKelly MartinezDesiree BlakeCassandra TaylorSara CooperRodney WilliamsCynthia EvansEthan RichardsonHunter FieldsCarlos RamirezTina MoranBeth RichardsAllen Morris Jr.Miranda MillerHannah CooperJordan MartinSarah RobertsPatricia HoBreanna MorrisSarah GarrettEmily TurnerAlyssa RodriguezJennifer HuynhSamuel DavenportRichard JohnsonJames HernandezTravis DavisAlyssa RileyKyle YoungMary GreenJoan ReedKevin LynnSara WeaverMegan MillerCarrie MooreSteven JonesWanda BaileyJeff HendersonMatthew WeberChristopher WilliamsRenee RodriguezEric CarsonJeffrey PayneKari CharlesMary CombsDiana CurtisKelly HarmonShannon WeaverPatty NelsonDonna JacksonAndrea JonesSarah JordanDale WhitakerKayla CummingsCatherine SingletonMichelle RamirezBradley LopezJacob JacksonXavier SantanaZachary BradyAnthony StoneKatherine DeanMorgan BaileyShawn BoydJesse DyerGeoffrey HallMatthew StewartWilliam TylerMichael LeachGregory ReynoldsJames CarpenterKristina GutierrezBeverly LeeLisa CamposMatthew LyonsDaniel MurrayMr. Lee RoseDavid MckenzieBrittney HenrySarah HunterMichael VasquezAaron RodriguezTyler DiazDr. Carl JamesWilliam MorrisWayne NewtonAmber GoodmanWilliam FrancisDanielle DyerMichael WagnerRebecca BrownAmanda RogersPatricia JonesVictor MartinDr. Kimberly BenjaminChristopher HerreraMichelle BeckerEdward TurnerMr. Lucas SmithDerek BoltonMr. Jason Grant DDSEthan BlairDawn KnightShelly MitchellJoseph NunezKeith AlvarezStephen PriceAmy KirkRicardo VazquezMelissa BrownJennifer ReynoldsMatthew WrightCourtney RobinsonMatthew HawkinsNicole SmithCaroline TranJuan WhiteLawrence RoweCassandra FowlerRachel DavisSarah HodgeAmber BlevinsAaron ThompsonJennifer MooreLaura MercadoAaron Solis Jr.Adam WalshJoanne ChandlerBenjamin BatesMichelle GrimesThomas MarshallAnna JohnsonDonna TurnerRyan Graham MDTerri MillerKimberly HerringTaylor DominguezLisa HarrisTamara WilliamsMichael RobinsonJoshua GomezNicole WilsonMelissa KellyAmy HarperJeffery BurnsChase RayJo OwensCassandra WilliamsRebecca SantiagoReginald EricksonMadison KlineBryan FischerTracy RodriguezAmanda StevensRobert RaymondYvonne WareJake MilesKaren HortonAmy DennisTimothy WarrenMary WilliamsChristopher MyersBenjamin WebsterJustin Morgan MDCindy MurphyAdrian DiazAndrew LeeAmanda KentDevin HoganAngela HerreraDylan JohnsonJack BerryVictoria LarsenFrank NewmanMegan MooreLisa MyersRenee SmithDonna TurnerHelen AdamsSydney VillarrealJoshua OdonnellKevin SmithKristine KellyMelanie CareyBrandi SmithSamuel ClarkEric SilvaSteven DavisJerry JuarezJohn SimmonsDeborah MooreMrs. Victoria CochranMelissa AndersonTimothy WeberAndrea AdamsDavid VelazquezMarissa BlevinsJason HallJessica FritzDr. Ryan RobertsJoseph HernandezWanda MaddoxGlenda SandersMatthew CooperArthur KochNicholas DanielRobert WhiteheadTamara TaylorDavid RussellSteven CampbellKatie Strickland DDSJerry RichardsJoel PittsKatie EvansEmma Perry MDPeter WilliamsThomas HerreraMr. Daniel Mckinney Jr.Chad SharpSusan ReidCarl PerezMr. Paul FarmerRobert AyalaSarah ClarkCarl OconnorKimberly HarrisLauren TurnerDavid RobinsonRussell DurhamJacob DavisJennifer CarlsonKaren RobinsonLaura HarrisJamie MendozaJorge McdonaldDustin FordStephanie Howard MDAlyssa WilliamsonSamuel KnightErika ThompsonLaurie CollinsDenise DavidPedro LongKyle ButlerDanielle HudsonKaren ProctorTiffany WilsonMark GarciaMichael WatsonJohn JohnsonKristopher NunezVictor ReyesKatie WilcoxJustin WilsonAnthony JonesPaul SchroederKaren GreeneMichael MercerJames SmithChristopher KnightGregory HerringAngela WhiteJay FischerDaniel BarrettDaniel JohnsonTravis ComptonSeth ShafferSteven BallStephanie GilesJamie RodriguezJacob LawrenceStacy CobbChristina MillsDaniel RowlandJonathon WillisAdam RodriguezLaura CarlsonDominique LloydDanielle BarnesDanielle HansenTeresa ContrerasAlicia CastanedaDennis GonzalesJoyce RobertsKaitlin WilsonJon GriffinJoseph ForbesRobert BatesAngela RussellDustin MarquezKyle FowlerSean WellsAmanda ShepherdDeanna CombsMichelle WilsonChristy ScottGeorge PriceMandy Mcconnell DDSDanielle HayesTina BowenDylan EdwardsJonathan ContrerasAnthony YoungEric ChoiLatasha CummingsTami DixonKrystal ReynoldsLisa LangErik BushCarl MartinezMrs. Angelica HallBrandon PopeChristopher RossAmanda RodriguezDonald GrayTanya RyanCrystal HunterMarco WilliamsErica CollinsLinda AdkinsStephen BarkerDavid SmithTravis LoweryJessica BryanBrian LewisAdam HoltRaymond WoodKaren GreenPenny NguyenWanda SpencerLori LeeLori SmithBryan MooreAmanda UnderwoodJaclyn CobbKiara BrewerDavid FloresBob JohnsonVeronica DiazStephanie RobinsonShannon MarshallMichelle EatonHaley DunlapLuis AllenEdwin WatkinsMegan MontgomeryNicholas CollierAndrew McdowellBarbara LarsenMelissa GrantSteven HartmanSharon TaylorCassandra BrownMegan VillaDennis BooneMichael DavisDavid SteeleAlex ConnerDanielle HurleyLisa MillerSandra HubbardDaniel NguyenJames CalhounRyan GreenErin GoodmanJames BurgessMaria RomanHayley HallVeronica GomezAnthony DouglasWilliam SwansonWilliam CrossAndrew WattsMicheal MartinLauren WestJordan EvansJohn BrownDouglas RodriguezCarolyn SteeleChristy GutierrezAllen DiazKaren BrownTonya SaundersErica LeeSarah AnthonyDavid ThomasJasmine GonzalezCrystal EdwardsDaniel AbbottPamela WalkerNicholas SmithJennifer MatthewsMichael SolisBruce HopkinsMichele HansonCathy RamosMackenzie MillerShane GreeneApril MorganChris RobertsKatherine TuckerJustin HillBetty GatesAudrey AdamsJimmy MillerSarah AllenMary ArmstrongChristine TaylorDaniel McclureKathleen LewisJessica BauerChristopher Petty Jr.Stephanie RobertsJennifer GarciaDennis HamptonJames RodgersMatthew RiveraNicholas MarshallIan TerryJacqueline EwingJoshua CantrellJacob ThomasJessica PerezCindy KnightNatalie JohnstonJesse WilliamsMarilyn CervantesTaylor ThompsonRebecca PhillipsJohn FosterFelicia MatthewsAngel LaraBrandi LittleRobert LawrenceKelly BeckerKayla AyersKatherine PhillipsJoshua MorganAlejandro GarnerSierra JohnsonTravis HeathLaura BaileyTaylor CookSherry BeckerAmanda HillMelanie AndersonDaniel CrossMatthew QuinnTodd BradshawChristopher BrownKenneth GarciaMaria BrockAdam PattonEdward MillsJohn BeckerJoshua MorrisBryan CookTimothy ParrishMatthew MezaPatricia RiveraJoyce RamirezKari BarrettChristopher RiveraRobert DixonMelissa MccoyErin JonesDavid RobertsCynthia JohnstonAshley NelsonAmanda JohnsonVanessa MorganJesse HernandezMichelle MooreJames PhamPenny DeckerBobby WilliamsTimothy ConnerDavid BarnesMarie NorrisLindsay CamposMargaret HortonWendy HernandezTimothy MckenzieNancy MendezAngela HowardRonnie BarrettAllen OnealAngel MortonGerald LangJessica HendrixMegan Shaw DDSWilliam HudsonRenee BishopBarbara JimenezDerek SilvaDarlene LeeMichael ValenzuelaAshley PerezEdward MartinKristina CummingsRoger LevyHarold JohnstonKatie LeeDonna ReedJames MorsePaul MooreWanda PhillipsJoshua DorseyElizabeth RamirezLucas JamesGary WellsJoshua WilsonMegan JonesPeter FlemingTheresa ShieldsMark LeeErica BakerSamantha FosterNancy RosalesVirginia BallardShelley PageAaron AtkinsonElizabeth CobbBetty BrownAngel FosterRhonda MillerBianca Huynh MDDaniel PhillipsThomas JohnsonVanessa ScottNicole LopezJoseph McdanielMiss Christina BurnsAdam LambMonica RobersonKathleen GonzalezDouglas RodriguezSarah OrtizRichard JacksonRebecca WilliamsDeanna MendozaCaroline ZimmermanJay ClineEvelyn RiveraStephanie ColeRyan CarlsonAmanda CohenAbigail SmithMelissa Dunn MDDevon NicholsLauren KochKatherine JohnsonWilliam FrenchVictoria WallJoseph LopezCalvin JonesDeborah LeeScott MooreThomas MeyerStacey MillerJared WashingtonFrederick HaleyElizabeth DeleonJames JacksonDavid ReedMelissa SandovalJack CochranChristine RamirezRichard LopezMr. Derek WilsonKristen WarrenMr. Angel JohnsonChad EvansNicole ChenMrs. Nicole DuranDonald MyersNicole JohnsonDenise MarshallMichael HowardStephen ThompsonWendy RiveraTyler BallWilliam PinedaSamuel BrownTracy DanielsRebecca StoutJohn LeonVincent SmithAaron ClarkDerek DiazJohn ColemanTravis WebbDesiree MercadoShane PerezJessica CunninghamJasmine CampbellMason RaymondVincent EllisJohn PaulJoseph McgeeAndrew RobinsonKatelyn DayDavid DeckerCurtis FigueroaAmy BeckerTina GarciaHeather WhiteKenneth HughesKimberly FrazierDavid MaysDonna PierceMichael Garcia Jr.Jessica WeberChristopher BuckBrian ButlerOscar EllisLori OrtizAnthony MercerJoseph HughesApril HallGina PriceJoseph HooperKenneth StewartTimothy BrownStacey BeckHaley PowersWilliam LaneMrs. Bethany Fisher PhDBrian CannonJessica MatthewsBrad TylerMr. Daniel Nguyen DDSChristopher KelleyHeather WeaverSteven FullerWanda Moore MDBecky ShieldsLisa OlsonJuan WallTaylor GambleLoretta DawsonChristian HaleyErica SanfordRebecca WoodwardCharles Short IIRobert FitzgeraldJocelyn EricksonAndrew SimpsonMichael JenkinsChristopher ReidNorma MurphySteven BaileyPamela WilliamsRichard HernandezNancy McclureAntonio RodriguezPaul ClarkeEric ArnoldElizabeth MeyerRachel HernandezKaitlin BarrettAnthony PatelEmily RowlandMarc AndrewsApril GillespieRichard KellyJohn SnyderRoy DeckerKimberly Jacobson PhDJames SingletonMatthew JonesKenneth MartinezJennifer WestMartin WellsCarolyn GeorgeCarolyn GibsonKevin BrowningJoshua AndrewsStephen ZunigaJennifer ConleyChristine IbarraMelissa BrownJoyce AllenMichael PerezNorman BurnsAmanda MaddenJames MarshallJay GrayBrittney BaileyWilliam SimpsonSteven JohnsonTaylor CohenTamara GriffithLisa MahoneyCorey AllenVictoria BrowningAlejandro CarterAllison GardnerEmily CollierBrandy RogersStacy TorresFrank JonesKristine SpencerJacqueline AtkinsonDebbie Brown DVMAmy ShawTaylor MedinaLuke PetersMelissa HickmanScott BurkeJoshua ScottMr. Michael Dyer MDLuis BestChristian KellyDavid WilsonLisa RichardsJeffrey SmithDana CruzAngela FordDouglas GrahamNicholas LewisNathan MontgomeryJustin HenryDebra HortonRobert WeberMolly AndersonEdward GlassKendra BennettMonique MarshallJordan StevensTamara MooreJonathan HarperKevin GutierrezJustin LopezKim StewartAdriana SmithHeather WilliamsJoshua Kim DDSDaniel Fitzpatrick PhDJacob AguilarCarol JohnsonJerry ToddShawn BrownEllen WallerJulie LunaJennifer SanchezJordan Waller MDMr. Jesse BellDiana JohnsonAngela HouseEmily WarrenAlexandra HendricksMario Myers MDCameron GrayMakayla HooperJulie MoralesRicardo McguireTerry Adams DDSJulie ParkerValerie AustinJason JohnsonDavid GreeneLisa JonesMonica SmithEric EdwardsMichael BurnettDiane HerreraAngela LopezMarissa NelsonMichelle WareAndrew BrownDerek MayLaura JonesRebecca JohnsonCrystal MooreDaniel SanchezPaul WoodShawn OwensAllison RayMichael KaufmanTimothy JimenezVictoria CaldwellMiguel JohnsonDouglas HardySergio GrahamKaitlyn ChambersAdam HobbsBradley DavisHannah ShawCarlos YoungSara WilsonLindsay LinJanice RobertsRobert HernandezPhillip WashingtonJoshua WhiteTiffany ReedAlexis MatthewsAndrew ThomasDerek Barker Jr.Heidi HarrisJeremy WoodAndrew JimenezSteven DicksonGary WestJennifer ButlerJohn SmithMrs. Renee GordonMichelle MurrayMark CrawfordTara CaldwellJoshua ButlerJennifer StoneKevin StoneRobert WallaceDavid KirbyTina WalkerJessica NguyenDiana WilliamsMr. Vincent KingJoshua LopezDr. Oscar Lawson MDKevin MaxwellSheila YoungWendy TaylorAmanda ChandlerHeather WatsonAllen OrrAlexander MathewsIsaac PerkinsJorge GarciaStephen NelsonChristian HunterVanessa TravisHeather BarnesLindsey OneillLisa Zimmerman DVMPhillip WattsRobert RossKristen LunaDawn MartinezSavannah RamseyLisa CarneyWilliam SalasHolly MooreAlicia CastroAmanda McguireJason CarterMr. Phillip VaughanNicole BurkeJeffrey GrayAmanda KerrMatthew WrightRyan SmithRebecca WilliamsCharles WebsterDaniel RileyBrett EricksonLisa DorseyHeidi FarrellChristina AyalaTaylor MeyerJames GarciaConnor CobbCrystal BuchananDiana KerrSherri PadillaAdriana GravesJustin PowellChad BoyerKerry KingGlenn PriceVanessa TuckerJason PerezTanya RobinsonHolly DavisTyler HarperJennifer LewisFred OwensJames HolmesKimberly GarrisonRobert GreerAngela GlassJoseph Dyer MDAimee EscobarBrian OlsonChristopher JenkinsBarry HallBarbara VillegasSean WardMargaret LeeDavid DiazBrian MccoyChristina BaldwinElaine DudleyJohn GordonDennis JohnsonRenee MonroeRobert MayoPeter ThompsonTaylor PearsonElizabeth ThompsonTiffany ChristianNancy ThomasKristen MitchellTerry ClarkSamantha MartinBarbara BrownJessica FarmerCynthia BennettElizabeth AndrewsCarlos BrownMiguel MaciasKelly HernandezJeanette SmithJake ThomasTraci HarrisonAlejandra WilliamsonDavid KeithAshley JonesMary GriffinVicki SmithMatthew GrantAnnette RossMargaret BlackMatthew HendersonMichelle MossBarbara DanielCarolyn MillerErica MillerDouglas RyanHeather LamMark MclaughlinJamie GibsonMatthew RiggsElizabeth ColeBryan RamseyBetty IrwinKristen ValenciaKimberly HoffmanVirginia RamirezAndrew OwensMadison OlsonKimberly PattonDr. Austin ColeStephen RobertsFrederick LeeHelen GayCourtney ThompsonGregory EllisDiana ChapmanHolly WoodsKenneth DiazKenneth HartmanBrian WalkerMichael DavisBradley WhiteKatherine RowlandAllison ThompsonRachel LopezCassandra BaldwinJohn LynchPatrick WilliamsJose ButlerAndrew BaileyJohn LoveCarl CamposMrs. Amanda MartinMichael MooreMelissa RoachMarie SextonJohn VaughnAaron WashingtonRebecca ChungJeanette CarlsonGregory GuerreroKimberly CortezDaniel HartJessica SmithChristine HayesMackenzie MasonJoseph GilbertSusan AdamsDavid HarveyJohn Thomas MDChristina ButlerBrian RobinsonNicole ThomasBrittany CookKathy RivasTina SalazarCrystal SimsPamela FieldsJacob VegaJennifer CannonMark TaylorSheila BrownHeidi KellyJeffrey GalvanJoann RodriguezGina VegaRegina ParkerPatricia MaloneTracy ChapmanAnn CampbellSusan EvansSierra Dominguez MDEdward SmithBradley MartinGary JacksonShawn PetersonMonica KingJames ByrdJared KelleyBryan GuerraChristopher WilsonMrs. Katie Weber MDSarah CallahanJulie ElliottSonia AshleyKeith GonzalezJoshua SmithAmy LeeMolly JacobsHeather StokesMartha BestMs. Nancy GreenJose LewisCynthia WolfeWilliam RobertsDavid TaylorYolanda MullinsRebecca HansenCindy JacksonJessica CarneyJoshua SanchezManuel ArellanoRegina GarciaCourtney GibsonScott StevensAaron ProctorLindsey PetersonBrandon DelacruzLuis BrownTheresa SummersKarina LeeMonica BatesPeter RileyDaniel WhiteAshley CarlsonAudrey ReevesChristopher OneillBrenda RomeroJerry LeeJulie MitchellDaniel KleinJessica NicholsonShawn GilmoreKatherine EdwardsElizabeth ShermanWilliam BrewerPhyllis BentonPaul PearsonThomas AndrewsLauren LoganWilliam KingAmanda WalkerAmanda McdanielRebecca WhiteBrianna HarrisPatricia GloverWilliam SerranoMichelle FordJordan VasquezMelissa HoganKevin WilliamsMrs. Pamela GarciaSara SchmidtPatrick BurkeJoy SanchezAmanda CarsonAmanda DavisAmy TorresAngela RojasBailey KingBeth SullivanMarie StoutJodi RobertsonCharles AguirreEmily AllenJason WatsonMadison RichardsDeborah KirkMary GloverDanielle Stanton MDConnie BushThomas ThompsonDebbie BurkeErica ShawAntonio ShepherdPhilip RobinsonJennifer SwansonMiguel SmithNicholas HardyJenna GarciaDaniel LittleJason StephensDarlene ValenciaCharles TorresRebecca LewisStacey FisherAmber HernandezElizabeth Logan DDSRobert HuberCourtney Wall DVMFrank HoffmanTravis JimenezKevin ColemanJennifer StokesBrenda StewartAndrea HallMark BrownJohn BakerKathleen ValdezKarina OconnorJessica WardRebecca GonzalesKimberly MolinaMike McdanielDanny McdonaldJordan SolisMarcia CaseyAlexa BatesRobert JimenezPamela HughesMary GarciaJohn MartinPamela RitterWilliam LindseyAlex ThompsonTimothy ScottDana GuzmanRebecca LivingstonEmily LittleBarbara CarrConnie JohnsonStephen LawrenceTracey OchoaAriana PerezKaren WhiteBridget BurkeJason WhiteBrett PalmerJames CoxBradley NealMichelle PerezBilly TaylorJessica CampbellVeronica FisherPenny EvansMichelle WashingtonRaymond VargasJeffrey GreenAndrew JensenJoseph SandersRhonda MahoneyVanessa ClarkKaren Harris PhDTroy WallerDaniel CastanedaNicole BauerMolly FosterWendy VincentLisa WatersMichael MontgomeryJeffery PerezAlejandro BarnettJoel WilliamsEric HamptonAlexandria FreemanElaine JamesPatricia RogersAnthony WallsMarie BaldwinLeslie SolisBrianna WhiteAlyssa JenningsEvelyn JohnsonJacqueline CarterBeverly DanielsSandy WestMrs. Amanda HerringThomas VillaWilliam RomeroBrandon CollinsTony NelsonLaurie FergusonKelly WileyBethany MeyerChelsea DanielsDustin PetersenJenna PalmerChristopher WilkersonDr. David MillerNancy HallDerek GravesOlivia ScottJulie EdwardsMario MartinezKaren VanceDuane WiseCorey BenjaminPaula HenryNatalie ClarkAdrienne ChavezCharles PerezBrian FordJacob BuchananCourtney SandovalKatherine GainesKyle DeanRichard NguyenTonya WalshNatasha DavisShannon SimonWendy DavisJoshua LoveRyan MaciasMichele GarciaTracy KaiserSteven SheppardMichael AdamsMr. Eric AndersonKirsten RiceMrs. Sheena Bailey DVMJoan CaldwellMelody HahnMaria GreenJoyce MorganNicole WhiteAndrew HerreraBridget GrahamBrian ChangAngie GutierrezTammie FoxAlicia ButlerAmanda AdamsJames BrownAnthony HolmesJacqueline WilliamsJulie BrownScott GibsonAnthony ReevesDiane VargasKathryn JonesEmily MartinStephanie WattsMichele OnealRobert CrawfordMichelle CollinsJeremy HodgeSavannah GonzalezZachary Garrett IIIKendra DavisAbigail CaseyKelly EllisonMargaret GomezDavid JohnsonSharon MonroeKristy PopeThomas Harrison Jr.Tammy LeeAustin LeeJohn WeeksJoel MccarthyJonathan JohnsonMadison BurnsChristopher NormanKelly HughesWendy HillManuel MezaThomas FosterGabriela JohnsonAllen GarciaCynthia MooreTaylor ReedRodney FlemingNathan PrattTina GilbertStephen RobertsonAmanda MartinKathryn EatonMark JacksonRachel HallJohn HernandezKimberly SullivanDawn McfarlandDonna EsparzaTerrance ManningKristy JacksonBenjamin JohnsonJeff ThompsonWilliam SmithArthur HallRuth AnthonyAnthony MercerJonathan HendersonJohn JohnsonCynthia GonzalezJoann PattonErin WilsonDavid MayStephanie SmithTeresa ReeseBarbara WhiteMichael GrimesDenise YoungLaura NobleShane SmithKevin QuinnGary HollandDavid StoneTina EvansClaudia GoodwinGerald RobbinsMegan Bennett DVMSeth GreenJacqueline LivingstonDavid MuellerAmy MooreEmily BeltranJennifer RobertsAmanda MorganMr. Steven HarrisonCarolyn AriasJennifer StoneAmy Mcintosh MDMargaret KimChristina KhanDr. Frank AndersonTracy PerezEthan JonesBecky JonesKathleen RamirezCatherine WilsonSandra DuncanJeffrey RivasJordan CruzWalter GarnerCindy CruzTina RodriguezDavid RiveraBrian SilvaAntonio McdonaldJoseph MurphyMaria GallegosMatthew GibsonJeffrey YoungAntonio HernandezDawn HernandezDale ShawRachel DavisThomas LopezLaura BrightMichael PatelBreanna MercerWesley CraigAmy HornJulie DavisMichelle LutzDavid PayneCourtney SullivanHolly FordRuth ArmstrongJennifer JamesAustin DavisDrew PerezRachael HortonJacob DodsonAshley TorresRyan MaldonadoMichele RodriguezEdward NashHeather McdanielDaniel HaleVickie SnyderShelby CainMadison AdkinsDaniel CherryAmanda FieldsDebbie DavenportMichael WilsonHeather VargasWilliam ParkChristopher PattersonJamie Dawson MDMr. Andrew Mitchell VDr. Travis RichmondElizabeth JosephVernon RossPaul WilliamsRachel LopezMarie HernandezMichael KimKevin BarnettMary WilliamsKristen MccannAnna ReeseJustin WarrenMrs. Amy CainDarren SanchezShannon CruzHannah SullivanNancy KaneSamantha McbrideJeremy GrahamDanielle SweeneyPaul HallJennifer DavisBrett OdonnellCharlotte HowardRodney NicholsonCharles MaciasNathan BrockVictor CoxCassidy MooreHeidi BurnsWilliam SchmidtBrittney HughesRonald HickmanAndrew JonesRichard JohnsonGlenn OsborneAnthony CervantesMallory HowardKendra YangSarah MartinJames TurnerBridget GregoryJohn ThomasThomas LewisSavannah ChavezCourtney VaughnBryan JenkinsNicholas LawrenceJessica HillPhillip BishopHeather GonzalezSusan RichmondLeslie FloydCharlene PetersAndrea BartonJustin GutierrezChristopher MillerMichelle FordErin PhillipsGeorge KaufmanLaura MartinezMatthew ByrdChristine AllenJohn GuerraHeather HallJames SpearsJessica SmithMatthew HoKaren AustinMichael MillerKatrina AdkinsMitchell GreeneAaron Davis Jr.Gene TorresNicole MitchellAaron BaileyDakota GreenStacey McgeePatty RyanLinda GravesAndrea AustinMargaret AndersonAmanda TannerLee JohnsonRichard DeckerTammy ShepardGabriel HallDarren BrooksSarah JonesHeather SmithJames StoneMatthew TaylorMadeline ClarkBarbara McconnellCynthia GreenGavin JohnsonChristopher PhillipsWayne HensleyMegan OlsonCody WilliamsAmy FriedmanTiffany SmithVictor SmithJordan AndersonMichael GreeneMisty HartCindy JoyceAmy ParkerAdam KellerDawn HillCesar ThomasBrianna WolfeKelly ColemanPamela PerkinsHenry LyonsDavid PerezEric KnappJustin WilliamsChristopher HillMallory AndersonJonathan GuzmanEvan HuangChristopher MezaMeredith ThomasJohn ClarkAmanda FrancisKevin TaylorMark McdonaldTodd AndrewsBrian ChristianBrian CastilloCrystal ParkerLuis KingKristine HuntTaylor HenryAnne HansenTina ButlerCody SchaeferCharles KentLinda SanchezChristopher WarrenThomas Burgess MDThomas SmithWesley NormanJoseph HodgesSusan VillaDaniel MillsThomas ThompsonAmanda Hale DVMPhilip JacobsTanya MartinezGregory SchneiderAndrea DavisOlivia GriffinMackenzie PatrickMichael BakerClinton NguyenJoseph LarsonRussell ThompsonPatricia SullivanElizabeth SheltonMegan FlemingSteven WardAmanda HardyRichard BerryDebbie BlackwellLaura JenkinsJordan AndersonLindsay HarrisShawn SmithAmanda IbarraMark ParkerAmanda EdwardsSarah BergMichael WeeksKara PottsDerek Cooke MDJoanna NewtonShawn SmithSusan GutierrezJonathan KrauseShannon HayesDr. Daniel BowmanMichael PetersMatthew KingTammy JohnsonManuel OlsonMark HickmanNancy HillDr. Jonathan PalmerThomas GlennMichael PerryKaitlin PrattLinda HerreraVanessa NavarroJonathan MartinezChristine JohnsonTanya FisherRichard SmithJose EdwardsAmy WheelerAngelica HumphreyKevin CarpenterDebra FranklinAshley JohnsonBrittany CarlsonSamuel PerkinsNicholas MooreErica ThompsonMark SnyderJustin JohnstonMichael KleinBrian ClementsMichael WalkerMichelle CollinsApril RodriguezFelicia WrightAmber ThompsonJessica KirkMelissa BanksAdam PayneClaudia PhamEmily WilliamsLori Mitchell DDSRaymond MaysMr. Richard ArmstrongAmy SmithThomas MayMichele LoveTracy RussellRichard DayChristopher WalkerJennifer HowardPamela KimMelissa PierceAshley SmithRobert MorenoRebecca WalkerJennifer MackDr. Timothy JohnsonRobert HillKirsten ClarkNancy EnglishJames SmithFrank DiazNicole PettyClinton WallaceMiranda PetersonTina HillEvan WarrenSamantha BensonAnne GreenJasmine RussellJames EvansBenjamin DavisKayla AlexanderZachary SchultzTony HuntMrs. Pam Lewis DVMKelsey HarrisRobert MitchellKelly HopkinsMisty JacobsAmanda ReidAmanda GrahamAlexander FreemanAmy Gutierrez DDSDawn RamirezDalton MurphyKenneth WardMelody ScottThomas TaylorThomas DavisAshley BarryElizabeth WoodMichael ColemanAngela WilkinsZachary FerrellJessica VasquezTodd SimmonsSpencer ThomasAngel MartinDr. Christina FloresDavid LunaJoann KaneLeonard CoxAnthony ClementsJohnny JohnsonPeter TuckerBrian Bailey Jr.Andrew ButlerLarry McguireKaren HansonElizabeth CastilloCynthia NelsonPeter MillerDevon HartJorge MontoyaErica JohnsonAaron GarciaAngela DaltonPatrick WhitneyRyan MooreMargaret QuinnAmber MooreNicole HensleyTammy LopezAshley HayesMatthew AguilarDenise CarterDwayne MillerJared BrownAmber VillanuevaLisa CarterJacqueline FrancoAmy CohenCarlos CoxGlenda CoxMichael LeeBryan AndersonStephanie AriasLauren CameronJeffrey PriceJenna GreerCameron CordovaChristina BerryRoger HarrisSamantha LopezDaniel HarveyJeffrey WilsonTina CarterMichael ArmstrongPamela ManningHayley AllenCraig SchultzKerry TaylorJeremy PayneAlexander WrightRachel DayNathan ArroyoChris HartmanTanner RodriguezJeffrey HopkinsRussell BanksJoshua RamirezAshley KellyJay KirkJacqueline RayLisa AndersonKristi KingAlicia SchwartzNicole TaylorAmber CoxJason DavisJames DelgadoAnna CamachoAnna MendozaJeffery FrancisBruce MorenoAmber RhodesNathan DayBrent VillaSteven StricklandTeresa PotterCarla WilsonJessica WrightNathaniel PhillipsPamela JonesWilliam BlackAshley TerryKimberly BerryJeffery PowellDaniel SandersMichael GarnerMaria WilliamsTracy BeckDylan JohnsonNathan CannonBrenda RayPenny MurrayChelsea LewisCrystal HernandezAdam KellerNicholas RamosTracy LewisAlexander PerkinsMichael MunozEdward SchmidtRyan ThompsonJennifer WashingtonNicole FarmerCrystal BuchananAudrey WellsJavier BarnettAudrey MartinBarbara WoodDenise EstradaAndrea ThompsonJason CoxRoger TuckerMrs. Carla HumphreySarah RobinsonRebecca JordanDiana ChaseWilliam Burch MDHeidi MartinJanet ChanJennifer GarciaKara DiazJeffrey RobbinsTheresa NicholsMatthew RayElizabeth SandersVeronica JohnsonDevon WhiteHelen MooreJames LeeMichelle HesterAmy HansenBrent HodgesMelissa BondDiana ShepardJacqueline GarciaJoshua BrownWillie TurnerMadison PowellJessica JacksonKent ShermanStephen DunlapEddie AlvarezJoshua VaughnYvonne Robinson PhDJennifer RamosMelissa LutzTracy MorrisonCrystal JohnsonApril TrujilloTyler LawrenceMelissa JohnsonLisa SanchezAlexander DickersonChris GreenDiana LaneJon ValdezAaron CruzMelissa DavisDeborah NelsonDavid HutchinsonKaitlin PriceAndre SimpsonVictoria StoutKevin GoodwinAaron QuinnChristine MillerAbigail PerezBrian SmithAlicia WrightAnnette WashingtonBrian HoweDonna RoseAndrew WintersChristine AndersonZachary DanielJessica HartChris McmillanDaniel PittsErin HickmanDonald MaloneEric SpencerPatricia RussellLauren KlineGregory AllisonLaura HenrySamantha MoodySarah KimJose ParkerMichael SmithJerry PotterEvan LucasThomas JohnsonAngela SmallAlexandra WilsonMathew WileyVanessa StevensonKathleen BeltranMelissa GonzalezMartha Mcdonald DVMKevin JohnsonDr. Mary SchwartzAnthony MeadowsKari GomezMichael MillerWilliam DavisMelissa DavisJose SchroederErnest PowellJorge KennedyMisty SimmonsBianca ParkTaylor Green DDSKevin HarrisSophia MasseyDavid FergusonBrenda MorseJason HernandezCharles LangMariah HoltBrent HallRussell PetersNancy MartinStacey ThompsonAndrew RyanScott AndersonAllen ZamoraLauren MillerMallory ChenChristopher Simmons PhDErika BurchChad BullockRobert MorrowSteven HendersonJimmy StevensAustin ChavezThomas WigginsRuth WalkerChristopher SmithJustin WilsonLisa MurrayJeremy WattsCarol DiazJustin ChenJeffrey ShannonDavid MartinezKaitlyn HansenCrystal PetersJulie HernandezRenee BuckleyMatthew NelsonShannon PriceDouglas WilsonJohn JohnsonMatthew MartinSarah VelazquezLisa MccallRonald GibbsLouis CannonValerie CurtisRebekah PearsonTiffany LivingstonBarbara WhiteheadGary PhillipsJacob KelleyJackie KirkJoshua AlexanderJerome RussellAngela CainRebecca JohnsonAnne SchmidtRhonda Peterson MDAngel MayerStephanie WeberDeborah AndersonMakayla HarrisJacqueline West DDSJames LevyAnna MarshallPatrick TurnerTami ChambersBrandon MooreDavid SloanAnita ZunigaLeonard GonzalesAnne Lee DDSDavid ChapmanChristopher KhanKimberly MillsChad EdwardsVirginia AndersonBeverly BauerRuben SheaJessica NguyenMelinda BondSpencer EvansIsaac KochBrent CarterErica MillerKristen PowellJackie OrtizMichael ReedAmy ShahMelissa LewisTodd GuzmanDaniel EvansAmanda SchaeferSteven WatsonGregory FosterBrandy LynchSteven WebbJacqueline Snow MDJason PayneHannah ParkerKaren PettyKaren ShawArthur YoungMarcus RushAngela StewartJorge HoNancy ParkDr. Jennifer SheaDaniel NelsonSheryl MillerErica DavisChristopher CantuCynthia DyerJonathan HaleDiana RussellErin BowersBrian MccoyAnthony HernandezBrendan MendezBrittany AdamsKyle DavidEthan SampsonEduardo SantiagoDana HaynesClayton Williams DVMRobert RoblesNatalie WhitakerNoah BooneAndrew WilliamsJonathan GayKerry FitzgeraldStephanie JonesRonald SosaFrances WhiteMeghan AdamsAmy FisherJordan GarnerTimothy WalkerStephen FitzgeraldLinda FisherNatasha BlairRichard JohnsonAaron CookJessica NortonAmy SanchezLaura ScottTimothy WaltersEthan StephensAmanda AguilarDiane FisherDenise HuangRebecca BlackKimberly WebbAmy BairdCarol StuartKendra ShannonMegan DavisRobert PayneRobert BentleyLisa ColemanBrandon SanchezMr. Jeremiah Morris IVAntonio OsborneDavid RamosMolly BrownAmanda SloanTammy ColemanEric WilliamsMaria AvilaEmma VasquezLori BarryBrandon MillerSherry MuellerScott WattsCasey MccartyDennis ButlerTara SnyderToni RobertsSandra HannaBrooke PierceAndre HarrisonMelissa CoxHarold DodsonFrank ParkerSherry GomezAaron CarterAlan ScottJennifer CannonAnthony RandolphSarah PittmanSamuel AvilaJaclyn BrownIan HartMr. John HarrisKristy SalinasLindsay NicholsonLisa MartinezCindy OwensJoshua CopelandStephanie JonesStacy BrownJeff SmithKevin ThompsonAudrey NguyenMichelle CallahanJustin OwenJose SmithKatherine BonillaKimberly MooreRebecca LopezMelissa FordAshley LewisMark JacksonCynthia ComptonStephanie WilliamsMelissa SchultzLance DennisPatrick GarciaBeth HernandezMarcus DavisSteven CalhounMiranda RamirezJohn BallJohnny MooreChristopher BradleyGlen MccormickZachary WilliamsStacey RodriguezLisa BrownKimberly JacksonVanessa YoungJermaine GreenPatricia SellersNancy BallGeorge MartinMonica WilsonKristen WilliamsonThomas AndersonMr. David Morales Jr.Samantha HoffmanScott CarpenterKayla RossGina TurnerMichael PayneJames HancockDavid HansonThomas HallBarbara Johnson MDJacqueline ThomasDanielle GonzalezBrian CollinsMegan Gutierrez MDConnie SanchezRandy HornLori NunezShannon WrightCharles IngramMichael WilliamsTimothy GravesPaige RiosMelissa AndersonAnthony BrownJennifer AndersonAnna RodriguezRobert MannAmanda KaneJoseph JonesRichard ThomasThomas FritzMargaret MasseyMatthew ChristensenSylvia HawkinsCalvin JenkinsDavid BauerDebra JacksonJacqueline MartinErik DunlapJennifer ShepardTheodore PatelMeghan HarperKeith ReedDaniel VaughnJennifer PinedaWilliam HinesJason SmithStephanie WhiteZachary GibsonJustin SilvaRobin OdomAnna KochJeffrey TaylorJohn WhiteKaren FischerKelly RobertsTodd DavisSusan SchwartzLarry Chandler Jr.Robert RosalesAndrew MurrayErica MitchellVeronica PotterHaley CampbellMichael JenkinsRonald Matthews PhDNicole KnightDanielle HaleRobert VelezRobert FosterChristina TapiaMegan SimsJonathan BauerJeffrey WebsterNicholas FordMichael ConleyJoshua ReyesAshley WeissRichard BrownErika JohnsonJesus GordonMichaela SmithTerry DavisKathy JacksonChristian JonesLaura RhodesKari JacksonJoseph HansenAshley WilliamsRandy MorenoKevin LarsonDaniel GordonMichael DavisJuan LopezKaitlyn NicholsonAnna HaynesStacy JamesDon MurrayBradley WhiteJohn GarzaJoseph MorrisJoseph MartinezSteven WhiteCharles ShannonDavid SalazarJoel BakerDaniel WrightDwayne DavisJames Clark IIRebecca MolinaAmanda AlexanderBetty EricksonJill CalhounCameron Roman Jr.Joel GarciaKelly PierceDavid HowardMichael EdwardsMadison HoffmanSergio McfarlandKatrina SmallMichelle MichaelBrian WrightJeffrey ChavezChristopher RobinsonAudrey ClarkJacob HowardDerek AndersonAmanda GalvanAmanda LoganMichael LevineRonald PooleJohn WallaceHannah BakerLinda WolfeLee JonesTerri ValdezMelanie PaulSarah AllenGina AguilarMelissa SullivanBrian MackRoberta SandersJeffery ToddAmy FloresKristin GreeneCheryl BrownDebra GreenTamara PottsJacqueline VargasJeremy McguireDaniel BurtonTyler LambertSteven ChapmanKatelyn WalkerDavid HarperJulie AllisonJessica ChapmanCarolyn CookMadison LiKelli HouseRebecca BrennanPhillip AdamsMike AllenAngela CostaAnna EatonSandra MartinSarah HowellPaul SilvaBrianna MosleyKarina CalderonBecky HallMonique SharpFelicia CampbellBrittany CunninghamLori MitchellDaniel HernandezBenjamin RichardsonKelli WilliamsAngela HendersonElizabeth DixonNancy WheelerJohn JosephDarlene RichStuart ReedMichael WatsonJennifer LevineJared SandersTammy OconnorLarry HurstLisa GarciaPhilip ArnoldChad GarciaSandra JonesJared StrongElizabeth AustinCrystal GonzalesScott ChanJennifer JonesChristopher BakerStephanie SmithTara KimMr. Ian SmithRhonda AriasKimberly PadillaMatthew BakerApril WilliamsPaul MckayLawrence JohnsonScott MartinezTimothy TaylorPamela GrantPeter JonesMelissa HuffJessica SteeleChristopher RamirezJose ThorntonTonya CortezNicolas JohnsonStephanie RhodesAmy SmithSarah MillerJennifer StricklandDenise VazquezStefanie LopezMichael GonzalezHannah ScottJeffrey WhiteScott CortezChristopher CarrollWilliam RodriguezJacob AndersonWyatt HarrisJacob CarlsonJason PerryVictoria HayesJustin CunninghamBobby BullockWilliam ReidBrianna MendozaJoshua FoxJulie GambleJames PerkinsKatherine BenjaminLuke DunlapChristine SanfordWilliam CastilloRobert SheltonDavid RodriguezRobert LaneJennifer ThomasSarah SnyderMichael WardDana ChavezAndrew SmithRachel GonzalezJose HansenMelissa Hunt MDPatrick BullockFrank RiveraAlexandria Cooper MDJames JonesMr. Andre JensenRobert FosterLeah BishopBrian GuzmanAudrey FieldsRenee Garcia MDEric RodriguezAngela WallJoseph HopkinsLauren JacksonBrandon JenkinsJose GoldenBobby YangKathleen MilesDavid BeardRicardo CooperKaren HolderChase VazquezWilliam OrtizAndrew RichardsonGabriela HurstNicholas BryantSean OrtegaCynthia McleanThomas MillerErin PerezSteven LambMichelle CruzNicole RodriguezMelissa FordKelsey SmithBradley SnyderHeidi MasonLaura JohnsonAmanda MooreRobert AndersonKristina HunterRonald CooperJustin ThomasMichael RobbinsKarl BellSamantha ScottChristopher Smith Jr.Joseph WareKelsey GouldMaria DavisJacob JohnsonStephanie DavisBenjamin FreyKathy MasonRebecca CollinsJenny CarrHeather BurkeKenneth WatkinsMrs. Lori Rogers MDMelissa SchmidtTammy Dunlap DVMFrank BlackwellMichele TorresDana BuckRobert HowardCarol ShawJason FergusonBrian ClarkKaren BrandtWilliam DurhamShannon JacksonElizabeth AllenPatricia HoustonJason PearsonMonica OliverNicole HaynesCraig MorganScott BlackEvan WilsonAngela FitzgeraldJames SullivanKenneth OlsonKristina CraigDavid BrownDavid RangelLuke MoodyPamela ParsonsSeth GreenRoberto EscobarFrances PhillipsMichael SmithRichard HammondJustin SchneiderSarah PadillaAshley GardnerCourtney LutzAlbert SheaJennifer McguireCharles SmithJenna BartonJeffrey SinghJoseph RamosRachel JohnsonJoseph PopeJanet GlennSteven ObrienChelsea RamosEmily WardCourtney WardHeidi CohenMatthew Sawyer PhDMarilyn ColeJoseph MorganCarolyn MasonLori GainesJohn JohnsonPamela MartinBenjamin LeeJeffrey BarnesJustin MasseyRachel KeyVictoria BakerClaudia WoodScott HughesBrandon MendozaLinda FischerThomas MccoyDavid ChapmanJasmine FloresMichael FernandezCassandra HaasCrystal SpenceLindsey WatkinsTravis MitchellKatherine RodriguezMatthew BrownKatie HamiltonTina HowardSheila ClarkAnn BishopKathryn HannaDavid GomezCarl BakerDiana PhelpsKari HuangBarry GarciaSara WellsTanya TurnerColleen GibsonJordan PetersonFrederick RochaMegan PowellRicardo WilliamsKathryn YoungDonna CollinsVirginia GonzalesRhonda BeckElizabeth HughesDebra GrayDonna JohnsonBrittany HodgesKimberly RamirezSherry GutierrezStacy OrtegaJohn GrantMelvin WoodsTammy RussellBenjamin RoweWendy MyersApril MillerAnthony HayesWilliam JordanChelsey VillanuevaLisa BakerMaria CastroRose JacksonAlexandra MccarthyKevin StricklandJohn SmithDiane TerryAmber LeonRhonda GarciaJon MatthewsAngel BuchananElizabeth AllenKristen HartmanStephen HoodSarah ValenciaAnn CarterLynn RivasJeremy WrightBrandy WestPamela GrayCarmen ThomasJessica EllisThomas LarsonJuan AshleyAustin WilliamsDaniel WattsSonya ShawMaria SilvaPatricia SmithPaula ClineKyle BoydLarry WhiteSarah BuckMatthew SmithTiffany CookKathryn CoxSophia WhiteKelly LynchTyler HuangAlexis DonovanKaren PrestonAmy WolfEric WilsonTasha ButlerTara FloresBrian HernandezJulia HarrisMary HunterRobert PerezDavid LopezCheryl TaylorAdrian GonzalezJared HarrellChristopher ThompsonDaniel PerezGary ZamoraEmily TaylorAlicia AlvarezCollin ThomasJulia GeorgeTravis ReyesElizabeth EatonChristina RileyChristopher ShermanAmy BooneStefanie JacksonDestiny JacobsonRachel HannaPeter SmithBrittney RandallKristen DuncanAngela PalmerJames JensenMatthew ArmstrongCynthia JohnsonDale BartlettMike Harris PhDMonica BerryGeorge HansonJoshua HarrisMike HoganAnthony LeblancBrian WaltersJonathan MckenzieAlicia TownsendAlyssa HayesMrs. Christina Mitchell DDSKatherine BrownSusan MooreDavid JohnsonJordan BrownShelby LynchBenjamin PerkinsChristopher ToddKim TerrellElizabeth BrownColton KelleyMelanie KentMichelle BlackwellChristina BarnettElizabeth VargasTaylor BarnettNathan RomanTina WilsonAngela JonesAngela LopezHeather BarnesBrian ThomasLuis PerezDouglas HawkinsAnne WatersIan GallagherJeffrey GarrisonApril PowersConnor MorseTeresa WilliamsSteven LuceroJustin MillerLisa HendersonDavid KingJill BakerJason ParkerJennifer EdwardsChristopher EdwardsEvelyn Suarez DDSValerie HillAmanda MartinezMatthew MartinCarl CooperLori BakerMichael WhiteJessica MitchellKathleen OwenDawn NguyenJoseph GeorgeMark SmithRonnie RoblesChristina Alvarez PhDCharles HarveyMatthew SilvaCandace FrankJohn HaynesNicole BradfordJulia MillerGabriel DunnAlan LeeJennifer ScottTiffany AndersonKatelyn WeberNicholas YoungDanielle BrewerHelen JohnsonJohn RobinsonBradley DavisAlexander RoyEric SotoWillie YoungCharles LeeWilliam WigginsJoanne ManningDustin GarciaAshley RayDebra EvansEmily Duran MDDavid RodriguezRandall MyersTravis LopezElizabeth GonzalezLarry WilliamsBrian HoldenJeremy RodriguezOlivia HawkinsTodd Grant Jr.Reginald AlvaradoMichael NelsonMichele GrayBrian ArmstrongMark BryantDesiree ClarkBrandon TannerLinda JensenSheryl CurtisDaniel AndradeMrs. Veronica ShermanAndrew FarmerApril MillerSharon NelsonJulia ChristianDanielle MooreMonica CookKelsey DillonMichael HoldenMichael StoneThomas MartinezTerry FuentesRebekah HallTammy WardMichael WrightChristina MartinOlivia RiceKristen NealMatthew WhitakerLori FosterMr. Alan AndersonRobert OconnorJohn GallegosRobert BurchMichelle WagnerJeffrey RobinsonTimothy BrayWilliam SimonClaire LoweryMaria AllisonJennifer YoungPamela MannRachel StephensonMadison MillerSonya JuarezCharles AveryTeresa GriffinCassandra KelleyJohnny BanksMichael MartinezChristopher MaynardElizabeth LewisJames SanchezMorgan BarnettTheresa SmithTracy VazquezScott ProctorGary JacobsMr. Jason JacksonAustin LongJanet JohnsonJessica MoranLaura ChapmanDerrick JohnsonMargaret BatesRobert FernandezCharles HicksScott CooperJamie GreenMeredith MckeeTracy DuranKathryn StanleyDaniel ClarkJohn PatelScott MeyersJulia SimmonsValerie ClarkMrs. Jennifer RiveraAmy ThomasRichard PooleStephanie GarnerAmy RushCheryl HernandezMichael SmithStacey ContrerasCheryl OsborneJoseph GuzmanSierra KentJose BennettNathaniel JohnsonJoshua MeyersTracy NguyenRandy LewisMichelle DavisDavid AdamsJonathan YoungJoy PerezAngel JacksonTodd AdamsSheri FletcherMatthew BridgesBenjamin MeyerMichael KennedyJuan BurkeMatthew WatkinsAlex CareyDr. Terry SanchezKathleen ColeJeffrey RomanJennifer MillerThomas RasmussenCameron MillerLisa PinedaJennifer MurrayRobert GoodmanMr. Scott SextonTamara HollandKelly StewartKristopher MurphyRobert WagnerColleen MartinezMichael HowellSusan ParsonsJordan ChristensenMeagan WhitneyChristopher DavisYvette HarringtonChristine ElliottRhonda LynchDebbie GrayMichelle BrandtWilliam WrightBailey PriceDonna LopezTara MarshDaniel LeeKeith AndersonJasmine RileyMelissa TorresPamela HunterAdriana SnyderKevin FlowersDouglas WilliamsDavid ZhangMelanie MillsAllison JohnsonDebra HowardSavannah PowellDavid BoydJustin MartinezKenneth GardnerMelissa ChavezStephanie HartTaylor RiggsJerry WigginsAllen GarrisonDarius AtkinsonTimothy JacksonJeffrey DelacruzDaniel GallagherElizabeth HigginsCandace OrtizScott CohenTiffany PerryDustin ChandlerRobert SchmidtChristina AdamsAlison SmithCatherine HortonBetty GallowaySara BushDavid RyanJames BeltranRaven LawsonAndrew TaylorMichael BatesAndrea SteinHunter FitzpatrickSarah KirkChristopher WestAndres JonesKristina GarzaErica AndrewsDanny MayerJeremy NavarroJake RobersonZachary ChavezMaria FitzpatrickSandra SmithAmanda RobinsonDiana MoranAlexander WrightMrs. Wendy HayesKenneth Santiago MDAnthony JenkinsAmy ArmstrongTeresa LeonardJonathan AdamsWalter ClarkDonna CoxDr. Matthew HernandezDouglas HamiltonCheryl MccormickEllen KellyRobert CarterIan WilliamsJose MartinezDavid SimsJennifer JonesMeredith GarciaJohn WallsAdam StevensonJacqueline BraunChristian MartinTroy ScottNathaniel AdkinsTeresa MolinaMichael LevineElizabeth KellyDerrick BrownAshley CalderonJennifer GarciaChristopher LambLouis Hodges DDSRonald MartinezMonica CochranJeffery WatsonDr. Douglas DuffyGina CurtisJason LoganThomas FreemanJustin MillerJustin JohnsonHarry SnowThomas TuckerAmanda ColeMrs. Michelle PattersonJustin LeeSamantha CooperChristopher SmithCathy AlexanderDawn AdamsJustin FinleyLauren KaneJacob LoganDiane BradfordKenneth LeeJeanette YoungEmily ThompsonNicole BauerLarry MonroeMelissa WilsonNina ShahLeslie WilliamsSandra OliverRobert RobinsonVirginia PopeBradley MurphyMrs. Jennifer CraigTeresa LambLawrence HintonKyle CollinsKyle DavisMarie AndrewsNina ThomasMark MezaJason FranklinAlexis AdamsGary FloresBrittany GillespieAmanda RileyMr. Michael GrahamSusan BakerDaniel OlsonElizabeth WalkerLisa MitchellAndrew HerreraHoward JohnsonMichelle FoxJessica FloresAdrienne HowardJames KingMike HillErika LoganJulia HowellAmanda WebbShannon GutierrezSavannah WillisAndrew RichardsonTristan StuartJudy FordDr. David WrightMichael FisherRichard GilbertRussell YoungSamantha HughesSuzanne TorresWilliam BradleyElizabeth ParkDebbie WagnerAnthony SmithVanessa LarsenMelvin HoltAmber RiosHerbert BellDeborah McdonaldDonald ReevesTimothy CarrNicole PetersonGregory HenrySuzanne UnderwoodKevin CoffeyJeff EstesTiffany ReynoldsJordan WardChristina RobersonAndrew PowersDavid WilsonCody ColeJeanne Fischer MDWilliam HinesCharles KingDebra RyanJason SullivanJennifer JenningsJames ThomasEric PetersKaren WadeCheryl ThomasMrs. Amanda RoseJohn WilsonRobert HinesElizabeth BowersDavid BookerCarolyn JohnsonBlake LopezKristina BoothRebecca EricksonKimberly CollinsChristopher HornNicole GarciaMatthew RiceJonathan SmithVeronica McmillanVirginia PetersTeresa PerezMatthew McdonaldCassidy EatonMichael MyersBradley BrownJason HuntMary LeeRichard LevineBryan SchmidtPatricia MonroeBreanna HorneSusan LopezKimberly CooperMargaret DeanMichael LanePatricia PerrySusan SandersKendra SmithJohnny SchneiderLauren FitzgeraldJessica SmithRebecca DavisAmber ArnoldElizabeth PerezAlan BurnettRyan CookeJoseph JamesEllen DavisBobby NobleChelsea TaylorCatherine HarrisBrent ReevesJohnny JohnsonValerie ObrienCynthia MossRebecca Salazar DDSChristopher NelsonDiana PonceMichele ClarkAlexander CarsonTheresa MillerJonathan ParkNicole OwensJames YoungBrian DicksonAnthony MackAriel ChambersJamie WalkerKenneth RaymondElizabeth WelchRay HoffmanMrs. Kathleen CookSheila GreenMary GarzaJessica SmithAntonio OconnorRobert DiazMichael CordovaMarie StanleyAmanda SolomonRobert Olson DVMPatricia CohenCourtney PenaKara SmithSamuel RichardsonMartin PhillipsScott BrewerLinda CalhounJames StephensBenjamin EvansJames WilliamsKathy BrightAmber LopezAshley BergLisa GonzalezDaryl JohnsonKristen CrossWalter MoranKyle GomezLonnie HerreraMaria HubbardAbigail YoungMelissa ThompsonMichael CooperTiffany LeeJohn BrownDavid DavisShane GibsonSteven MyersNancy RossMark EverettSteve WalkerMary RodriguezJonathan ByrdRalph MoyerNicholas DiazChristie MejiaCarl EdwardsStacy DavisAngela TownsendRobert BerrySabrina FrancoRichard Cherry DDSMelissa FloresMadeline BrownRyan GonzalezTimothy GriffinJeffrey Shepard DVMLisa PachecoTerry KingJames Holland MDTanya SmithKevin RobinsonNicholas TannerDavid DavisGilbert HodgesShawn RobinsonDaniel MartinezAmanda KingStephanie HatfieldMadison ConleyTeresa OdonnellLauren CampbellStephanie MayerLisa JohnsonJordan WoodsNancy PatelTimothy GomezRay CampbellRobert LandryKarina WelchHelen HallJamie BaileyMichaela DanielsTammy DaughertySarah DennisNicole ChavezDavid HoffmanDiane ReynoldsJessica MeyerKenneth AlexanderLisa HernandezJack JohnsonKristin ThorntonChristine WilliamsTimothy DavidsonMonique HouseStacie KramerCourtney ValenzuelaCraig McgeeMatthew GarciaRebecca WilliamsMelissa ShepherdTanya HawkinsManuel TurnerRichard WallaceJacob PorterDr. Patricia BakerApril JonesRyan HornRebecca FloydVictoria MyersMichele NelsonJohn SmithDavid SantosJoshua Montgomery MDRobin ThomasDenise CameronKeith GonzalezBrooke LongMark JordanBryan MayerSylvia BrownTiffany AllenWendy MartinezMichelle WeberJenna DickersonMegan HumphreyPaul DavisMichael DavisMary EatonKathleen FullerJill MoralesErika WestCynthia GeorgeAlan ObrienMary ClaytonJustin PenningtonKathy BurgessBrett JenningsSamuel WatersFrank RobersonKaren ShannonBrandon GardnerKevin ArmstrongStephen MccallAnthony LongDebbie SmithKim LewisMatthew BoydKevin Andrews PhDDiane VaughnEdward MunozTheresa AllenRonald RoseSamantha MeadowsLisa ThompsonDr. Rachel GilbertChristina HaynesDonna RiddleNatalie MaloneMatthew HernandezChristopher TateRicky MillerLinda AndersonShannon FarmerJill LawrenceKenneth CoxMichelle EllisMeghan HartBobby SolomonDana WalkerCassandra WatersMichael DavisLori WilsonLouis McdanielGregory JonesKyle SpearsNicole BurgessDavid JensenNicole GoodwinChristopher WelchJared LynchJoseph HansonSara BrayKenneth CarterNicole BuckRachel DiazMichael RogersKaren EllisDawn LawsonJacob DixonAngela PhelpsDavid GutierrezStephanie HarrisonRobert SalazarSabrina BartonWilliam PetersonGregory VasquezMolly MasonMatthew FritzKelly BishopJoshua ReynoldsMichelle PerezAlbert WrightRachel McmahonJulie CooperIan ContrerasShane BennettJoshua FernandezKendra WardEarl CaldwellChristopher HernandezShane MartinezElizabeth JohnsonJessica GonzalezJesse DaltonMelissa ParksAaron MitchellJennifer PettyKathryn ColemanDavid WeberJill WheelerMichael LeeTracy WellsFelicia NguyenAustin MooreCharles WilsonWilliam WatersDustin MossRobin WhiteDebra RodriguezAnthony MontgomeryMark SpencerConnie SkinnerJennifer GrayJeremiah HolderKristine WadeWilliam FloresJeffrey DavisLisa VasquezKenneth Avila Jr.Sergio MayLaura EvansLeah PalmerConnor LandryNathan RollinsRonnie JonesDavid RichardsonAlex FlowersLisa WalkerAndrew PierceMiss Taylor BarronPatrick GalvanJonathan StrongKevin HowardChristian MuellerBarbara HartDavid WoodJohn LawrenceJohn GarciaDaniel CrossRobin BrownJohn PerezBrian MclaughlinNancy BrownKelly HamiltonMichael GreeneAmber SmithKristin CarlsonBenjamin ValdezDavid HarrisSarah GarciaElizabeth AllenDiana AyalaJulie HuntTimothy HillSylvia AtkinsWilliam HudsonPaula JonesBriana StoneChelsea WadeJoe MeadowsJack LoweJesus JohnsonSteven WebsterHenry RamirezChristopher SullivanJared WardMichael RomeroJody HunterCarol DuffyCaitlyn SmithSarah SmithJoshua SantiagoJacqueline DavisJonathan MercerDesiree CastroJessica MillerAntonio MasonMelanie EsparzaHolly McphersonZachary RiveraCarol HughesMr. Jason Lopez Jr.Darlene SmithBrianna WhitneyJeffrey MendozaChristine HillCaitlin JohnsonJasmine ObrienBrandon FlowersRobert BoyerLaura CummingsJason PowellDawn HillDana StricklandKristina WalkerMichael TuckerVictor IngramLisa GreenAlexander NormanBonnie ValentineVernon YoungHenry MorrisZachary ParkerErika JonesMisty HatfieldChristine BurtonNicole MooreJames GarciaDavid MunozJames SmithTracy SteinCharles HoltBrenda SkinnerAmy BrownSummer HuntJames MoralesGavin MckinneyAndrea BennettSarah MillerJoshua GrahamParker Carter MDJerry BrownDennis Wells DDSSharon DillonTodd WilliamsSteven NelsonJennifer HarrisonKathleen HallMelissa TranBrenda WilliamsSamantha JohnsonTammy MortonEdward GonzalezSandra LaneJamie JacksonShelby RodriguezBrian MoralesCassandra GarrettTonya ArmstrongJennifer HuangChristopher DoyleSharon RobertsElizabeth MunozVictor BurkeSteven NewtonDana LeeRobyn HernandezJacqueline AlvarezJames JordanAllen HallTerry TurnerNicholas JonesRachel PetersenPatricia LopezJames RayJeffery TranMichael CaldwellMichael TurnerMichael GonzalezAlexis BartlettMichele ColemanAdrienne TaylorChristopher NelsonCurtis LeeMrs. Carol WhiteCourtney Stephenson MDZachary StoneDr. Andrea RoseWendy PetersonJennifer HernandezTara RodriguezCorey BerryNicole WilliamsSteven RamirezMichael BurnsRita ReynoldsBrian RobinsonKatherine FrancoShannon CooperSara OwensMartha StoneEvan MooreKendra WellsAndrew HolmesSarah BryantGabriel MccallMarvin BridgesGail CampbellTerrence WelchJennifer HarrisRyan PayneEileen PotterHeather KellerDylan FrancoJeffrey RobinsonPhilip AndersonDr. Seth Villarreal DVMKaylee OconnorVincent LesterChristopher RosalesRobert RussellMichael MillerAnnette WilsonLindsey NobleDaniel LewisAlexandra BlackDerrick SilvaMatthew JacksonBrian FischerRenee SmithMadeline NelsonCarla HamiltonCynthia HallBarbara CalderonJustin RichmondMrs. Sabrina Murillo MDMorgan ThomasJeremy GarciaElizabeth ChaseErnest BarnesTanya TylerMary EstradaRichard SheltonShannon LewisKaren BridgesCynthia StoneElizabeth GibsonJorge DanielKatie GentryVictor PerkinsKristin SloanJennifer CunninghamJonathan JonesTodd RoseRobyn WrightRebecca ChapmanCarrie MichaelStacey TerryJohn ShawHeather GordonMr. Eric GordonWilliam RowlandAmber DiazLuis EllisScott HarrellRachel KellyColleen ReedTammy ColemanMelanie WilkinsDavid GouldManuel AguirreKatherine SmithMrs. Brenda Johnson DVMAmber CooperShannon MartinAustin PenaKellie BrownAshley WalterRaymond AguilarBrittany SmithMichael PorterDaniel HaleyRobert HendrixThomas HallWilliam WardDonna HolmesMatthew LeachZachary PowersTanner GloverKristen ClarkTravis BrandtJo MccarthyKenneth HowardKimberly AbbottDonald MillsLori WilliamsMichael ScottScott AndersonShannon ThompsonAndre BradyErik GibsonKelly AndersonDerek AllenThomas SandersJoseph HughesMarcus OrtizRebecca CollinsRebecca MccormickBenjamin AdkinsEric AndrewsTeresa OsborneLinda BaileyJack MillerZachary HinesJoseph MullinsDeanna PerryAndrew RodriguezHannah EdwardsFranklin RobertsonTeresa SullivanBriana LucasKimberly MartinezRoy RodriguezKyle RobertsElizabeth WilliamsGeorge LopezJessica FosterCasey EvansRachel TerrellChristopher AllisonMatthew WillisSheri ThomasMarc ChaneyDiana HaleRachel MillerJordan PattersonMike DuncanAnthony Garrett DDSDeborah RollinsAllison WhiteTimothy StewartBrenda TownsendTina CampbellAndre SmithRichard RomeroJerry LewisDominique GarciaSarah GonzalezMichele AcostaAnne SheltonAmanda NelsonJeffrey MilesSydney KimMathew TuckerAaron PayneThomas HinesJonathan MartinezJose DelgadoMichael FoleyChristian GibbsLawrence MitchellWesley WagnerRaymond NguyenRobert WiseMichael MaxwellAlejandro PorterLaura BarnesDaniel HallJeremy SinghJustin MillerAnthony WadeEric ChavezRobert PerezCharles OwenWendy FinleyChristopher WilliamsDerek AllenDavid ScottMorgan GonzalezCharles RitterSabrina RasmussenJason HunterBilly Franco PhDMatthew CannonHannah BarnettMr. Jeremiah RogersMr. Donald VangJason FlemingKelly OconnorAnna BergPamela TownsendMaxwell LeonardJohn OrtizJonathan CooperCassandra ColemanDavid RoweJason MolinaRandy BlakeMatthew MillsVincent MccoyTracy EspinozaBrandy KellerAnita ScottGabrielle GarrettDenise TerrellAmber ClarkRuth VargasCurtis MooreDiana BradleyJohn GonzalezAllen BaxterJason DukeSteven PalmerJason PerryJimmy PadillaRandy GarrettBeth MartinAngela SimpsonHannah HicksCody WilcoxAlbert RomeroAndrew BoydShane DavisJacqueline ChandlerSandra PerezThomas WallsSarah WilliamsDr. Alexander Chang PhDJustin RichardCassandra FranklinFrancisco SheltonMr. Robert HendricksTravis WalkerDonna JonesRobert BeckKimberly JonesJordan GomezJames LopezMatthew BoydMichael ClarkMichele MooreLaura MillerKristen AguirreKristy MillerEvan BrownSara BradfordMike TaylorChristine BensonJennifer GonzalezVanessa GarciaDana BarryGerald KimWendy ShepardErin GarrettErnest LewisAmanda NielsenTerry BenderAnna CooperHarold PetersonEddie WilliamsJessica EllisJoseph MontgomeryMarc PalmerSarah RodriguezShawn ObrienRobert HaneyKathryn GonzalesAmy RiceHannah BruceCharlotte LopezMichele TerryKrystal FreemanTodd MckeeJames BowmanJennifer JohnsonLucas ColemanAndrew ScottKristy SnyderWarren GrayEdward AllenRobert HessTanner FrancisDavid WrightSarah RobbinsDr. Bryan KimJeffery BanksCarlos SmithGlenn BatesJennifer PrattErnest WongTimothy MossEmily ClineAnna AllenDerrick ChenLindsay ArmstrongChristian KingAshley DaughertyRobert GonzalezPatrick BlairWilliam PottsAndrew RiceMark JeffersonLawrence RogersAlexis ChangMichael AlvarezMrs. Cynthia LopezMitchell RobinsonNicole RollinsKristin SchroederCathy JenkinsJodi WilsonHaley BishopDr. Laura ThompsonJohn QuinnAmanda HughesAndrew ReidKristen KingMatthew WilsonDonna BrewerArthur LeeLori WilliamsMonica WyattJessica RichardDaniel GarciaAlexis CollinsMs. Stephanie Schwartz DDSLoretta PerezRonald DouglasMichael PenningtonLori WeaverMaria MarquezRandall BanksMatthew HarrisAlicia MartinDaniel PorterAnna AustinAdrian DavisWilliam FisherJamie WebbCatherine CurtisChelsey JonesEmily CurtisLisa SmithNichole CaldwellJoshua RussellErica CarrDebra SmithDavid GutierrezJohnny BeardBryce GarciaMelissa ManningRachel OwenLinda GarciaMary LawsonWhitney EstesMorgan AllenJoseph ButlerNicole StevensTaylor WoodsPatricia LucasKara SerranoSteven HansonAustin KellyCraig ZimmermanChristine AndradeGrace HarrisonJose SchmittNatasha DaviesDillon SmithSamantha RoblesRebecca MirandaChristina GayLawrence ZhangThomas GreenGlen MontoyaChristopher WoodMichael BoydMark CollinsClayton RamirezEmma GarciaJerry RoweBarbara AndersonShannon BlairCarolyn HawkinsMatthew GardnerCharles MorrisDerrick CarrollCarrie TranKevin TannerCynthia MartinezBrandon LopezMichael SmithRonnie BryanJames MitchellJesus BooneRebecca JohnsonLarry BakerTara CampbellMr. Anthony DeleonCraig RodriguezKevin GreenScott MunozAndrew AllisonMadeline MonroeCristina HobbsHailey JacksonLindsey NavarroDaniel KellyRichard CohenMichael NielsenRussell PerezJason BrownKevin CastilloElizabeth BauerMichelle VillanuevaBreanna MooreDonald MartinezLauren FowlerTerrance HardyAbigail EspinozaAdam GriffinDerek HunterAlexandra FoxKarla McneilKevin FordEric SinghHeather WilsonMiss Sarah WestRebecca KnappMandy MoodyJohn JacksonMark BurkeEric SampsonAndrew SmithAlicia JohnsonGabriel ArroyoEdward EdwardsAlicia LeeXavier MitchellStephen VargasTimothy FinleyGeorge BarnettDaniel JohnsonKevin LongCorey PierceDr. Devin Sharp PhDKenneth AriasAmanda MosleyTroy BarryAlexandra BowmanSheri SloanCaleb BurnsDaniel MartinShannon TateKrystal MarshallKaren BellAlexander McculloughMelinda BarajasRichard SmithLindsey DavisSydney DanielsRyan KruegerMichael CurryMichael BuchananPaul PadillaMeghan TapiaMeagan BakerSarah RomanVictor WalkerDavid FullerChad SmithJennifer JacksonRichard ReyesSusan ShahMadison WagnerMary TownsendJeffery WilsonWilliam BowenDawn JacksonNicole MerrittMichael MitchellMichelle MitchellMalik JonesAnthony AlvaradoCarrie DavisKatrina RossMatthew SmithMichael HillSarah RobertsCheryl SellersMichelle AdamsBrittney Hammond DVMJessica ParkerErin StevensSusan RomanBrandon BrownMiss Chelsea Sullivan PhDLaura HudsonHeather MoranRebecca LittleLeslie HolmesKathleen PhillipsCarolyn CoxApril ZimmermanKristopher WrightMark WarrenLauren CardenasElizabeth FrazierChristy BurtonDr. Jessica Love DVMMark BaileyChristopher MontgomeryMichelle ClineJeremy AyersElizabeth WallerBrandon ChangLouis WoodsVanessa EnglishBrandy MitchellRoger KingBarbara HayesWilliam ArroyoLeah Page DDSPhillip GuerraKimberly BakerTara DouglasWilliam MillerMelissa OwensDaniel RobertsRaven CantrellJerry KelleyMary MezaAdrian StevensLisa DuarteDavid GonzalezNathaniel AlexanderJacob PayneChristopher GuerreroJessica GarciaDeanna OsborneKeith McdonaldTodd WilliamsChristine RobertsonTammie GarrettSandra GregoryDavid FergusonRobin CoxNathaniel OconnellMary AlvarezTravis GreenKim ParkerLuke FryVicki BerryCarol VelazquezJennifer SandersCrystal ChavezJennifer ThompsonDanielle BanksDouglas WoodsZachary GreenTracy FordElizabeth BeckerChristopher SilvaJacob TerryHannah WarrenMindy KennedySarah FullerKathy PenningtonTerry SnyderKristina LewisMason WalkerHannah Rose MDNancy HarrisonMichael SullivanMiss Norma McfarlandRobert HillJames LoveDenise PetersonKimberly LevineJoseph LopezTracey WilsonWilliam HolmesMichael GordonLaurie DoughertyAnna TownsendAdrian GarciaDwayne Mathis Jr.Sarah JohnsonRobin MitchellJoshua TaylorCandace PalmerThomas GarciaAlyssa HernandezMaria NormanAndrew CampbellHeather BellJason HallBradley MartinezAlexa KellerDavid BellAmy LeeJanet WattsTheresa KelleyDavid GoodAaron NelsonCheryl Gay PhDSandra BerryJohn DunnRobert TylerKimberly GilesMatthew OwensJaclyn WilliamsJohn BauerMichael AndersonTara ForbesJacqueline GarciaJoe KochDerek LopezAngela BryantMalik RoyMeghan WilliamsWalter MaxwellDennis KleinSean LeeGabriella MoodyNancy NelsonPatrick Morgan MDJason DrakeStacy LopezMary AcevedoDakota AdamsPeter GreeneDaryl GregoryAshley RiveraJennifer ScottPaul RiveraSean WellsJoshua CoxRyan WilliamsKathleen LoveJames ChavezEmily NorrisDawn LewisCourtney BartonBarbara BlackwellCasey ThomasHaley MorrisEric ThompsonBrittany EdwardsCharles BaileyJames JonesCatherine JonesGina SimsJohn McdanielDeborah GallegosHeather ScottChristine GarciaSamantha ContrerasTracy LoweryTaylor FowlerTerry WhiteheadMichael FischerJulie WarrenJay RobertsBrent SmithKimberly CarrilloBrandon OrtizRichard DavisElizabeth EllisonWilliam ReyesNicholas HarperPatricia WoodOlivia ReyesKaren MorenoSean RichardsonMelanie EatonMaria RamirezApril LoweDaniel CobbJeremy Rivera MDDavid KingTroy MorganAdriana WallDesiree CarterEmily HendersonTerri ManningMegan KirkAmber FitzgeraldJonathan CollinsTina MiddletonJessica FaulknerKenneth PrattEric LewisDennis SimonLaura GatesRobert DukeJacob MillerWilliam BlackburnMegan PottsJessica BradleyCarol TorresDeanna HughesTeresa LivingstonCynthia OlsonTammy SuarezGabriel BarberRobert HooperMandy HensleyTina MayerMarcus SmithDanielle ParkKayla PetersenReginald MolinaNatasha WilliamsKathryn MillerAllison MeyersTasha GrayDawn ChristensenKatherine BoothMarcus WilsonJason RodriguezRick ShannonJeffrey RubioKimberly FisherJoseph BradfordCrystal ShahHeather StephensonMichael JohnsonPatricia VillanuevaDavid TorresPerry PerezBrandon BakerHeather RobinsonAmy AllenKathryn BernardTroy GriffithDavid WatsonDebbie TurnerKayla BurtonHeather AllenJessica ArroyoDillon HardingAmanda BatesBrittany BoydDavid IbarraThomas CrawfordKathleen KnoxJoshua LewisTiffany TateEric GonzalezErika PeckGary HarrisonJoshua AndrewsAustin LangDavid BlackburnJessica WhiteJose LawrenceDawn JohnsonMr. Colton Collins IIBrandon OliverDeborah CarrollDavid LambertHoward LeonRobert FernandezSarah HahnJamie MasonDwayne SmithCynthia CastilloDavid SchroederBrandon WilliamsDavid MoranMary MoranCrystal MaldonadoHaley GreenHeather GordonAdam HuffmanTimothy WeaverTeresa HernandezMary HoweRandall DavisLauren ChristianCynthia GregoryKimberly PorterElizabeth CarrilloShawn BrownJames HowellCaleb EllisJoel SanchezAmanda SheltonLisa KnightErika RamosCharles BaldwinAnthony WelchJohn ThomasWilliam EstradaEric FrankEric PerezSteven TorresMichael WilliamsDavid SimmonsTracy SmithAndrew MejiaKenneth VasquezScott GomezJeffery SmithTammie RogersSteven LeAmanda JohnsonLaurie OliverTheresa MartinezKenneth MorrisonSharon PadillaJennifer ArroyoBryan SmithJonathan GardnerMr. Alexander DaltonJonathan OlsonJulie DavisSara RoseOscar KaiserNathaniel SmithKimberly CastroPatricia SmithAshley HouseStacie HollandDiana GarrettJesse TuckerJessica SchmidtMelissa ZimmermanJason RichardsMary JonesKimberly ComptonJason KnightMallory GravesKerry HendersonBrandon VaughnDonna HolmesAdam HermanSusan WilliamsMichelle WilsonAnita WilsonNancy SmithDr. Nicholas BraunChris Palmer IIIAshley LopezSara GarciaLaurie WheelerMichael JohnsonSharon McconnellAdam ClarkeKathryn JimenezKeith HoustonYolanda LeeJacqueline PetersonWendy HeathEric ContrerasMichael ParkMr. Mason Hernandez MDCindy PowellDr. Roberta EdwardsEdward JonesKristina PaulKayla ScottKimberly JohnstonMary SuarezAmanda JordanJennifer MendozaSarah DavisAnn FloresWilliam ReyesJoshua SwansonBrittney AdamsTanya BrownTheresa BarberRyan AguilarDiana CummingsJames EsparzaJacob RobertsJane LangBriana ContrerasBrenda EvansBrett SweeneyPatricia MillerTerry SanchezAngela GrayRichard MedinaCarlos ButlerBeth MorseJonathan GallowayMargaret JacksonVeronica ParkerVeronica GriffithTeresa KramerHeather WheelerAmy MillerJennifer HowardMichelle RamosJasmin GarciaDaniel WhiteKim MooreAlejandro ThompsonKatherine HornAndrew PorterStephanie TaylorJoe NunezBrett GardnerBrian WagnerKelly MillsKathy BushKristina ClaytonErica WilliamsEmily HessChase HortonJoshua JonesLynn FitzgeraldAmy SchaeferRandy MccarthyTonya HawkinsBrittany CarrJohn BoydCharles GonzalezThomas AlvarezDr. Kaitlin BartonKaren DukeSusan GrahamBrittany PetersonRichard EdwardsRobert ReidJackie AdamsSavannah CraneJason OrtizMary HarrisAnthony AndersonRichard VangJared ThomasJennifer HendersonDillon MeyersPaula ColeThomas SmithRhonda FergusonBrenda DixonDanny CummingsSteven FischerKenneth BrooksTyler SmithBrian LiRebecca HarrisRenee SpenceBenjamin SilvaAlison AndersonBethany HarveyRodney MillerNicholas CostaSamuel BlairKimberly BennettRonald BakerBrittany GatesKatherine SteeleCaleb HernandezRyan AllenRobert MillerRodney ThompsonSarah RiveraLauren MillerJaclyn AyalaJennifer TapiaGabriel AshleySarah CooperDr. Nicholas Garcia' to numeric",
      "\nThe above exception was the direct cause of the following exception:\n",
      "\u001b[1;31mTypeError\u001b[0m                                 Traceback (most recent call last)",
      "Cell \u001b[1;32mIn[50], line 2\u001b[0m\n\u001b[0;32m      1\u001b[0m \u001b[38;5;66;03m# Calculate the average test scores per school from school_data_complete\u001b[39;00m\n\u001b[1;32m----> 2\u001b[0m per_school_math \u001b[38;5;241m=\u001b[39m \u001b[43mschool_data_complete\u001b[49m\u001b[38;5;241;43m.\u001b[39;49m\u001b[43mgroupby\u001b[49m\u001b[43m(\u001b[49m\u001b[43m[\u001b[49m\u001b[38;5;124;43m\"\u001b[39;49m\u001b[38;5;124;43mschool_name\u001b[39;49m\u001b[38;5;124;43m\"\u001b[39;49m\u001b[43m]\u001b[49m\u001b[43m)\u001b[49m\u001b[38;5;241;43m.\u001b[39;49m\u001b[43mmean\u001b[49m\u001b[43m(\u001b[49m\u001b[43m)\u001b[49m[\u001b[38;5;124m\"\u001b[39m\u001b[38;5;124mmath_score\u001b[39m\u001b[38;5;124m\"\u001b[39m]\n\u001b[0;32m      3\u001b[0m per_school_reading \u001b[38;5;241m=\u001b[39m school_data_complete\u001b[38;5;241m.\u001b[39mgroupby([\u001b[38;5;124m\"\u001b[39m\u001b[38;5;124mschool_name\u001b[39m\u001b[38;5;124m\"\u001b[39m])\u001b[38;5;241m.\u001b[39mmean()[\u001b[38;5;124m\"\u001b[39m\u001b[38;5;124mreading_score\u001b[39m\u001b[38;5;124m\"\u001b[39m]\n\u001b[0;32m      5\u001b[0m per_school_math\n",
      "File \u001b[1;32m~\\anaconda3\\envs\\dev\\lib\\site-packages\\pandas\\core\\groupby\\groupby.py:2452\u001b[0m, in \u001b[0;36mGroupBy.mean\u001b[1;34m(self, numeric_only, engine, engine_kwargs)\u001b[0m\n\u001b[0;32m   2445\u001b[0m     \u001b[38;5;28;01mreturn\u001b[39;00m \u001b[38;5;28mself\u001b[39m\u001b[38;5;241m.\u001b[39m_numba_agg_general(\n\u001b[0;32m   2446\u001b[0m         grouped_mean,\n\u001b[0;32m   2447\u001b[0m         executor\u001b[38;5;241m.\u001b[39mfloat_dtype_mapping,\n\u001b[0;32m   2448\u001b[0m         engine_kwargs,\n\u001b[0;32m   2449\u001b[0m         min_periods\u001b[38;5;241m=\u001b[39m\u001b[38;5;241m0\u001b[39m,\n\u001b[0;32m   2450\u001b[0m     )\n\u001b[0;32m   2451\u001b[0m \u001b[38;5;28;01melse\u001b[39;00m:\n\u001b[1;32m-> 2452\u001b[0m     result \u001b[38;5;241m=\u001b[39m \u001b[38;5;28;43mself\u001b[39;49m\u001b[38;5;241;43m.\u001b[39;49m\u001b[43m_cython_agg_general\u001b[49m\u001b[43m(\u001b[49m\n\u001b[0;32m   2453\u001b[0m \u001b[43m        \u001b[49m\u001b[38;5;124;43m\"\u001b[39;49m\u001b[38;5;124;43mmean\u001b[39;49m\u001b[38;5;124;43m\"\u001b[39;49m\u001b[43m,\u001b[49m\n\u001b[0;32m   2454\u001b[0m \u001b[43m        \u001b[49m\u001b[43malt\u001b[49m\u001b[38;5;241;43m=\u001b[39;49m\u001b[38;5;28;43;01mlambda\u001b[39;49;00m\u001b[43m \u001b[49m\u001b[43mx\u001b[49m\u001b[43m:\u001b[49m\u001b[43m \u001b[49m\u001b[43mSeries\u001b[49m\u001b[43m(\u001b[49m\u001b[43mx\u001b[49m\u001b[43m,\u001b[49m\u001b[43m \u001b[49m\u001b[43mcopy\u001b[49m\u001b[38;5;241;43m=\u001b[39;49m\u001b[38;5;28;43;01mFalse\u001b[39;49;00m\u001b[43m)\u001b[49m\u001b[38;5;241;43m.\u001b[39;49m\u001b[43mmean\u001b[49m\u001b[43m(\u001b[49m\u001b[43mnumeric_only\u001b[49m\u001b[38;5;241;43m=\u001b[39;49m\u001b[43mnumeric_only\u001b[49m\u001b[43m)\u001b[49m\u001b[43m,\u001b[49m\n\u001b[0;32m   2455\u001b[0m \u001b[43m        \u001b[49m\u001b[43mnumeric_only\u001b[49m\u001b[38;5;241;43m=\u001b[39;49m\u001b[43mnumeric_only\u001b[49m\u001b[43m,\u001b[49m\n\u001b[0;32m   2456\u001b[0m \u001b[43m    \u001b[49m\u001b[43m)\u001b[49m\n\u001b[0;32m   2457\u001b[0m     \u001b[38;5;28;01mreturn\u001b[39;00m result\u001b[38;5;241m.\u001b[39m__finalize__(\u001b[38;5;28mself\u001b[39m\u001b[38;5;241m.\u001b[39mobj, method\u001b[38;5;241m=\u001b[39m\u001b[38;5;124m\"\u001b[39m\u001b[38;5;124mgroupby\u001b[39m\u001b[38;5;124m\"\u001b[39m)\n",
      "File \u001b[1;32m~\\anaconda3\\envs\\dev\\lib\\site-packages\\pandas\\core\\groupby\\groupby.py:1998\u001b[0m, in \u001b[0;36mGroupBy._cython_agg_general\u001b[1;34m(self, how, alt, numeric_only, min_count, **kwargs)\u001b[0m\n\u001b[0;32m   1995\u001b[0m     result \u001b[38;5;241m=\u001b[39m \u001b[38;5;28mself\u001b[39m\u001b[38;5;241m.\u001b[39m_agg_py_fallback(how, values, ndim\u001b[38;5;241m=\u001b[39mdata\u001b[38;5;241m.\u001b[39mndim, alt\u001b[38;5;241m=\u001b[39malt)\n\u001b[0;32m   1996\u001b[0m     \u001b[38;5;28;01mreturn\u001b[39;00m result\n\u001b[1;32m-> 1998\u001b[0m new_mgr \u001b[38;5;241m=\u001b[39m \u001b[43mdata\u001b[49m\u001b[38;5;241;43m.\u001b[39;49m\u001b[43mgrouped_reduce\u001b[49m\u001b[43m(\u001b[49m\u001b[43marray_func\u001b[49m\u001b[43m)\u001b[49m\n\u001b[0;32m   1999\u001b[0m res \u001b[38;5;241m=\u001b[39m \u001b[38;5;28mself\u001b[39m\u001b[38;5;241m.\u001b[39m_wrap_agged_manager(new_mgr)\n\u001b[0;32m   2000\u001b[0m \u001b[38;5;28;01mif\u001b[39;00m how \u001b[38;5;129;01min\u001b[39;00m [\u001b[38;5;124m\"\u001b[39m\u001b[38;5;124midxmin\u001b[39m\u001b[38;5;124m\"\u001b[39m, \u001b[38;5;124m\"\u001b[39m\u001b[38;5;124midxmax\u001b[39m\u001b[38;5;124m\"\u001b[39m]:\n",
      "File \u001b[1;32m~\\anaconda3\\envs\\dev\\lib\\site-packages\\pandas\\core\\internals\\managers.py:1469\u001b[0m, in \u001b[0;36mBlockManager.grouped_reduce\u001b[1;34m(self, func)\u001b[0m\n\u001b[0;32m   1465\u001b[0m \u001b[38;5;28;01mif\u001b[39;00m blk\u001b[38;5;241m.\u001b[39mis_object:\n\u001b[0;32m   1466\u001b[0m     \u001b[38;5;66;03m# split on object-dtype blocks bc some columns may raise\u001b[39;00m\n\u001b[0;32m   1467\u001b[0m     \u001b[38;5;66;03m#  while others do not.\u001b[39;00m\n\u001b[0;32m   1468\u001b[0m     \u001b[38;5;28;01mfor\u001b[39;00m sb \u001b[38;5;129;01min\u001b[39;00m blk\u001b[38;5;241m.\u001b[39m_split():\n\u001b[1;32m-> 1469\u001b[0m         applied \u001b[38;5;241m=\u001b[39m \u001b[43msb\u001b[49m\u001b[38;5;241;43m.\u001b[39;49m\u001b[43mapply\u001b[49m\u001b[43m(\u001b[49m\u001b[43mfunc\u001b[49m\u001b[43m)\u001b[49m\n\u001b[0;32m   1470\u001b[0m         result_blocks \u001b[38;5;241m=\u001b[39m extend_blocks(applied, result_blocks)\n\u001b[0;32m   1471\u001b[0m \u001b[38;5;28;01melse\u001b[39;00m:\n",
      "File \u001b[1;32m~\\anaconda3\\envs\\dev\\lib\\site-packages\\pandas\\core\\internals\\blocks.py:393\u001b[0m, in \u001b[0;36mBlock.apply\u001b[1;34m(self, func, **kwargs)\u001b[0m\n\u001b[0;32m    387\u001b[0m \u001b[38;5;129m@final\u001b[39m\n\u001b[0;32m    388\u001b[0m \u001b[38;5;28;01mdef\u001b[39;00m \u001b[38;5;21mapply\u001b[39m(\u001b[38;5;28mself\u001b[39m, func, \u001b[38;5;241m*\u001b[39m\u001b[38;5;241m*\u001b[39mkwargs) \u001b[38;5;241m-\u001b[39m\u001b[38;5;241m>\u001b[39m \u001b[38;5;28mlist\u001b[39m[Block]:\n\u001b[0;32m    389\u001b[0m \u001b[38;5;250m    \u001b[39m\u001b[38;5;124;03m\"\"\"\u001b[39;00m\n\u001b[0;32m    390\u001b[0m \u001b[38;5;124;03m    apply the function to my values; return a block if we are not\u001b[39;00m\n\u001b[0;32m    391\u001b[0m \u001b[38;5;124;03m    one\u001b[39;00m\n\u001b[0;32m    392\u001b[0m \u001b[38;5;124;03m    \"\"\"\u001b[39;00m\n\u001b[1;32m--> 393\u001b[0m     result \u001b[38;5;241m=\u001b[39m func(\u001b[38;5;28mself\u001b[39m\u001b[38;5;241m.\u001b[39mvalues, \u001b[38;5;241m*\u001b[39m\u001b[38;5;241m*\u001b[39mkwargs)\n\u001b[0;32m    395\u001b[0m     result \u001b[38;5;241m=\u001b[39m maybe_coerce_values(result)\n\u001b[0;32m    396\u001b[0m     \u001b[38;5;28;01mreturn\u001b[39;00m \u001b[38;5;28mself\u001b[39m\u001b[38;5;241m.\u001b[39m_split_op_result(result)\n",
      "File \u001b[1;32m~\\anaconda3\\envs\\dev\\lib\\site-packages\\pandas\\core\\groupby\\groupby.py:1995\u001b[0m, in \u001b[0;36mGroupBy._cython_agg_general.<locals>.array_func\u001b[1;34m(values)\u001b[0m\n\u001b[0;32m   1992\u001b[0m     \u001b[38;5;28;01mreturn\u001b[39;00m result\n\u001b[0;32m   1994\u001b[0m \u001b[38;5;28;01massert\u001b[39;00m alt \u001b[38;5;129;01mis\u001b[39;00m \u001b[38;5;129;01mnot\u001b[39;00m \u001b[38;5;28;01mNone\u001b[39;00m\n\u001b[1;32m-> 1995\u001b[0m result \u001b[38;5;241m=\u001b[39m \u001b[38;5;28;43mself\u001b[39;49m\u001b[38;5;241;43m.\u001b[39;49m\u001b[43m_agg_py_fallback\u001b[49m\u001b[43m(\u001b[49m\u001b[43mhow\u001b[49m\u001b[43m,\u001b[49m\u001b[43m \u001b[49m\u001b[43mvalues\u001b[49m\u001b[43m,\u001b[49m\u001b[43m \u001b[49m\u001b[43mndim\u001b[49m\u001b[38;5;241;43m=\u001b[39;49m\u001b[43mdata\u001b[49m\u001b[38;5;241;43m.\u001b[39;49m\u001b[43mndim\u001b[49m\u001b[43m,\u001b[49m\u001b[43m \u001b[49m\u001b[43malt\u001b[49m\u001b[38;5;241;43m=\u001b[39;49m\u001b[43malt\u001b[49m\u001b[43m)\u001b[49m\n\u001b[0;32m   1996\u001b[0m \u001b[38;5;28;01mreturn\u001b[39;00m result\n",
      "File \u001b[1;32m~\\anaconda3\\envs\\dev\\lib\\site-packages\\pandas\\core\\groupby\\groupby.py:1946\u001b[0m, in \u001b[0;36mGroupBy._agg_py_fallback\u001b[1;34m(self, how, values, ndim, alt)\u001b[0m\n\u001b[0;32m   1944\u001b[0m     msg \u001b[38;5;241m=\u001b[39m \u001b[38;5;124mf\u001b[39m\u001b[38;5;124m\"\u001b[39m\u001b[38;5;124magg function failed [how->\u001b[39m\u001b[38;5;132;01m{\u001b[39;00mhow\u001b[38;5;132;01m}\u001b[39;00m\u001b[38;5;124m,dtype->\u001b[39m\u001b[38;5;132;01m{\u001b[39;00mser\u001b[38;5;241m.\u001b[39mdtype\u001b[38;5;132;01m}\u001b[39;00m\u001b[38;5;124m]\u001b[39m\u001b[38;5;124m\"\u001b[39m\n\u001b[0;32m   1945\u001b[0m     \u001b[38;5;66;03m# preserve the kind of exception that raised\u001b[39;00m\n\u001b[1;32m-> 1946\u001b[0m     \u001b[38;5;28;01mraise\u001b[39;00m \u001b[38;5;28mtype\u001b[39m(err)(msg) \u001b[38;5;28;01mfrom\u001b[39;00m \u001b[38;5;21;01merr\u001b[39;00m\n\u001b[0;32m   1948\u001b[0m \u001b[38;5;28;01mif\u001b[39;00m ser\u001b[38;5;241m.\u001b[39mdtype \u001b[38;5;241m==\u001b[39m \u001b[38;5;28mobject\u001b[39m:\n\u001b[0;32m   1949\u001b[0m     res_values \u001b[38;5;241m=\u001b[39m res_values\u001b[38;5;241m.\u001b[39mastype(\u001b[38;5;28mobject\u001b[39m, copy\u001b[38;5;241m=\u001b[39m\u001b[38;5;28;01mFalse\u001b[39;00m)\n",
      "\u001b[1;31mTypeError\u001b[0m: agg function failed [how->mean,dtype->object]"
     ]
    }
   ],
   "source": [
    "# Calculate the average test scores per school from school_data_complete\n",
    "per_school_math = school_data_complete.groupby([\"school_name\"]).mean()[\"math_score\"]\n",
    "per_school_reading = school_data_complete.groupby([\"school_name\"]).mean()[\"reading_score\"]\n",
    "\n",
    "per_school_math\n",
    "per_school_reading\n"
   ]
  },
  {
   "cell_type": "markdown",
   "metadata": {},
   "source": [
    "## District Summary"
   ]
  },
  {
   "cell_type": "code",
   "execution_count": 2,
   "metadata": {},
   "outputs": [
    {
     "data": {
      "text/plain": [
       "15"
      ]
     },
     "execution_count": 2,
     "metadata": {},
     "output_type": "execute_result"
    }
   ],
   "source": [
    "# Calculate the total number of unique schools\n",
    "school_count = school_data_complete[\"school_name\"].nunique()\n",
    "\n",
    "school_count\n"
   ]
  },
  {
   "cell_type": "code",
   "execution_count": 3,
   "metadata": {},
   "outputs": [
    {
     "data": {
      "text/plain": [
       "39170"
      ]
     },
     "execution_count": 3,
     "metadata": {},
     "output_type": "execute_result"
    }
   ],
   "source": [
    "# Calculate the total number of students\n",
    "student_count = school_data_complete[\"Student ID\"].count()\n",
    "student_count\n"
   ]
  },
  {
   "cell_type": "code",
   "execution_count": 4,
   "metadata": {},
   "outputs": [
    {
     "data": {
      "text/plain": [
       "82932329558"
      ]
     },
     "execution_count": 4,
     "metadata": {},
     "output_type": "execute_result"
    }
   ],
   "source": [
    "# Calculate the total budget\n",
    "total_budget = school_data_complete[\"budget\"].sum()\n",
    "total_budget\n"
   ]
  },
  {
   "cell_type": "code",
   "execution_count": 5,
   "metadata": {},
   "outputs": [
    {
     "data": {
      "text/plain": [
       "78.98537145774827"
      ]
     },
     "execution_count": 5,
     "metadata": {},
     "output_type": "execute_result"
    }
   ],
   "source": [
    "# Calculate the average (mean) math score\n",
    "average_math_score = school_data_complete[\"math_score\"].mean() \n",
    "average_math_score\n"
   ]
  },
  {
   "cell_type": "code",
   "execution_count": 6,
   "metadata": {},
   "outputs": [
    {
     "data": {
      "text/plain": [
       "81.87784018381414"
      ]
     },
     "execution_count": 6,
     "metadata": {},
     "output_type": "execute_result"
    }
   ],
   "source": [
    "# Calculate the average (mean) reading score\n",
    "average_reading_score = school_data_complete[\"reading_score\"].mean()\n",
    "average_reading_score\n"
   ]
  },
  {
   "cell_type": "code",
   "execution_count": 7,
   "metadata": {},
   "outputs": [
    {
     "data": {
      "text/plain": [
       "74.9808526933878"
      ]
     },
     "execution_count": 7,
     "metadata": {},
     "output_type": "execute_result"
    }
   ],
   "source": [
    "# Use the following to calculate the percentage of students who passed math (math scores greather than or equal to 70)\n",
    "passing_math_count = school_data_complete[(school_data_complete[\"math_score\"] >= 70)].count()[\"student_name\"]\n",
    "passing_math_percentage = passing_math_count / float(student_count) * 100\n",
    "passing_math_percentage\n"
   ]
  },
  {
   "cell_type": "code",
   "execution_count": 8,
   "metadata": {},
   "outputs": [
    {
     "data": {
      "text/plain": [
       "85.80546336482001"
      ]
     },
     "execution_count": 8,
     "metadata": {},
     "output_type": "execute_result"
    }
   ],
   "source": [
    "# Calculate the percentage of students who passed reading (hint: look at how the math percentage was calculated)\n",
    "passing_reading_count = school_data_complete[(school_data_complete[\"reading_score\"] >= 70)].count()[\"student_name\"]\n",
    "passing_reading_percentage = passing_reading_count / float(student_count) * 100\n",
    "passing_reading_percentage"
   ]
  },
  {
   "cell_type": "code",
   "execution_count": 9,
   "metadata": {},
   "outputs": [
    {
     "data": {
      "text/plain": [
       "65.17232575950983"
      ]
     },
     "execution_count": 9,
     "metadata": {},
     "output_type": "execute_result"
    }
   ],
   "source": [
    "# Use the following to calculate the percentage of students that passed math and reading\n",
    "passing_math_reading_count = school_data_complete[\n",
    "    (school_data_complete[\"math_score\"] >= 70) & (school_data_complete[\"reading_score\"] >= 70)\n",
    "].count()[\"student_name\"]\n",
    "overall_passing_rate = passing_math_reading_count /  float(student_count) * 100\n",
    "overall_passing_rate\n"
   ]
  },
  {
   "cell_type": "code",
   "execution_count": 10,
   "metadata": {},
   "outputs": [
    {
     "data": {
      "text/html": [
       "<div>\n",
       "<style scoped>\n",
       "    .dataframe tbody tr th:only-of-type {\n",
       "        vertical-align: middle;\n",
       "    }\n",
       "\n",
       "    .dataframe tbody tr th {\n",
       "        vertical-align: top;\n",
       "    }\n",
       "\n",
       "    .dataframe thead th {\n",
       "        text-align: right;\n",
       "    }\n",
       "</style>\n",
       "<table border=\"1\" class=\"dataframe\">\n",
       "  <thead>\n",
       "    <tr style=\"text-align: right;\">\n",
       "      <th></th>\n",
       "      <th>Total Schools</th>\n",
       "      <th>Total Students</th>\n",
       "      <th>Total Budget</th>\n",
       "      <th>Average Math Score</th>\n",
       "      <th>Average Reading Score</th>\n",
       "      <th>% Passing Math</th>\n",
       "      <th>% Passing Reading</th>\n",
       "      <th>% Overall Passing</th>\n",
       "    </tr>\n",
       "  </thead>\n",
       "  <tbody>\n",
       "    <tr>\n",
       "      <th>0</th>\n",
       "      <td>15</td>\n",
       "      <td>39,170</td>\n",
       "      <td>$82,932,329,558.00</td>\n",
       "      <td>78.985371</td>\n",
       "      <td>81.87784</td>\n",
       "      <td>74.980853</td>\n",
       "      <td>85.805463</td>\n",
       "      <td>65.172326</td>\n",
       "    </tr>\n",
       "  </tbody>\n",
       "</table>\n",
       "</div>"
      ],
      "text/plain": [
       "   Total Schools Total Students        Total Budget  Average Math Score  \\\n",
       "0             15         39,170  $82,932,329,558.00           78.985371   \n",
       "\n",
       "   Average Reading Score  % Passing Math  % Passing Reading  % Overall Passing  \n",
       "0               81.87784       74.980853          85.805463          65.172326  "
      ]
     },
     "execution_count": 10,
     "metadata": {},
     "output_type": "execute_result"
    }
   ],
   "source": [
    "# Create a high-level snapshot of the district's key metrics in a DataFrame\n",
    "district_summary = pd.DataFrame({\n",
    "    \"Total Schools\": [school_count],\n",
    "    \"Total Students\": [student_count],\n",
    "    \"Total Budget\": [total_budget],\n",
    "    \"Average Math Score\": [average_math_score],\n",
    "    \"Average Reading Score\": [average_reading_score],\n",
    "    \"% Passing Math\": [passing_math_percentage],\n",
    "    \"% Passing Reading\": [passing_reading_percentage],\n",
    "    \"% Overall Passing\": [overall_passing_rate]\n",
    "})\n",
    "\n",
    "# Formatting\n",
    "district_summary[\"Total Students\"] = district_summary[\"Total Students\"].map(\"{:,}\".format)\n",
    "district_summary[\"Total Budget\"] = district_summary[\"Total Budget\"].map(\"${:,.2f}\".format)\n",
    "\n",
    "# Display the DataFrame\n",
    "district_summary\n"
   ]
  },
  {
   "cell_type": "markdown",
   "metadata": {},
   "source": [
    "## School Summary"
   ]
  },
  {
   "cell_type": "code",
   "execution_count": 11,
   "metadata": {},
   "outputs": [
    {
     "data": {
      "text/plain": [
       "school_name\n",
       "Huang High School        District\n",
       "Figueroa High School     District\n",
       "Shelton High School       Charter\n",
       "Hernandez High School    District\n",
       "Griffin High School       Charter\n",
       "Wilson High School        Charter\n",
       "Cabrera High School       Charter\n",
       "Bailey High School       District\n",
       "Holden High School        Charter\n",
       "Pena High School          Charter\n",
       "Wright High School        Charter\n",
       "Rodriguez High School    District\n",
       "Johnson High School      District\n",
       "Ford High School         District\n",
       "Thomas High School        Charter\n",
       "Name: type, dtype: object"
      ]
     },
     "execution_count": 11,
     "metadata": {},
     "output_type": "execute_result"
    }
   ],
   "source": [
    "# Use the code provided to select the type per school from school_data\n",
    "school_types = school_data.set_index([\"school_name\"])[\"type\"]\n",
    "school_types"
   ]
  },
  {
   "cell_type": "code",
   "execution_count": 12,
   "metadata": {},
   "outputs": [
    {
     "data": {
      "text/plain": [
       "school_name\n",
       "Bailey High School       4976\n",
       "Johnson High School      4761\n",
       "Hernandez High School    4635\n",
       "Rodriguez High School    3999\n",
       "Figueroa High School     2949\n",
       "Huang High School        2917\n",
       "Ford High School         2739\n",
       "Wilson High School       2283\n",
       "Cabrera High School      1858\n",
       "Wright High School       1800\n",
       "Shelton High School      1761\n",
       "Thomas High School       1635\n",
       "Griffin High School      1468\n",
       "Pena High School          962\n",
       "Holden High School        427\n",
       "Name: count, dtype: int64"
      ]
     },
     "execution_count": 12,
     "metadata": {},
     "output_type": "execute_result"
    }
   ],
   "source": [
    "# Calculate the total student count per school from school_data\n",
    "per_school_counts = school_data_complete[\"school_name\"].value_counts()\n",
    "per_school_counts"
   ]
  },
  {
   "cell_type": "code",
   "execution_count": 13,
   "metadata": {},
   "outputs": [
    {
     "data": {
      "text/plain": [
       "school_name\n",
       "Bailey High School       628.0\n",
       "Cabrera High School      582.0\n",
       "Figueroa High School     639.0\n",
       "Ford High School         644.0\n",
       "Griffin High School      625.0\n",
       "Hernandez High School    652.0\n",
       "Holden High School       581.0\n",
       "Huang High School        655.0\n",
       "Johnson High School      650.0\n",
       "Pena High School         609.0\n",
       "Rodriguez High School    637.0\n",
       "Shelton High School      600.0\n",
       "Thomas High School       638.0\n",
       "Wilson High School       578.0\n",
       "Wright High School       583.0\n",
       "dtype: float64"
      ]
     },
     "execution_count": 13,
     "metadata": {},
     "output_type": "execute_result"
    }
   ],
   "source": [
    "# Calculate the total school budget and per capita spending per school from school_data\n",
    "per_school_budget = school_data.set_index([\"school_name\"])[\"budget\"]\n",
    "per_school_capita = per_school_budget / per_school_counts\n",
    "per_school_budget\n",
    "per_school_capita"
   ]
  },
  {
   "cell_type": "code",
   "execution_count": 24,
   "metadata": {},
   "outputs": [
    {
     "name": "stdout",
     "output_type": "stream",
     "text": [
      "Student ID        int64\n",
      "student_name     object\n",
      "gender           object\n",
      "grade            object\n",
      "school_name      object\n",
      "reading_score     int64\n",
      "math_score        int64\n",
      "School ID         int64\n",
      "type             object\n",
      "size              int64\n",
      "budget            int64\n",
      "dtype: object\n",
      "[79 61 60 58 84 94 80 69 87 70 77 67 88 55 75 89 68 73 85 99 65 90 74 76\n",
      " 66 95 93 59 81 56 78 71 72 57 82 62 63 86 98 91 92 97 83 96 64]\n",
      "[66 94 90 67 97 82 96 95 78 64 71 85 88 74 89 91 99 81 92 63 80 73 93 65\n",
      " 76 79 75 77 69 83 72 87 70 84 86 68 98]\n"
     ]
    }
   ],
   "source": [
    "# Inspect the data types and check for non-numeric values in math_score and reading_score columns\n",
    "print(school_data_complete.dtypes)\n",
    "print(school_data_complete[\"math_score\"].unique())\n",
    "print(school_data_complete[\"reading_score\"].unique())\n",
    "# Force conversion to numeric, replace non-convertible values with NaN, and drop those rows\n",
    "school_data_complete[\"math_score\"] = pd.to_numeric(school_data_complete[\"math_score\"], errors='coerce')\n",
    "school_data_complete[\"reading_score\"] = pd.to_numeric(school_data_complete[\"reading_score\"], errors='coerce')\n",
    "\n",
    "# Drop rows with NaN values in math_score or reading_score\n",
    "school_data_complete = school_data_complete.dropna(subset=[\"math_score\", \"reading_score\"])\n"
   ]
  },
  {
   "cell_type": "code",
   "execution_count": 26,
   "metadata": {},
   "outputs": [
    {
     "name": "stdout",
     "output_type": "stream",
     "text": [
      "39155\n"
     ]
    }
   ],
   "source": [
    "# Check for duplicate school names\n",
    "print(school_data_complete[\"school_name\"].duplicated().sum())"
   ]
  },
  {
   "cell_type": "code",
   "execution_count": 37,
   "metadata": {},
   "outputs": [
    {
     "ename": "TypeError",
     "evalue": "agg function failed [how->mean,dtype->object]",
     "output_type": "error",
     "traceback": [
      "\u001b[1;31m---------------------------------------------------------------------------\u001b[0m",
      "\u001b[1;31mTypeError\u001b[0m                                 Traceback (most recent call last)",
      "File \u001b[1;32m~\\anaconda3\\envs\\dev\\lib\\site-packages\\pandas\\core\\groupby\\groupby.py:1942\u001b[0m, in \u001b[0;36mGroupBy._agg_py_fallback\u001b[1;34m(self, how, values, ndim, alt)\u001b[0m\n\u001b[0;32m   1941\u001b[0m \u001b[38;5;28;01mtry\u001b[39;00m:\n\u001b[1;32m-> 1942\u001b[0m     res_values \u001b[38;5;241m=\u001b[39m \u001b[38;5;28;43mself\u001b[39;49m\u001b[38;5;241;43m.\u001b[39;49m\u001b[43m_grouper\u001b[49m\u001b[38;5;241;43m.\u001b[39;49m\u001b[43magg_series\u001b[49m\u001b[43m(\u001b[49m\u001b[43mser\u001b[49m\u001b[43m,\u001b[49m\u001b[43m \u001b[49m\u001b[43malt\u001b[49m\u001b[43m,\u001b[49m\u001b[43m \u001b[49m\u001b[43mpreserve_dtype\u001b[49m\u001b[38;5;241;43m=\u001b[39;49m\u001b[38;5;28;43;01mTrue\u001b[39;49;00m\u001b[43m)\u001b[49m\n\u001b[0;32m   1943\u001b[0m \u001b[38;5;28;01mexcept\u001b[39;00m \u001b[38;5;167;01mException\u001b[39;00m \u001b[38;5;28;01mas\u001b[39;00m err:\n",
      "File \u001b[1;32m~\\anaconda3\\envs\\dev\\lib\\site-packages\\pandas\\core\\groupby\\ops.py:864\u001b[0m, in \u001b[0;36mBaseGrouper.agg_series\u001b[1;34m(self, obj, func, preserve_dtype)\u001b[0m\n\u001b[0;32m    862\u001b[0m     preserve_dtype \u001b[38;5;241m=\u001b[39m \u001b[38;5;28;01mTrue\u001b[39;00m\n\u001b[1;32m--> 864\u001b[0m result \u001b[38;5;241m=\u001b[39m \u001b[38;5;28;43mself\u001b[39;49m\u001b[38;5;241;43m.\u001b[39;49m\u001b[43m_aggregate_series_pure_python\u001b[49m\u001b[43m(\u001b[49m\u001b[43mobj\u001b[49m\u001b[43m,\u001b[49m\u001b[43m \u001b[49m\u001b[43mfunc\u001b[49m\u001b[43m)\u001b[49m\n\u001b[0;32m    866\u001b[0m npvalues \u001b[38;5;241m=\u001b[39m lib\u001b[38;5;241m.\u001b[39mmaybe_convert_objects(result, try_float\u001b[38;5;241m=\u001b[39m\u001b[38;5;28;01mFalse\u001b[39;00m)\n",
      "File \u001b[1;32m~\\anaconda3\\envs\\dev\\lib\\site-packages\\pandas\\core\\groupby\\ops.py:885\u001b[0m, in \u001b[0;36mBaseGrouper._aggregate_series_pure_python\u001b[1;34m(self, obj, func)\u001b[0m\n\u001b[0;32m    884\u001b[0m \u001b[38;5;28;01mfor\u001b[39;00m i, group \u001b[38;5;129;01min\u001b[39;00m \u001b[38;5;28menumerate\u001b[39m(splitter):\n\u001b[1;32m--> 885\u001b[0m     res \u001b[38;5;241m=\u001b[39m \u001b[43mfunc\u001b[49m\u001b[43m(\u001b[49m\u001b[43mgroup\u001b[49m\u001b[43m)\u001b[49m\n\u001b[0;32m    886\u001b[0m     res \u001b[38;5;241m=\u001b[39m extract_result(res)\n",
      "File \u001b[1;32m~\\anaconda3\\envs\\dev\\lib\\site-packages\\pandas\\core\\groupby\\groupby.py:2454\u001b[0m, in \u001b[0;36mGroupBy.mean.<locals>.<lambda>\u001b[1;34m(x)\u001b[0m\n\u001b[0;32m   2451\u001b[0m \u001b[38;5;28;01melse\u001b[39;00m:\n\u001b[0;32m   2452\u001b[0m     result \u001b[38;5;241m=\u001b[39m \u001b[38;5;28mself\u001b[39m\u001b[38;5;241m.\u001b[39m_cython_agg_general(\n\u001b[0;32m   2453\u001b[0m         \u001b[38;5;124m\"\u001b[39m\u001b[38;5;124mmean\u001b[39m\u001b[38;5;124m\"\u001b[39m,\n\u001b[1;32m-> 2454\u001b[0m         alt\u001b[38;5;241m=\u001b[39m\u001b[38;5;28;01mlambda\u001b[39;00m x: \u001b[43mSeries\u001b[49m\u001b[43m(\u001b[49m\u001b[43mx\u001b[49m\u001b[43m,\u001b[49m\u001b[43m \u001b[49m\u001b[43mcopy\u001b[49m\u001b[38;5;241;43m=\u001b[39;49m\u001b[38;5;28;43;01mFalse\u001b[39;49;00m\u001b[43m)\u001b[49m\u001b[38;5;241;43m.\u001b[39;49m\u001b[43mmean\u001b[49m\u001b[43m(\u001b[49m\u001b[43mnumeric_only\u001b[49m\u001b[38;5;241;43m=\u001b[39;49m\u001b[43mnumeric_only\u001b[49m\u001b[43m)\u001b[49m,\n\u001b[0;32m   2455\u001b[0m         numeric_only\u001b[38;5;241m=\u001b[39mnumeric_only,\n\u001b[0;32m   2456\u001b[0m     )\n\u001b[0;32m   2457\u001b[0m     \u001b[38;5;28;01mreturn\u001b[39;00m result\u001b[38;5;241m.\u001b[39m__finalize__(\u001b[38;5;28mself\u001b[39m\u001b[38;5;241m.\u001b[39mobj, method\u001b[38;5;241m=\u001b[39m\u001b[38;5;124m\"\u001b[39m\u001b[38;5;124mgroupby\u001b[39m\u001b[38;5;124m\"\u001b[39m)\n",
      "File \u001b[1;32m~\\anaconda3\\envs\\dev\\lib\\site-packages\\pandas\\core\\series.py:6549\u001b[0m, in \u001b[0;36mSeries.mean\u001b[1;34m(self, axis, skipna, numeric_only, **kwargs)\u001b[0m\n\u001b[0;32m   6541\u001b[0m \u001b[38;5;129m@doc\u001b[39m(make_doc(\u001b[38;5;124m\"\u001b[39m\u001b[38;5;124mmean\u001b[39m\u001b[38;5;124m\"\u001b[39m, ndim\u001b[38;5;241m=\u001b[39m\u001b[38;5;241m1\u001b[39m))\n\u001b[0;32m   6542\u001b[0m \u001b[38;5;28;01mdef\u001b[39;00m \u001b[38;5;21mmean\u001b[39m(\n\u001b[0;32m   6543\u001b[0m     \u001b[38;5;28mself\u001b[39m,\n\u001b[1;32m   (...)\u001b[0m\n\u001b[0;32m   6547\u001b[0m     \u001b[38;5;241m*\u001b[39m\u001b[38;5;241m*\u001b[39mkwargs,\n\u001b[0;32m   6548\u001b[0m ):\n\u001b[1;32m-> 6549\u001b[0m     \u001b[38;5;28;01mreturn\u001b[39;00m NDFrame\u001b[38;5;241m.\u001b[39mmean(\u001b[38;5;28mself\u001b[39m, axis, skipna, numeric_only, \u001b[38;5;241m*\u001b[39m\u001b[38;5;241m*\u001b[39mkwargs)\n",
      "File \u001b[1;32m~\\anaconda3\\envs\\dev\\lib\\site-packages\\pandas\\core\\generic.py:12420\u001b[0m, in \u001b[0;36mNDFrame.mean\u001b[1;34m(self, axis, skipna, numeric_only, **kwargs)\u001b[0m\n\u001b[0;32m  12413\u001b[0m \u001b[38;5;28;01mdef\u001b[39;00m \u001b[38;5;21mmean\u001b[39m(\n\u001b[0;32m  12414\u001b[0m     \u001b[38;5;28mself\u001b[39m,\n\u001b[0;32m  12415\u001b[0m     axis: Axis \u001b[38;5;241m|\u001b[39m \u001b[38;5;28;01mNone\u001b[39;00m \u001b[38;5;241m=\u001b[39m \u001b[38;5;241m0\u001b[39m,\n\u001b[1;32m   (...)\u001b[0m\n\u001b[0;32m  12418\u001b[0m     \u001b[38;5;241m*\u001b[39m\u001b[38;5;241m*\u001b[39mkwargs,\n\u001b[0;32m  12419\u001b[0m ) \u001b[38;5;241m-\u001b[39m\u001b[38;5;241m>\u001b[39m Series \u001b[38;5;241m|\u001b[39m \u001b[38;5;28mfloat\u001b[39m:\n\u001b[1;32m> 12420\u001b[0m     \u001b[38;5;28;01mreturn\u001b[39;00m \u001b[38;5;28mself\u001b[39m\u001b[38;5;241m.\u001b[39m_stat_function(\n\u001b[0;32m  12421\u001b[0m         \u001b[38;5;124m\"\u001b[39m\u001b[38;5;124mmean\u001b[39m\u001b[38;5;124m\"\u001b[39m, nanops\u001b[38;5;241m.\u001b[39mnanmean, axis, skipna, numeric_only, \u001b[38;5;241m*\u001b[39m\u001b[38;5;241m*\u001b[39mkwargs\n\u001b[0;32m  12422\u001b[0m     )\n",
      "File \u001b[1;32m~\\anaconda3\\envs\\dev\\lib\\site-packages\\pandas\\core\\generic.py:12377\u001b[0m, in \u001b[0;36mNDFrame._stat_function\u001b[1;34m(self, name, func, axis, skipna, numeric_only, **kwargs)\u001b[0m\n\u001b[0;32m  12375\u001b[0m validate_bool_kwarg(skipna, \u001b[38;5;124m\"\u001b[39m\u001b[38;5;124mskipna\u001b[39m\u001b[38;5;124m\"\u001b[39m, none_allowed\u001b[38;5;241m=\u001b[39m\u001b[38;5;28;01mFalse\u001b[39;00m)\n\u001b[1;32m> 12377\u001b[0m \u001b[38;5;28;01mreturn\u001b[39;00m \u001b[38;5;28;43mself\u001b[39;49m\u001b[38;5;241;43m.\u001b[39;49m\u001b[43m_reduce\u001b[49m\u001b[43m(\u001b[49m\n\u001b[0;32m  12378\u001b[0m \u001b[43m    \u001b[49m\u001b[43mfunc\u001b[49m\u001b[43m,\u001b[49m\u001b[43m \u001b[49m\u001b[43mname\u001b[49m\u001b[38;5;241;43m=\u001b[39;49m\u001b[43mname\u001b[49m\u001b[43m,\u001b[49m\u001b[43m \u001b[49m\u001b[43maxis\u001b[49m\u001b[38;5;241;43m=\u001b[39;49m\u001b[43maxis\u001b[49m\u001b[43m,\u001b[49m\u001b[43m \u001b[49m\u001b[43mskipna\u001b[49m\u001b[38;5;241;43m=\u001b[39;49m\u001b[43mskipna\u001b[49m\u001b[43m,\u001b[49m\u001b[43m \u001b[49m\u001b[43mnumeric_only\u001b[49m\u001b[38;5;241;43m=\u001b[39;49m\u001b[43mnumeric_only\u001b[49m\n\u001b[0;32m  12379\u001b[0m \u001b[43m\u001b[49m\u001b[43m)\u001b[49m\n",
      "File \u001b[1;32m~\\anaconda3\\envs\\dev\\lib\\site-packages\\pandas\\core\\series.py:6457\u001b[0m, in \u001b[0;36mSeries._reduce\u001b[1;34m(self, op, name, axis, skipna, numeric_only, filter_type, **kwds)\u001b[0m\n\u001b[0;32m   6453\u001b[0m     \u001b[38;5;28;01mraise\u001b[39;00m \u001b[38;5;167;01mTypeError\u001b[39;00m(\n\u001b[0;32m   6454\u001b[0m         \u001b[38;5;124mf\u001b[39m\u001b[38;5;124m\"\u001b[39m\u001b[38;5;124mSeries.\u001b[39m\u001b[38;5;132;01m{\u001b[39;00mname\u001b[38;5;132;01m}\u001b[39;00m\u001b[38;5;124m does not allow \u001b[39m\u001b[38;5;132;01m{\u001b[39;00mkwd_name\u001b[38;5;132;01m}\u001b[39;00m\u001b[38;5;124m=\u001b[39m\u001b[38;5;132;01m{\u001b[39;00mnumeric_only\u001b[38;5;132;01m}\u001b[39;00m\u001b[38;5;124m \u001b[39m\u001b[38;5;124m\"\u001b[39m\n\u001b[0;32m   6455\u001b[0m         \u001b[38;5;124m\"\u001b[39m\u001b[38;5;124mwith non-numeric dtypes.\u001b[39m\u001b[38;5;124m\"\u001b[39m\n\u001b[0;32m   6456\u001b[0m     )\n\u001b[1;32m-> 6457\u001b[0m \u001b[38;5;28;01mreturn\u001b[39;00m op(delegate, skipna\u001b[38;5;241m=\u001b[39mskipna, \u001b[38;5;241m*\u001b[39m\u001b[38;5;241m*\u001b[39mkwds)\n",
      "File \u001b[1;32m~\\anaconda3\\envs\\dev\\lib\\site-packages\\pandas\\core\\nanops.py:147\u001b[0m, in \u001b[0;36mbottleneck_switch.__call__.<locals>.f\u001b[1;34m(values, axis, skipna, **kwds)\u001b[0m\n\u001b[0;32m    146\u001b[0m \u001b[38;5;28;01melse\u001b[39;00m:\n\u001b[1;32m--> 147\u001b[0m     result \u001b[38;5;241m=\u001b[39m alt(values, axis\u001b[38;5;241m=\u001b[39maxis, skipna\u001b[38;5;241m=\u001b[39mskipna, \u001b[38;5;241m*\u001b[39m\u001b[38;5;241m*\u001b[39mkwds)\n\u001b[0;32m    149\u001b[0m \u001b[38;5;28;01mreturn\u001b[39;00m result\n",
      "File \u001b[1;32m~\\anaconda3\\envs\\dev\\lib\\site-packages\\pandas\\core\\nanops.py:404\u001b[0m, in \u001b[0;36m_datetimelike_compat.<locals>.new_func\u001b[1;34m(values, axis, skipna, mask, **kwargs)\u001b[0m\n\u001b[0;32m    402\u001b[0m     mask \u001b[38;5;241m=\u001b[39m isna(values)\n\u001b[1;32m--> 404\u001b[0m result \u001b[38;5;241m=\u001b[39m func(values, axis\u001b[38;5;241m=\u001b[39maxis, skipna\u001b[38;5;241m=\u001b[39mskipna, mask\u001b[38;5;241m=\u001b[39mmask, \u001b[38;5;241m*\u001b[39m\u001b[38;5;241m*\u001b[39mkwargs)\n\u001b[0;32m    406\u001b[0m \u001b[38;5;28;01mif\u001b[39;00m datetimelike:\n",
      "File \u001b[1;32m~\\anaconda3\\envs\\dev\\lib\\site-packages\\pandas\\core\\nanops.py:720\u001b[0m, in \u001b[0;36mnanmean\u001b[1;34m(values, axis, skipna, mask)\u001b[0m\n\u001b[0;32m    719\u001b[0m the_sum \u001b[38;5;241m=\u001b[39m values\u001b[38;5;241m.\u001b[39msum(axis, dtype\u001b[38;5;241m=\u001b[39mdtype_sum)\n\u001b[1;32m--> 720\u001b[0m the_sum \u001b[38;5;241m=\u001b[39m \u001b[43m_ensure_numeric\u001b[49m\u001b[43m(\u001b[49m\u001b[43mthe_sum\u001b[49m\u001b[43m)\u001b[49m\n\u001b[0;32m    722\u001b[0m \u001b[38;5;28;01mif\u001b[39;00m axis \u001b[38;5;129;01mis\u001b[39;00m \u001b[38;5;129;01mnot\u001b[39;00m \u001b[38;5;28;01mNone\u001b[39;00m \u001b[38;5;129;01mand\u001b[39;00m \u001b[38;5;28mgetattr\u001b[39m(the_sum, \u001b[38;5;124m\"\u001b[39m\u001b[38;5;124mndim\u001b[39m\u001b[38;5;124m\"\u001b[39m, \u001b[38;5;28;01mFalse\u001b[39;00m):\n",
      "File \u001b[1;32m~\\anaconda3\\envs\\dev\\lib\\site-packages\\pandas\\core\\nanops.py:1701\u001b[0m, in \u001b[0;36m_ensure_numeric\u001b[1;34m(x)\u001b[0m\n\u001b[0;32m   1699\u001b[0m \u001b[38;5;28;01mif\u001b[39;00m \u001b[38;5;28misinstance\u001b[39m(x, \u001b[38;5;28mstr\u001b[39m):\n\u001b[0;32m   1700\u001b[0m     \u001b[38;5;66;03m# GH#44008, GH#36703 avoid casting e.g. strings to numeric\u001b[39;00m\n\u001b[1;32m-> 1701\u001b[0m     \u001b[38;5;28;01mraise\u001b[39;00m \u001b[38;5;167;01mTypeError\u001b[39;00m(\u001b[38;5;124mf\u001b[39m\u001b[38;5;124m\"\u001b[39m\u001b[38;5;124mCould not convert string \u001b[39m\u001b[38;5;124m'\u001b[39m\u001b[38;5;132;01m{\u001b[39;00mx\u001b[38;5;132;01m}\u001b[39;00m\u001b[38;5;124m'\u001b[39m\u001b[38;5;124m to numeric\u001b[39m\u001b[38;5;124m\"\u001b[39m)\n\u001b[0;32m   1702\u001b[0m \u001b[38;5;28;01mtry\u001b[39;00m:\n",
      "\u001b[1;31mTypeError\u001b[0m: Could not convert string 'Blake MartinKathryn KaneRichard HaasFrank MarshCharles Goodman Jr.James BurtonJames RogersWendy FoxLori LambertAaron MoyerAntonio FosterMichael DeanRobin VegaStephanie RobbinsJoseph WebsterDavid HarperMichaela MorganJeffrey ShermanZachary WilliamsDebra OwenDevin PhillipsKenneth JuarezJennifer MartinKatie IngramLaura CastilloJessica ButlerDaniel ThomasAlan HallRobin CastilloAshley BowmanGerald SmithJustin RobertsDavid HernandezMatthew SinghFrancisco HoffmanRichard DuranThomas GarciaJessica RussellBobby KempCaitlin BlakeJeffrey MurphyJeremiah WhiteCraig WestMichael HuynhAndrea CummingsWalter HernandezJohnny RogersJohn LopezElizabeth DavisLisa AguilarCarolyn RobinsonDanielle HarrisStacy CordovaDarren FieldsDaniel GonzalezRobert CruzChristopher BookerKristin JohnsonHayley MoralesKevin MartinMiss Erin Bradley DDSNatalie BennettKellie MatthewsAnna MyersTeresa VasquezTimothy HigginsMichael CaseyCraig HollowayAnthony FordGerald RodriguezJulie DavisCody LeeNicole RoseAnne MccallTrevor RiggsJordan RoseSteven RichardsonDiana CostaCathy ConnerChristopher HooperMichael SimonBarbara JacobsSavannah WallaceSamuel DelacruzDiana SosaSara MartinezMichelle ThomasGabriela HughesKathryn RosarioChristopher LongMr. Michael AllenErik LambertCasey JonesJoseph KellyDebra BrownEmma WatsonJacqueline SheaSara MurphyNatalie GrantCatherine BrownMartin CrawfordCourtney TorresMary MartinPeter MillerTaylor DayDavid CannonRoy HarrisonBarbara HarrisKelly Romero MDValerie MayGerald GrayDonald CraigApril FisherLisa LeeBradley HunterTaylor HortonKevin HuffmanErica GouldAnna Yang MDJohn WilliamsonBruce GarciaCynthia SchultzMichael RussoJohn White DVMJeffrey AndersenKylie MooreAnthony SpencerChristopher ConwayElizabeth FieldsBlake GainesDonald EdwardsMr. James BarnesJoseph AllenLarry PerezElizabeth SharpJason AndersonLinda JensenMr. Carlos WarnerAndrew CastanedaElizabeth SmithAngela WallKim FoleyCarol PetersonChristina MartinezAshley NguyenJames FerrellRobert WilliamsKayla RodriguezGwendolyn FosterJoshua BaldwinDeborah DavisRobert RodriguezDarius WilliamsApril VazquezEbony AlexanderBrian TrevinoThomas CookJoy ShahWilliam RiveraShawn MccartyEdward MurrayDana MitchellHector CrawfordRussell GonzalezJoel HamptonChristina JacksonDavid BirdCameron YangChristopher LawrenceHeidi WrightPhilip LongAndrew TaylorJeffrey RiveraLauren LeeMargaret CantrellAndrea GreenTabitha AdamsAustin JohnstonMichael GomezLinda BuchananDaniel CrossGuy ThomasSteven KingKaren AllenAnthony SmithDesiree GordonJillian GeorgeEric OsbornJesse ToddMalik WhiteScott ClarkJesus RodriguezAngela VelezLinda SinghJennifer FarleyWilliam PerrySarah WilliamsAmanda TaylorAshley GonzalezAnna NelsonParker WardShannon WilsonAmy StephensTerry SantanaHeather ReidLinda HarrisStanley HowardDeborah MeadowsJacob WilsonHeather MaloneTammy MooneyJustin BernardErin BartonJoseph OdonnellBrenda CaldwellNicolas MendozaMarcus KellyMichelle CampbellJames AlexanderCameron DavisMelvin SmithApril StevensAnthony TorresAnita FloresManuel MillerAllison BradshawWayne GuerreroMonique CarterTyler SilvaChristine LeeJay SmithRobert ReyesRichard MacdonaldLinda KimAmber NelsonJerry MartinJonathan TuckerShane HansenEmily MyersChelsea KempAnthony FosterMelanie KellerKaren ThompsonMichael HouseKerri GardnerJordan HawkinsMichael McfarlandRita GordonNicholas OrtizMelissa BowmanKim DeckerJerry BrownWilliam SimpsonAmanda DavisCory BradleyBrandon MedinaShaun ColemanHolly DavisPatricia WilliamsLarry ClineChase VillaDeborah HillDonald HarrisJeremy CharlesKaren MunozCynthia BrowningTyler GonzalezRyan HammondRobert RiversMichael HuffHarry BrownSamuel WoodChristian ValenciaKristen GreenCharles TaylorJacqueline RiveraRichard WallerLaura LindseyMiranda LaraAnthony PittmanMonica WilsonJoshua YoungAaron GonzalezMark AlvarezTimothy LongJustin BarnettJohn KhanPatricia IngramMatthew ThomasAriel HarrisonRyan NormanMargaret SantiagoPatrick WyattWilliam SmithWilliam AdamsRobert RomanDonald PayneHeather GouldJesus JacksonAimee AndersonRyan KimJacqueline SnowJennifer SchroederMelissa ReedApril Calderon MDOlivia CruzMichael WaltersErin HaleBenjamin GonzalezMichael AndersonJulie MortonBrett GarciaJoyce KnightPeggy BautistaChristopher CarterGina BarberSandra HartHeidi AshleyJames HarrisChristian MorenoKimberly PattersonLisa KnightDavid HarrisKari BartonDeborah MaciasLuis StewartCourtney PowersRichard MeyersAndrew SpenceSean WatkinsRobert MitchellNathan JonesWilliam DunlapAdam CruzCurtis HallPeter GonzalezChristy RobbinsLori HoltPatricia TuckerCarl FoxBarbara RobinsonJonathan YoungSteven WongKaren DavisJoanna SantosAshley CarterJohn ParkerAdam HerringSara BowenPatricia MillerJessica CraneJim StevensJordan MclaughlinAlison CaldwellChad FowlerKeith MartinezKenneth RobinsonKatherine WilsonVincent MartinTracey BensonEthan BeltranJeffrey GriffinNatasha EverettErin ParksStephen ThompsonJay KhanRobert AndersonChristopher FergusonDaniel KingWanda JohnsonDanny BanksBenjamin MurrayKristen SmithJohn CarrilloBradley ClaytonMark BrowningLogan BooneChristopher GrimesMrs. Kimberly Key DDSEric Park DDSAaron PearsonBrian MosleyPatricia MarshJennifer AndersonDanielle HoodMatthew CarterRandy GrantJohn SanchezStephanie ThomasLauren BradyLeonard HarrisCathy MercadoJuan YoungRobert GrayZachary WaltonRoberto SmithSheila LewisGloria VegaAlison NunezJennifer StevensPatrick Barker PhDSteven MccoyConnie PattersonAna BurnsMichael Singh Jr.Douglas SharpAlexander DicksonMary EstradaAaron EvansWilliam RamirezRebecca PrattChloe DownsKatherine CaseBrooke CarterNancy AlexanderJeremy MaxwellJames FlemingMakayla GutierrezBlake ButlerSteven JacksonAnna FrankTina JonesDale HernandezNicholas ReedJoshua FloresBianca BoyerWilliam ThompsonBrittany McmillanJanet GrantDeanna RichardsonJonathan LongMichelle PalmerKevin RojasLuis StevensJonathan Smith Jr.Samantha PattersonBrittany BensonAlfred McdowellMichael WrightChloe JohnsonMonique YangDouglas ChapmanMichael BallardTanya RichardsonBryan LynchRenee OconnorEmily PowellLouis WatersAdrian GrayMichelle HarrisMaria StewartWendy WilliamsNathan DominguezErin RamirezKristin KellerAmber FergusonShannon BrownJordan StewartJonathan WeberRay HarrisBrian DunnAdam CabreraJose MorrisonRyan PetersonBruce MendozaLori ZamoraRobert MendozaEmily MartinJamie MillerNathan AtkinsonKelly MartinezDesiree BlakeCassandra TaylorSara CooperRodney WilliamsCynthia EvansEthan RichardsonHunter FieldsCarlos RamirezTina MoranBeth RichardsAllen Morris Jr.Miranda MillerHannah CooperJordan MartinSarah RobertsPatricia HoBreanna MorrisSarah GarrettEmily TurnerAlyssa RodriguezJennifer HuynhSamuel DavenportRichard JohnsonJames HernandezTravis DavisAlyssa RileyKyle YoungMary GreenJoan ReedKevin LynnSara WeaverMegan MillerCarrie MooreSteven JonesWanda BaileyJeff HendersonMatthew WeberChristopher WilliamsRenee RodriguezEric CarsonJeffrey PayneKari CharlesMary CombsDiana CurtisKelly HarmonShannon WeaverPatty NelsonDonna JacksonAndrea JonesSarah JordanDale WhitakerKayla CummingsCatherine SingletonMichelle RamirezBradley LopezJacob JacksonXavier SantanaZachary BradyAnthony StoneKatherine DeanMorgan BaileyShawn BoydJesse DyerGeoffrey HallMatthew StewartWilliam TylerMichael LeachGregory ReynoldsJames CarpenterKristina GutierrezBeverly LeeLisa CamposMatthew LyonsDaniel MurrayMr. Lee RoseDavid MckenzieBrittney HenrySarah HunterMichael VasquezAaron RodriguezTyler DiazDr. Carl JamesWilliam MorrisWayne NewtonAmber GoodmanWilliam FrancisDanielle DyerMichael WagnerRebecca BrownAmanda RogersPatricia JonesVictor MartinDr. Kimberly BenjaminChristopher HerreraMichelle BeckerEdward TurnerMr. Lucas SmithDerek BoltonMr. Jason Grant DDSEthan BlairDawn KnightShelly MitchellJoseph NunezKeith AlvarezStephen PriceAmy KirkRicardo VazquezMelissa BrownJennifer ReynoldsMatthew WrightCourtney RobinsonMatthew HawkinsNicole SmithCaroline TranJuan WhiteLawrence RoweCassandra FowlerRachel DavisSarah HodgeAmber BlevinsAaron ThompsonJennifer MooreLaura MercadoAaron Solis Jr.Adam WalshJoanne ChandlerBenjamin BatesMichelle GrimesThomas MarshallAnna JohnsonDonna TurnerRyan Graham MDTerri MillerKimberly HerringTaylor DominguezLisa HarrisTamara WilliamsMichael RobinsonJoshua GomezNicole WilsonMelissa KellyAmy HarperJeffery BurnsChase RayJo OwensCassandra WilliamsRebecca SantiagoReginald EricksonMadison KlineBryan FischerTracy RodriguezAmanda StevensRobert RaymondYvonne WareJake MilesKaren HortonAmy DennisTimothy WarrenMary WilliamsChristopher MyersBenjamin WebsterJustin Morgan MDCindy MurphyAdrian DiazAndrew LeeAmanda KentDevin HoganAngela HerreraDylan JohnsonJack BerryVictoria LarsenFrank NewmanMegan MooreLisa MyersRenee SmithDonna TurnerHelen AdamsSydney VillarrealJoshua OdonnellKevin SmithKristine KellyMelanie CareyBrandi SmithSamuel ClarkEric SilvaSteven DavisJerry JuarezJohn SimmonsDeborah MooreMrs. Victoria CochranMelissa AndersonTimothy WeberAndrea AdamsDavid VelazquezMarissa BlevinsJason HallJessica FritzDr. Ryan RobertsJoseph HernandezWanda MaddoxGlenda SandersMatthew CooperArthur KochNicholas DanielRobert WhiteheadTamara TaylorDavid RussellSteven CampbellKatie Strickland DDSJerry RichardsJoel PittsKatie EvansEmma Perry MDPeter WilliamsThomas HerreraMr. Daniel Mckinney Jr.Chad SharpSusan ReidCarl PerezMr. Paul FarmerRobert AyalaSarah ClarkCarl OconnorKimberly HarrisLauren TurnerDavid RobinsonRussell DurhamJacob DavisJennifer CarlsonKaren RobinsonLaura HarrisJamie MendozaJorge McdonaldDustin FordStephanie Howard MDAlyssa WilliamsonSamuel KnightErika ThompsonLaurie CollinsDenise DavidPedro LongKyle ButlerDanielle HudsonKaren ProctorTiffany WilsonMark GarciaMichael WatsonJohn JohnsonKristopher NunezVictor ReyesKatie WilcoxJustin WilsonAnthony JonesPaul SchroederKaren GreeneMichael MercerJames SmithChristopher KnightGregory HerringAngela WhiteJay FischerDaniel BarrettDaniel JohnsonTravis ComptonSeth ShafferSteven BallStephanie GilesJamie RodriguezJacob LawrenceStacy CobbChristina MillsDaniel RowlandJonathon WillisAdam RodriguezLaura CarlsonDominique LloydDanielle BarnesDanielle HansenTeresa ContrerasAlicia CastanedaDennis GonzalesJoyce RobertsKaitlin WilsonJon GriffinJoseph ForbesRobert BatesAngela RussellDustin MarquezKyle FowlerSean WellsAmanda ShepherdDeanna CombsMichelle WilsonChristy ScottGeorge PriceMandy Mcconnell DDSDanielle HayesTina BowenDylan EdwardsJonathan ContrerasAnthony YoungEric ChoiLatasha CummingsTami DixonKrystal ReynoldsLisa LangErik BushCarl MartinezMrs. Angelica HallBrandon PopeChristopher RossAmanda RodriguezDonald GrayTanya RyanCrystal HunterMarco WilliamsErica CollinsLinda AdkinsStephen BarkerDavid SmithTravis LoweryJessica BryanBrian LewisAdam HoltRaymond WoodKaren GreenPenny NguyenWanda SpencerLori LeeLori SmithBryan MooreAmanda UnderwoodJaclyn CobbKiara BrewerDavid FloresBob JohnsonVeronica DiazStephanie RobinsonShannon MarshallMichelle EatonHaley DunlapLuis AllenEdwin WatkinsMegan MontgomeryNicholas CollierAndrew McdowellBarbara LarsenMelissa GrantSteven HartmanSharon TaylorCassandra BrownMegan VillaDennis BooneMichael DavisDavid SteeleAlex ConnerDanielle HurleyLisa MillerSandra HubbardDaniel NguyenJames CalhounRyan GreenErin GoodmanJames BurgessMaria RomanHayley HallVeronica GomezAnthony DouglasWilliam SwansonWilliam CrossAndrew WattsMicheal MartinLauren WestJordan EvansJohn BrownDouglas RodriguezCarolyn SteeleChristy GutierrezAllen DiazKaren BrownTonya SaundersErica LeeSarah AnthonyDavid ThomasJasmine GonzalezCrystal EdwardsDaniel AbbottPamela WalkerNicholas SmithJennifer MatthewsMichael SolisBruce HopkinsMichele HansonCathy RamosMackenzie MillerShane GreeneApril MorganChris RobertsKatherine TuckerJustin HillBetty GatesAudrey AdamsJimmy MillerSarah AllenMary ArmstrongChristine TaylorDaniel McclureKathleen LewisJessica BauerChristopher Petty Jr.Stephanie RobertsJennifer GarciaDennis HamptonJames RodgersMatthew RiveraNicholas MarshallIan TerryJacqueline EwingJoshua CantrellJacob ThomasJessica PerezCindy KnightNatalie JohnstonJesse WilliamsMarilyn CervantesTaylor ThompsonRebecca PhillipsJohn FosterFelicia MatthewsAngel LaraBrandi LittleRobert LawrenceKelly BeckerKayla AyersKatherine PhillipsJoshua MorganAlejandro GarnerSierra JohnsonTravis HeathLaura BaileyTaylor CookSherry BeckerAmanda HillMelanie AndersonDaniel CrossMatthew QuinnTodd BradshawChristopher BrownKenneth GarciaMaria BrockAdam PattonEdward MillsJohn BeckerJoshua MorrisBryan CookTimothy ParrishMatthew MezaPatricia RiveraJoyce RamirezKari BarrettChristopher RiveraRobert DixonMelissa MccoyErin JonesDavid RobertsCynthia JohnstonAshley NelsonAmanda JohnsonVanessa MorganJesse HernandezMichelle MooreJames PhamPenny DeckerBobby WilliamsTimothy ConnerDavid BarnesMarie NorrisLindsay CamposMargaret HortonWendy HernandezTimothy MckenzieNancy MendezAngela HowardRonnie BarrettAllen OnealAngel MortonGerald LangJessica HendrixMegan Shaw DDSWilliam HudsonRenee BishopBarbara JimenezDerek SilvaDarlene LeeMichael ValenzuelaAshley PerezEdward MartinKristina CummingsRoger LevyHarold JohnstonKatie LeeDonna ReedJames MorsePaul MooreWanda PhillipsJoshua DorseyElizabeth RamirezLucas JamesGary WellsJoshua WilsonMegan JonesPeter FlemingTheresa ShieldsMark LeeErica BakerSamantha FosterNancy RosalesVirginia BallardShelley PageAaron AtkinsonElizabeth CobbBetty BrownAngel FosterRhonda MillerBianca Huynh MDDaniel PhillipsThomas JohnsonVanessa ScottNicole LopezJoseph McdanielMiss Christina BurnsAdam LambMonica RobersonKathleen GonzalezDouglas RodriguezSarah OrtizRichard JacksonRebecca WilliamsDeanna MendozaCaroline ZimmermanJay ClineEvelyn RiveraStephanie ColeRyan CarlsonAmanda CohenAbigail SmithMelissa Dunn MDDevon NicholsLauren KochKatherine JohnsonWilliam FrenchVictoria WallJoseph LopezCalvin JonesDeborah LeeScott MooreThomas MeyerStacey MillerJared WashingtonFrederick HaleyElizabeth DeleonJames JacksonDavid ReedMelissa SandovalJack CochranChristine RamirezRichard LopezMr. Derek WilsonKristen WarrenMr. Angel JohnsonChad EvansNicole ChenMrs. Nicole DuranDonald MyersNicole JohnsonDenise MarshallMichael HowardStephen ThompsonWendy RiveraTyler BallWilliam PinedaSamuel BrownTracy DanielsRebecca StoutJohn LeonVincent SmithAaron ClarkDerek DiazJohn ColemanTravis WebbDesiree MercadoShane PerezJessica CunninghamJasmine CampbellMason RaymondVincent EllisJohn PaulJoseph McgeeAndrew RobinsonKatelyn DayDavid DeckerCurtis FigueroaAmy BeckerTina GarciaHeather WhiteKenneth HughesKimberly FrazierDavid MaysDonna PierceMichael Garcia Jr.Jessica WeberChristopher BuckBrian ButlerOscar EllisLori OrtizAnthony MercerJoseph HughesApril HallGina PriceJoseph HooperKenneth StewartTimothy BrownStacey BeckHaley PowersWilliam LaneMrs. Bethany Fisher PhDBrian CannonJessica MatthewsBrad TylerMr. Daniel Nguyen DDSChristopher KelleyHeather WeaverSteven FullerWanda Moore MDBecky ShieldsLisa OlsonJuan WallTaylor GambleLoretta DawsonChristian HaleyErica SanfordRebecca WoodwardCharles Short IIRobert FitzgeraldJocelyn EricksonAndrew SimpsonMichael JenkinsChristopher ReidNorma MurphySteven BaileyPamela WilliamsRichard HernandezNancy McclureAntonio RodriguezPaul ClarkeEric ArnoldElizabeth MeyerRachel HernandezKaitlin BarrettAnthony PatelEmily RowlandMarc AndrewsApril GillespieRichard KellyJohn SnyderRoy DeckerKimberly Jacobson PhDJames SingletonMatthew JonesKenneth MartinezJennifer WestMartin WellsCarolyn GeorgeCarolyn GibsonKevin BrowningJoshua AndrewsStephen ZunigaJennifer ConleyChristine IbarraMelissa BrownJoyce AllenMichael PerezNorman BurnsAmanda MaddenJames MarshallJay GrayBrittney BaileyWilliam SimpsonSteven JohnsonTaylor CohenTamara GriffithLisa MahoneyCorey AllenVictoria BrowningAlejandro CarterAllison GardnerEmily CollierBrandy RogersStacy TorresFrank JonesKristine SpencerJacqueline AtkinsonDebbie Brown DVMAmy ShawTaylor MedinaLuke PetersMelissa HickmanScott BurkeJoshua ScottMr. Michael Dyer MDLuis BestChristian KellyDavid WilsonLisa RichardsJeffrey SmithDana CruzAngela FordDouglas GrahamNicholas LewisNathan MontgomeryJustin HenryDebra HortonRobert WeberMolly AndersonEdward GlassKendra BennettMonique MarshallJordan StevensTamara MooreJonathan HarperKevin GutierrezJustin LopezKim StewartAdriana SmithHeather WilliamsJoshua Kim DDSDaniel Fitzpatrick PhDJacob AguilarCarol JohnsonJerry ToddShawn BrownEllen WallerJulie LunaJennifer SanchezJordan Waller MDMr. Jesse BellDiana JohnsonAngela HouseEmily WarrenAlexandra HendricksMario Myers MDCameron GrayMakayla HooperJulie MoralesRicardo McguireTerry Adams DDSJulie ParkerValerie AustinJason JohnsonDavid GreeneLisa JonesMonica SmithEric EdwardsMichael BurnettDiane HerreraAngela LopezMarissa NelsonMichelle WareAndrew BrownDerek MayLaura JonesRebecca JohnsonCrystal MooreDaniel SanchezPaul WoodShawn OwensAllison RayMichael KaufmanTimothy JimenezVictoria CaldwellMiguel JohnsonDouglas HardySergio GrahamKaitlyn ChambersAdam HobbsBradley DavisHannah ShawCarlos YoungSara WilsonLindsay LinJanice RobertsRobert HernandezPhillip WashingtonJoshua WhiteTiffany ReedAlexis MatthewsAndrew ThomasDerek Barker Jr.Heidi HarrisJeremy WoodAndrew JimenezSteven DicksonGary WestJennifer ButlerJohn SmithMrs. Renee GordonMichelle MurrayMark CrawfordTara CaldwellJoshua ButlerJennifer StoneKevin StoneRobert WallaceDavid KirbyTina WalkerJessica NguyenDiana WilliamsMr. Vincent KingJoshua LopezDr. Oscar Lawson MDKevin MaxwellSheila YoungWendy TaylorAmanda ChandlerHeather WatsonAllen OrrAlexander MathewsIsaac PerkinsJorge GarciaStephen NelsonChristian HunterVanessa TravisHeather BarnesLindsey OneillLisa Zimmerman DVMPhillip WattsRobert RossKristen LunaDawn MartinezSavannah RamseyLisa CarneyWilliam SalasHolly MooreAlicia CastroAmanda McguireJason CarterMr. Phillip VaughanNicole BurkeJeffrey GrayAmanda KerrMatthew WrightRyan SmithRebecca WilliamsCharles WebsterDaniel RileyBrett EricksonLisa DorseyHeidi FarrellChristina AyalaTaylor MeyerJames GarciaConnor CobbCrystal BuchananDiana KerrSherri PadillaAdriana GravesJustin PowellChad BoyerKerry KingGlenn PriceVanessa TuckerJason PerezTanya RobinsonHolly DavisTyler HarperJennifer LewisFred OwensJames HolmesKimberly GarrisonRobert GreerAngela GlassJoseph Dyer MDAimee EscobarBrian OlsonChristopher JenkinsBarry HallBarbara VillegasSean WardMargaret LeeDavid DiazBrian MccoyChristina BaldwinElaine DudleyJohn GordonDennis JohnsonRenee MonroeRobert MayoPeter ThompsonTaylor PearsonElizabeth ThompsonTiffany ChristianNancy ThomasKristen MitchellTerry ClarkSamantha MartinBarbara BrownJessica FarmerCynthia BennettElizabeth AndrewsCarlos BrownMiguel MaciasKelly HernandezJeanette SmithJake ThomasTraci HarrisonAlejandra WilliamsonDavid KeithAshley JonesMary GriffinVicki SmithMatthew GrantAnnette RossMargaret BlackMatthew HendersonMichelle MossBarbara DanielCarolyn MillerErica MillerDouglas RyanHeather LamMark MclaughlinJamie GibsonMatthew RiggsElizabeth ColeBryan RamseyBetty IrwinKristen ValenciaKimberly HoffmanVirginia RamirezAndrew OwensMadison OlsonKimberly PattonDr. Austin ColeStephen RobertsFrederick LeeHelen GayCourtney ThompsonGregory EllisDiana ChapmanHolly WoodsKenneth DiazKenneth HartmanBrian WalkerMichael DavisBradley WhiteKatherine RowlandAllison ThompsonRachel LopezCassandra BaldwinJohn LynchPatrick WilliamsJose ButlerAndrew BaileyJohn LoveCarl CamposMrs. Amanda MartinMichael MooreMelissa RoachMarie SextonJohn VaughnAaron WashingtonRebecca ChungJeanette CarlsonGregory GuerreroKimberly CortezDaniel HartJessica SmithChristine HayesMackenzie MasonJoseph GilbertSusan AdamsDavid HarveyJohn Thomas MDChristina ButlerBrian RobinsonNicole ThomasBrittany CookKathy RivasTina SalazarCrystal SimsPamela FieldsJacob VegaJennifer CannonMark TaylorSheila BrownHeidi KellyJeffrey GalvanJoann RodriguezGina VegaRegina ParkerPatricia MaloneTracy ChapmanAnn CampbellSusan EvansSierra Dominguez MDEdward SmithBradley MartinGary JacksonShawn PetersonMonica KingJames ByrdJared KelleyBryan GuerraChristopher WilsonMrs. Katie Weber MDSarah CallahanJulie ElliottSonia AshleyKeith GonzalezJoshua SmithAmy LeeMolly JacobsHeather StokesMartha BestMs. Nancy GreenJose LewisCynthia WolfeWilliam RobertsDavid TaylorYolanda MullinsRebecca HansenCindy JacksonJessica CarneyJoshua SanchezManuel ArellanoRegina GarciaCourtney GibsonScott StevensAaron ProctorLindsey PetersonBrandon DelacruzLuis BrownTheresa SummersKarina LeeMonica BatesPeter RileyDaniel WhiteAshley CarlsonAudrey ReevesChristopher OneillBrenda RomeroJerry LeeJulie MitchellDaniel KleinJessica NicholsonShawn GilmoreKatherine EdwardsElizabeth ShermanWilliam BrewerPhyllis BentonPaul PearsonThomas AndrewsLauren LoganWilliam KingAmanda WalkerAmanda McdanielRebecca WhiteBrianna HarrisPatricia GloverWilliam SerranoMichelle FordJordan VasquezMelissa HoganKevin WilliamsMrs. Pamela GarciaSara SchmidtPatrick BurkeJoy SanchezAmanda CarsonAmanda DavisAmy TorresAngela RojasBailey KingBeth SullivanMarie StoutJodi RobertsonCharles AguirreEmily AllenJason WatsonMadison RichardsDeborah KirkMary GloverDanielle Stanton MDConnie BushThomas ThompsonDebbie BurkeErica ShawAntonio ShepherdPhilip RobinsonJennifer SwansonMiguel SmithNicholas HardyJenna GarciaDaniel LittleJason StephensDarlene ValenciaCharles TorresRebecca LewisStacey FisherAmber HernandezElizabeth Logan DDSRobert HuberCourtney Wall DVMFrank HoffmanTravis JimenezKevin ColemanJennifer StokesBrenda StewartAndrea HallMark BrownJohn BakerKathleen ValdezKarina OconnorJessica WardRebecca GonzalesKimberly MolinaMike McdanielDanny McdonaldJordan SolisMarcia CaseyAlexa BatesRobert JimenezPamela HughesMary GarciaJohn MartinPamela RitterWilliam LindseyAlex ThompsonTimothy ScottDana GuzmanRebecca LivingstonEmily LittleBarbara CarrConnie JohnsonStephen LawrenceTracey OchoaAriana PerezKaren WhiteBridget BurkeJason WhiteBrett PalmerJames CoxBradley NealMichelle PerezBilly TaylorJessica CampbellVeronica FisherPenny EvansMichelle WashingtonRaymond VargasJeffrey GreenAndrew JensenJoseph SandersRhonda MahoneyVanessa ClarkKaren Harris PhDTroy WallerDaniel CastanedaNicole BauerMolly FosterWendy VincentLisa WatersMichael MontgomeryJeffery PerezAlejandro BarnettJoel WilliamsEric HamptonAlexandria FreemanElaine JamesPatricia RogersAnthony WallsMarie BaldwinLeslie SolisBrianna WhiteAlyssa JenningsEvelyn JohnsonJacqueline CarterBeverly DanielsSandy WestMrs. Amanda HerringThomas VillaWilliam RomeroBrandon CollinsTony NelsonLaurie FergusonKelly WileyBethany MeyerChelsea DanielsDustin PetersenJenna PalmerChristopher WilkersonDr. David MillerNancy HallDerek GravesOlivia ScottJulie EdwardsMario MartinezKaren VanceDuane WiseCorey BenjaminPaula HenryNatalie ClarkAdrienne ChavezCharles PerezBrian FordJacob BuchananCourtney SandovalKatherine GainesKyle DeanRichard NguyenTonya WalshNatasha DavisShannon SimonWendy DavisJoshua LoveRyan MaciasMichele GarciaTracy KaiserSteven SheppardMichael AdamsMr. Eric AndersonKirsten RiceMrs. Sheena Bailey DVMJoan CaldwellMelody HahnMaria GreenJoyce MorganNicole WhiteAndrew HerreraBridget GrahamBrian ChangAngie GutierrezTammie FoxAlicia ButlerAmanda AdamsJames BrownAnthony HolmesJacqueline WilliamsJulie BrownScott GibsonAnthony ReevesDiane VargasKathryn JonesEmily MartinStephanie WattsMichele OnealRobert CrawfordMichelle CollinsJeremy HodgeSavannah GonzalezZachary Garrett IIIKendra DavisAbigail CaseyKelly EllisonMargaret GomezDavid JohnsonSharon MonroeKristy PopeThomas Harrison Jr.Tammy LeeAustin LeeJohn WeeksJoel MccarthyJonathan JohnsonMadison BurnsChristopher NormanKelly HughesWendy HillManuel MezaThomas FosterGabriela JohnsonAllen GarciaCynthia MooreTaylor ReedRodney FlemingNathan PrattTina GilbertStephen RobertsonAmanda MartinKathryn EatonMark JacksonRachel HallJohn HernandezKimberly SullivanDawn McfarlandDonna EsparzaTerrance ManningKristy JacksonBenjamin JohnsonJeff ThompsonWilliam SmithArthur HallRuth AnthonyAnthony MercerJonathan HendersonJohn JohnsonCynthia GonzalezJoann PattonErin WilsonDavid MayStephanie SmithTeresa ReeseBarbara WhiteMichael GrimesDenise YoungLaura NobleShane SmithKevin QuinnGary HollandDavid StoneTina EvansClaudia GoodwinGerald RobbinsMegan Bennett DVMSeth GreenJacqueline LivingstonDavid MuellerAmy MooreEmily BeltranJennifer RobertsAmanda MorganMr. Steven HarrisonCarolyn AriasJennifer StoneAmy Mcintosh MDMargaret KimChristina KhanDr. Frank AndersonTracy PerezEthan JonesBecky JonesKathleen RamirezCatherine WilsonSandra DuncanJeffrey RivasJordan CruzWalter GarnerCindy CruzTina RodriguezDavid RiveraBrian SilvaAntonio McdonaldJoseph MurphyMaria GallegosMatthew GibsonJeffrey YoungAntonio HernandezDawn HernandezDale ShawRachel DavisThomas LopezLaura BrightMichael PatelBreanna MercerWesley CraigAmy HornJulie DavisMichelle LutzDavid PayneCourtney SullivanHolly FordRuth ArmstrongJennifer JamesAustin DavisDrew PerezRachael HortonJacob DodsonAshley TorresRyan MaldonadoMichele RodriguezEdward NashHeather McdanielDaniel HaleVickie SnyderShelby CainMadison AdkinsDaniel CherryAmanda FieldsDebbie DavenportMichael WilsonHeather VargasWilliam ParkChristopher PattersonJamie Dawson MDMr. Andrew Mitchell VDr. Travis RichmondElizabeth JosephVernon RossPaul WilliamsRachel LopezMarie HernandezMichael KimKevin BarnettMary WilliamsKristen MccannAnna ReeseJustin WarrenMrs. Amy CainDarren SanchezShannon CruzHannah SullivanNancy KaneSamantha McbrideJeremy GrahamDanielle SweeneyPaul HallJennifer DavisBrett OdonnellCharlotte HowardRodney NicholsonCharles MaciasNathan BrockVictor CoxCassidy MooreHeidi BurnsWilliam SchmidtBrittney HughesRonald HickmanAndrew JonesRichard JohnsonGlenn OsborneAnthony CervantesMallory HowardKendra YangSarah MartinJames TurnerBridget GregoryJohn ThomasThomas LewisSavannah ChavezCourtney VaughnBryan JenkinsNicholas LawrenceJessica HillPhillip BishopHeather GonzalezSusan RichmondLeslie FloydCharlene PetersAndrea BartonJustin GutierrezChristopher MillerMichelle FordErin PhillipsGeorge KaufmanLaura MartinezMatthew ByrdChristine AllenJohn GuerraHeather HallJames SpearsJessica SmithMatthew HoKaren AustinMichael MillerKatrina AdkinsMitchell GreeneAaron Davis Jr.Gene TorresNicole MitchellAaron BaileyDakota GreenStacey McgeePatty RyanLinda GravesAndrea AustinMargaret AndersonAmanda TannerLee JohnsonRichard DeckerTammy ShepardGabriel HallDarren BrooksSarah JonesHeather SmithJames StoneMatthew TaylorMadeline ClarkBarbara McconnellCynthia GreenGavin JohnsonChristopher PhillipsWayne HensleyMegan OlsonCody WilliamsAmy FriedmanTiffany SmithVictor SmithJordan AndersonMichael GreeneMisty HartCindy JoyceAmy ParkerAdam KellerDawn HillCesar ThomasBrianna WolfeKelly ColemanPamela PerkinsHenry LyonsDavid PerezEric KnappJustin WilliamsChristopher HillMallory AndersonJonathan GuzmanEvan HuangChristopher MezaMeredith ThomasJohn ClarkAmanda FrancisKevin TaylorMark McdonaldTodd AndrewsBrian ChristianBrian CastilloCrystal ParkerLuis KingKristine HuntTaylor HenryAnne HansenTina ButlerCody SchaeferCharles KentLinda SanchezChristopher WarrenThomas Burgess MDThomas SmithWesley NormanJoseph HodgesSusan VillaDaniel MillsThomas ThompsonAmanda Hale DVMPhilip JacobsTanya MartinezGregory SchneiderAndrea DavisOlivia GriffinMackenzie PatrickMichael BakerClinton NguyenJoseph LarsonRussell ThompsonPatricia SullivanElizabeth SheltonMegan FlemingSteven WardAmanda HardyRichard BerryDebbie BlackwellLaura JenkinsJordan AndersonLindsay HarrisShawn SmithAmanda IbarraMark ParkerAmanda EdwardsSarah BergMichael WeeksKara PottsDerek Cooke MDJoanna NewtonShawn SmithSusan GutierrezJonathan KrauseShannon HayesDr. Daniel BowmanMichael PetersMatthew KingTammy JohnsonManuel OlsonMark HickmanNancy HillDr. Jonathan PalmerThomas GlennMichael PerryKaitlin PrattLinda HerreraVanessa NavarroJonathan MartinezChristine JohnsonTanya FisherRichard SmithJose EdwardsAmy WheelerAngelica HumphreyKevin CarpenterDebra FranklinAshley JohnsonBrittany CarlsonSamuel PerkinsNicholas MooreErica ThompsonMark SnyderJustin JohnstonMichael KleinBrian ClementsMichael WalkerMichelle CollinsApril RodriguezFelicia WrightAmber ThompsonJessica KirkMelissa BanksAdam PayneClaudia PhamEmily WilliamsLori Mitchell DDSRaymond MaysMr. Richard ArmstrongAmy SmithThomas MayMichele LoveTracy RussellRichard DayChristopher WalkerJennifer HowardPamela KimMelissa PierceAshley SmithRobert MorenoRebecca WalkerJennifer MackDr. Timothy JohnsonRobert HillKirsten ClarkNancy EnglishJames SmithFrank DiazNicole PettyClinton WallaceMiranda PetersonTina HillEvan WarrenSamantha BensonAnne GreenJasmine RussellJames EvansBenjamin DavisKayla AlexanderZachary SchultzTony HuntMrs. Pam Lewis DVMKelsey HarrisRobert MitchellKelly HopkinsMisty JacobsAmanda ReidAmanda GrahamAlexander FreemanAmy Gutierrez DDSDawn RamirezDalton MurphyKenneth WardMelody ScottThomas TaylorThomas DavisAshley BarryElizabeth WoodMichael ColemanAngela WilkinsZachary FerrellJessica VasquezTodd SimmonsSpencer ThomasAngel MartinDr. Christina FloresDavid LunaJoann KaneLeonard CoxAnthony ClementsJohnny JohnsonPeter TuckerBrian Bailey Jr.Andrew ButlerLarry McguireKaren HansonElizabeth CastilloCynthia NelsonPeter MillerDevon HartJorge MontoyaErica JohnsonAaron GarciaAngela DaltonPatrick WhitneyRyan MooreMargaret QuinnAmber MooreNicole HensleyTammy LopezAshley HayesMatthew AguilarDenise CarterDwayne MillerJared BrownAmber VillanuevaLisa CarterJacqueline FrancoAmy CohenCarlos CoxGlenda CoxMichael LeeBryan AndersonStephanie AriasLauren CameronJeffrey PriceJenna GreerCameron CordovaChristina BerryRoger HarrisSamantha LopezDaniel HarveyJeffrey WilsonTina CarterMichael ArmstrongPamela ManningHayley AllenCraig SchultzKerry TaylorJeremy PayneAlexander WrightRachel DayNathan ArroyoChris HartmanTanner RodriguezJeffrey HopkinsRussell BanksJoshua RamirezAshley KellyJay KirkJacqueline RayLisa AndersonKristi KingAlicia SchwartzNicole TaylorAmber CoxJason DavisJames DelgadoAnna CamachoAnna MendozaJeffery FrancisBruce MorenoAmber RhodesNathan DayBrent VillaSteven StricklandTeresa PotterCarla WilsonJessica WrightNathaniel PhillipsPamela JonesWilliam BlackAshley TerryKimberly BerryJeffery PowellDaniel SandersMichael GarnerMaria WilliamsTracy BeckDylan JohnsonNathan CannonBrenda RayPenny MurrayChelsea LewisCrystal HernandezAdam KellerNicholas RamosTracy LewisAlexander PerkinsMichael MunozEdward SchmidtRyan ThompsonJennifer WashingtonNicole FarmerCrystal BuchananAudrey WellsJavier BarnettAudrey MartinBarbara WoodDenise EstradaAndrea ThompsonJason CoxRoger TuckerMrs. Carla HumphreySarah RobinsonRebecca JordanDiana ChaseWilliam Burch MDHeidi MartinJanet ChanJennifer GarciaKara DiazJeffrey RobbinsTheresa NicholsMatthew RayElizabeth SandersVeronica JohnsonDevon WhiteHelen MooreJames LeeMichelle HesterAmy HansenBrent HodgesMelissa BondDiana ShepardJacqueline GarciaJoshua BrownWillie TurnerMadison PowellJessica JacksonKent ShermanStephen DunlapEddie AlvarezJoshua VaughnYvonne Robinson PhDJennifer RamosMelissa LutzTracy MorrisonCrystal JohnsonApril TrujilloTyler LawrenceMelissa JohnsonLisa SanchezAlexander DickersonChris GreenDiana LaneJon ValdezAaron CruzMelissa DavisDeborah NelsonDavid HutchinsonKaitlin PriceAndre SimpsonVictoria StoutKevin GoodwinAaron QuinnChristine MillerAbigail PerezBrian SmithAlicia WrightAnnette WashingtonBrian HoweDonna RoseAndrew WintersChristine AndersonZachary DanielJessica HartChris McmillanDaniel PittsErin HickmanDonald MaloneEric SpencerPatricia RussellLauren KlineGregory AllisonLaura HenrySamantha MoodySarah KimJose ParkerMichael SmithJerry PotterEvan LucasThomas JohnsonAngela SmallAlexandra WilsonMathew WileyVanessa StevensonKathleen BeltranMelissa GonzalezMartha Mcdonald DVMKevin JohnsonDr. Mary SchwartzAnthony MeadowsKari GomezMichael MillerWilliam DavisMelissa DavisJose SchroederErnest PowellJorge KennedyMisty SimmonsBianca ParkTaylor Green DDSKevin HarrisSophia MasseyDavid FergusonBrenda MorseJason HernandezCharles LangMariah HoltBrent HallRussell PetersNancy MartinStacey ThompsonAndrew RyanScott AndersonAllen ZamoraLauren MillerMallory ChenChristopher Simmons PhDErika BurchChad BullockRobert MorrowSteven HendersonJimmy StevensAustin ChavezThomas WigginsRuth WalkerChristopher SmithJustin WilsonLisa MurrayJeremy WattsCarol DiazJustin ChenJeffrey ShannonDavid MartinezKaitlyn HansenCrystal PetersJulie HernandezRenee BuckleyMatthew NelsonShannon PriceDouglas WilsonJohn JohnsonMatthew MartinSarah VelazquezLisa MccallRonald GibbsLouis CannonValerie CurtisRebekah PearsonTiffany LivingstonBarbara WhiteheadGary PhillipsJacob KelleyJackie KirkJoshua AlexanderJerome RussellAngela CainRebecca JohnsonAnne SchmidtRhonda Peterson MDAngel MayerStephanie WeberDeborah AndersonMakayla HarrisJacqueline West DDSJames LevyAnna MarshallPatrick TurnerTami ChambersBrandon MooreDavid SloanAnita ZunigaLeonard GonzalesAnne Lee DDSDavid ChapmanChristopher KhanKimberly MillsChad EdwardsVirginia AndersonBeverly BauerRuben SheaJessica NguyenMelinda BondSpencer EvansIsaac KochBrent CarterErica MillerKristen PowellJackie OrtizMichael ReedAmy ShahMelissa LewisTodd GuzmanDaniel EvansAmanda SchaeferSteven WatsonGregory FosterBrandy LynchSteven WebbJacqueline Snow MDJason PayneHannah ParkerKaren PettyKaren ShawArthur YoungMarcus RushAngela StewartJorge HoNancy ParkDr. Jennifer SheaDaniel NelsonSheryl MillerErica DavisChristopher CantuCynthia DyerJonathan HaleDiana RussellErin BowersBrian MccoyAnthony HernandezBrendan MendezBrittany AdamsKyle DavidEthan SampsonEduardo SantiagoDana HaynesClayton Williams DVMRobert RoblesNatalie WhitakerNoah BooneAndrew WilliamsJonathan GayKerry FitzgeraldStephanie JonesRonald SosaFrances WhiteMeghan AdamsAmy FisherJordan GarnerTimothy WalkerStephen FitzgeraldLinda FisherNatasha BlairRichard JohnsonAaron CookJessica NortonAmy SanchezLaura ScottTimothy WaltersEthan StephensAmanda AguilarDiane FisherDenise HuangRebecca BlackKimberly WebbAmy BairdCarol StuartKendra ShannonMegan DavisRobert PayneRobert BentleyLisa ColemanBrandon SanchezMr. Jeremiah Morris IVAntonio OsborneDavid RamosMolly BrownAmanda SloanTammy ColemanEric WilliamsMaria AvilaEmma VasquezLori BarryBrandon MillerSherry MuellerScott WattsCasey MccartyDennis ButlerTara SnyderToni RobertsSandra HannaBrooke PierceAndre HarrisonMelissa CoxHarold DodsonFrank ParkerSherry GomezAaron CarterAlan ScottJennifer CannonAnthony RandolphSarah PittmanSamuel AvilaJaclyn BrownIan HartMr. John HarrisKristy SalinasLindsay NicholsonLisa MartinezCindy OwensJoshua CopelandStephanie JonesStacy BrownJeff SmithKevin ThompsonAudrey NguyenMichelle CallahanJustin OwenJose SmithKatherine BonillaKimberly MooreRebecca LopezMelissa FordAshley LewisMark JacksonCynthia ComptonStephanie WilliamsMelissa SchultzLance DennisPatrick GarciaBeth HernandezMarcus DavisSteven CalhounMiranda RamirezJohn BallJohnny MooreChristopher BradleyGlen MccormickZachary WilliamsStacey RodriguezLisa BrownKimberly JacksonVanessa YoungJermaine GreenPatricia SellersNancy BallGeorge MartinMonica WilsonKristen WilliamsonThomas AndersonMr. David Morales Jr.Samantha HoffmanScott CarpenterKayla RossGina TurnerMichael PayneJames HancockDavid HansonThomas HallBarbara Johnson MDJacqueline ThomasDanielle GonzalezBrian CollinsMegan Gutierrez MDConnie SanchezRandy HornLori NunezShannon WrightCharles IngramMichael WilliamsTimothy GravesPaige RiosMelissa AndersonAnthony BrownJennifer AndersonAnna RodriguezRobert MannAmanda KaneJoseph JonesRichard ThomasThomas FritzMargaret MasseyMatthew ChristensenSylvia HawkinsCalvin JenkinsDavid BauerDebra JacksonJacqueline MartinErik DunlapJennifer ShepardTheodore PatelMeghan HarperKeith ReedDaniel VaughnJennifer PinedaWilliam HinesJason SmithStephanie WhiteZachary GibsonJustin SilvaRobin OdomAnna KochJeffrey TaylorJohn WhiteKaren FischerKelly RobertsTodd DavisSusan SchwartzLarry Chandler Jr.Robert RosalesAndrew MurrayErica MitchellVeronica PotterHaley CampbellMichael JenkinsRonald Matthews PhDNicole KnightDanielle HaleRobert VelezRobert FosterChristina TapiaMegan SimsJonathan BauerJeffrey WebsterNicholas FordMichael ConleyJoshua ReyesAshley WeissRichard BrownErika JohnsonJesus GordonMichaela SmithTerry DavisKathy JacksonChristian JonesLaura RhodesKari JacksonJoseph HansenAshley WilliamsRandy MorenoKevin LarsonDaniel GordonMichael DavisJuan LopezKaitlyn NicholsonAnna HaynesStacy JamesDon MurrayBradley WhiteJohn GarzaJoseph MorrisJoseph MartinezSteven WhiteCharles ShannonDavid SalazarJoel BakerDaniel WrightDwayne DavisJames Clark IIRebecca MolinaAmanda AlexanderBetty EricksonJill CalhounCameron Roman Jr.Joel GarciaKelly PierceDavid HowardMichael EdwardsMadison HoffmanSergio McfarlandKatrina SmallMichelle MichaelBrian WrightJeffrey ChavezChristopher RobinsonAudrey ClarkJacob HowardDerek AndersonAmanda GalvanAmanda LoganMichael LevineRonald PooleJohn WallaceHannah BakerLinda WolfeLee JonesTerri ValdezMelanie PaulSarah AllenGina AguilarMelissa SullivanBrian MackRoberta SandersJeffery ToddAmy FloresKristin GreeneCheryl BrownDebra GreenTamara PottsJacqueline VargasJeremy McguireDaniel BurtonTyler LambertSteven ChapmanKatelyn WalkerDavid HarperJulie AllisonJessica ChapmanCarolyn CookMadison LiKelli HouseRebecca BrennanPhillip AdamsMike AllenAngela CostaAnna EatonSandra MartinSarah HowellPaul SilvaBrianna MosleyKarina CalderonBecky HallMonique SharpFelicia CampbellBrittany CunninghamLori MitchellDaniel HernandezBenjamin RichardsonKelli WilliamsAngela HendersonElizabeth DixonNancy WheelerJohn JosephDarlene RichStuart ReedMichael WatsonJennifer LevineJared SandersTammy OconnorLarry HurstLisa GarciaPhilip ArnoldChad GarciaSandra JonesJared StrongElizabeth AustinCrystal GonzalesScott ChanJennifer JonesChristopher BakerStephanie SmithTara KimMr. Ian SmithRhonda AriasKimberly PadillaMatthew BakerApril WilliamsPaul MckayLawrence JohnsonScott MartinezTimothy TaylorPamela GrantPeter JonesMelissa HuffJessica SteeleChristopher RamirezJose ThorntonTonya CortezNicolas JohnsonStephanie RhodesAmy SmithSarah MillerJennifer StricklandDenise VazquezStefanie LopezMichael GonzalezHannah ScottJeffrey WhiteScott CortezChristopher CarrollWilliam RodriguezJacob AndersonWyatt HarrisJacob CarlsonJason PerryVictoria HayesJustin CunninghamBobby BullockWilliam ReidBrianna MendozaJoshua FoxJulie GambleJames PerkinsKatherine BenjaminLuke DunlapChristine SanfordWilliam CastilloRobert SheltonDavid RodriguezRobert LaneJennifer ThomasSarah SnyderMichael WardDana ChavezAndrew SmithRachel GonzalezJose HansenMelissa Hunt MDPatrick BullockFrank RiveraAlexandria Cooper MDJames JonesMr. Andre JensenRobert FosterLeah BishopBrian GuzmanAudrey FieldsRenee Garcia MDEric RodriguezAngela WallJoseph HopkinsLauren JacksonBrandon JenkinsJose GoldenBobby YangKathleen MilesDavid BeardRicardo CooperKaren HolderChase VazquezWilliam OrtizAndrew RichardsonGabriela HurstNicholas BryantSean OrtegaCynthia McleanThomas MillerErin PerezSteven LambMichelle CruzNicole RodriguezMelissa FordKelsey SmithBradley SnyderHeidi MasonLaura JohnsonAmanda MooreRobert AndersonKristina HunterRonald CooperJustin ThomasMichael RobbinsKarl BellSamantha ScottChristopher Smith Jr.Joseph WareKelsey GouldMaria DavisJacob JohnsonStephanie DavisBenjamin FreyKathy MasonRebecca CollinsJenny CarrHeather BurkeKenneth WatkinsMrs. Lori Rogers MDMelissa SchmidtTammy Dunlap DVMFrank BlackwellMichele TorresDana BuckRobert HowardCarol ShawJason FergusonBrian ClarkKaren BrandtWilliam DurhamShannon JacksonElizabeth AllenPatricia HoustonJason PearsonMonica OliverNicole HaynesCraig MorganScott BlackEvan WilsonAngela FitzgeraldJames SullivanKenneth OlsonKristina CraigDavid BrownDavid RangelLuke MoodyPamela ParsonsSeth GreenRoberto EscobarFrances PhillipsMichael SmithRichard HammondJustin SchneiderSarah PadillaAshley GardnerCourtney LutzAlbert SheaJennifer McguireCharles SmithJenna BartonJeffrey SinghJoseph RamosRachel JohnsonJoseph PopeJanet GlennSteven ObrienChelsea RamosEmily WardCourtney WardHeidi CohenMatthew Sawyer PhDMarilyn ColeJoseph MorganCarolyn MasonLori GainesJohn JohnsonPamela MartinBenjamin LeeJeffrey BarnesJustin MasseyRachel KeyVictoria BakerClaudia WoodScott HughesBrandon MendozaLinda FischerThomas MccoyDavid ChapmanJasmine FloresMichael FernandezCassandra HaasCrystal SpenceLindsey WatkinsTravis MitchellKatherine RodriguezMatthew BrownKatie HamiltonTina HowardSheila ClarkAnn BishopKathryn HannaDavid GomezCarl BakerDiana PhelpsKari HuangBarry GarciaSara WellsTanya TurnerColleen GibsonJordan PetersonFrederick RochaMegan PowellRicardo WilliamsKathryn YoungDonna CollinsVirginia GonzalesRhonda BeckElizabeth HughesDebra GrayDonna JohnsonBrittany HodgesKimberly RamirezSherry GutierrezStacy OrtegaJohn GrantMelvin WoodsTammy RussellBenjamin RoweWendy MyersApril MillerAnthony HayesWilliam JordanChelsey VillanuevaLisa BakerMaria CastroRose JacksonAlexandra MccarthyKevin StricklandJohn SmithDiane TerryAmber LeonRhonda GarciaJon MatthewsAngel BuchananElizabeth AllenKristen HartmanStephen HoodSarah ValenciaAnn CarterLynn RivasJeremy WrightBrandy WestPamela GrayCarmen ThomasJessica EllisThomas LarsonJuan AshleyAustin WilliamsDaniel WattsSonya ShawMaria SilvaPatricia SmithPaula ClineKyle BoydLarry WhiteSarah BuckMatthew SmithTiffany CookKathryn CoxSophia WhiteKelly LynchTyler HuangAlexis DonovanKaren PrestonAmy WolfEric WilsonTasha ButlerTara FloresBrian HernandezJulia HarrisMary HunterRobert PerezDavid LopezCheryl TaylorAdrian GonzalezJared HarrellChristopher ThompsonDaniel PerezGary ZamoraEmily TaylorAlicia AlvarezCollin ThomasJulia GeorgeTravis ReyesElizabeth EatonChristina RileyChristopher ShermanAmy BooneStefanie JacksonDestiny JacobsonRachel HannaPeter SmithBrittney RandallKristen DuncanAngela PalmerJames JensenMatthew ArmstrongCynthia JohnsonDale BartlettMike Harris PhDMonica BerryGeorge HansonJoshua HarrisMike HoganAnthony LeblancBrian WaltersJonathan MckenzieAlicia TownsendAlyssa HayesMrs. Christina Mitchell DDSKatherine BrownSusan MooreDavid JohnsonJordan BrownShelby LynchBenjamin PerkinsChristopher ToddKim TerrellElizabeth BrownColton KelleyMelanie KentMichelle BlackwellChristina BarnettElizabeth VargasTaylor BarnettNathan RomanTina WilsonAngela JonesAngela LopezHeather BarnesBrian ThomasLuis PerezDouglas HawkinsAnne WatersIan GallagherJeffrey GarrisonApril PowersConnor MorseTeresa WilliamsSteven LuceroJustin MillerLisa HendersonDavid KingJill BakerJason ParkerJennifer EdwardsChristopher EdwardsEvelyn Suarez DDSValerie HillAmanda MartinezMatthew MartinCarl CooperLori BakerMichael WhiteJessica MitchellKathleen OwenDawn NguyenJoseph GeorgeMark SmithRonnie RoblesChristina Alvarez PhDCharles HarveyMatthew SilvaCandace FrankJohn HaynesNicole BradfordJulia MillerGabriel DunnAlan LeeJennifer ScottTiffany AndersonKatelyn WeberNicholas YoungDanielle BrewerHelen JohnsonJohn RobinsonBradley DavisAlexander RoyEric SotoWillie YoungCharles LeeWilliam WigginsJoanne ManningDustin GarciaAshley RayDebra EvansEmily Duran MDDavid RodriguezRandall MyersTravis LopezElizabeth GonzalezLarry WilliamsBrian HoldenJeremy RodriguezOlivia HawkinsTodd Grant Jr.Reginald AlvaradoMichael NelsonMichele GrayBrian ArmstrongMark BryantDesiree ClarkBrandon TannerLinda JensenSheryl CurtisDaniel AndradeMrs. Veronica ShermanAndrew FarmerApril MillerSharon NelsonJulia ChristianDanielle MooreMonica CookKelsey DillonMichael HoldenMichael StoneThomas MartinezTerry FuentesRebekah HallTammy WardMichael WrightChristina MartinOlivia RiceKristen NealMatthew WhitakerLori FosterMr. Alan AndersonRobert OconnorJohn GallegosRobert BurchMichelle WagnerJeffrey RobinsonTimothy BrayWilliam SimonClaire LoweryMaria AllisonJennifer YoungPamela MannRachel StephensonMadison MillerSonya JuarezCharles AveryTeresa GriffinCassandra KelleyJohnny BanksMichael MartinezChristopher MaynardElizabeth LewisJames SanchezMorgan BarnettTheresa SmithTracy VazquezScott ProctorGary JacobsMr. Jason JacksonAustin LongJanet JohnsonJessica MoranLaura ChapmanDerrick JohnsonMargaret BatesRobert FernandezCharles HicksScott CooperJamie GreenMeredith MckeeTracy DuranKathryn StanleyDaniel ClarkJohn PatelScott MeyersJulia SimmonsValerie ClarkMrs. Jennifer RiveraAmy ThomasRichard PooleStephanie GarnerAmy RushCheryl HernandezMichael SmithStacey ContrerasCheryl OsborneJoseph GuzmanSierra KentJose BennettNathaniel JohnsonJoshua MeyersTracy NguyenRandy LewisMichelle DavisDavid AdamsJonathan YoungJoy PerezAngel JacksonTodd AdamsSheri FletcherMatthew BridgesBenjamin MeyerMichael KennedyJuan BurkeMatthew WatkinsAlex CareyDr. Terry SanchezKathleen ColeJeffrey RomanJennifer MillerThomas RasmussenCameron MillerLisa PinedaJennifer MurrayRobert GoodmanMr. Scott SextonTamara HollandKelly StewartKristopher MurphyRobert WagnerColleen MartinezMichael HowellSusan ParsonsJordan ChristensenMeagan WhitneyChristopher DavisYvette HarringtonChristine ElliottRhonda LynchDebbie GrayMichelle BrandtWilliam WrightBailey PriceDonna LopezTara MarshDaniel LeeKeith AndersonJasmine RileyMelissa TorresPamela HunterAdriana SnyderKevin FlowersDouglas WilliamsDavid ZhangMelanie MillsAllison JohnsonDebra HowardSavannah PowellDavid BoydJustin MartinezKenneth GardnerMelissa ChavezStephanie HartTaylor RiggsJerry WigginsAllen GarrisonDarius AtkinsonTimothy JacksonJeffrey DelacruzDaniel GallagherElizabeth HigginsCandace OrtizScott CohenTiffany PerryDustin ChandlerRobert SchmidtChristina AdamsAlison SmithCatherine HortonBetty GallowaySara BushDavid RyanJames BeltranRaven LawsonAndrew TaylorMichael BatesAndrea SteinHunter FitzpatrickSarah KirkChristopher WestAndres JonesKristina GarzaErica AndrewsDanny MayerJeremy NavarroJake RobersonZachary ChavezMaria FitzpatrickSandra SmithAmanda RobinsonDiana MoranAlexander WrightMrs. Wendy HayesKenneth Santiago MDAnthony JenkinsAmy ArmstrongTeresa LeonardJonathan AdamsWalter ClarkDonna CoxDr. Matthew HernandezDouglas HamiltonCheryl MccormickEllen KellyRobert CarterIan WilliamsJose MartinezDavid SimsJennifer JonesMeredith GarciaJohn WallsAdam StevensonJacqueline BraunChristian MartinTroy ScottNathaniel AdkinsTeresa MolinaMichael LevineElizabeth KellyDerrick BrownAshley CalderonJennifer GarciaChristopher LambLouis Hodges DDSRonald MartinezMonica CochranJeffery WatsonDr. Douglas DuffyGina CurtisJason LoganThomas FreemanJustin MillerJustin JohnsonHarry SnowThomas TuckerAmanda ColeMrs. Michelle PattersonJustin LeeSamantha CooperChristopher SmithCathy AlexanderDawn AdamsJustin FinleyLauren KaneJacob LoganDiane BradfordKenneth LeeJeanette YoungEmily ThompsonNicole BauerLarry MonroeMelissa WilsonNina ShahLeslie WilliamsSandra OliverRobert RobinsonVirginia PopeBradley MurphyMrs. Jennifer CraigTeresa LambLawrence HintonKyle CollinsKyle DavisMarie AndrewsNina ThomasMark MezaJason FranklinAlexis AdamsGary FloresBrittany GillespieAmanda RileyMr. Michael GrahamSusan BakerDaniel OlsonElizabeth WalkerLisa MitchellAndrew HerreraHoward JohnsonMichelle FoxJessica FloresAdrienne HowardJames KingMike HillErika LoganJulia HowellAmanda WebbShannon GutierrezSavannah WillisAndrew RichardsonTristan StuartJudy FordDr. David WrightMichael FisherRichard GilbertRussell YoungSamantha HughesSuzanne TorresWilliam BradleyElizabeth ParkDebbie WagnerAnthony SmithVanessa LarsenMelvin HoltAmber RiosHerbert BellDeborah McdonaldDonald ReevesTimothy CarrNicole PetersonGregory HenrySuzanne UnderwoodKevin CoffeyJeff EstesTiffany ReynoldsJordan WardChristina RobersonAndrew PowersDavid WilsonCody ColeJeanne Fischer MDWilliam HinesCharles KingDebra RyanJason SullivanJennifer JenningsJames ThomasEric PetersKaren WadeCheryl ThomasMrs. Amanda RoseJohn WilsonRobert HinesElizabeth BowersDavid BookerCarolyn JohnsonBlake LopezKristina BoothRebecca EricksonKimberly CollinsChristopher HornNicole GarciaMatthew RiceJonathan SmithVeronica McmillanVirginia PetersTeresa PerezMatthew McdonaldCassidy EatonMichael MyersBradley BrownJason HuntMary LeeRichard LevineBryan SchmidtPatricia MonroeBreanna HorneSusan LopezKimberly CooperMargaret DeanMichael LanePatricia PerrySusan SandersKendra SmithJohnny SchneiderLauren FitzgeraldJessica SmithRebecca DavisAmber ArnoldElizabeth PerezAlan BurnettRyan CookeJoseph JamesEllen DavisBobby NobleChelsea TaylorCatherine HarrisBrent ReevesJohnny JohnsonValerie ObrienCynthia MossRebecca Salazar DDSChristopher NelsonDiana PonceMichele ClarkAlexander CarsonTheresa MillerJonathan ParkNicole OwensJames YoungBrian DicksonAnthony MackAriel ChambersJamie WalkerKenneth RaymondElizabeth WelchRay HoffmanMrs. Kathleen CookSheila GreenMary GarzaJessica SmithAntonio OconnorRobert DiazMichael CordovaMarie StanleyAmanda SolomonRobert Olson DVMPatricia CohenCourtney PenaKara SmithSamuel RichardsonMartin PhillipsScott BrewerLinda CalhounJames StephensBenjamin EvansJames WilliamsKathy BrightAmber LopezAshley BergLisa GonzalezDaryl JohnsonKristen CrossWalter MoranKyle GomezLonnie HerreraMaria HubbardAbigail YoungMelissa ThompsonMichael CooperTiffany LeeJohn BrownDavid DavisShane GibsonSteven MyersNancy RossMark EverettSteve WalkerMary RodriguezJonathan ByrdRalph MoyerNicholas DiazChristie MejiaCarl EdwardsStacy DavisAngela TownsendRobert BerrySabrina FrancoRichard Cherry DDSMelissa FloresMadeline BrownRyan GonzalezTimothy GriffinJeffrey Shepard DVMLisa PachecoTerry KingJames Holland MDTanya SmithKevin RobinsonNicholas TannerDavid DavisGilbert HodgesShawn RobinsonDaniel MartinezAmanda KingStephanie HatfieldMadison ConleyTeresa OdonnellLauren CampbellStephanie MayerLisa JohnsonJordan WoodsNancy PatelTimothy GomezRay CampbellRobert LandryKarina WelchHelen HallJamie BaileyMichaela DanielsTammy DaughertySarah DennisNicole ChavezDavid HoffmanDiane ReynoldsJessica MeyerKenneth AlexanderLisa HernandezJack JohnsonKristin ThorntonChristine WilliamsTimothy DavidsonMonique HouseStacie KramerCourtney ValenzuelaCraig McgeeMatthew GarciaRebecca WilliamsMelissa ShepherdTanya HawkinsManuel TurnerRichard WallaceJacob PorterDr. Patricia BakerApril JonesRyan HornRebecca FloydVictoria MyersMichele NelsonJohn SmithDavid SantosJoshua Montgomery MDRobin ThomasDenise CameronKeith GonzalezBrooke LongMark JordanBryan MayerSylvia BrownTiffany AllenWendy MartinezMichelle WeberJenna DickersonMegan HumphreyPaul DavisMichael DavisMary EatonKathleen FullerJill MoralesErika WestCynthia GeorgeAlan ObrienMary ClaytonJustin PenningtonKathy BurgessBrett JenningsSamuel WatersFrank RobersonKaren ShannonBrandon GardnerKevin ArmstrongStephen MccallAnthony LongDebbie SmithKim LewisMatthew BoydKevin Andrews PhDDiane VaughnEdward MunozTheresa AllenRonald RoseSamantha MeadowsLisa ThompsonDr. Rachel GilbertChristina HaynesDonna RiddleNatalie MaloneMatthew HernandezChristopher TateRicky MillerLinda AndersonShannon FarmerJill LawrenceKenneth CoxMichelle EllisMeghan HartBobby SolomonDana WalkerCassandra WatersMichael DavisLori WilsonLouis McdanielGregory JonesKyle SpearsNicole BurgessDavid JensenNicole GoodwinChristopher WelchJared LynchJoseph HansonSara BrayKenneth CarterNicole BuckRachel DiazMichael RogersKaren EllisDawn LawsonJacob DixonAngela PhelpsDavid GutierrezStephanie HarrisonRobert SalazarSabrina BartonWilliam PetersonGregory VasquezMolly MasonMatthew FritzKelly BishopJoshua ReynoldsMichelle PerezAlbert WrightRachel McmahonJulie CooperIan ContrerasShane BennettJoshua FernandezKendra WardEarl CaldwellChristopher HernandezShane MartinezElizabeth JohnsonJessica GonzalezJesse DaltonMelissa ParksAaron MitchellJennifer PettyKathryn ColemanDavid WeberJill WheelerMichael LeeTracy WellsFelicia NguyenAustin MooreCharles WilsonWilliam WatersDustin MossRobin WhiteDebra RodriguezAnthony MontgomeryMark SpencerConnie SkinnerJennifer GrayJeremiah HolderKristine WadeWilliam FloresJeffrey DavisLisa VasquezKenneth Avila Jr.Sergio MayLaura EvansLeah PalmerConnor LandryNathan RollinsRonnie JonesDavid RichardsonAlex FlowersLisa WalkerAndrew PierceMiss Taylor BarronPatrick GalvanJonathan StrongKevin HowardChristian MuellerBarbara HartDavid WoodJohn LawrenceJohn GarciaDaniel CrossRobin BrownJohn PerezBrian MclaughlinNancy BrownKelly HamiltonMichael GreeneAmber SmithKristin CarlsonBenjamin ValdezDavid HarrisSarah GarciaElizabeth AllenDiana AyalaJulie HuntTimothy HillSylvia AtkinsWilliam HudsonPaula JonesBriana StoneChelsea WadeJoe MeadowsJack LoweJesus JohnsonSteven WebsterHenry RamirezChristopher SullivanJared WardMichael RomeroJody HunterCarol DuffyCaitlyn SmithSarah SmithJoshua SantiagoJacqueline DavisJonathan MercerDesiree CastroJessica MillerAntonio MasonMelanie EsparzaHolly McphersonZachary RiveraCarol HughesMr. Jason Lopez Jr.Darlene SmithBrianna WhitneyJeffrey MendozaChristine HillCaitlin JohnsonJasmine ObrienBrandon FlowersRobert BoyerLaura CummingsJason PowellDawn HillDana StricklandKristina WalkerMichael TuckerVictor IngramLisa GreenAlexander NormanBonnie ValentineVernon YoungHenry MorrisZachary ParkerErika JonesMisty HatfieldChristine BurtonNicole MooreJames GarciaDavid MunozJames SmithTracy SteinCharles HoltBrenda SkinnerAmy BrownSummer HuntJames MoralesGavin MckinneyAndrea BennettSarah MillerJoshua GrahamParker Carter MDJerry BrownDennis Wells DDSSharon DillonTodd WilliamsSteven NelsonJennifer HarrisonKathleen HallMelissa TranBrenda WilliamsSamantha JohnsonTammy MortonEdward GonzalezSandra LaneJamie JacksonShelby RodriguezBrian MoralesCassandra GarrettTonya ArmstrongJennifer HuangChristopher DoyleSharon RobertsElizabeth MunozVictor BurkeSteven NewtonDana LeeRobyn HernandezJacqueline AlvarezJames JordanAllen HallTerry TurnerNicholas JonesRachel PetersenPatricia LopezJames RayJeffery TranMichael CaldwellMichael TurnerMichael GonzalezAlexis BartlettMichele ColemanAdrienne TaylorChristopher NelsonCurtis LeeMrs. Carol WhiteCourtney Stephenson MDZachary StoneDr. Andrea RoseWendy PetersonJennifer HernandezTara RodriguezCorey BerryNicole WilliamsSteven RamirezMichael BurnsRita ReynoldsBrian RobinsonKatherine FrancoShannon CooperSara OwensMartha StoneEvan MooreKendra WellsAndrew HolmesSarah BryantGabriel MccallMarvin BridgesGail CampbellTerrence WelchJennifer HarrisRyan PayneEileen PotterHeather KellerDylan FrancoJeffrey RobinsonPhilip AndersonDr. Seth Villarreal DVMKaylee OconnorVincent LesterChristopher RosalesRobert RussellMichael MillerAnnette WilsonLindsey NobleDaniel LewisAlexandra BlackDerrick SilvaMatthew JacksonBrian FischerRenee SmithMadeline NelsonCarla HamiltonCynthia HallBarbara CalderonJustin RichmondMrs. Sabrina Murillo MDMorgan ThomasJeremy GarciaElizabeth ChaseErnest BarnesTanya TylerMary EstradaRichard SheltonShannon LewisKaren BridgesCynthia StoneElizabeth GibsonJorge DanielKatie GentryVictor PerkinsKristin SloanJennifer CunninghamJonathan JonesTodd RoseRobyn WrightRebecca ChapmanCarrie MichaelStacey TerryJohn ShawHeather GordonMr. Eric GordonWilliam RowlandAmber DiazLuis EllisScott HarrellRachel KellyColleen ReedTammy ColemanMelanie WilkinsDavid GouldManuel AguirreKatherine SmithMrs. Brenda Johnson DVMAmber CooperShannon MartinAustin PenaKellie BrownAshley WalterRaymond AguilarBrittany SmithMichael PorterDaniel HaleyRobert HendrixThomas HallWilliam WardDonna HolmesMatthew LeachZachary PowersTanner GloverKristen ClarkTravis BrandtJo MccarthyKenneth HowardKimberly AbbottDonald MillsLori WilliamsMichael ScottScott AndersonShannon ThompsonAndre BradyErik GibsonKelly AndersonDerek AllenThomas SandersJoseph HughesMarcus OrtizRebecca CollinsRebecca MccormickBenjamin AdkinsEric AndrewsTeresa OsborneLinda BaileyJack MillerZachary HinesJoseph MullinsDeanna PerryAndrew RodriguezHannah EdwardsFranklin RobertsonTeresa SullivanBriana LucasKimberly MartinezRoy RodriguezKyle RobertsElizabeth WilliamsGeorge LopezJessica FosterCasey EvansRachel TerrellChristopher AllisonMatthew WillisSheri ThomasMarc ChaneyDiana HaleRachel MillerJordan PattersonMike DuncanAnthony Garrett DDSDeborah RollinsAllison WhiteTimothy StewartBrenda TownsendTina CampbellAndre SmithRichard RomeroJerry LewisDominique GarciaSarah GonzalezMichele AcostaAnne SheltonAmanda NelsonJeffrey MilesSydney KimMathew TuckerAaron PayneThomas HinesJonathan MartinezJose DelgadoMichael FoleyChristian GibbsLawrence MitchellWesley WagnerRaymond NguyenRobert WiseMichael MaxwellAlejandro PorterLaura BarnesDaniel HallJeremy SinghJustin MillerAnthony WadeEric ChavezRobert PerezCharles OwenWendy FinleyChristopher WilliamsDerek AllenDavid ScottMorgan GonzalezCharles RitterSabrina RasmussenJason HunterBilly Franco PhDMatthew CannonHannah BarnettMr. Jeremiah RogersMr. Donald VangJason FlemingKelly OconnorAnna BergPamela TownsendMaxwell LeonardJohn OrtizJonathan CooperCassandra ColemanDavid RoweJason MolinaRandy BlakeMatthew MillsVincent MccoyTracy EspinozaBrandy KellerAnita ScottGabrielle GarrettDenise TerrellAmber ClarkRuth VargasCurtis MooreDiana BradleyJohn GonzalezAllen BaxterJason DukeSteven PalmerJason PerryJimmy PadillaRandy GarrettBeth MartinAngela SimpsonHannah HicksCody WilcoxAlbert RomeroAndrew BoydShane DavisJacqueline ChandlerSandra PerezThomas WallsSarah WilliamsDr. Alexander Chang PhDJustin RichardCassandra FranklinFrancisco SheltonMr. Robert HendricksTravis WalkerDonna JonesRobert BeckKimberly JonesJordan GomezJames LopezMatthew BoydMichael ClarkMichele MooreLaura MillerKristen AguirreKristy MillerEvan BrownSara BradfordMike TaylorChristine BensonJennifer GonzalezVanessa GarciaDana BarryGerald KimWendy ShepardErin GarrettErnest LewisAmanda NielsenTerry BenderAnna CooperHarold PetersonEddie WilliamsJessica EllisJoseph MontgomeryMarc PalmerSarah RodriguezShawn ObrienRobert HaneyKathryn GonzalesAmy RiceHannah BruceCharlotte LopezMichele TerryKrystal FreemanTodd MckeeJames BowmanJennifer JohnsonLucas ColemanAndrew ScottKristy SnyderWarren GrayEdward AllenRobert HessTanner FrancisDavid WrightSarah RobbinsDr. Bryan KimJeffery BanksCarlos SmithGlenn BatesJennifer PrattErnest WongTimothy MossEmily ClineAnna AllenDerrick ChenLindsay ArmstrongChristian KingAshley DaughertyRobert GonzalezPatrick BlairWilliam PottsAndrew RiceMark JeffersonLawrence RogersAlexis ChangMichael AlvarezMrs. Cynthia LopezMitchell RobinsonNicole RollinsKristin SchroederCathy JenkinsJodi WilsonHaley BishopDr. Laura ThompsonJohn QuinnAmanda HughesAndrew ReidKristen KingMatthew WilsonDonna BrewerArthur LeeLori WilliamsMonica WyattJessica RichardDaniel GarciaAlexis CollinsMs. Stephanie Schwartz DDSLoretta PerezRonald DouglasMichael PenningtonLori WeaverMaria MarquezRandall BanksMatthew HarrisAlicia MartinDaniel PorterAnna AustinAdrian DavisWilliam FisherJamie WebbCatherine CurtisChelsey JonesEmily CurtisLisa SmithNichole CaldwellJoshua RussellErica CarrDebra SmithDavid GutierrezJohnny BeardBryce GarciaMelissa ManningRachel OwenLinda GarciaMary LawsonWhitney EstesMorgan AllenJoseph ButlerNicole StevensTaylor WoodsPatricia LucasKara SerranoSteven HansonAustin KellyCraig ZimmermanChristine AndradeGrace HarrisonJose SchmittNatasha DaviesDillon SmithSamantha RoblesRebecca MirandaChristina GayLawrence ZhangThomas GreenGlen MontoyaChristopher WoodMichael BoydMark CollinsClayton RamirezEmma GarciaJerry RoweBarbara AndersonShannon BlairCarolyn HawkinsMatthew GardnerCharles MorrisDerrick CarrollCarrie TranKevin TannerCynthia MartinezBrandon LopezMichael SmithRonnie BryanJames MitchellJesus BooneRebecca JohnsonLarry BakerTara CampbellMr. Anthony DeleonCraig RodriguezKevin GreenScott MunozAndrew AllisonMadeline MonroeCristina HobbsHailey JacksonLindsey NavarroDaniel KellyRichard CohenMichael NielsenRussell PerezJason BrownKevin CastilloElizabeth BauerMichelle VillanuevaBreanna MooreDonald MartinezLauren FowlerTerrance HardyAbigail EspinozaAdam GriffinDerek HunterAlexandra FoxKarla McneilKevin FordEric SinghHeather WilsonMiss Sarah WestRebecca KnappMandy MoodyJohn JacksonMark BurkeEric SampsonAndrew SmithAlicia JohnsonGabriel ArroyoEdward EdwardsAlicia LeeXavier MitchellStephen VargasTimothy FinleyGeorge BarnettDaniel JohnsonKevin LongCorey PierceDr. Devin Sharp PhDKenneth AriasAmanda MosleyTroy BarryAlexandra BowmanSheri SloanCaleb BurnsDaniel MartinShannon TateKrystal MarshallKaren BellAlexander McculloughMelinda BarajasRichard SmithLindsey DavisSydney DanielsRyan KruegerMichael CurryMichael BuchananPaul PadillaMeghan TapiaMeagan BakerSarah RomanVictor WalkerDavid FullerChad SmithJennifer JacksonRichard ReyesSusan ShahMadison WagnerMary TownsendJeffery WilsonWilliam BowenDawn JacksonNicole MerrittMichael MitchellMichelle MitchellMalik JonesAnthony AlvaradoCarrie DavisKatrina RossMatthew SmithMichael HillSarah RobertsCheryl SellersMichelle AdamsBrittney Hammond DVMJessica ParkerErin StevensSusan RomanBrandon BrownMiss Chelsea Sullivan PhDLaura HudsonHeather MoranRebecca LittleLeslie HolmesKathleen PhillipsCarolyn CoxApril ZimmermanKristopher WrightMark WarrenLauren CardenasElizabeth FrazierChristy BurtonDr. Jessica Love DVMMark BaileyChristopher MontgomeryMichelle ClineJeremy AyersElizabeth WallerBrandon ChangLouis WoodsVanessa EnglishBrandy MitchellRoger KingBarbara HayesWilliam ArroyoLeah Page DDSPhillip GuerraKimberly BakerTara DouglasWilliam MillerMelissa OwensDaniel RobertsRaven CantrellJerry KelleyMary MezaAdrian StevensLisa DuarteDavid GonzalezNathaniel AlexanderJacob PayneChristopher GuerreroJessica GarciaDeanna OsborneKeith McdonaldTodd WilliamsChristine RobertsonTammie GarrettSandra GregoryDavid FergusonRobin CoxNathaniel OconnellMary AlvarezTravis GreenKim ParkerLuke FryVicki BerryCarol VelazquezJennifer SandersCrystal ChavezJennifer ThompsonDanielle BanksDouglas WoodsZachary GreenTracy FordElizabeth BeckerChristopher SilvaJacob TerryHannah WarrenMindy KennedySarah FullerKathy PenningtonTerry SnyderKristina LewisMason WalkerHannah Rose MDNancy HarrisonMichael SullivanMiss Norma McfarlandRobert HillJames LoveDenise PetersonKimberly LevineJoseph LopezTracey WilsonWilliam HolmesMichael GordonLaurie DoughertyAnna TownsendAdrian GarciaDwayne Mathis Jr.Sarah JohnsonRobin MitchellJoshua TaylorCandace PalmerThomas GarciaAlyssa HernandezMaria NormanAndrew CampbellHeather BellJason HallBradley MartinezAlexa KellerDavid BellAmy LeeJanet WattsTheresa KelleyDavid GoodAaron NelsonCheryl Gay PhDSandra BerryJohn DunnRobert TylerKimberly GilesMatthew OwensJaclyn WilliamsJohn BauerMichael AndersonTara ForbesJacqueline GarciaJoe KochDerek LopezAngela BryantMalik RoyMeghan WilliamsWalter MaxwellDennis KleinSean LeeGabriella MoodyNancy NelsonPatrick Morgan MDJason DrakeStacy LopezMary AcevedoDakota AdamsPeter GreeneDaryl GregoryAshley RiveraJennifer ScottPaul RiveraSean WellsJoshua CoxRyan WilliamsKathleen LoveJames ChavezEmily NorrisDawn LewisCourtney BartonBarbara BlackwellCasey ThomasHaley MorrisEric ThompsonBrittany EdwardsCharles BaileyJames JonesCatherine JonesGina SimsJohn McdanielDeborah GallegosHeather ScottChristine GarciaSamantha ContrerasTracy LoweryTaylor FowlerTerry WhiteheadMichael FischerJulie WarrenJay RobertsBrent SmithKimberly CarrilloBrandon OrtizRichard DavisElizabeth EllisonWilliam ReyesNicholas HarperPatricia WoodOlivia ReyesKaren MorenoSean RichardsonMelanie EatonMaria RamirezApril LoweDaniel CobbJeremy Rivera MDDavid KingTroy MorganAdriana WallDesiree CarterEmily HendersonTerri ManningMegan KirkAmber FitzgeraldJonathan CollinsTina MiddletonJessica FaulknerKenneth PrattEric LewisDennis SimonLaura GatesRobert DukeJacob MillerWilliam BlackburnMegan PottsJessica BradleyCarol TorresDeanna HughesTeresa LivingstonCynthia OlsonTammy SuarezGabriel BarberRobert HooperMandy HensleyTina MayerMarcus SmithDanielle ParkKayla PetersenReginald MolinaNatasha WilliamsKathryn MillerAllison MeyersTasha GrayDawn ChristensenKatherine BoothMarcus WilsonJason RodriguezRick ShannonJeffrey RubioKimberly FisherJoseph BradfordCrystal ShahHeather StephensonMichael JohnsonPatricia VillanuevaDavid TorresPerry PerezBrandon BakerHeather RobinsonAmy AllenKathryn BernardTroy GriffithDavid WatsonDebbie TurnerKayla BurtonHeather AllenJessica ArroyoDillon HardingAmanda BatesBrittany BoydDavid IbarraThomas CrawfordKathleen KnoxJoshua LewisTiffany TateEric GonzalezErika PeckGary HarrisonJoshua AndrewsAustin LangDavid BlackburnJessica WhiteJose LawrenceDawn JohnsonMr. Colton Collins IIBrandon OliverDeborah CarrollDavid LambertHoward LeonRobert FernandezSarah HahnJamie MasonDwayne SmithCynthia CastilloDavid SchroederBrandon WilliamsDavid MoranMary MoranCrystal MaldonadoHaley GreenHeather GordonAdam HuffmanTimothy WeaverTeresa HernandezMary HoweRandall DavisLauren ChristianCynthia GregoryKimberly PorterElizabeth CarrilloShawn BrownJames HowellCaleb EllisJoel SanchezAmanda SheltonLisa KnightErika RamosCharles BaldwinAnthony WelchJohn ThomasWilliam EstradaEric FrankEric PerezSteven TorresMichael WilliamsDavid SimmonsTracy SmithAndrew MejiaKenneth VasquezScott GomezJeffery SmithTammie RogersSteven LeAmanda JohnsonLaurie OliverTheresa MartinezKenneth MorrisonSharon PadillaJennifer ArroyoBryan SmithJonathan GardnerMr. Alexander DaltonJonathan OlsonJulie DavisSara RoseOscar KaiserNathaniel SmithKimberly CastroPatricia SmithAshley HouseStacie HollandDiana GarrettJesse TuckerJessica SchmidtMelissa ZimmermanJason RichardsMary JonesKimberly ComptonJason KnightMallory GravesKerry HendersonBrandon VaughnDonna HolmesAdam HermanSusan WilliamsMichelle WilsonAnita WilsonNancy SmithDr. Nicholas BraunChris Palmer IIIAshley LopezSara GarciaLaurie WheelerMichael JohnsonSharon McconnellAdam ClarkeKathryn JimenezKeith HoustonYolanda LeeJacqueline PetersonWendy HeathEric ContrerasMichael ParkMr. Mason Hernandez MDCindy PowellDr. Roberta EdwardsEdward JonesKristina PaulKayla ScottKimberly JohnstonMary SuarezAmanda JordanJennifer MendozaSarah DavisAnn FloresWilliam ReyesJoshua SwansonBrittney AdamsTanya BrownTheresa BarberRyan AguilarDiana CummingsJames EsparzaJacob RobertsJane LangBriana ContrerasBrenda EvansBrett SweeneyPatricia MillerTerry SanchezAngela GrayRichard MedinaCarlos ButlerBeth MorseJonathan GallowayMargaret JacksonVeronica ParkerVeronica GriffithTeresa KramerHeather WheelerAmy MillerJennifer HowardMichelle RamosJasmin GarciaDaniel WhiteKim MooreAlejandro ThompsonKatherine HornAndrew PorterStephanie TaylorJoe NunezBrett GardnerBrian WagnerKelly MillsKathy BushKristina ClaytonErica WilliamsEmily HessChase HortonJoshua JonesLynn FitzgeraldAmy SchaeferRandy MccarthyTonya HawkinsBrittany CarrJohn BoydCharles GonzalezThomas AlvarezDr. Kaitlin BartonKaren DukeSusan GrahamBrittany PetersonRichard EdwardsRobert ReidJackie AdamsSavannah CraneJason OrtizMary HarrisAnthony AndersonRichard VangJared ThomasJennifer HendersonDillon MeyersPaula ColeThomas SmithRhonda FergusonBrenda DixonDanny CummingsSteven FischerKenneth BrooksTyler SmithBrian LiRebecca HarrisRenee SpenceBenjamin SilvaAlison AndersonBethany HarveyRodney MillerNicholas CostaSamuel BlairKimberly BennettRonald BakerBrittany GatesKatherine SteeleCaleb HernandezRyan AllenRobert MillerRodney ThompsonSarah RiveraLauren MillerJaclyn AyalaJennifer TapiaGabriel AshleySarah CooperDr. Nicholas Garcia' to numeric",
      "\nThe above exception was the direct cause of the following exception:\n",
      "\u001b[1;31mTypeError\u001b[0m                                 Traceback (most recent call last)",
      "Cell \u001b[1;32mIn[37], line 2\u001b[0m\n\u001b[0;32m      1\u001b[0m \u001b[38;5;66;03m# Now, calculate the average test scores per school\u001b[39;00m\n\u001b[1;32m----> 2\u001b[0m per_school_math \u001b[38;5;241m=\u001b[39m \u001b[43mschool_data_complete\u001b[49m\u001b[38;5;241;43m.\u001b[39;49m\u001b[43mgroupby\u001b[49m\u001b[43m(\u001b[49m\u001b[43m[\u001b[49m\u001b[38;5;124;43m\"\u001b[39;49m\u001b[38;5;124;43mschool_name\u001b[39;49m\u001b[38;5;124;43m\"\u001b[39;49m\u001b[43m]\u001b[49m\u001b[43m)\u001b[49m\u001b[38;5;241;43m.\u001b[39;49m\u001b[43mmean\u001b[49m\u001b[43m(\u001b[49m\u001b[43m)\u001b[49m[\u001b[38;5;124m\"\u001b[39m\u001b[38;5;124mmath_score\u001b[39m\u001b[38;5;124m\"\u001b[39m]\n\u001b[0;32m      3\u001b[0m per_school_reading \u001b[38;5;241m=\u001b[39m school_data_complete\u001b[38;5;241m.\u001b[39mgroupby([\u001b[38;5;124m\"\u001b[39m\u001b[38;5;124mschool_name\u001b[39m\u001b[38;5;124m\"\u001b[39m])\u001b[38;5;241m.\u001b[39mmean()[\u001b[38;5;124m\"\u001b[39m\u001b[38;5;124mreading_score\u001b[39m\u001b[38;5;124m\"\u001b[39m]\n\u001b[0;32m      5\u001b[0m \u001b[38;5;28mprint\u001b[39m(per_school_math)\n",
      "File \u001b[1;32m~\\anaconda3\\envs\\dev\\lib\\site-packages\\pandas\\core\\groupby\\groupby.py:2452\u001b[0m, in \u001b[0;36mGroupBy.mean\u001b[1;34m(self, numeric_only, engine, engine_kwargs)\u001b[0m\n\u001b[0;32m   2445\u001b[0m     \u001b[38;5;28;01mreturn\u001b[39;00m \u001b[38;5;28mself\u001b[39m\u001b[38;5;241m.\u001b[39m_numba_agg_general(\n\u001b[0;32m   2446\u001b[0m         grouped_mean,\n\u001b[0;32m   2447\u001b[0m         executor\u001b[38;5;241m.\u001b[39mfloat_dtype_mapping,\n\u001b[0;32m   2448\u001b[0m         engine_kwargs,\n\u001b[0;32m   2449\u001b[0m         min_periods\u001b[38;5;241m=\u001b[39m\u001b[38;5;241m0\u001b[39m,\n\u001b[0;32m   2450\u001b[0m     )\n\u001b[0;32m   2451\u001b[0m \u001b[38;5;28;01melse\u001b[39;00m:\n\u001b[1;32m-> 2452\u001b[0m     result \u001b[38;5;241m=\u001b[39m \u001b[38;5;28;43mself\u001b[39;49m\u001b[38;5;241;43m.\u001b[39;49m\u001b[43m_cython_agg_general\u001b[49m\u001b[43m(\u001b[49m\n\u001b[0;32m   2453\u001b[0m \u001b[43m        \u001b[49m\u001b[38;5;124;43m\"\u001b[39;49m\u001b[38;5;124;43mmean\u001b[39;49m\u001b[38;5;124;43m\"\u001b[39;49m\u001b[43m,\u001b[49m\n\u001b[0;32m   2454\u001b[0m \u001b[43m        \u001b[49m\u001b[43malt\u001b[49m\u001b[38;5;241;43m=\u001b[39;49m\u001b[38;5;28;43;01mlambda\u001b[39;49;00m\u001b[43m \u001b[49m\u001b[43mx\u001b[49m\u001b[43m:\u001b[49m\u001b[43m \u001b[49m\u001b[43mSeries\u001b[49m\u001b[43m(\u001b[49m\u001b[43mx\u001b[49m\u001b[43m,\u001b[49m\u001b[43m \u001b[49m\u001b[43mcopy\u001b[49m\u001b[38;5;241;43m=\u001b[39;49m\u001b[38;5;28;43;01mFalse\u001b[39;49;00m\u001b[43m)\u001b[49m\u001b[38;5;241;43m.\u001b[39;49m\u001b[43mmean\u001b[49m\u001b[43m(\u001b[49m\u001b[43mnumeric_only\u001b[49m\u001b[38;5;241;43m=\u001b[39;49m\u001b[43mnumeric_only\u001b[49m\u001b[43m)\u001b[49m\u001b[43m,\u001b[49m\n\u001b[0;32m   2455\u001b[0m \u001b[43m        \u001b[49m\u001b[43mnumeric_only\u001b[49m\u001b[38;5;241;43m=\u001b[39;49m\u001b[43mnumeric_only\u001b[49m\u001b[43m,\u001b[49m\n\u001b[0;32m   2456\u001b[0m \u001b[43m    \u001b[49m\u001b[43m)\u001b[49m\n\u001b[0;32m   2457\u001b[0m     \u001b[38;5;28;01mreturn\u001b[39;00m result\u001b[38;5;241m.\u001b[39m__finalize__(\u001b[38;5;28mself\u001b[39m\u001b[38;5;241m.\u001b[39mobj, method\u001b[38;5;241m=\u001b[39m\u001b[38;5;124m\"\u001b[39m\u001b[38;5;124mgroupby\u001b[39m\u001b[38;5;124m\"\u001b[39m)\n",
      "File \u001b[1;32m~\\anaconda3\\envs\\dev\\lib\\site-packages\\pandas\\core\\groupby\\groupby.py:1998\u001b[0m, in \u001b[0;36mGroupBy._cython_agg_general\u001b[1;34m(self, how, alt, numeric_only, min_count, **kwargs)\u001b[0m\n\u001b[0;32m   1995\u001b[0m     result \u001b[38;5;241m=\u001b[39m \u001b[38;5;28mself\u001b[39m\u001b[38;5;241m.\u001b[39m_agg_py_fallback(how, values, ndim\u001b[38;5;241m=\u001b[39mdata\u001b[38;5;241m.\u001b[39mndim, alt\u001b[38;5;241m=\u001b[39malt)\n\u001b[0;32m   1996\u001b[0m     \u001b[38;5;28;01mreturn\u001b[39;00m result\n\u001b[1;32m-> 1998\u001b[0m new_mgr \u001b[38;5;241m=\u001b[39m \u001b[43mdata\u001b[49m\u001b[38;5;241;43m.\u001b[39;49m\u001b[43mgrouped_reduce\u001b[49m\u001b[43m(\u001b[49m\u001b[43marray_func\u001b[49m\u001b[43m)\u001b[49m\n\u001b[0;32m   1999\u001b[0m res \u001b[38;5;241m=\u001b[39m \u001b[38;5;28mself\u001b[39m\u001b[38;5;241m.\u001b[39m_wrap_agged_manager(new_mgr)\n\u001b[0;32m   2000\u001b[0m \u001b[38;5;28;01mif\u001b[39;00m how \u001b[38;5;129;01min\u001b[39;00m [\u001b[38;5;124m\"\u001b[39m\u001b[38;5;124midxmin\u001b[39m\u001b[38;5;124m\"\u001b[39m, \u001b[38;5;124m\"\u001b[39m\u001b[38;5;124midxmax\u001b[39m\u001b[38;5;124m\"\u001b[39m]:\n",
      "File \u001b[1;32m~\\anaconda3\\envs\\dev\\lib\\site-packages\\pandas\\core\\internals\\managers.py:1469\u001b[0m, in \u001b[0;36mBlockManager.grouped_reduce\u001b[1;34m(self, func)\u001b[0m\n\u001b[0;32m   1465\u001b[0m \u001b[38;5;28;01mif\u001b[39;00m blk\u001b[38;5;241m.\u001b[39mis_object:\n\u001b[0;32m   1466\u001b[0m     \u001b[38;5;66;03m# split on object-dtype blocks bc some columns may raise\u001b[39;00m\n\u001b[0;32m   1467\u001b[0m     \u001b[38;5;66;03m#  while others do not.\u001b[39;00m\n\u001b[0;32m   1468\u001b[0m     \u001b[38;5;28;01mfor\u001b[39;00m sb \u001b[38;5;129;01min\u001b[39;00m blk\u001b[38;5;241m.\u001b[39m_split():\n\u001b[1;32m-> 1469\u001b[0m         applied \u001b[38;5;241m=\u001b[39m \u001b[43msb\u001b[49m\u001b[38;5;241;43m.\u001b[39;49m\u001b[43mapply\u001b[49m\u001b[43m(\u001b[49m\u001b[43mfunc\u001b[49m\u001b[43m)\u001b[49m\n\u001b[0;32m   1470\u001b[0m         result_blocks \u001b[38;5;241m=\u001b[39m extend_blocks(applied, result_blocks)\n\u001b[0;32m   1471\u001b[0m \u001b[38;5;28;01melse\u001b[39;00m:\n",
      "File \u001b[1;32m~\\anaconda3\\envs\\dev\\lib\\site-packages\\pandas\\core\\internals\\blocks.py:393\u001b[0m, in \u001b[0;36mBlock.apply\u001b[1;34m(self, func, **kwargs)\u001b[0m\n\u001b[0;32m    387\u001b[0m \u001b[38;5;129m@final\u001b[39m\n\u001b[0;32m    388\u001b[0m \u001b[38;5;28;01mdef\u001b[39;00m \u001b[38;5;21mapply\u001b[39m(\u001b[38;5;28mself\u001b[39m, func, \u001b[38;5;241m*\u001b[39m\u001b[38;5;241m*\u001b[39mkwargs) \u001b[38;5;241m-\u001b[39m\u001b[38;5;241m>\u001b[39m \u001b[38;5;28mlist\u001b[39m[Block]:\n\u001b[0;32m    389\u001b[0m \u001b[38;5;250m    \u001b[39m\u001b[38;5;124;03m\"\"\"\u001b[39;00m\n\u001b[0;32m    390\u001b[0m \u001b[38;5;124;03m    apply the function to my values; return a block if we are not\u001b[39;00m\n\u001b[0;32m    391\u001b[0m \u001b[38;5;124;03m    one\u001b[39;00m\n\u001b[0;32m    392\u001b[0m \u001b[38;5;124;03m    \"\"\"\u001b[39;00m\n\u001b[1;32m--> 393\u001b[0m     result \u001b[38;5;241m=\u001b[39m func(\u001b[38;5;28mself\u001b[39m\u001b[38;5;241m.\u001b[39mvalues, \u001b[38;5;241m*\u001b[39m\u001b[38;5;241m*\u001b[39mkwargs)\n\u001b[0;32m    395\u001b[0m     result \u001b[38;5;241m=\u001b[39m maybe_coerce_values(result)\n\u001b[0;32m    396\u001b[0m     \u001b[38;5;28;01mreturn\u001b[39;00m \u001b[38;5;28mself\u001b[39m\u001b[38;5;241m.\u001b[39m_split_op_result(result)\n",
      "File \u001b[1;32m~\\anaconda3\\envs\\dev\\lib\\site-packages\\pandas\\core\\groupby\\groupby.py:1995\u001b[0m, in \u001b[0;36mGroupBy._cython_agg_general.<locals>.array_func\u001b[1;34m(values)\u001b[0m\n\u001b[0;32m   1992\u001b[0m     \u001b[38;5;28;01mreturn\u001b[39;00m result\n\u001b[0;32m   1994\u001b[0m \u001b[38;5;28;01massert\u001b[39;00m alt \u001b[38;5;129;01mis\u001b[39;00m \u001b[38;5;129;01mnot\u001b[39;00m \u001b[38;5;28;01mNone\u001b[39;00m\n\u001b[1;32m-> 1995\u001b[0m result \u001b[38;5;241m=\u001b[39m \u001b[38;5;28;43mself\u001b[39;49m\u001b[38;5;241;43m.\u001b[39;49m\u001b[43m_agg_py_fallback\u001b[49m\u001b[43m(\u001b[49m\u001b[43mhow\u001b[49m\u001b[43m,\u001b[49m\u001b[43m \u001b[49m\u001b[43mvalues\u001b[49m\u001b[43m,\u001b[49m\u001b[43m \u001b[49m\u001b[43mndim\u001b[49m\u001b[38;5;241;43m=\u001b[39;49m\u001b[43mdata\u001b[49m\u001b[38;5;241;43m.\u001b[39;49m\u001b[43mndim\u001b[49m\u001b[43m,\u001b[49m\u001b[43m \u001b[49m\u001b[43malt\u001b[49m\u001b[38;5;241;43m=\u001b[39;49m\u001b[43malt\u001b[49m\u001b[43m)\u001b[49m\n\u001b[0;32m   1996\u001b[0m \u001b[38;5;28;01mreturn\u001b[39;00m result\n",
      "File \u001b[1;32m~\\anaconda3\\envs\\dev\\lib\\site-packages\\pandas\\core\\groupby\\groupby.py:1946\u001b[0m, in \u001b[0;36mGroupBy._agg_py_fallback\u001b[1;34m(self, how, values, ndim, alt)\u001b[0m\n\u001b[0;32m   1944\u001b[0m     msg \u001b[38;5;241m=\u001b[39m \u001b[38;5;124mf\u001b[39m\u001b[38;5;124m\"\u001b[39m\u001b[38;5;124magg function failed [how->\u001b[39m\u001b[38;5;132;01m{\u001b[39;00mhow\u001b[38;5;132;01m}\u001b[39;00m\u001b[38;5;124m,dtype->\u001b[39m\u001b[38;5;132;01m{\u001b[39;00mser\u001b[38;5;241m.\u001b[39mdtype\u001b[38;5;132;01m}\u001b[39;00m\u001b[38;5;124m]\u001b[39m\u001b[38;5;124m\"\u001b[39m\n\u001b[0;32m   1945\u001b[0m     \u001b[38;5;66;03m# preserve the kind of exception that raised\u001b[39;00m\n\u001b[1;32m-> 1946\u001b[0m     \u001b[38;5;28;01mraise\u001b[39;00m \u001b[38;5;28mtype\u001b[39m(err)(msg) \u001b[38;5;28;01mfrom\u001b[39;00m \u001b[38;5;21;01merr\u001b[39;00m\n\u001b[0;32m   1948\u001b[0m \u001b[38;5;28;01mif\u001b[39;00m ser\u001b[38;5;241m.\u001b[39mdtype \u001b[38;5;241m==\u001b[39m \u001b[38;5;28mobject\u001b[39m:\n\u001b[0;32m   1949\u001b[0m     res_values \u001b[38;5;241m=\u001b[39m res_values\u001b[38;5;241m.\u001b[39mastype(\u001b[38;5;28mobject\u001b[39m, copy\u001b[38;5;241m=\u001b[39m\u001b[38;5;28;01mFalse\u001b[39;00m)\n",
      "\u001b[1;31mTypeError\u001b[0m: agg function failed [how->mean,dtype->object]"
     ]
    }
   ],
   "source": [
    "# Now, calculate the average test scores per school\n",
    "per_school_math = school_data_complete.groupby([\"school_name\"]).mean()[\"math_score\"]\n",
    "per_school_reading = school_data_complete.groupby([\"school_name\"]).mean()[\"reading_score\"]\n",
    "\n",
    "print(per_school_math)\n",
    "print(per_school_reading)"
   ]
  },
  {
   "cell_type": "code",
   "execution_count": 30,
   "metadata": {},
   "outputs": [
    {
     "name": "stdout",
     "output_type": "stream",
     "text": [
      "school_name\n",
      "Bailey High School       77.048432\n",
      "Cabrera High School      83.061895\n",
      "Figueroa High School     76.711767\n",
      "Ford High School         77.102592\n",
      "Griffin High School      83.351499\n",
      "Hernandez High School    77.289752\n",
      "Holden High School       83.803279\n",
      "Huang High School        76.629414\n",
      "Johnson High School      77.072464\n",
      "Pena High School         83.839917\n",
      "Rodriguez High School    76.842711\n",
      "Shelton High School      83.359455\n",
      "Thomas High School       83.418349\n",
      "Wilson High School       83.274201\n",
      "Wright High School       83.682222\n",
      "Name: math_score, dtype: float64\n",
      "school_name\n",
      "Bailey High School       81.033963\n",
      "Cabrera High School      83.975780\n",
      "Figueroa High School     81.158020\n",
      "Ford High School         80.746258\n",
      "Griffin High School      83.816757\n",
      "Hernandez High School    80.934412\n",
      "Holden High School       83.814988\n",
      "Huang High School        81.182722\n",
      "Johnson High School      80.966394\n",
      "Pena High School         84.044699\n",
      "Rodriguez High School    80.744686\n",
      "Shelton High School      83.725724\n",
      "Thomas High School       83.848930\n",
      "Wilson High School       83.989488\n",
      "Wright High School       83.955000\n",
      "Name: reading_score, dtype: float64\n"
     ]
    }
   ],
   "source": [
    "# Simplified groupby operation for math_score\n",
    "try:\n",
    "    per_school_math_simple = school_data_complete.groupby(\"school_name\")[\"math_score\"].mean()\n",
    "    print(per_school_math_simple)\n",
    "except Exception as e:\n",
    "    print(f\"Error occurred: {e}\")\n",
    "\n",
    "# Simplified groupby operation for reading_score\n",
    "try:\n",
    "    per_school_reading_simple = school_data_complete.groupby(\"school_name\")[\"reading_score\"].mean()\n",
    "    print(per_school_reading_simple)\n",
    "except Exception as e:\n",
    "    print(f\"Error occurred: {e}\")\n",
    "# Re-read the data to reset any previous changes\n",
    "school_data_complete = pd.merge(student_data, school_data, how=\"left\", on=[\"school_name\", \"school_name\"])\n"
   ]
  },
  {
   "cell_type": "code",
   "execution_count": 31,
   "metadata": {},
   "outputs": [
    {
     "name": "stdout",
     "output_type": "stream",
     "text": [
      "                       Student ID      student_name gender grade  \\\n",
      "school_name                                                        \n",
      "Bailey High School          17871      Blake Martin      M   9th   \n",
      "Cabrera High School         16013      Olivia Short      F  11th   \n",
      "Figueroa High School         2917        Amy Jacobs      F  10th   \n",
      "Ford High School            34796   Michael Mercado      M   9th   \n",
      "Griffin High School         12262    Heather Wright      F  11th   \n",
      "Hernandez High School        7627     Russell Davis      M  10th   \n",
      "Holden High School          22847  Daniel Rodriguez      M  11th   \n",
      "Huang High School               0      Paul Bradley      M   9th   \n",
      "Johnson High School         30035        Lisa Casey      F  12th   \n",
      "Pena High School            23274        Alec Davis      M   9th   \n",
      "Rodriguez High School       26036    Sherry Jenkins      F  11th   \n",
      "Shelton High School          5866  Jamie Montgomery      F  12th   \n",
      "Thomas High School          37535        Norma Mata      F  10th   \n",
      "Wilson High School          13730    Kelli Anderson      F  10th   \n",
      "Wright High School          24236     Aaron Johnson      M  10th   \n",
      "\n",
      "                       reading_score  math_score  School ID      type  size  \\\n",
      "school_name                                                                   \n",
      "Bailey High School                75          59          7  District  4976   \n",
      "Cabrera High School               94          94          6   Charter  1858   \n",
      "Figueroa High School              85          87          1  District  2949   \n",
      "Ford High School                  66          94         13  District  2739   \n",
      "Griffin High School               79          68          4   Charter  1468   \n",
      "Hernandez High School             70          88          3  District  4635   \n",
      "Holden High School                86          92          8   Charter   427   \n",
      "Huang High School                 66          79          0  District  2917   \n",
      "Johnson High School               87          87         12  District  4761   \n",
      "Pena High School                  91          75          9   Charter   962   \n",
      "Rodriguez High School             74          81         11  District  3999   \n",
      "Shelton High School               70          91          2   Charter  1761   \n",
      "Thomas High School                76          76         14   Charter  1635   \n",
      "Wilson High School                84          71          5   Charter  2283   \n",
      "Wright High School                89          72         10   Charter  1800   \n",
      "\n",
      "                        budget  \n",
      "school_name                     \n",
      "Bailey High School     3124928  \n",
      "Cabrera High School    1081356  \n",
      "Figueroa High School   1884411  \n",
      "Ford High School       1763916  \n",
      "Griffin High School     917500  \n",
      "Hernandez High School  3022020  \n",
      "Holden High School      248087  \n",
      "Huang High School      1910635  \n",
      "Johnson High School    3094650  \n",
      "Pena High School        585858  \n",
      "Rodriguez High School  2547363  \n",
      "Shelton High School    1056600  \n",
      "Thomas High School     1043130  \n",
      "Wilson High School     1319574  \n",
      "Wright High School     1049400  \n"
     ]
    }
   ],
   "source": [
    "try:\n",
    "    groupby_test = school_data_complete.groupby(\"school_name\").first()\n",
    "    print(groupby_test)\n",
    "except Exception as e:\n",
    "    print(f\"Error occurred: {e}\")\n"
   ]
  },
  {
   "cell_type": "code",
   "execution_count": 17,
   "metadata": {},
   "outputs": [
    {
     "data": {
      "text/plain": [
       "school_name\n",
       "Bailey High School       3318\n",
       "Cabrera High School      1749\n",
       "Figueroa High School     1946\n",
       "Ford High School         1871\n",
       "Griffin High School      1371\n",
       "Hernandez High School    3094\n",
       "Holden High School        395\n",
       "Huang High School        1916\n",
       "Johnson High School      3145\n",
       "Pena High School          910\n",
       "Rodriguez High School    2654\n",
       "Shelton High School      1653\n",
       "Thomas High School       1525\n",
       "Wilson High School       2143\n",
       "Wright High School       1680\n",
       "Name: student_name, dtype: int64"
      ]
     },
     "execution_count": 17,
     "metadata": {},
     "output_type": "execute_result"
    }
   ],
   "source": [
    "# Calculate the number of students per school with math scores of 70 or higher from school_data_complete\n",
    "students_passing_math = school_data_complete[school_data_complete[\"math_score\"] >= 70]\n",
    "school_students_passing_math = students_passing_math.groupby([\"school_name\"]).count()[\"student_name\"]\n",
    "students_passing_math\n",
    "school_students_passing_math"
   ]
  },
  {
   "cell_type": "code",
   "execution_count": 20,
   "metadata": {},
   "outputs": [
    {
     "data": {
      "text/plain": [
       "school_name\n",
       "Bailey High School       4077\n",
       "Cabrera High School      1803\n",
       "Figueroa High School     2381\n",
       "Ford High School         2172\n",
       "Griffin High School      1426\n",
       "Hernandez High School    3748\n",
       "Holden High School        411\n",
       "Huang High School        2372\n",
       "Johnson High School      3867\n",
       "Pena High School          923\n",
       "Rodriguez High School    3208\n",
       "Shelton High School      1688\n",
       "Thomas High School       1591\n",
       "Wilson High School       2204\n",
       "Wright High School       1739\n",
       "Name: student_name, dtype: int64"
      ]
     },
     "execution_count": 20,
     "metadata": {},
     "output_type": "execute_result"
    }
   ],
   "source": [
    "# Calculate the number of students per school with reading scores of 70 or higher from school_data_complete\n",
    "students_passing_reading = school_data_complete[school_data_complete[\"reading_score\"] >= 70]\n",
    "school_students_passing_reading = students_passing_reading.groupby([\"school_name\"]).count()[\"student_name\"]\n",
    "students_passing_reading\n",
    "school_students_passing_reading"
   ]
  },
  {
   "cell_type": "code",
   "execution_count": 21,
   "metadata": {},
   "outputs": [
    {
     "data": {
      "text/plain": [
       "school_name\n",
       "Bailey High School       2719\n",
       "Cabrera High School      1697\n",
       "Figueroa High School     1569\n",
       "Ford High School         1487\n",
       "Griffin High School      1330\n",
       "Hernandez High School    2481\n",
       "Holden High School        381\n",
       "Huang High School        1561\n",
       "Johnson High School      2549\n",
       "Pena High School          871\n",
       "Rodriguez High School    2119\n",
       "Shelton High School      1583\n",
       "Thomas High School       1487\n",
       "Wilson High School       2068\n",
       "Wright High School       1626\n",
       "dtype: int64"
      ]
     },
     "execution_count": 21,
     "metadata": {},
     "output_type": "execute_result"
    }
   ],
   "source": [
    "# Use the provided code to calculate the number of students per school that passed both math and reading with scores of 70 or higher\n",
    "students_passing_math_and_reading = school_data_complete[\n",
    "    (school_data_complete[\"reading_score\"] >= 70) & (school_data_complete[\"math_score\"] >= 70)\n",
    "]\n",
    "school_students_passing_math_and_reading = students_passing_math_and_reading.groupby([\"school_name\"]).size()\n",
    "school_students_passing_math_and_reading"
   ]
  },
  {
   "cell_type": "code",
   "execution_count": 23,
   "metadata": {},
   "outputs": [
    {
     "data": {
      "text/plain": [
       "school_name\n",
       "Bailey High School       54.642283\n",
       "Cabrera High School      91.334769\n",
       "Figueroa High School     53.204476\n",
       "Ford High School         54.289887\n",
       "Griffin High School      90.599455\n",
       "Hernandez High School    53.527508\n",
       "Holden High School       89.227166\n",
       "Huang High School        53.513884\n",
       "Johnson High School      53.539172\n",
       "Pena High School         90.540541\n",
       "Rodriguez High School    52.988247\n",
       "Shelton High School      89.892107\n",
       "Thomas High School       90.948012\n",
       "Wilson High School       90.582567\n",
       "Wright High School       90.333333\n",
       "dtype: float64"
      ]
     },
     "execution_count": 23,
     "metadata": {},
     "output_type": "execute_result"
    }
   ],
   "source": [
    "# Use the provided code to calculate the passing rates\n",
    "per_school_passing_math = school_students_passing_math / per_school_counts * 100\n",
    "per_school_passing_reading = school_students_passing_reading / per_school_counts * 100\n",
    "overall_passing_rate = school_students_passing_math_and_reading / per_school_counts * 100\n",
    "per_school_passing_math\n",
    "per_school_passing_reading\n",
    "overall_passing_rate\n"
   ]
  },
  {
   "cell_type": "code",
   "execution_count": 38,
   "metadata": {},
   "outputs": [
    {
     "ename": "NameError",
     "evalue": "name 'per_school_math' is not defined",
     "output_type": "error",
     "traceback": [
      "\u001b[1;31m---------------------------------------------------------------------------\u001b[0m",
      "\u001b[1;31mNameError\u001b[0m                                 Traceback (most recent call last)",
      "Cell \u001b[1;32mIn[38], line 6\u001b[0m\n\u001b[0;32m      1\u001b[0m \u001b[38;5;66;03m# Create a DataFrame called `per_school_summary` with columns for the calculations above.\u001b[39;00m\n\u001b[0;32m      2\u001b[0m per_school_summary \u001b[38;5;241m=\u001b[39m pd\u001b[38;5;241m.\u001b[39mDataFrame({\n\u001b[0;32m      3\u001b[0m     \u001b[38;5;124m\"\u001b[39m\u001b[38;5;124mTotal Students\u001b[39m\u001b[38;5;124m\"\u001b[39m: per_school_counts,\n\u001b[0;32m      4\u001b[0m     \u001b[38;5;124m\"\u001b[39m\u001b[38;5;124mTotal School Budget\u001b[39m\u001b[38;5;124m\"\u001b[39m: per_school_budget,\n\u001b[0;32m      5\u001b[0m     \u001b[38;5;124m\"\u001b[39m\u001b[38;5;124mPer Student Budget\u001b[39m\u001b[38;5;124m\"\u001b[39m: per_school_capita,\n\u001b[1;32m----> 6\u001b[0m     \u001b[38;5;124m\"\u001b[39m\u001b[38;5;124mAverage Math Score\u001b[39m\u001b[38;5;124m\"\u001b[39m: \u001b[43mper_school_math\u001b[49m,\n\u001b[0;32m      7\u001b[0m     \u001b[38;5;124m\"\u001b[39m\u001b[38;5;124mAverage Reading Score\u001b[39m\u001b[38;5;124m\"\u001b[39m: per_school_reading,\n\u001b[0;32m      8\u001b[0m     \u001b[38;5;124m\"\u001b[39m\u001b[38;5;124m%\u001b[39m\u001b[38;5;124m Passing Math\u001b[39m\u001b[38;5;124m\"\u001b[39m: per_school_passing_math,\n\u001b[0;32m      9\u001b[0m     \u001b[38;5;124m\"\u001b[39m\u001b[38;5;124m%\u001b[39m\u001b[38;5;124m Passing Reading\u001b[39m\u001b[38;5;124m\"\u001b[39m: per_school_passing_reading,\n\u001b[0;32m     10\u001b[0m     \u001b[38;5;124m\"\u001b[39m\u001b[38;5;124m%\u001b[39m\u001b[38;5;124m Overall Passing\u001b[39m\u001b[38;5;124m\"\u001b[39m: per_school_overall_passing\n\u001b[0;32m     11\u001b[0m })\n\u001b[0;32m     13\u001b[0m \u001b[38;5;66;03m# Formatting\u001b[39;00m\n\u001b[0;32m     14\u001b[0m per_school_summary[\u001b[38;5;124m\"\u001b[39m\u001b[38;5;124mTotal School Budget\u001b[39m\u001b[38;5;124m\"\u001b[39m] \u001b[38;5;241m=\u001b[39m per_school_summary[\u001b[38;5;124m\"\u001b[39m\u001b[38;5;124mTotal School Budget\u001b[39m\u001b[38;5;124m\"\u001b[39m]\u001b[38;5;241m.\u001b[39mmap(\u001b[38;5;124m\"\u001b[39m\u001b[38;5;124m$\u001b[39m\u001b[38;5;132;01m{:,.2f}\u001b[39;00m\u001b[38;5;124m\"\u001b[39m\u001b[38;5;241m.\u001b[39mformat)\n",
      "\u001b[1;31mNameError\u001b[0m: name 'per_school_math' is not defined"
     ]
    }
   ],
   "source": [
    "# Create a DataFrame called `per_school_summary` with columns for the calculations above.\n",
    "per_school_summary = pd.DataFrame({\n",
    "    \"Total Students\": per_school_counts,\n",
    "    \"Total School Budget\": per_school_budget,\n",
    "    \"Per Student Budget\": per_school_capita,\n",
    "    \"Average Math Score\": per_school_math,\n",
    "    \"Average Reading Score\": per_school_reading,\n",
    "    \"% Passing Math\": per_school_passing_math,\n",
    "    \"% Passing Reading\": per_school_passing_reading,\n",
    "    \"% Overall Passing\": per_school_overall_passing\n",
    "})\n",
    "\n",
    "# Formatting\n",
    "per_school_summary[\"Total School Budget\"] = per_school_summary[\"Total School Budget\"].map(\"${:,.2f}\".format)\n",
    "per_school_summary[\"Per Student Budget\"] = per_school_summary[\"Per Student Budget\"].map(\"${:,.2f}\".format)\n",
    "\n",
    "# Display the DataFrame\n",
    "per_school_summary\n"
   ]
  },
  {
   "cell_type": "markdown",
   "metadata": {},
   "source": [
    "## Highest-Performing Schools (by % Overall Passing)"
   ]
  },
  {
   "cell_type": "code",
   "execution_count": 39,
   "metadata": {
    "scrolled": true
   },
   "outputs": [
    {
     "ename": "NameError",
     "evalue": "name 'per_school_summary' is not defined",
     "output_type": "error",
     "traceback": [
      "\u001b[1;31m---------------------------------------------------------------------------\u001b[0m",
      "\u001b[1;31mNameError\u001b[0m                                 Traceback (most recent call last)",
      "Cell \u001b[1;32mIn[39], line 2\u001b[0m\n\u001b[0;32m      1\u001b[0m \u001b[38;5;66;03m# Sort the schools by `% Overall Passing` in descending order and display the top 5 rows.\u001b[39;00m\n\u001b[1;32m----> 2\u001b[0m top_schools \u001b[38;5;241m=\u001b[39m \u001b[43mper_school_summary\u001b[49m\u001b[38;5;241m.\u001b[39msort_values([\u001b[38;5;124m\"\u001b[39m\u001b[38;5;124m%\u001b[39m\u001b[38;5;124m Overall Passing\u001b[39m\u001b[38;5;124m\"\u001b[39m], ascending\u001b[38;5;241m=\u001b[39m\u001b[38;5;28;01mFalse\u001b[39;00m)\n\u001b[0;32m      3\u001b[0m top_schools\u001b[38;5;241m.\u001b[39mhead(\u001b[38;5;241m5\u001b[39m)\n",
      "\u001b[1;31mNameError\u001b[0m: name 'per_school_summary' is not defined"
     ]
    }
   ],
   "source": [
    "# Sort the schools by `% Overall Passing` in descending order and display the top 5 rows.\n",
    "top_schools = per_school_summary.sort_values([\"% Overall Passing\"], ascending=False)\n",
    "top_schools.head(5)\n"
   ]
  },
  {
   "cell_type": "markdown",
   "metadata": {},
   "source": [
    "## Bottom Performing Schools (By % Overall Passing)"
   ]
  },
  {
   "cell_type": "code",
   "execution_count": 40,
   "metadata": {},
   "outputs": [
    {
     "ename": "NameError",
     "evalue": "name 'per_school_summary' is not defined",
     "output_type": "error",
     "traceback": [
      "\u001b[1;31m---------------------------------------------------------------------------\u001b[0m",
      "\u001b[1;31mNameError\u001b[0m                                 Traceback (most recent call last)",
      "Cell \u001b[1;32mIn[40], line 2\u001b[0m\n\u001b[0;32m      1\u001b[0m \u001b[38;5;66;03m# Sort the schools by `% Overall Passing` in ascending order and display the top 5 rows.\u001b[39;00m\n\u001b[1;32m----> 2\u001b[0m bottom_schools \u001b[38;5;241m=\u001b[39m \u001b[43mper_school_summary\u001b[49m\u001b[38;5;241m.\u001b[39msort_values([\u001b[38;5;124m\"\u001b[39m\u001b[38;5;124m%\u001b[39m\u001b[38;5;124m Overall Passing\u001b[39m\u001b[38;5;124m\"\u001b[39m], ascending\u001b[38;5;241m=\u001b[39m\u001b[38;5;28;01mTrue\u001b[39;00m)\n\u001b[0;32m      3\u001b[0m bottom_schools\u001b[38;5;241m.\u001b[39mhead(\u001b[38;5;241m5\u001b[39m)\n",
      "\u001b[1;31mNameError\u001b[0m: name 'per_school_summary' is not defined"
     ]
    }
   ],
   "source": [
    "# Sort the schools by `% Overall Passing` in ascending order and display the top 5 rows.\n",
    "bottom_schools = per_school_summary.sort_values([\"% Overall Passing\"], ascending=True)\n",
    "bottom_schools.head(5)\n"
   ]
  },
  {
   "cell_type": "markdown",
   "metadata": {},
   "source": [
    "## Math Scores by Grade"
   ]
  },
  {
   "cell_type": "code",
   "execution_count": 41,
   "metadata": {},
   "outputs": [
    {
     "ename": "TypeError",
     "evalue": "agg function failed [how->mean,dtype->object]",
     "output_type": "error",
     "traceback": [
      "\u001b[1;31m---------------------------------------------------------------------------\u001b[0m",
      "\u001b[1;31mTypeError\u001b[0m                                 Traceback (most recent call last)",
      "File \u001b[1;32m~\\anaconda3\\envs\\dev\\lib\\site-packages\\pandas\\core\\groupby\\groupby.py:1942\u001b[0m, in \u001b[0;36mGroupBy._agg_py_fallback\u001b[1;34m(self, how, values, ndim, alt)\u001b[0m\n\u001b[0;32m   1941\u001b[0m \u001b[38;5;28;01mtry\u001b[39;00m:\n\u001b[1;32m-> 1942\u001b[0m     res_values \u001b[38;5;241m=\u001b[39m \u001b[38;5;28;43mself\u001b[39;49m\u001b[38;5;241;43m.\u001b[39;49m\u001b[43m_grouper\u001b[49m\u001b[38;5;241;43m.\u001b[39;49m\u001b[43magg_series\u001b[49m\u001b[43m(\u001b[49m\u001b[43mser\u001b[49m\u001b[43m,\u001b[49m\u001b[43m \u001b[49m\u001b[43malt\u001b[49m\u001b[43m,\u001b[49m\u001b[43m \u001b[49m\u001b[43mpreserve_dtype\u001b[49m\u001b[38;5;241;43m=\u001b[39;49m\u001b[38;5;28;43;01mTrue\u001b[39;49;00m\u001b[43m)\u001b[49m\n\u001b[0;32m   1943\u001b[0m \u001b[38;5;28;01mexcept\u001b[39;00m \u001b[38;5;167;01mException\u001b[39;00m \u001b[38;5;28;01mas\u001b[39;00m err:\n",
      "File \u001b[1;32m~\\anaconda3\\envs\\dev\\lib\\site-packages\\pandas\\core\\groupby\\ops.py:864\u001b[0m, in \u001b[0;36mBaseGrouper.agg_series\u001b[1;34m(self, obj, func, preserve_dtype)\u001b[0m\n\u001b[0;32m    862\u001b[0m     preserve_dtype \u001b[38;5;241m=\u001b[39m \u001b[38;5;28;01mTrue\u001b[39;00m\n\u001b[1;32m--> 864\u001b[0m result \u001b[38;5;241m=\u001b[39m \u001b[38;5;28;43mself\u001b[39;49m\u001b[38;5;241;43m.\u001b[39;49m\u001b[43m_aggregate_series_pure_python\u001b[49m\u001b[43m(\u001b[49m\u001b[43mobj\u001b[49m\u001b[43m,\u001b[49m\u001b[43m \u001b[49m\u001b[43mfunc\u001b[49m\u001b[43m)\u001b[49m\n\u001b[0;32m    866\u001b[0m npvalues \u001b[38;5;241m=\u001b[39m lib\u001b[38;5;241m.\u001b[39mmaybe_convert_objects(result, try_float\u001b[38;5;241m=\u001b[39m\u001b[38;5;28;01mFalse\u001b[39;00m)\n",
      "File \u001b[1;32m~\\anaconda3\\envs\\dev\\lib\\site-packages\\pandas\\core\\groupby\\ops.py:885\u001b[0m, in \u001b[0;36mBaseGrouper._aggregate_series_pure_python\u001b[1;34m(self, obj, func)\u001b[0m\n\u001b[0;32m    884\u001b[0m \u001b[38;5;28;01mfor\u001b[39;00m i, group \u001b[38;5;129;01min\u001b[39;00m \u001b[38;5;28menumerate\u001b[39m(splitter):\n\u001b[1;32m--> 885\u001b[0m     res \u001b[38;5;241m=\u001b[39m \u001b[43mfunc\u001b[49m\u001b[43m(\u001b[49m\u001b[43mgroup\u001b[49m\u001b[43m)\u001b[49m\n\u001b[0;32m    886\u001b[0m     res \u001b[38;5;241m=\u001b[39m extract_result(res)\n",
      "File \u001b[1;32m~\\anaconda3\\envs\\dev\\lib\\site-packages\\pandas\\core\\groupby\\groupby.py:2454\u001b[0m, in \u001b[0;36mGroupBy.mean.<locals>.<lambda>\u001b[1;34m(x)\u001b[0m\n\u001b[0;32m   2451\u001b[0m \u001b[38;5;28;01melse\u001b[39;00m:\n\u001b[0;32m   2452\u001b[0m     result \u001b[38;5;241m=\u001b[39m \u001b[38;5;28mself\u001b[39m\u001b[38;5;241m.\u001b[39m_cython_agg_general(\n\u001b[0;32m   2453\u001b[0m         \u001b[38;5;124m\"\u001b[39m\u001b[38;5;124mmean\u001b[39m\u001b[38;5;124m\"\u001b[39m,\n\u001b[1;32m-> 2454\u001b[0m         alt\u001b[38;5;241m=\u001b[39m\u001b[38;5;28;01mlambda\u001b[39;00m x: \u001b[43mSeries\u001b[49m\u001b[43m(\u001b[49m\u001b[43mx\u001b[49m\u001b[43m,\u001b[49m\u001b[43m \u001b[49m\u001b[43mcopy\u001b[49m\u001b[38;5;241;43m=\u001b[39;49m\u001b[38;5;28;43;01mFalse\u001b[39;49;00m\u001b[43m)\u001b[49m\u001b[38;5;241;43m.\u001b[39;49m\u001b[43mmean\u001b[49m\u001b[43m(\u001b[49m\u001b[43mnumeric_only\u001b[49m\u001b[38;5;241;43m=\u001b[39;49m\u001b[43mnumeric_only\u001b[49m\u001b[43m)\u001b[49m,\n\u001b[0;32m   2455\u001b[0m         numeric_only\u001b[38;5;241m=\u001b[39mnumeric_only,\n\u001b[0;32m   2456\u001b[0m     )\n\u001b[0;32m   2457\u001b[0m     \u001b[38;5;28;01mreturn\u001b[39;00m result\u001b[38;5;241m.\u001b[39m__finalize__(\u001b[38;5;28mself\u001b[39m\u001b[38;5;241m.\u001b[39mobj, method\u001b[38;5;241m=\u001b[39m\u001b[38;5;124m\"\u001b[39m\u001b[38;5;124mgroupby\u001b[39m\u001b[38;5;124m\"\u001b[39m)\n",
      "File \u001b[1;32m~\\anaconda3\\envs\\dev\\lib\\site-packages\\pandas\\core\\series.py:6549\u001b[0m, in \u001b[0;36mSeries.mean\u001b[1;34m(self, axis, skipna, numeric_only, **kwargs)\u001b[0m\n\u001b[0;32m   6541\u001b[0m \u001b[38;5;129m@doc\u001b[39m(make_doc(\u001b[38;5;124m\"\u001b[39m\u001b[38;5;124mmean\u001b[39m\u001b[38;5;124m\"\u001b[39m, ndim\u001b[38;5;241m=\u001b[39m\u001b[38;5;241m1\u001b[39m))\n\u001b[0;32m   6542\u001b[0m \u001b[38;5;28;01mdef\u001b[39;00m \u001b[38;5;21mmean\u001b[39m(\n\u001b[0;32m   6543\u001b[0m     \u001b[38;5;28mself\u001b[39m,\n\u001b[1;32m   (...)\u001b[0m\n\u001b[0;32m   6547\u001b[0m     \u001b[38;5;241m*\u001b[39m\u001b[38;5;241m*\u001b[39mkwargs,\n\u001b[0;32m   6548\u001b[0m ):\n\u001b[1;32m-> 6549\u001b[0m     \u001b[38;5;28;01mreturn\u001b[39;00m NDFrame\u001b[38;5;241m.\u001b[39mmean(\u001b[38;5;28mself\u001b[39m, axis, skipna, numeric_only, \u001b[38;5;241m*\u001b[39m\u001b[38;5;241m*\u001b[39mkwargs)\n",
      "File \u001b[1;32m~\\anaconda3\\envs\\dev\\lib\\site-packages\\pandas\\core\\generic.py:12420\u001b[0m, in \u001b[0;36mNDFrame.mean\u001b[1;34m(self, axis, skipna, numeric_only, **kwargs)\u001b[0m\n\u001b[0;32m  12413\u001b[0m \u001b[38;5;28;01mdef\u001b[39;00m \u001b[38;5;21mmean\u001b[39m(\n\u001b[0;32m  12414\u001b[0m     \u001b[38;5;28mself\u001b[39m,\n\u001b[0;32m  12415\u001b[0m     axis: Axis \u001b[38;5;241m|\u001b[39m \u001b[38;5;28;01mNone\u001b[39;00m \u001b[38;5;241m=\u001b[39m \u001b[38;5;241m0\u001b[39m,\n\u001b[1;32m   (...)\u001b[0m\n\u001b[0;32m  12418\u001b[0m     \u001b[38;5;241m*\u001b[39m\u001b[38;5;241m*\u001b[39mkwargs,\n\u001b[0;32m  12419\u001b[0m ) \u001b[38;5;241m-\u001b[39m\u001b[38;5;241m>\u001b[39m Series \u001b[38;5;241m|\u001b[39m \u001b[38;5;28mfloat\u001b[39m:\n\u001b[1;32m> 12420\u001b[0m     \u001b[38;5;28;01mreturn\u001b[39;00m \u001b[38;5;28mself\u001b[39m\u001b[38;5;241m.\u001b[39m_stat_function(\n\u001b[0;32m  12421\u001b[0m         \u001b[38;5;124m\"\u001b[39m\u001b[38;5;124mmean\u001b[39m\u001b[38;5;124m\"\u001b[39m, nanops\u001b[38;5;241m.\u001b[39mnanmean, axis, skipna, numeric_only, \u001b[38;5;241m*\u001b[39m\u001b[38;5;241m*\u001b[39mkwargs\n\u001b[0;32m  12422\u001b[0m     )\n",
      "File \u001b[1;32m~\\anaconda3\\envs\\dev\\lib\\site-packages\\pandas\\core\\generic.py:12377\u001b[0m, in \u001b[0;36mNDFrame._stat_function\u001b[1;34m(self, name, func, axis, skipna, numeric_only, **kwargs)\u001b[0m\n\u001b[0;32m  12375\u001b[0m validate_bool_kwarg(skipna, \u001b[38;5;124m\"\u001b[39m\u001b[38;5;124mskipna\u001b[39m\u001b[38;5;124m\"\u001b[39m, none_allowed\u001b[38;5;241m=\u001b[39m\u001b[38;5;28;01mFalse\u001b[39;00m)\n\u001b[1;32m> 12377\u001b[0m \u001b[38;5;28;01mreturn\u001b[39;00m \u001b[38;5;28;43mself\u001b[39;49m\u001b[38;5;241;43m.\u001b[39;49m\u001b[43m_reduce\u001b[49m\u001b[43m(\u001b[49m\n\u001b[0;32m  12378\u001b[0m \u001b[43m    \u001b[49m\u001b[43mfunc\u001b[49m\u001b[43m,\u001b[49m\u001b[43m \u001b[49m\u001b[43mname\u001b[49m\u001b[38;5;241;43m=\u001b[39;49m\u001b[43mname\u001b[49m\u001b[43m,\u001b[49m\u001b[43m \u001b[49m\u001b[43maxis\u001b[49m\u001b[38;5;241;43m=\u001b[39;49m\u001b[43maxis\u001b[49m\u001b[43m,\u001b[49m\u001b[43m \u001b[49m\u001b[43mskipna\u001b[49m\u001b[38;5;241;43m=\u001b[39;49m\u001b[43mskipna\u001b[49m\u001b[43m,\u001b[49m\u001b[43m \u001b[49m\u001b[43mnumeric_only\u001b[49m\u001b[38;5;241;43m=\u001b[39;49m\u001b[43mnumeric_only\u001b[49m\n\u001b[0;32m  12379\u001b[0m \u001b[43m\u001b[49m\u001b[43m)\u001b[49m\n",
      "File \u001b[1;32m~\\anaconda3\\envs\\dev\\lib\\site-packages\\pandas\\core\\series.py:6457\u001b[0m, in \u001b[0;36mSeries._reduce\u001b[1;34m(self, op, name, axis, skipna, numeric_only, filter_type, **kwds)\u001b[0m\n\u001b[0;32m   6453\u001b[0m     \u001b[38;5;28;01mraise\u001b[39;00m \u001b[38;5;167;01mTypeError\u001b[39;00m(\n\u001b[0;32m   6454\u001b[0m         \u001b[38;5;124mf\u001b[39m\u001b[38;5;124m\"\u001b[39m\u001b[38;5;124mSeries.\u001b[39m\u001b[38;5;132;01m{\u001b[39;00mname\u001b[38;5;132;01m}\u001b[39;00m\u001b[38;5;124m does not allow \u001b[39m\u001b[38;5;132;01m{\u001b[39;00mkwd_name\u001b[38;5;132;01m}\u001b[39;00m\u001b[38;5;124m=\u001b[39m\u001b[38;5;132;01m{\u001b[39;00mnumeric_only\u001b[38;5;132;01m}\u001b[39;00m\u001b[38;5;124m \u001b[39m\u001b[38;5;124m\"\u001b[39m\n\u001b[0;32m   6455\u001b[0m         \u001b[38;5;124m\"\u001b[39m\u001b[38;5;124mwith non-numeric dtypes.\u001b[39m\u001b[38;5;124m\"\u001b[39m\n\u001b[0;32m   6456\u001b[0m     )\n\u001b[1;32m-> 6457\u001b[0m \u001b[38;5;28;01mreturn\u001b[39;00m op(delegate, skipna\u001b[38;5;241m=\u001b[39mskipna, \u001b[38;5;241m*\u001b[39m\u001b[38;5;241m*\u001b[39mkwds)\n",
      "File \u001b[1;32m~\\anaconda3\\envs\\dev\\lib\\site-packages\\pandas\\core\\nanops.py:147\u001b[0m, in \u001b[0;36mbottleneck_switch.__call__.<locals>.f\u001b[1;34m(values, axis, skipna, **kwds)\u001b[0m\n\u001b[0;32m    146\u001b[0m \u001b[38;5;28;01melse\u001b[39;00m:\n\u001b[1;32m--> 147\u001b[0m     result \u001b[38;5;241m=\u001b[39m alt(values, axis\u001b[38;5;241m=\u001b[39maxis, skipna\u001b[38;5;241m=\u001b[39mskipna, \u001b[38;5;241m*\u001b[39m\u001b[38;5;241m*\u001b[39mkwds)\n\u001b[0;32m    149\u001b[0m \u001b[38;5;28;01mreturn\u001b[39;00m result\n",
      "File \u001b[1;32m~\\anaconda3\\envs\\dev\\lib\\site-packages\\pandas\\core\\nanops.py:404\u001b[0m, in \u001b[0;36m_datetimelike_compat.<locals>.new_func\u001b[1;34m(values, axis, skipna, mask, **kwargs)\u001b[0m\n\u001b[0;32m    402\u001b[0m     mask \u001b[38;5;241m=\u001b[39m isna(values)\n\u001b[1;32m--> 404\u001b[0m result \u001b[38;5;241m=\u001b[39m func(values, axis\u001b[38;5;241m=\u001b[39maxis, skipna\u001b[38;5;241m=\u001b[39mskipna, mask\u001b[38;5;241m=\u001b[39mmask, \u001b[38;5;241m*\u001b[39m\u001b[38;5;241m*\u001b[39mkwargs)\n\u001b[0;32m    406\u001b[0m \u001b[38;5;28;01mif\u001b[39;00m datetimelike:\n",
      "File \u001b[1;32m~\\anaconda3\\envs\\dev\\lib\\site-packages\\pandas\\core\\nanops.py:720\u001b[0m, in \u001b[0;36mnanmean\u001b[1;34m(values, axis, skipna, mask)\u001b[0m\n\u001b[0;32m    719\u001b[0m the_sum \u001b[38;5;241m=\u001b[39m values\u001b[38;5;241m.\u001b[39msum(axis, dtype\u001b[38;5;241m=\u001b[39mdtype_sum)\n\u001b[1;32m--> 720\u001b[0m the_sum \u001b[38;5;241m=\u001b[39m \u001b[43m_ensure_numeric\u001b[49m\u001b[43m(\u001b[49m\u001b[43mthe_sum\u001b[49m\u001b[43m)\u001b[49m\n\u001b[0;32m    722\u001b[0m \u001b[38;5;28;01mif\u001b[39;00m axis \u001b[38;5;129;01mis\u001b[39;00m \u001b[38;5;129;01mnot\u001b[39;00m \u001b[38;5;28;01mNone\u001b[39;00m \u001b[38;5;129;01mand\u001b[39;00m \u001b[38;5;28mgetattr\u001b[39m(the_sum, \u001b[38;5;124m\"\u001b[39m\u001b[38;5;124mndim\u001b[39m\u001b[38;5;124m\"\u001b[39m, \u001b[38;5;28;01mFalse\u001b[39;00m):\n",
      "File \u001b[1;32m~\\anaconda3\\envs\\dev\\lib\\site-packages\\pandas\\core\\nanops.py:1701\u001b[0m, in \u001b[0;36m_ensure_numeric\u001b[1;34m(x)\u001b[0m\n\u001b[0;32m   1699\u001b[0m \u001b[38;5;28;01mif\u001b[39;00m \u001b[38;5;28misinstance\u001b[39m(x, \u001b[38;5;28mstr\u001b[39m):\n\u001b[0;32m   1700\u001b[0m     \u001b[38;5;66;03m# GH#44008, GH#36703 avoid casting e.g. strings to numeric\u001b[39;00m\n\u001b[1;32m-> 1701\u001b[0m     \u001b[38;5;28;01mraise\u001b[39;00m \u001b[38;5;167;01mTypeError\u001b[39;00m(\u001b[38;5;124mf\u001b[39m\u001b[38;5;124m\"\u001b[39m\u001b[38;5;124mCould not convert string \u001b[39m\u001b[38;5;124m'\u001b[39m\u001b[38;5;132;01m{\u001b[39;00mx\u001b[38;5;132;01m}\u001b[39;00m\u001b[38;5;124m'\u001b[39m\u001b[38;5;124m to numeric\u001b[39m\u001b[38;5;124m\"\u001b[39m)\n\u001b[0;32m   1702\u001b[0m \u001b[38;5;28;01mtry\u001b[39;00m:\n",
      "\u001b[1;31mTypeError\u001b[0m: Could not convert string 'Blake MartinFrank MarshCharles Goodman Jr.Aaron MoyerMichael DeanRobin VegaKenneth JuarezGerald SmithDavid HernandezMatthew SinghJeremiah WhiteLisa AguilarDanielle HarrisKristin JohnsonKevin MartinAnna MyersTimothy HigginsAnthony FordNicole RoseChristopher LongMr. Michael AllenCasey JonesJoseph KellyDebra BrownJacqueline SheaSara MurphyNatalie GrantPeter MillerDavid CannonValerie MayApril FisherBradley HunterJohn WilliamsonAnthony SpencerJoseph AllenAngela WallJames FerrellRobert RodriguezDarius WilliamsBrian TrevinoAndrea GreenAustin JohnstonGuy ThomasDesiree GordonScott ClarkLinda SinghWilliam PerryTerry SantanaApril StevensAnthony TorresWayne GuerreroMonique CarterChristine LeeJay SmithRobert ReyesRichard MacdonaldJonathan TuckerChelsea KempMelissa BowmanWilliam SimpsonAmanda DavisBrandon MedinaPatricia WilliamsJeremy CharlesTyler GonzalezKristen GreenRichard WallerLaura LindseyMark AlvarezMatthew ThomasHeather GouldJacqueline SnowApril Calderon MDMichael WaltersErin HaleMichael AndersonPeggy BautistaGina BarberDavid HarrisNathan JonesAdam CruzPeter GonzalezBarbara RobinsonSteven WongAdam HerringPatricia MillerJim StevensJordan MclaughlinVincent MartinTracey BensonNatasha EverettErin ParksStephen ThompsonDaniel KingBenjamin MurrayKristen SmithJohn CarrilloMark BrowningEric Park DDSBrian MosleyPatricia MarshJennifer AndersonDanielle HoodMatthew CarterStephanie ThomasCathy MercadoSheila LewisPatrick Barker PhDAna BurnsChloe DownsJoshua FloresBianca BoyerWilliam ThompsonJonathan LongSamantha PattersonEmily PowellLouis WatersNathan DominguezKristin KellerJordan StewartBrian DunnEmily MartinJamie MillerNathan AtkinsonKelly MartinezCarlos RamirezAllen Morris Jr.Sarah RobertsPatricia HoBreanna MorrisEmily TurnerAlyssa RodriguezRichard JohnsonMary GreenMegan MillerWanda BaileyRenee RodriguezJeffrey PayneKari CharlesKelly HarmonShannon WeaverPatty NelsonAndrea JonesDale WhitakerKatherine DeanBrittney HenryAaron RodriguezDr. Carl JamesWilliam FrancisDanielle DyerMichael WagnerAmanda RogersPatricia JonesVictor MartinDr. Kimberly BenjaminMichelle BeckerJoseph NunezKeith AlvarezRicardo VazquezMatthew HawkinsNicole SmithSarah HodgeAmber BlevinsBenjamin BatesThomas MarshallAnna JohnsonRyan Graham MDTerri MillerTaylor DominguezLisa HarrisMichael RobinsonMelissa KellyChase RayTracy RodriguezYvonne WareJake MilesChristopher MyersCindy MurphyDylan JohnsonFrank NewmanLisa MyersKristine KellyMelissa AndersonMarissa BlevinsJason HallJoseph HernandezWanda MaddoxArthur KochNicholas DanielJerry RichardsJoel PittsThomas HerreraJennifer CarlsonJorge McdonaldStephanie Howard MDAlyssa WilliamsonPedro LongJames SmithGregory HerringDaniel BarrettTravis ComptonDaniel RowlandJonathon WillisAdam RodriguezDominique LloydJoyce RobertsJon GriffinJoseph ForbesDustin MarquezSean WellsDeanna CombsDanielle HayesKrystal ReynoldsCarl MartinezBrandon PopeAmanda RodriguezMarco WilliamsErica CollinsPenny NguyenLori LeeLori SmithBryan MooreJaclyn CobbVeronica DiazBarbara LarsenSteven HartmanMegan VillaAlex ConnerDanielle HurleyJames CalhounRyan GreenVeronica GomezWilliam SwansonLauren WestJohn BrownTonya SaundersDavid ThomasCrystal EdwardsCathy RamosChris RobertsKatherine TuckerJustin HillSarah AllenJessica BauerJames RodgersJacqueline EwingJacob ThomasNatalie JohnstonFelicia MatthewsRobert LawrenceJoshua MorganSierra JohnsonTravis HeathMelanie AndersonKenneth GarciaMaria BrockAdam PattonMatthew MezaAmanda JohnsonJesse HernandezPenny DeckerBobby WilliamsMargaret HortonRonnie BarrettAllen OnealGerald LangWilliam HudsonDerek SilvaDarlene LeeHarold JohnstonDonna ReedWanda PhillipsMegan JonesTheresa ShieldsMark LeeErica BakerVirginia BallardAaron AtkinsonBianca Huynh MDDaniel PhillipsThomas JohnsonNicole LopezAdam LambMonica RobersonDouglas RodriguezSarah OrtizDeanna MendozaMelissa Dunn MDLauren KochWilliam FrenchJared WashingtonJames JacksonMelissa SandovalMr. Angel JohnsonChad EvansDonald MyersNicole JohnsonWendy RiveraWilliam PinedaRebecca StoutDerek DiazTravis WebbShane PerezJasmine CampbellMason RaymondVincent EllisJoseph McgeeKatelyn DayAmy BeckerKenneth HughesKimberly FrazierMichael Garcia Jr.April HallJessica MatthewsMr. Daniel Nguyen DDSChristopher KelleyHeather WeaverTaylor GambleSteven BaileyRichard HernandezNancy McclurePaul ClarkeEric ArnoldElizabeth MeyerKaitlin BarrettAnthony PatelApril GillespieJohn SnyderRoy DeckerMatthew JonesKenneth MartinezKevin BrowningChristine IbarraMelissa BrownMichael PerezNorman BurnsJames MarshallTaylor CohenAlejandro CarterAllison GardnerEmily CollierDebbie Brown DVMAmy ShawTaylor MedinaLisa RichardsDana CruzJustin HenryRobert WeberTamara MooreKim StewartAdriana SmithJoshua Kim DDSCarol JohnsonMr. Jesse BellEmily WarrenAlexandra HendricksJulie MoralesJason JohnsonLisa JonesMonica SmithEric EdwardsMichael BurnettDerek MayPaul WoodMiguel JohnsonDouglas HardyKaitlyn ChambersCarlos YoungLindsay LinPhillip WashingtonAlexis MatthewsAndrew ThomasDerek Barker Jr.Jeremy WoodAndrew JimenezJennifer ButlerMrs. Renee GordonMichelle MurrayJennifer StoneDavid KirbySheila YoungHeather WatsonRobert RossKristen LunaDawn MartinezSavannah RamseyWilliam SalasHolly MooreJason CarterRyan SmithBrett EricksonChristina AyalaJames GarciaConnor CobbCrystal BuchananSherri PadillaJustin PowellVanessa TuckerTyler HarperRobert GreerBarry HallMargaret LeeDavid DiazRenee MonroeKristen MitchellSamantha MartinJessica FarmerCarlos BrownMiguel MaciasAlejandra WilliamsonMary GriffinMatthew GrantAnnette RossCarolyn MillerErica MillerMark MclaughlinJamie GibsonMatthew RiggsBetty IrwinFrederick LeeHelen GayCourtney ThompsonDiana ChapmanKenneth DiazKenneth HartmanRachel LopezCassandra BaldwinJose ButlerJohn LoveMrs. Amanda MartinMichael MooreJohn VaughnRebecca ChungDaniel HartMackenzie MasonDavid HarveyChristina ButlerSheila BrownJeffrey GalvanRegina ParkerTracy ChapmanEdward SmithShawn PetersonBryan GuerraHeather StokesMartha BestCynthia WolfeDavid TaylorRebecca HansenJessica CarneyJoshua SanchezRegina GarciaCourtney GibsonBrandon DelacruzTheresa SummersKarina LeePeter RileyChristopher OneillDaniel KleinKatherine EdwardsElizabeth ShermanWilliam BrewerLauren LoganAmanda WalkerAmanda McdanielKevin WilliamsMrs. Pamela GarciaAngela RojasBeth SullivanMarie StoutEmily AllenDanielle Stanton MDConnie BushErica ShawPhilip RobinsonMiguel SmithFrank HoffmanKevin ColemanAndrea HallMark BrownKathleen ValdezJessica WardRebecca GonzalesMike McdanielPamela HughesPamela RitterTimothy ScottStephen LawrenceTracey OchoaBridget BurkeJason WhiteMichelle WashingtonRaymond VargasJeffrey GreenMichael MontgomeryAlejandro BarnettElaine JamesBrianna WhiteAlyssa JenningsTony NelsonLaurie FergusonKelly WileyDustin PetersenChristopher WilkersonDr. David MillerCorey BenjaminCharles PerezKyle DeanTonya WalshWendy DavisJoshua LoveMichael AdamsMrs. Sheena Bailey DVMJoan CaldwellBridget GrahamBrian ChangAlicia ButlerJames BrownDiane VargasMichele OnealZachary Garrett IIIDavid JohnsonKristy PopeMadison BurnsCynthia MooreTaylor ReedNathan PrattAmanda MartinBarbara WhiteMichael GrimesLaura NobleKevin QuinnDavid StoneSeth GreenAmy MooreCarolyn AriasAmy Mcintosh MDChristina KhanDr. Frank AndersonBecky JonesKathleen RamirezCatherine WilsonSandra DuncanJeffrey RivasJordan CruzCindy CruzTina RodriguezDavid RiveraBrian SilvaJoseph MurphyDawn HernandezMichael PatelBreanna MercerDavid PayneRuth ArmstrongJennifer JamesRachael HortonAshley TorresDaniel CherryAmanda FieldsVernon RossMarie HernandezMichael KimKevin BarnettMary WilliamsPaul HallBrittney HughesRonald HickmanMallory HowardKendra YangJames TurnerThomas LewisPhillip BishopAndrea BartonChristopher MillerErin PhillipsHeather HallKatrina AdkinsNicole MitchellPatty RyanLinda GravesMargaret AndersonRichard DeckerDarren BrooksHeather SmithMatthew TaylorCynthia GreenChristopher PhillipsMegan OlsonTiffany SmithVictor SmithAmy ParkerKelly ColemanEric KnappJustin WilliamsMallory AndersonJohn ClarkAnne HansenTina ButlerCody SchaeferThomas Burgess MDJoseph HodgesDaniel MillsAmanda Hale DVMGregory SchneiderClinton NguyenRussell ThompsonMegan FlemingDebbie BlackwellLaura JenkinsJordan AndersonAmanda IbarraJonathan KrauseDr. Daniel BowmanTammy JohnsonLinda HerreraJonathan MartinezChristine JohnsonTanya FisherAngelica HumphreyJustin JohnstonApril RodriguezAmber ThompsonMelissa BanksLori Mitchell DDSAmy SmithRichard DayJennifer MackJames SmithNicole PettyTina HillZachary SchultzMrs. Pam Lewis DVMKelsey HarrisRobert MitchellKelly HopkinsAmanda GrahamAmy Gutierrez DDSDawn RamirezKenneth WardMelody ScottAshley BarryAngela WilkinsTodd SimmonsDavid LunaLeonard CoxPeter TuckerCynthia NelsonPeter MillerAaron GarciaPatrick WhitneyMargaret QuinnAmber MooreMatthew AguilarDenise CarterJared BrownAmber VillanuevaAmy CohenMichael LeeStephanie AriasJenna GreerCameron CordovaJeremy PayneNathan ArroyoRussell BanksJoshua RamirezJay KirkAlicia SchwartzAnna CamachoCarla WilsonJessica WrightWilliam BlackAshley TerryJeffery PowellDaniel SandersMichael GarnerMaria WilliamsBrenda RayChelsea LewisNicholas RamosJennifer WashingtonAudrey WellsBarbara WoodAndrea ThompsonJason CoxSarah RobinsonHeidi MartinJanet ChanJeffrey RobbinsTheresa NicholsAmy HansenJoshua BrownKent ShermanEddie AlvarezYvonne Robinson PhDJennifer RamosTracy MorrisonCrystal JohnsonApril TrujilloLisa SanchezDeborah NelsonKevin GoodwinAbigail PerezDonna RoseAndrew WintersJessica HartLauren KlineGregory AllisonThomas JohnsonVanessa StevensonKathleen BeltranMartha Mcdonald DVMKevin JohnsonDr. Mary SchwartzAnthony MeadowsErnest PowellDavid FergusonMariah HoltNancy MartinStacey ThompsonAndrew RyanMallory ChenErika BurchRobert MorrowAustin ChavezJustin WilsonLisa MurrayJeremy WattsJustin ChenRenee BuckleyShannon PriceBarbara WhiteheadJackie KirkAngel MayerDeborah AndersonJacqueline West DDSAnita ZunigaDavid ChapmanBeverly BauerJessica NguyenMelissa LewisAmanda SchaeferJacqueline Snow MDMarcus RushAngela StewartJorge HoDr. Jennifer SheaChristopher CantuJonathan HaleErin BowersAnthony HernandezEduardo SantiagoDana HaynesClayton Williams DVMNatalie WhitakerFrances WhiteMeghan AdamsStephen FitzgeraldAmy BairdMolly BrownAmanda SloanEric WilliamsEmma VasquezSherry GomezAaron CarterAlan ScottJennifer CannonLindsay NicholsonStephanie JonesJose SmithKimberly MooreMelissa SchultzSteven CalhounJohn BallZachary WilliamsKimberly JacksonKristen WilliamsonSamantha HoffmanDanielle GonzalezCharles IngramTimothy GravesAnna RodriguezAmanda KaneJoseph JonesDebra JacksonErik DunlapMeghan HarperJennifer PinedaJohn WhiteKaren FischerTodd DavisLarry Chandler Jr.Veronica PotterRobert VelezAshley WeissErika JohnsonJesus GordonKathy JacksonAshley WilliamsJuan LopezAnna HaynesDon MurrayJohn GarzaSteven WhiteDavid SalazarDaniel WrightRebecca MolinaBetty EricksonCameron Roman Jr.Kelly PierceSergio McfarlandJeffrey ChavezAmanda GalvanRonald PooleJohn WallaceGina AguilarMelissa SullivanJeffery ToddDaniel BurtonJulie AllisonCarolyn CookMike AllenAngela CostaKarina CalderonFelicia CampbellElizabeth DixonNancy WheelerMichael WatsonJennifer LevinePhilip ArnoldCrystal GonzalesMr. Ian SmithLawrence JohnsonPeter JonesChristopher RamirezNicolas JohnsonStephanie RhodesSarah MillerScott CortezChristopher CarrollWilliam RodriguezWyatt HarrisJacob CarlsonJason PerryJoshua FoxJames PerkinsChristine SanfordSarah SnyderDana ChavezJose HansenMelissa Hunt MDFrank RiveraLeah BishopAudrey FieldsRenee Garcia MDAngela WallJose GoldenAndrew RichardsonCynthia McleanMelissa FordKelsey SmithHeidi MasonLaura JohnsonAmanda MooreRobert AndersonMichael RobbinsSamantha ScottJoseph WareMaria DavisKenneth WatkinsMrs. Lori Rogers MDFrank BlackwellMichele TorresJason FergusonWilliam DurhamNicole HaynesCraig MorganEvan WilsonKenneth OlsonSeth GreenRoberto EscobarJustin SchneiderSarah PadillaAshley GardnerCourtney LutzAlbert SheaJennifer McguireJoseph RamosVictoria BakerClaudia WoodScott HughesCassandra HaasKathryn HannaDiana PhelpsKari HuangSara WellsJordan PetersonFrederick RochaKathryn YoungBrittany HodgesSherry GutierrezJohn GrantBenjamin RoweChelsey VillanuevaAlexandra MccarthyRhonda GarciaJon MatthewsKristen HartmanLynn RivasBrandy WestCarmen ThomasThomas LarsonKathryn CoxTasha ButlerChristopher ThompsonCollin ThomasJulia GeorgeChristopher ShermanAmy BooneJames JensenMonica BerryJonathan MckenzieMrs. Christina Mitchell DDSKatherine BrownJordan BrownElizabeth BrownColton KelleyMelanie KentElizabeth VargasNathan RomanAngela JonesAngela LopezBrian ThomasDouglas HawkinsIan GallagherJeffrey GarrisonTeresa WilliamsJustin MillerJill BakerJessica MitchellJoseph GeorgeCandace FrankEric SotoEmily Duran MDRandall MyersTravis LopezElizabeth GonzalezBrian HoldenTodd Grant Jr.Reginald AlvaradoMark BryantDesiree ClarkJulia ChristianTerry FuentesChristina MartinOlivia RiceKristen NealTimothy BrayJennifer YoungSonya JuarezCharles AveryJohnny BanksJames SanchezScott ProctorJessica MoranRobert FernandezMeredith MckeeKathryn StanleyRichard PooleStephanie GarnerStacey ContrerasCheryl OsborneNathaniel JohnsonRandy LewisMichelle DavisJonathan YoungAngel JacksonMichael KennedyLisa PinedaJennifer MurrayKristopher MurphyRobert WagnerMichael HowellMeagan WhitneyChristopher DavisRhonda LynchTara MarshKeith AndersonAdriana SnyderMelanie MillsAllison JohnsonDebra HowardJustin MartinezDarius AtkinsonTimothy JacksonAlison SmithCatherine HortonAndrew TaylorHunter FitzpatrickSarah KirkKristina GarzaZachary ChavezMrs. Wendy HayesKenneth Santiago MDAnthony JenkinsTeresa LeonardJonathan AdamsDr. Matthew HernandezDouglas HamiltonIan WilliamsTroy ScottChristopher LambLouis Hodges DDSRonald MartinezMonica CochranHarry SnowAmanda ColeJustin LeeSamantha CooperChristopher SmithDiane BradfordJeanette YoungLarry MonroeBradley MurphyNina ThomasMr. Michael GrahamDaniel OlsonAndrew HerreraMichelle FoxMike HillErika LoganJulia HowellWilliam BradleyElizabeth ParkAnthony SmithDonald ReevesJordan WardJeanne Fischer MDWilliam HinesJason SullivanMrs. Amanda RoseRobert HinesKimberly CollinsVeronica McmillanTeresa PerezMatthew McdonaldJason HuntRichard LevinePatricia PerryJohnny SchneiderJessica SmithAlan BurnettBobby NobleCatherine HarrisValerie ObrienRebecca Salazar DDSChristopher NelsonDiana PonceKenneth RaymondRay HoffmanMary GarzaRobert DiazMarie StanleyAmanda SolomonScott BrewerKathy BrightKristen CrossAbigail YoungMichael CooperDavid DavisSteven MyersNancy RossMark EverettSteve WalkerJonathan ByrdNicholas DiazStacy DavisAngela TownsendRichard Cherry DDSTimothy GriffinJames Holland MDNicholas TannerDavid DavisDaniel MartinezLauren CampbellTimothy GomezRobert LandryJamie BaileyKenneth AlexanderMatthew GarciaTanya HawkinsJacob PorterDr. Patricia BakerRebecca FloydMark JordanBryan MayerJenna DickersonMary EatonCynthia GeorgeKathy BurgessBrett JenningsFrank RobersonBrandon GardnerKim LewisEdward MunozDr. Rachel GilbertDonna RiddleChristopher TateMichael DavisLouis McdanielNicole BurgessDavid JensenNicole GoodwinChristopher WelchJared LynchNicole BuckDavid GutierrezStephanie HarrisonWilliam PetersonMolly MasonAlbert WrightJoshua FernandezKendra WardEarl CaldwellShane MartinezElizabeth JohnsonMelissa ParksJennifer PettyMichael LeeAustin MooreDustin MossKristine WadeJeffrey DavisLisa VasquezKenneth Avila Jr.Sergio MayDavid RichardsonAndrew PierceChristian MuellerDavid WoodRobin BrownTimothy HillSteven WebsterHenry RamirezMichael RomeroJody HunterCaitlyn SmithDesiree CastroMelanie EsparzaHolly McphersonZachary RiveraChristine HillBrandon FlowersMichael TuckerMisty HatfieldChristine BurtonJames SmithTracy SteinCharles HoltAmy BrownSummer HuntTodd WilliamsSteven NelsonMelissa TranShelby RodriguezBrian MoralesJennifer HuangElizabeth MunozSteven NewtonRobyn HernandezNicholas JonesCurtis LeeDr. Andrea RoseWendy PetersonJennifer HernandezCorey BerryNicole WilliamsRita ReynoldsSara OwensEvan MooreSarah BryantGail CampbellDylan FrancoLindsey NobleMatthew JacksonMorgan ThomasElizabeth ChaseErnest BarnesRichard SheltonKaren BridgesCynthia StoneKristin SloanJennifer CunninghamRebecca ChapmanStacey TerryJohn ShawMr. Eric GordonAmber DiazRachel KellyAshley WalterDaniel HaleyRobert HendrixDonna HolmesKenneth HowardDonald MillsMichael ScottThomas SandersTeresa SullivanBriana LucasKyle RobertsSheri ThomasJordan PattersonDeborah RollinsAllison WhiteTimothy StewartAmanda NelsonSydney KimThomas HinesMichael FoleyAnthony WadeRobert PerezWendy FinleySabrina RasmussenBilly Franco PhDJason FlemingMaxwell LeonardJonathan CooperRandy BlakeMatthew MillsTracy EspinozaBrandy KellerAnita ScottDiana BradleyJohn GonzalezAngela SimpsonHannah HicksCody WilcoxShane DavisThomas WallsDr. Alexander Chang PhDMr. Robert HendricksKimberly JonesMichele MooreLaura MillerJennifer GonzalezVanessa GarciaGerald KimWendy ShepardHarold PetersonEddie WilliamsShawn ObrienRobert HaneyKathryn GonzalesAmy RiceHannah BruceMichele TerryJennifer JohnsonDavid WrightCarlos SmithErnest WongWilliam PottsMark JeffersonNicole RollinsJohn QuinnAndrew ReidKristen KingMatthew WilsonArthur LeeLori WilliamsDaniel GarciaMs. Stephanie Schwartz DDSLoretta PerezRandall BanksAdrian DavisDebra SmithMary LawsonWhitney EstesMorgan AllenSteven HansonAustin KellyGrace HarrisonJose SchmittNatasha DaviesLawrence ZhangMichael BoydBarbara AndersonShannon BlairCarolyn HawkinsCharles MorrisDerrick CarrollCynthia MartinezJesus BooneRebecca JohnsonAndrew AllisonMadeline MonroeCristina HobbsLindsey NavarroMichael NielsenJason BrownBreanna MooreDonald MartinezAbigail EspinozaAdam GriffinKarla McneilRebecca KnappAlicia JohnsonGabriel ArroyoEdward EdwardsDaniel JohnsonKevin LongDr. Devin Sharp PhDKenneth AriasShannon TateKrystal MarshallAlexander McculloughRichard SmithMeagan BakerDavid FullerChad SmithRichard ReyesMadison WagnerWilliam BowenAnthony AlvaradoBrittney Hammond DVMBrandon BrownKristopher WrightMark WarrenElizabeth FrazierMark BaileyChristopher MontgomeryElizabeth WallerLouis WoodsBrandy MitchellRoger KingTara DouglasMelissa OwensDavid GonzalezTodd WilliamsNathaniel OconnellTravis GreenLuke FryDouglas WoodsChristopher SilvaJacob TerryNancy HarrisonMichael SullivanMiss Norma McfarlandLaurie DoughertyJoshua TaylorAndrew CampbellHeather BellBradley MartinezAmy LeeDavid GoodAaron NelsonRobert TylerJaclyn WilliamsJoe KochDerek LopezAngela BryantWalter MaxwellDennis KleinNancy NelsonJason DrakeMary AcevedoDakota AdamsDaryl GregoryKathleen LoveJames ChavezDawn LewisEric ThompsonBrittany EdwardsCharles BaileyGina SimsJohn McdanielHeather ScottChristine GarciaTracy LoweryJay RobertsBrandon OrtizElizabeth EllisonPatricia WoodTroy MorganAdriana WallEric LewisRobert DukeCarol TorresRobert HooperMandy HensleyKayla PetersenReginald MolinaTasha GrayDawn ChristensenMarcus WilsonJason RodriguezKimberly FisherMichael JohnsonPatricia VillanuevaDavid TorresHeather RobinsonKathryn BernardDebbie TurnerKayla BurtonAmanda BatesKathleen KnoxMr. Colton Collins IIJamie MasonDwayne SmithCynthia CastilloBrandon WilliamsCrystal MaldonadoHaley GreenKimberly PorterElizabeth CarrilloJames HowellAnthony WelchTammie RogersSteven LeSharon PadillaJonathan GardnerJulie DavisStacie HollandDiana GarrettJessica SchmidtMallory GravesKerry HendersonBrandon VaughnAnita WilsonNancy SmithAshley LopezMichael ParkMr. Mason Hernandez MDCindy PowellKayla ScottKimberly JohnstonAnn FloresBrittney AdamsPatricia MillerJonathan GallowayVeronica GriffithMichelle RamosJoe NunezKathy BushEmily HessChase HortonBrittany CarrCharles GonzalezThomas AlvarezJason OrtizRhonda FergusonBrenda DixonKenneth BrooksTyler SmithAlison AndersonBethany HarveyNicholas CostaRyan AllenGabriel Ashley' to numeric",
      "\nThe above exception was the direct cause of the following exception:\n",
      "\u001b[1;31mTypeError\u001b[0m                                 Traceback (most recent call last)",
      "Cell \u001b[1;32mIn[41], line 8\u001b[0m\n\u001b[0;32m      5\u001b[0m twelfth_graders \u001b[38;5;241m=\u001b[39m school_data_complete[(school_data_complete[\u001b[38;5;124m\"\u001b[39m\u001b[38;5;124mgrade\u001b[39m\u001b[38;5;124m\"\u001b[39m] \u001b[38;5;241m==\u001b[39m \u001b[38;5;124m\"\u001b[39m\u001b[38;5;124m12th\u001b[39m\u001b[38;5;124m\"\u001b[39m)]\n\u001b[0;32m      7\u001b[0m \u001b[38;5;66;03m# Group by `school_name` and take the mean of the `math_score` column for each.\u001b[39;00m\n\u001b[1;32m----> 8\u001b[0m ninth_grade_math_scores \u001b[38;5;241m=\u001b[39m \u001b[43mninth_graders\u001b[49m\u001b[38;5;241;43m.\u001b[39;49m\u001b[43mgroupby\u001b[49m\u001b[43m(\u001b[49m\u001b[43m[\u001b[49m\u001b[38;5;124;43m\"\u001b[39;49m\u001b[38;5;124;43mschool_name\u001b[39;49m\u001b[38;5;124;43m\"\u001b[39;49m\u001b[43m]\u001b[49m\u001b[43m)\u001b[49m\u001b[38;5;241;43m.\u001b[39;49m\u001b[43mmean\u001b[49m\u001b[43m(\u001b[49m\u001b[43m)\u001b[49m[\u001b[38;5;124m\"\u001b[39m\u001b[38;5;124mmath_score\u001b[39m\u001b[38;5;124m\"\u001b[39m]\n\u001b[0;32m      9\u001b[0m tenth_grade_math_scores \u001b[38;5;241m=\u001b[39m tenth_graders\u001b[38;5;241m.\u001b[39mgroupby([\u001b[38;5;124m\"\u001b[39m\u001b[38;5;124mschool_name\u001b[39m\u001b[38;5;124m\"\u001b[39m])\u001b[38;5;241m.\u001b[39mmean()[\u001b[38;5;124m\"\u001b[39m\u001b[38;5;124mmath_score\u001b[39m\u001b[38;5;124m\"\u001b[39m]\n\u001b[0;32m     10\u001b[0m eleventh_grade_math_scores \u001b[38;5;241m=\u001b[39m eleventh_graders\u001b[38;5;241m.\u001b[39mgroupby([\u001b[38;5;124m\"\u001b[39m\u001b[38;5;124mschool_name\u001b[39m\u001b[38;5;124m\"\u001b[39m])\u001b[38;5;241m.\u001b[39mmean()[\u001b[38;5;124m\"\u001b[39m\u001b[38;5;124mmath_score\u001b[39m\u001b[38;5;124m\"\u001b[39m]\n",
      "File \u001b[1;32m~\\anaconda3\\envs\\dev\\lib\\site-packages\\pandas\\core\\groupby\\groupby.py:2452\u001b[0m, in \u001b[0;36mGroupBy.mean\u001b[1;34m(self, numeric_only, engine, engine_kwargs)\u001b[0m\n\u001b[0;32m   2445\u001b[0m     \u001b[38;5;28;01mreturn\u001b[39;00m \u001b[38;5;28mself\u001b[39m\u001b[38;5;241m.\u001b[39m_numba_agg_general(\n\u001b[0;32m   2446\u001b[0m         grouped_mean,\n\u001b[0;32m   2447\u001b[0m         executor\u001b[38;5;241m.\u001b[39mfloat_dtype_mapping,\n\u001b[0;32m   2448\u001b[0m         engine_kwargs,\n\u001b[0;32m   2449\u001b[0m         min_periods\u001b[38;5;241m=\u001b[39m\u001b[38;5;241m0\u001b[39m,\n\u001b[0;32m   2450\u001b[0m     )\n\u001b[0;32m   2451\u001b[0m \u001b[38;5;28;01melse\u001b[39;00m:\n\u001b[1;32m-> 2452\u001b[0m     result \u001b[38;5;241m=\u001b[39m \u001b[38;5;28;43mself\u001b[39;49m\u001b[38;5;241;43m.\u001b[39;49m\u001b[43m_cython_agg_general\u001b[49m\u001b[43m(\u001b[49m\n\u001b[0;32m   2453\u001b[0m \u001b[43m        \u001b[49m\u001b[38;5;124;43m\"\u001b[39;49m\u001b[38;5;124;43mmean\u001b[39;49m\u001b[38;5;124;43m\"\u001b[39;49m\u001b[43m,\u001b[49m\n\u001b[0;32m   2454\u001b[0m \u001b[43m        \u001b[49m\u001b[43malt\u001b[49m\u001b[38;5;241;43m=\u001b[39;49m\u001b[38;5;28;43;01mlambda\u001b[39;49;00m\u001b[43m \u001b[49m\u001b[43mx\u001b[49m\u001b[43m:\u001b[49m\u001b[43m \u001b[49m\u001b[43mSeries\u001b[49m\u001b[43m(\u001b[49m\u001b[43mx\u001b[49m\u001b[43m,\u001b[49m\u001b[43m \u001b[49m\u001b[43mcopy\u001b[49m\u001b[38;5;241;43m=\u001b[39;49m\u001b[38;5;28;43;01mFalse\u001b[39;49;00m\u001b[43m)\u001b[49m\u001b[38;5;241;43m.\u001b[39;49m\u001b[43mmean\u001b[49m\u001b[43m(\u001b[49m\u001b[43mnumeric_only\u001b[49m\u001b[38;5;241;43m=\u001b[39;49m\u001b[43mnumeric_only\u001b[49m\u001b[43m)\u001b[49m\u001b[43m,\u001b[49m\n\u001b[0;32m   2455\u001b[0m \u001b[43m        \u001b[49m\u001b[43mnumeric_only\u001b[49m\u001b[38;5;241;43m=\u001b[39;49m\u001b[43mnumeric_only\u001b[49m\u001b[43m,\u001b[49m\n\u001b[0;32m   2456\u001b[0m \u001b[43m    \u001b[49m\u001b[43m)\u001b[49m\n\u001b[0;32m   2457\u001b[0m     \u001b[38;5;28;01mreturn\u001b[39;00m result\u001b[38;5;241m.\u001b[39m__finalize__(\u001b[38;5;28mself\u001b[39m\u001b[38;5;241m.\u001b[39mobj, method\u001b[38;5;241m=\u001b[39m\u001b[38;5;124m\"\u001b[39m\u001b[38;5;124mgroupby\u001b[39m\u001b[38;5;124m\"\u001b[39m)\n",
      "File \u001b[1;32m~\\anaconda3\\envs\\dev\\lib\\site-packages\\pandas\\core\\groupby\\groupby.py:1998\u001b[0m, in \u001b[0;36mGroupBy._cython_agg_general\u001b[1;34m(self, how, alt, numeric_only, min_count, **kwargs)\u001b[0m\n\u001b[0;32m   1995\u001b[0m     result \u001b[38;5;241m=\u001b[39m \u001b[38;5;28mself\u001b[39m\u001b[38;5;241m.\u001b[39m_agg_py_fallback(how, values, ndim\u001b[38;5;241m=\u001b[39mdata\u001b[38;5;241m.\u001b[39mndim, alt\u001b[38;5;241m=\u001b[39malt)\n\u001b[0;32m   1996\u001b[0m     \u001b[38;5;28;01mreturn\u001b[39;00m result\n\u001b[1;32m-> 1998\u001b[0m new_mgr \u001b[38;5;241m=\u001b[39m \u001b[43mdata\u001b[49m\u001b[38;5;241;43m.\u001b[39;49m\u001b[43mgrouped_reduce\u001b[49m\u001b[43m(\u001b[49m\u001b[43marray_func\u001b[49m\u001b[43m)\u001b[49m\n\u001b[0;32m   1999\u001b[0m res \u001b[38;5;241m=\u001b[39m \u001b[38;5;28mself\u001b[39m\u001b[38;5;241m.\u001b[39m_wrap_agged_manager(new_mgr)\n\u001b[0;32m   2000\u001b[0m \u001b[38;5;28;01mif\u001b[39;00m how \u001b[38;5;129;01min\u001b[39;00m [\u001b[38;5;124m\"\u001b[39m\u001b[38;5;124midxmin\u001b[39m\u001b[38;5;124m\"\u001b[39m, \u001b[38;5;124m\"\u001b[39m\u001b[38;5;124midxmax\u001b[39m\u001b[38;5;124m\"\u001b[39m]:\n",
      "File \u001b[1;32m~\\anaconda3\\envs\\dev\\lib\\site-packages\\pandas\\core\\internals\\managers.py:1469\u001b[0m, in \u001b[0;36mBlockManager.grouped_reduce\u001b[1;34m(self, func)\u001b[0m\n\u001b[0;32m   1465\u001b[0m \u001b[38;5;28;01mif\u001b[39;00m blk\u001b[38;5;241m.\u001b[39mis_object:\n\u001b[0;32m   1466\u001b[0m     \u001b[38;5;66;03m# split on object-dtype blocks bc some columns may raise\u001b[39;00m\n\u001b[0;32m   1467\u001b[0m     \u001b[38;5;66;03m#  while others do not.\u001b[39;00m\n\u001b[0;32m   1468\u001b[0m     \u001b[38;5;28;01mfor\u001b[39;00m sb \u001b[38;5;129;01min\u001b[39;00m blk\u001b[38;5;241m.\u001b[39m_split():\n\u001b[1;32m-> 1469\u001b[0m         applied \u001b[38;5;241m=\u001b[39m \u001b[43msb\u001b[49m\u001b[38;5;241;43m.\u001b[39;49m\u001b[43mapply\u001b[49m\u001b[43m(\u001b[49m\u001b[43mfunc\u001b[49m\u001b[43m)\u001b[49m\n\u001b[0;32m   1470\u001b[0m         result_blocks \u001b[38;5;241m=\u001b[39m extend_blocks(applied, result_blocks)\n\u001b[0;32m   1471\u001b[0m \u001b[38;5;28;01melse\u001b[39;00m:\n",
      "File \u001b[1;32m~\\anaconda3\\envs\\dev\\lib\\site-packages\\pandas\\core\\internals\\blocks.py:393\u001b[0m, in \u001b[0;36mBlock.apply\u001b[1;34m(self, func, **kwargs)\u001b[0m\n\u001b[0;32m    387\u001b[0m \u001b[38;5;129m@final\u001b[39m\n\u001b[0;32m    388\u001b[0m \u001b[38;5;28;01mdef\u001b[39;00m \u001b[38;5;21mapply\u001b[39m(\u001b[38;5;28mself\u001b[39m, func, \u001b[38;5;241m*\u001b[39m\u001b[38;5;241m*\u001b[39mkwargs) \u001b[38;5;241m-\u001b[39m\u001b[38;5;241m>\u001b[39m \u001b[38;5;28mlist\u001b[39m[Block]:\n\u001b[0;32m    389\u001b[0m \u001b[38;5;250m    \u001b[39m\u001b[38;5;124;03m\"\"\"\u001b[39;00m\n\u001b[0;32m    390\u001b[0m \u001b[38;5;124;03m    apply the function to my values; return a block if we are not\u001b[39;00m\n\u001b[0;32m    391\u001b[0m \u001b[38;5;124;03m    one\u001b[39;00m\n\u001b[0;32m    392\u001b[0m \u001b[38;5;124;03m    \"\"\"\u001b[39;00m\n\u001b[1;32m--> 393\u001b[0m     result \u001b[38;5;241m=\u001b[39m func(\u001b[38;5;28mself\u001b[39m\u001b[38;5;241m.\u001b[39mvalues, \u001b[38;5;241m*\u001b[39m\u001b[38;5;241m*\u001b[39mkwargs)\n\u001b[0;32m    395\u001b[0m     result \u001b[38;5;241m=\u001b[39m maybe_coerce_values(result)\n\u001b[0;32m    396\u001b[0m     \u001b[38;5;28;01mreturn\u001b[39;00m \u001b[38;5;28mself\u001b[39m\u001b[38;5;241m.\u001b[39m_split_op_result(result)\n",
      "File \u001b[1;32m~\\anaconda3\\envs\\dev\\lib\\site-packages\\pandas\\core\\groupby\\groupby.py:1995\u001b[0m, in \u001b[0;36mGroupBy._cython_agg_general.<locals>.array_func\u001b[1;34m(values)\u001b[0m\n\u001b[0;32m   1992\u001b[0m     \u001b[38;5;28;01mreturn\u001b[39;00m result\n\u001b[0;32m   1994\u001b[0m \u001b[38;5;28;01massert\u001b[39;00m alt \u001b[38;5;129;01mis\u001b[39;00m \u001b[38;5;129;01mnot\u001b[39;00m \u001b[38;5;28;01mNone\u001b[39;00m\n\u001b[1;32m-> 1995\u001b[0m result \u001b[38;5;241m=\u001b[39m \u001b[38;5;28;43mself\u001b[39;49m\u001b[38;5;241;43m.\u001b[39;49m\u001b[43m_agg_py_fallback\u001b[49m\u001b[43m(\u001b[49m\u001b[43mhow\u001b[49m\u001b[43m,\u001b[49m\u001b[43m \u001b[49m\u001b[43mvalues\u001b[49m\u001b[43m,\u001b[49m\u001b[43m \u001b[49m\u001b[43mndim\u001b[49m\u001b[38;5;241;43m=\u001b[39;49m\u001b[43mdata\u001b[49m\u001b[38;5;241;43m.\u001b[39;49m\u001b[43mndim\u001b[49m\u001b[43m,\u001b[49m\u001b[43m \u001b[49m\u001b[43malt\u001b[49m\u001b[38;5;241;43m=\u001b[39;49m\u001b[43malt\u001b[49m\u001b[43m)\u001b[49m\n\u001b[0;32m   1996\u001b[0m \u001b[38;5;28;01mreturn\u001b[39;00m result\n",
      "File \u001b[1;32m~\\anaconda3\\envs\\dev\\lib\\site-packages\\pandas\\core\\groupby\\groupby.py:1946\u001b[0m, in \u001b[0;36mGroupBy._agg_py_fallback\u001b[1;34m(self, how, values, ndim, alt)\u001b[0m\n\u001b[0;32m   1944\u001b[0m     msg \u001b[38;5;241m=\u001b[39m \u001b[38;5;124mf\u001b[39m\u001b[38;5;124m\"\u001b[39m\u001b[38;5;124magg function failed [how->\u001b[39m\u001b[38;5;132;01m{\u001b[39;00mhow\u001b[38;5;132;01m}\u001b[39;00m\u001b[38;5;124m,dtype->\u001b[39m\u001b[38;5;132;01m{\u001b[39;00mser\u001b[38;5;241m.\u001b[39mdtype\u001b[38;5;132;01m}\u001b[39;00m\u001b[38;5;124m]\u001b[39m\u001b[38;5;124m\"\u001b[39m\n\u001b[0;32m   1945\u001b[0m     \u001b[38;5;66;03m# preserve the kind of exception that raised\u001b[39;00m\n\u001b[1;32m-> 1946\u001b[0m     \u001b[38;5;28;01mraise\u001b[39;00m \u001b[38;5;28mtype\u001b[39m(err)(msg) \u001b[38;5;28;01mfrom\u001b[39;00m \u001b[38;5;21;01merr\u001b[39;00m\n\u001b[0;32m   1948\u001b[0m \u001b[38;5;28;01mif\u001b[39;00m ser\u001b[38;5;241m.\u001b[39mdtype \u001b[38;5;241m==\u001b[39m \u001b[38;5;28mobject\u001b[39m:\n\u001b[0;32m   1949\u001b[0m     res_values \u001b[38;5;241m=\u001b[39m res_values\u001b[38;5;241m.\u001b[39mastype(\u001b[38;5;28mobject\u001b[39m, copy\u001b[38;5;241m=\u001b[39m\u001b[38;5;28;01mFalse\u001b[39;00m)\n",
      "\u001b[1;31mTypeError\u001b[0m: agg function failed [how->mean,dtype->object]"
     ]
    }
   ],
   "source": [
    "# Use the code provided to separate the data by grade\n",
    "ninth_graders = school_data_complete[(school_data_complete[\"grade\"] == \"9th\")]\n",
    "tenth_graders = school_data_complete[(school_data_complete[\"grade\"] == \"10th\")]\n",
    "eleventh_graders = school_data_complete[(school_data_complete[\"grade\"] == \"11th\")]\n",
    "twelfth_graders = school_data_complete[(school_data_complete[\"grade\"] == \"12th\")]\n",
    "\n",
    "# Group by `school_name` and take the mean of the `math_score` column for each.\n",
    "ninth_grade_math_scores = ninth_graders.groupby([\"school_name\"]).mean()[\"math_score\"]\n",
    "tenth_grade_math_scores = tenth_graders.groupby([\"school_name\"]).mean()[\"math_score\"]\n",
    "eleventh_grade_math_scores = eleventh_graders.groupby([\"school_name\"]).mean()[\"math_score\"]\n",
    "twelfth_grade_math_scores = twelfth_graders.groupby([\"school_name\"]).mean()[\"math_score\"]\n",
    "\n",
    "\n",
    "# Combine each of the scores above into single DataFrame called `math_scores_by_grade`\n",
    "math_scores_by_grade = pd.DataFrame({\n",
    "    \"9th\": ninth_grade_math_scores,\n",
    "    \"10th\": tenth_grade_math_scores,\n",
    "    \"11th\": eleventh_grade_math_scores,\n",
    "    \"12th\": twelfth_grade_math_scores\n",
    "})\n",
    "\n",
    "# Minor data wrangling\n",
    "math_scores_by_grade.index.name = None\n",
    "\n",
    "# Display the DataFrame\n",
    "math_scores_by_grade\n"
   ]
  },
  {
   "cell_type": "markdown",
   "metadata": {},
   "source": [
    "## Reading Score by Grade "
   ]
  },
  {
   "cell_type": "code",
   "execution_count": 42,
   "metadata": {},
   "outputs": [
    {
     "ename": "TypeError",
     "evalue": "agg function failed [how->mean,dtype->object]",
     "output_type": "error",
     "traceback": [
      "\u001b[1;31m---------------------------------------------------------------------------\u001b[0m",
      "\u001b[1;31mTypeError\u001b[0m                                 Traceback (most recent call last)",
      "File \u001b[1;32m~\\anaconda3\\envs\\dev\\lib\\site-packages\\pandas\\core\\groupby\\groupby.py:1942\u001b[0m, in \u001b[0;36mGroupBy._agg_py_fallback\u001b[1;34m(self, how, values, ndim, alt)\u001b[0m\n\u001b[0;32m   1941\u001b[0m \u001b[38;5;28;01mtry\u001b[39;00m:\n\u001b[1;32m-> 1942\u001b[0m     res_values \u001b[38;5;241m=\u001b[39m \u001b[38;5;28;43mself\u001b[39;49m\u001b[38;5;241;43m.\u001b[39;49m\u001b[43m_grouper\u001b[49m\u001b[38;5;241;43m.\u001b[39;49m\u001b[43magg_series\u001b[49m\u001b[43m(\u001b[49m\u001b[43mser\u001b[49m\u001b[43m,\u001b[49m\u001b[43m \u001b[49m\u001b[43malt\u001b[49m\u001b[43m,\u001b[49m\u001b[43m \u001b[49m\u001b[43mpreserve_dtype\u001b[49m\u001b[38;5;241;43m=\u001b[39;49m\u001b[38;5;28;43;01mTrue\u001b[39;49;00m\u001b[43m)\u001b[49m\n\u001b[0;32m   1943\u001b[0m \u001b[38;5;28;01mexcept\u001b[39;00m \u001b[38;5;167;01mException\u001b[39;00m \u001b[38;5;28;01mas\u001b[39;00m err:\n",
      "File \u001b[1;32m~\\anaconda3\\envs\\dev\\lib\\site-packages\\pandas\\core\\groupby\\ops.py:864\u001b[0m, in \u001b[0;36mBaseGrouper.agg_series\u001b[1;34m(self, obj, func, preserve_dtype)\u001b[0m\n\u001b[0;32m    862\u001b[0m     preserve_dtype \u001b[38;5;241m=\u001b[39m \u001b[38;5;28;01mTrue\u001b[39;00m\n\u001b[1;32m--> 864\u001b[0m result \u001b[38;5;241m=\u001b[39m \u001b[38;5;28;43mself\u001b[39;49m\u001b[38;5;241;43m.\u001b[39;49m\u001b[43m_aggregate_series_pure_python\u001b[49m\u001b[43m(\u001b[49m\u001b[43mobj\u001b[49m\u001b[43m,\u001b[49m\u001b[43m \u001b[49m\u001b[43mfunc\u001b[49m\u001b[43m)\u001b[49m\n\u001b[0;32m    866\u001b[0m npvalues \u001b[38;5;241m=\u001b[39m lib\u001b[38;5;241m.\u001b[39mmaybe_convert_objects(result, try_float\u001b[38;5;241m=\u001b[39m\u001b[38;5;28;01mFalse\u001b[39;00m)\n",
      "File \u001b[1;32m~\\anaconda3\\envs\\dev\\lib\\site-packages\\pandas\\core\\groupby\\ops.py:885\u001b[0m, in \u001b[0;36mBaseGrouper._aggregate_series_pure_python\u001b[1;34m(self, obj, func)\u001b[0m\n\u001b[0;32m    884\u001b[0m \u001b[38;5;28;01mfor\u001b[39;00m i, group \u001b[38;5;129;01min\u001b[39;00m \u001b[38;5;28menumerate\u001b[39m(splitter):\n\u001b[1;32m--> 885\u001b[0m     res \u001b[38;5;241m=\u001b[39m \u001b[43mfunc\u001b[49m\u001b[43m(\u001b[49m\u001b[43mgroup\u001b[49m\u001b[43m)\u001b[49m\n\u001b[0;32m    886\u001b[0m     res \u001b[38;5;241m=\u001b[39m extract_result(res)\n",
      "File \u001b[1;32m~\\anaconda3\\envs\\dev\\lib\\site-packages\\pandas\\core\\groupby\\groupby.py:2454\u001b[0m, in \u001b[0;36mGroupBy.mean.<locals>.<lambda>\u001b[1;34m(x)\u001b[0m\n\u001b[0;32m   2451\u001b[0m \u001b[38;5;28;01melse\u001b[39;00m:\n\u001b[0;32m   2452\u001b[0m     result \u001b[38;5;241m=\u001b[39m \u001b[38;5;28mself\u001b[39m\u001b[38;5;241m.\u001b[39m_cython_agg_general(\n\u001b[0;32m   2453\u001b[0m         \u001b[38;5;124m\"\u001b[39m\u001b[38;5;124mmean\u001b[39m\u001b[38;5;124m\"\u001b[39m,\n\u001b[1;32m-> 2454\u001b[0m         alt\u001b[38;5;241m=\u001b[39m\u001b[38;5;28;01mlambda\u001b[39;00m x: \u001b[43mSeries\u001b[49m\u001b[43m(\u001b[49m\u001b[43mx\u001b[49m\u001b[43m,\u001b[49m\u001b[43m \u001b[49m\u001b[43mcopy\u001b[49m\u001b[38;5;241;43m=\u001b[39;49m\u001b[38;5;28;43;01mFalse\u001b[39;49;00m\u001b[43m)\u001b[49m\u001b[38;5;241;43m.\u001b[39;49m\u001b[43mmean\u001b[49m\u001b[43m(\u001b[49m\u001b[43mnumeric_only\u001b[49m\u001b[38;5;241;43m=\u001b[39;49m\u001b[43mnumeric_only\u001b[49m\u001b[43m)\u001b[49m,\n\u001b[0;32m   2455\u001b[0m         numeric_only\u001b[38;5;241m=\u001b[39mnumeric_only,\n\u001b[0;32m   2456\u001b[0m     )\n\u001b[0;32m   2457\u001b[0m     \u001b[38;5;28;01mreturn\u001b[39;00m result\u001b[38;5;241m.\u001b[39m__finalize__(\u001b[38;5;28mself\u001b[39m\u001b[38;5;241m.\u001b[39mobj, method\u001b[38;5;241m=\u001b[39m\u001b[38;5;124m\"\u001b[39m\u001b[38;5;124mgroupby\u001b[39m\u001b[38;5;124m\"\u001b[39m)\n",
      "File \u001b[1;32m~\\anaconda3\\envs\\dev\\lib\\site-packages\\pandas\\core\\series.py:6549\u001b[0m, in \u001b[0;36mSeries.mean\u001b[1;34m(self, axis, skipna, numeric_only, **kwargs)\u001b[0m\n\u001b[0;32m   6541\u001b[0m \u001b[38;5;129m@doc\u001b[39m(make_doc(\u001b[38;5;124m\"\u001b[39m\u001b[38;5;124mmean\u001b[39m\u001b[38;5;124m\"\u001b[39m, ndim\u001b[38;5;241m=\u001b[39m\u001b[38;5;241m1\u001b[39m))\n\u001b[0;32m   6542\u001b[0m \u001b[38;5;28;01mdef\u001b[39;00m \u001b[38;5;21mmean\u001b[39m(\n\u001b[0;32m   6543\u001b[0m     \u001b[38;5;28mself\u001b[39m,\n\u001b[1;32m   (...)\u001b[0m\n\u001b[0;32m   6547\u001b[0m     \u001b[38;5;241m*\u001b[39m\u001b[38;5;241m*\u001b[39mkwargs,\n\u001b[0;32m   6548\u001b[0m ):\n\u001b[1;32m-> 6549\u001b[0m     \u001b[38;5;28;01mreturn\u001b[39;00m NDFrame\u001b[38;5;241m.\u001b[39mmean(\u001b[38;5;28mself\u001b[39m, axis, skipna, numeric_only, \u001b[38;5;241m*\u001b[39m\u001b[38;5;241m*\u001b[39mkwargs)\n",
      "File \u001b[1;32m~\\anaconda3\\envs\\dev\\lib\\site-packages\\pandas\\core\\generic.py:12420\u001b[0m, in \u001b[0;36mNDFrame.mean\u001b[1;34m(self, axis, skipna, numeric_only, **kwargs)\u001b[0m\n\u001b[0;32m  12413\u001b[0m \u001b[38;5;28;01mdef\u001b[39;00m \u001b[38;5;21mmean\u001b[39m(\n\u001b[0;32m  12414\u001b[0m     \u001b[38;5;28mself\u001b[39m,\n\u001b[0;32m  12415\u001b[0m     axis: Axis \u001b[38;5;241m|\u001b[39m \u001b[38;5;28;01mNone\u001b[39;00m \u001b[38;5;241m=\u001b[39m \u001b[38;5;241m0\u001b[39m,\n\u001b[1;32m   (...)\u001b[0m\n\u001b[0;32m  12418\u001b[0m     \u001b[38;5;241m*\u001b[39m\u001b[38;5;241m*\u001b[39mkwargs,\n\u001b[0;32m  12419\u001b[0m ) \u001b[38;5;241m-\u001b[39m\u001b[38;5;241m>\u001b[39m Series \u001b[38;5;241m|\u001b[39m \u001b[38;5;28mfloat\u001b[39m:\n\u001b[1;32m> 12420\u001b[0m     \u001b[38;5;28;01mreturn\u001b[39;00m \u001b[38;5;28mself\u001b[39m\u001b[38;5;241m.\u001b[39m_stat_function(\n\u001b[0;32m  12421\u001b[0m         \u001b[38;5;124m\"\u001b[39m\u001b[38;5;124mmean\u001b[39m\u001b[38;5;124m\"\u001b[39m, nanops\u001b[38;5;241m.\u001b[39mnanmean, axis, skipna, numeric_only, \u001b[38;5;241m*\u001b[39m\u001b[38;5;241m*\u001b[39mkwargs\n\u001b[0;32m  12422\u001b[0m     )\n",
      "File \u001b[1;32m~\\anaconda3\\envs\\dev\\lib\\site-packages\\pandas\\core\\generic.py:12377\u001b[0m, in \u001b[0;36mNDFrame._stat_function\u001b[1;34m(self, name, func, axis, skipna, numeric_only, **kwargs)\u001b[0m\n\u001b[0;32m  12375\u001b[0m validate_bool_kwarg(skipna, \u001b[38;5;124m\"\u001b[39m\u001b[38;5;124mskipna\u001b[39m\u001b[38;5;124m\"\u001b[39m, none_allowed\u001b[38;5;241m=\u001b[39m\u001b[38;5;28;01mFalse\u001b[39;00m)\n\u001b[1;32m> 12377\u001b[0m \u001b[38;5;28;01mreturn\u001b[39;00m \u001b[38;5;28;43mself\u001b[39;49m\u001b[38;5;241;43m.\u001b[39;49m\u001b[43m_reduce\u001b[49m\u001b[43m(\u001b[49m\n\u001b[0;32m  12378\u001b[0m \u001b[43m    \u001b[49m\u001b[43mfunc\u001b[49m\u001b[43m,\u001b[49m\u001b[43m \u001b[49m\u001b[43mname\u001b[49m\u001b[38;5;241;43m=\u001b[39;49m\u001b[43mname\u001b[49m\u001b[43m,\u001b[49m\u001b[43m \u001b[49m\u001b[43maxis\u001b[49m\u001b[38;5;241;43m=\u001b[39;49m\u001b[43maxis\u001b[49m\u001b[43m,\u001b[49m\u001b[43m \u001b[49m\u001b[43mskipna\u001b[49m\u001b[38;5;241;43m=\u001b[39;49m\u001b[43mskipna\u001b[49m\u001b[43m,\u001b[49m\u001b[43m \u001b[49m\u001b[43mnumeric_only\u001b[49m\u001b[38;5;241;43m=\u001b[39;49m\u001b[43mnumeric_only\u001b[49m\n\u001b[0;32m  12379\u001b[0m \u001b[43m\u001b[49m\u001b[43m)\u001b[49m\n",
      "File \u001b[1;32m~\\anaconda3\\envs\\dev\\lib\\site-packages\\pandas\\core\\series.py:6457\u001b[0m, in \u001b[0;36mSeries._reduce\u001b[1;34m(self, op, name, axis, skipna, numeric_only, filter_type, **kwds)\u001b[0m\n\u001b[0;32m   6453\u001b[0m     \u001b[38;5;28;01mraise\u001b[39;00m \u001b[38;5;167;01mTypeError\u001b[39;00m(\n\u001b[0;32m   6454\u001b[0m         \u001b[38;5;124mf\u001b[39m\u001b[38;5;124m\"\u001b[39m\u001b[38;5;124mSeries.\u001b[39m\u001b[38;5;132;01m{\u001b[39;00mname\u001b[38;5;132;01m}\u001b[39;00m\u001b[38;5;124m does not allow \u001b[39m\u001b[38;5;132;01m{\u001b[39;00mkwd_name\u001b[38;5;132;01m}\u001b[39;00m\u001b[38;5;124m=\u001b[39m\u001b[38;5;132;01m{\u001b[39;00mnumeric_only\u001b[38;5;132;01m}\u001b[39;00m\u001b[38;5;124m \u001b[39m\u001b[38;5;124m\"\u001b[39m\n\u001b[0;32m   6455\u001b[0m         \u001b[38;5;124m\"\u001b[39m\u001b[38;5;124mwith non-numeric dtypes.\u001b[39m\u001b[38;5;124m\"\u001b[39m\n\u001b[0;32m   6456\u001b[0m     )\n\u001b[1;32m-> 6457\u001b[0m \u001b[38;5;28;01mreturn\u001b[39;00m op(delegate, skipna\u001b[38;5;241m=\u001b[39mskipna, \u001b[38;5;241m*\u001b[39m\u001b[38;5;241m*\u001b[39mkwds)\n",
      "File \u001b[1;32m~\\anaconda3\\envs\\dev\\lib\\site-packages\\pandas\\core\\nanops.py:147\u001b[0m, in \u001b[0;36mbottleneck_switch.__call__.<locals>.f\u001b[1;34m(values, axis, skipna, **kwds)\u001b[0m\n\u001b[0;32m    146\u001b[0m \u001b[38;5;28;01melse\u001b[39;00m:\n\u001b[1;32m--> 147\u001b[0m     result \u001b[38;5;241m=\u001b[39m alt(values, axis\u001b[38;5;241m=\u001b[39maxis, skipna\u001b[38;5;241m=\u001b[39mskipna, \u001b[38;5;241m*\u001b[39m\u001b[38;5;241m*\u001b[39mkwds)\n\u001b[0;32m    149\u001b[0m \u001b[38;5;28;01mreturn\u001b[39;00m result\n",
      "File \u001b[1;32m~\\anaconda3\\envs\\dev\\lib\\site-packages\\pandas\\core\\nanops.py:404\u001b[0m, in \u001b[0;36m_datetimelike_compat.<locals>.new_func\u001b[1;34m(values, axis, skipna, mask, **kwargs)\u001b[0m\n\u001b[0;32m    402\u001b[0m     mask \u001b[38;5;241m=\u001b[39m isna(values)\n\u001b[1;32m--> 404\u001b[0m result \u001b[38;5;241m=\u001b[39m func(values, axis\u001b[38;5;241m=\u001b[39maxis, skipna\u001b[38;5;241m=\u001b[39mskipna, mask\u001b[38;5;241m=\u001b[39mmask, \u001b[38;5;241m*\u001b[39m\u001b[38;5;241m*\u001b[39mkwargs)\n\u001b[0;32m    406\u001b[0m \u001b[38;5;28;01mif\u001b[39;00m datetimelike:\n",
      "File \u001b[1;32m~\\anaconda3\\envs\\dev\\lib\\site-packages\\pandas\\core\\nanops.py:720\u001b[0m, in \u001b[0;36mnanmean\u001b[1;34m(values, axis, skipna, mask)\u001b[0m\n\u001b[0;32m    719\u001b[0m the_sum \u001b[38;5;241m=\u001b[39m values\u001b[38;5;241m.\u001b[39msum(axis, dtype\u001b[38;5;241m=\u001b[39mdtype_sum)\n\u001b[1;32m--> 720\u001b[0m the_sum \u001b[38;5;241m=\u001b[39m \u001b[43m_ensure_numeric\u001b[49m\u001b[43m(\u001b[49m\u001b[43mthe_sum\u001b[49m\u001b[43m)\u001b[49m\n\u001b[0;32m    722\u001b[0m \u001b[38;5;28;01mif\u001b[39;00m axis \u001b[38;5;129;01mis\u001b[39;00m \u001b[38;5;129;01mnot\u001b[39;00m \u001b[38;5;28;01mNone\u001b[39;00m \u001b[38;5;129;01mand\u001b[39;00m \u001b[38;5;28mgetattr\u001b[39m(the_sum, \u001b[38;5;124m\"\u001b[39m\u001b[38;5;124mndim\u001b[39m\u001b[38;5;124m\"\u001b[39m, \u001b[38;5;28;01mFalse\u001b[39;00m):\n",
      "File \u001b[1;32m~\\anaconda3\\envs\\dev\\lib\\site-packages\\pandas\\core\\nanops.py:1701\u001b[0m, in \u001b[0;36m_ensure_numeric\u001b[1;34m(x)\u001b[0m\n\u001b[0;32m   1699\u001b[0m \u001b[38;5;28;01mif\u001b[39;00m \u001b[38;5;28misinstance\u001b[39m(x, \u001b[38;5;28mstr\u001b[39m):\n\u001b[0;32m   1700\u001b[0m     \u001b[38;5;66;03m# GH#44008, GH#36703 avoid casting e.g. strings to numeric\u001b[39;00m\n\u001b[1;32m-> 1701\u001b[0m     \u001b[38;5;28;01mraise\u001b[39;00m \u001b[38;5;167;01mTypeError\u001b[39;00m(\u001b[38;5;124mf\u001b[39m\u001b[38;5;124m\"\u001b[39m\u001b[38;5;124mCould not convert string \u001b[39m\u001b[38;5;124m'\u001b[39m\u001b[38;5;132;01m{\u001b[39;00mx\u001b[38;5;132;01m}\u001b[39;00m\u001b[38;5;124m'\u001b[39m\u001b[38;5;124m to numeric\u001b[39m\u001b[38;5;124m\"\u001b[39m)\n\u001b[0;32m   1702\u001b[0m \u001b[38;5;28;01mtry\u001b[39;00m:\n",
      "\u001b[1;31mTypeError\u001b[0m: Could not convert string 'Blake MartinFrank MarshCharles Goodman Jr.Aaron MoyerMichael DeanRobin VegaKenneth JuarezGerald SmithDavid HernandezMatthew SinghJeremiah WhiteLisa AguilarDanielle HarrisKristin JohnsonKevin MartinAnna MyersTimothy HigginsAnthony FordNicole RoseChristopher LongMr. Michael AllenCasey JonesJoseph KellyDebra BrownJacqueline SheaSara MurphyNatalie GrantPeter MillerDavid CannonValerie MayApril FisherBradley HunterJohn WilliamsonAnthony SpencerJoseph AllenAngela WallJames FerrellRobert RodriguezDarius WilliamsBrian TrevinoAndrea GreenAustin JohnstonGuy ThomasDesiree GordonScott ClarkLinda SinghWilliam PerryTerry SantanaApril StevensAnthony TorresWayne GuerreroMonique CarterChristine LeeJay SmithRobert ReyesRichard MacdonaldJonathan TuckerChelsea KempMelissa BowmanWilliam SimpsonAmanda DavisBrandon MedinaPatricia WilliamsJeremy CharlesTyler GonzalezKristen GreenRichard WallerLaura LindseyMark AlvarezMatthew ThomasHeather GouldJacqueline SnowApril Calderon MDMichael WaltersErin HaleMichael AndersonPeggy BautistaGina BarberDavid HarrisNathan JonesAdam CruzPeter GonzalezBarbara RobinsonSteven WongAdam HerringPatricia MillerJim StevensJordan MclaughlinVincent MartinTracey BensonNatasha EverettErin ParksStephen ThompsonDaniel KingBenjamin MurrayKristen SmithJohn CarrilloMark BrowningEric Park DDSBrian MosleyPatricia MarshJennifer AndersonDanielle HoodMatthew CarterStephanie ThomasCathy MercadoSheila LewisPatrick Barker PhDAna BurnsChloe DownsJoshua FloresBianca BoyerWilliam ThompsonJonathan LongSamantha PattersonEmily PowellLouis WatersNathan DominguezKristin KellerJordan StewartBrian DunnEmily MartinJamie MillerNathan AtkinsonKelly MartinezCarlos RamirezAllen Morris Jr.Sarah RobertsPatricia HoBreanna MorrisEmily TurnerAlyssa RodriguezRichard JohnsonMary GreenMegan MillerWanda BaileyRenee RodriguezJeffrey PayneKari CharlesKelly HarmonShannon WeaverPatty NelsonAndrea JonesDale WhitakerKatherine DeanBrittney HenryAaron RodriguezDr. Carl JamesWilliam FrancisDanielle DyerMichael WagnerAmanda RogersPatricia JonesVictor MartinDr. Kimberly BenjaminMichelle BeckerJoseph NunezKeith AlvarezRicardo VazquezMatthew HawkinsNicole SmithSarah HodgeAmber BlevinsBenjamin BatesThomas MarshallAnna JohnsonRyan Graham MDTerri MillerTaylor DominguezLisa HarrisMichael RobinsonMelissa KellyChase RayTracy RodriguezYvonne WareJake MilesChristopher MyersCindy MurphyDylan JohnsonFrank NewmanLisa MyersKristine KellyMelissa AndersonMarissa BlevinsJason HallJoseph HernandezWanda MaddoxArthur KochNicholas DanielJerry RichardsJoel PittsThomas HerreraJennifer CarlsonJorge McdonaldStephanie Howard MDAlyssa WilliamsonPedro LongJames SmithGregory HerringDaniel BarrettTravis ComptonDaniel RowlandJonathon WillisAdam RodriguezDominique LloydJoyce RobertsJon GriffinJoseph ForbesDustin MarquezSean WellsDeanna CombsDanielle HayesKrystal ReynoldsCarl MartinezBrandon PopeAmanda RodriguezMarco WilliamsErica CollinsPenny NguyenLori LeeLori SmithBryan MooreJaclyn CobbVeronica DiazBarbara LarsenSteven HartmanMegan VillaAlex ConnerDanielle HurleyJames CalhounRyan GreenVeronica GomezWilliam SwansonLauren WestJohn BrownTonya SaundersDavid ThomasCrystal EdwardsCathy RamosChris RobertsKatherine TuckerJustin HillSarah AllenJessica BauerJames RodgersJacqueline EwingJacob ThomasNatalie JohnstonFelicia MatthewsRobert LawrenceJoshua MorganSierra JohnsonTravis HeathMelanie AndersonKenneth GarciaMaria BrockAdam PattonMatthew MezaAmanda JohnsonJesse HernandezPenny DeckerBobby WilliamsMargaret HortonRonnie BarrettAllen OnealGerald LangWilliam HudsonDerek SilvaDarlene LeeHarold JohnstonDonna ReedWanda PhillipsMegan JonesTheresa ShieldsMark LeeErica BakerVirginia BallardAaron AtkinsonBianca Huynh MDDaniel PhillipsThomas JohnsonNicole LopezAdam LambMonica RobersonDouglas RodriguezSarah OrtizDeanna MendozaMelissa Dunn MDLauren KochWilliam FrenchJared WashingtonJames JacksonMelissa SandovalMr. Angel JohnsonChad EvansDonald MyersNicole JohnsonWendy RiveraWilliam PinedaRebecca StoutDerek DiazTravis WebbShane PerezJasmine CampbellMason RaymondVincent EllisJoseph McgeeKatelyn DayAmy BeckerKenneth HughesKimberly FrazierMichael Garcia Jr.April HallJessica MatthewsMr. Daniel Nguyen DDSChristopher KelleyHeather WeaverTaylor GambleSteven BaileyRichard HernandezNancy McclurePaul ClarkeEric ArnoldElizabeth MeyerKaitlin BarrettAnthony PatelApril GillespieJohn SnyderRoy DeckerMatthew JonesKenneth MartinezKevin BrowningChristine IbarraMelissa BrownMichael PerezNorman BurnsJames MarshallTaylor CohenAlejandro CarterAllison GardnerEmily CollierDebbie Brown DVMAmy ShawTaylor MedinaLisa RichardsDana CruzJustin HenryRobert WeberTamara MooreKim StewartAdriana SmithJoshua Kim DDSCarol JohnsonMr. Jesse BellEmily WarrenAlexandra HendricksJulie MoralesJason JohnsonLisa JonesMonica SmithEric EdwardsMichael BurnettDerek MayPaul WoodMiguel JohnsonDouglas HardyKaitlyn ChambersCarlos YoungLindsay LinPhillip WashingtonAlexis MatthewsAndrew ThomasDerek Barker Jr.Jeremy WoodAndrew JimenezJennifer ButlerMrs. Renee GordonMichelle MurrayJennifer StoneDavid KirbySheila YoungHeather WatsonRobert RossKristen LunaDawn MartinezSavannah RamseyWilliam SalasHolly MooreJason CarterRyan SmithBrett EricksonChristina AyalaJames GarciaConnor CobbCrystal BuchananSherri PadillaJustin PowellVanessa TuckerTyler HarperRobert GreerBarry HallMargaret LeeDavid DiazRenee MonroeKristen MitchellSamantha MartinJessica FarmerCarlos BrownMiguel MaciasAlejandra WilliamsonMary GriffinMatthew GrantAnnette RossCarolyn MillerErica MillerMark MclaughlinJamie GibsonMatthew RiggsBetty IrwinFrederick LeeHelen GayCourtney ThompsonDiana ChapmanKenneth DiazKenneth HartmanRachel LopezCassandra BaldwinJose ButlerJohn LoveMrs. Amanda MartinMichael MooreJohn VaughnRebecca ChungDaniel HartMackenzie MasonDavid HarveyChristina ButlerSheila BrownJeffrey GalvanRegina ParkerTracy ChapmanEdward SmithShawn PetersonBryan GuerraHeather StokesMartha BestCynthia WolfeDavid TaylorRebecca HansenJessica CarneyJoshua SanchezRegina GarciaCourtney GibsonBrandon DelacruzTheresa SummersKarina LeePeter RileyChristopher OneillDaniel KleinKatherine EdwardsElizabeth ShermanWilliam BrewerLauren LoganAmanda WalkerAmanda McdanielKevin WilliamsMrs. Pamela GarciaAngela RojasBeth SullivanMarie StoutEmily AllenDanielle Stanton MDConnie BushErica ShawPhilip RobinsonMiguel SmithFrank HoffmanKevin ColemanAndrea HallMark BrownKathleen ValdezJessica WardRebecca GonzalesMike McdanielPamela HughesPamela RitterTimothy ScottStephen LawrenceTracey OchoaBridget BurkeJason WhiteMichelle WashingtonRaymond VargasJeffrey GreenMichael MontgomeryAlejandro BarnettElaine JamesBrianna WhiteAlyssa JenningsTony NelsonLaurie FergusonKelly WileyDustin PetersenChristopher WilkersonDr. David MillerCorey BenjaminCharles PerezKyle DeanTonya WalshWendy DavisJoshua LoveMichael AdamsMrs. Sheena Bailey DVMJoan CaldwellBridget GrahamBrian ChangAlicia ButlerJames BrownDiane VargasMichele OnealZachary Garrett IIIDavid JohnsonKristy PopeMadison BurnsCynthia MooreTaylor ReedNathan PrattAmanda MartinBarbara WhiteMichael GrimesLaura NobleKevin QuinnDavid StoneSeth GreenAmy MooreCarolyn AriasAmy Mcintosh MDChristina KhanDr. Frank AndersonBecky JonesKathleen RamirezCatherine WilsonSandra DuncanJeffrey RivasJordan CruzCindy CruzTina RodriguezDavid RiveraBrian SilvaJoseph MurphyDawn HernandezMichael PatelBreanna MercerDavid PayneRuth ArmstrongJennifer JamesRachael HortonAshley TorresDaniel CherryAmanda FieldsVernon RossMarie HernandezMichael KimKevin BarnettMary WilliamsPaul HallBrittney HughesRonald HickmanMallory HowardKendra YangJames TurnerThomas LewisPhillip BishopAndrea BartonChristopher MillerErin PhillipsHeather HallKatrina AdkinsNicole MitchellPatty RyanLinda GravesMargaret AndersonRichard DeckerDarren BrooksHeather SmithMatthew TaylorCynthia GreenChristopher PhillipsMegan OlsonTiffany SmithVictor SmithAmy ParkerKelly ColemanEric KnappJustin WilliamsMallory AndersonJohn ClarkAnne HansenTina ButlerCody SchaeferThomas Burgess MDJoseph HodgesDaniel MillsAmanda Hale DVMGregory SchneiderClinton NguyenRussell ThompsonMegan FlemingDebbie BlackwellLaura JenkinsJordan AndersonAmanda IbarraJonathan KrauseDr. Daniel BowmanTammy JohnsonLinda HerreraJonathan MartinezChristine JohnsonTanya FisherAngelica HumphreyJustin JohnstonApril RodriguezAmber ThompsonMelissa BanksLori Mitchell DDSAmy SmithRichard DayJennifer MackJames SmithNicole PettyTina HillZachary SchultzMrs. Pam Lewis DVMKelsey HarrisRobert MitchellKelly HopkinsAmanda GrahamAmy Gutierrez DDSDawn RamirezKenneth WardMelody ScottAshley BarryAngela WilkinsTodd SimmonsDavid LunaLeonard CoxPeter TuckerCynthia NelsonPeter MillerAaron GarciaPatrick WhitneyMargaret QuinnAmber MooreMatthew AguilarDenise CarterJared BrownAmber VillanuevaAmy CohenMichael LeeStephanie AriasJenna GreerCameron CordovaJeremy PayneNathan ArroyoRussell BanksJoshua RamirezJay KirkAlicia SchwartzAnna CamachoCarla WilsonJessica WrightWilliam BlackAshley TerryJeffery PowellDaniel SandersMichael GarnerMaria WilliamsBrenda RayChelsea LewisNicholas RamosJennifer WashingtonAudrey WellsBarbara WoodAndrea ThompsonJason CoxSarah RobinsonHeidi MartinJanet ChanJeffrey RobbinsTheresa NicholsAmy HansenJoshua BrownKent ShermanEddie AlvarezYvonne Robinson PhDJennifer RamosTracy MorrisonCrystal JohnsonApril TrujilloLisa SanchezDeborah NelsonKevin GoodwinAbigail PerezDonna RoseAndrew WintersJessica HartLauren KlineGregory AllisonThomas JohnsonVanessa StevensonKathleen BeltranMartha Mcdonald DVMKevin JohnsonDr. Mary SchwartzAnthony MeadowsErnest PowellDavid FergusonMariah HoltNancy MartinStacey ThompsonAndrew RyanMallory ChenErika BurchRobert MorrowAustin ChavezJustin WilsonLisa MurrayJeremy WattsJustin ChenRenee BuckleyShannon PriceBarbara WhiteheadJackie KirkAngel MayerDeborah AndersonJacqueline West DDSAnita ZunigaDavid ChapmanBeverly BauerJessica NguyenMelissa LewisAmanda SchaeferJacqueline Snow MDMarcus RushAngela StewartJorge HoDr. Jennifer SheaChristopher CantuJonathan HaleErin BowersAnthony HernandezEduardo SantiagoDana HaynesClayton Williams DVMNatalie WhitakerFrances WhiteMeghan AdamsStephen FitzgeraldAmy BairdMolly BrownAmanda SloanEric WilliamsEmma VasquezSherry GomezAaron CarterAlan ScottJennifer CannonLindsay NicholsonStephanie JonesJose SmithKimberly MooreMelissa SchultzSteven CalhounJohn BallZachary WilliamsKimberly JacksonKristen WilliamsonSamantha HoffmanDanielle GonzalezCharles IngramTimothy GravesAnna RodriguezAmanda KaneJoseph JonesDebra JacksonErik DunlapMeghan HarperJennifer PinedaJohn WhiteKaren FischerTodd DavisLarry Chandler Jr.Veronica PotterRobert VelezAshley WeissErika JohnsonJesus GordonKathy JacksonAshley WilliamsJuan LopezAnna HaynesDon MurrayJohn GarzaSteven WhiteDavid SalazarDaniel WrightRebecca MolinaBetty EricksonCameron Roman Jr.Kelly PierceSergio McfarlandJeffrey ChavezAmanda GalvanRonald PooleJohn WallaceGina AguilarMelissa SullivanJeffery ToddDaniel BurtonJulie AllisonCarolyn CookMike AllenAngela CostaKarina CalderonFelicia CampbellElizabeth DixonNancy WheelerMichael WatsonJennifer LevinePhilip ArnoldCrystal GonzalesMr. Ian SmithLawrence JohnsonPeter JonesChristopher RamirezNicolas JohnsonStephanie RhodesSarah MillerScott CortezChristopher CarrollWilliam RodriguezWyatt HarrisJacob CarlsonJason PerryJoshua FoxJames PerkinsChristine SanfordSarah SnyderDana ChavezJose HansenMelissa Hunt MDFrank RiveraLeah BishopAudrey FieldsRenee Garcia MDAngela WallJose GoldenAndrew RichardsonCynthia McleanMelissa FordKelsey SmithHeidi MasonLaura JohnsonAmanda MooreRobert AndersonMichael RobbinsSamantha ScottJoseph WareMaria DavisKenneth WatkinsMrs. Lori Rogers MDFrank BlackwellMichele TorresJason FergusonWilliam DurhamNicole HaynesCraig MorganEvan WilsonKenneth OlsonSeth GreenRoberto EscobarJustin SchneiderSarah PadillaAshley GardnerCourtney LutzAlbert SheaJennifer McguireJoseph RamosVictoria BakerClaudia WoodScott HughesCassandra HaasKathryn HannaDiana PhelpsKari HuangSara WellsJordan PetersonFrederick RochaKathryn YoungBrittany HodgesSherry GutierrezJohn GrantBenjamin RoweChelsey VillanuevaAlexandra MccarthyRhonda GarciaJon MatthewsKristen HartmanLynn RivasBrandy WestCarmen ThomasThomas LarsonKathryn CoxTasha ButlerChristopher ThompsonCollin ThomasJulia GeorgeChristopher ShermanAmy BooneJames JensenMonica BerryJonathan MckenzieMrs. Christina Mitchell DDSKatherine BrownJordan BrownElizabeth BrownColton KelleyMelanie KentElizabeth VargasNathan RomanAngela JonesAngela LopezBrian ThomasDouglas HawkinsIan GallagherJeffrey GarrisonTeresa WilliamsJustin MillerJill BakerJessica MitchellJoseph GeorgeCandace FrankEric SotoEmily Duran MDRandall MyersTravis LopezElizabeth GonzalezBrian HoldenTodd Grant Jr.Reginald AlvaradoMark BryantDesiree ClarkJulia ChristianTerry FuentesChristina MartinOlivia RiceKristen NealTimothy BrayJennifer YoungSonya JuarezCharles AveryJohnny BanksJames SanchezScott ProctorJessica MoranRobert FernandezMeredith MckeeKathryn StanleyRichard PooleStephanie GarnerStacey ContrerasCheryl OsborneNathaniel JohnsonRandy LewisMichelle DavisJonathan YoungAngel JacksonMichael KennedyLisa PinedaJennifer MurrayKristopher MurphyRobert WagnerMichael HowellMeagan WhitneyChristopher DavisRhonda LynchTara MarshKeith AndersonAdriana SnyderMelanie MillsAllison JohnsonDebra HowardJustin MartinezDarius AtkinsonTimothy JacksonAlison SmithCatherine HortonAndrew TaylorHunter FitzpatrickSarah KirkKristina GarzaZachary ChavezMrs. Wendy HayesKenneth Santiago MDAnthony JenkinsTeresa LeonardJonathan AdamsDr. Matthew HernandezDouglas HamiltonIan WilliamsTroy ScottChristopher LambLouis Hodges DDSRonald MartinezMonica CochranHarry SnowAmanda ColeJustin LeeSamantha CooperChristopher SmithDiane BradfordJeanette YoungLarry MonroeBradley MurphyNina ThomasMr. Michael GrahamDaniel OlsonAndrew HerreraMichelle FoxMike HillErika LoganJulia HowellWilliam BradleyElizabeth ParkAnthony SmithDonald ReevesJordan WardJeanne Fischer MDWilliam HinesJason SullivanMrs. Amanda RoseRobert HinesKimberly CollinsVeronica McmillanTeresa PerezMatthew McdonaldJason HuntRichard LevinePatricia PerryJohnny SchneiderJessica SmithAlan BurnettBobby NobleCatherine HarrisValerie ObrienRebecca Salazar DDSChristopher NelsonDiana PonceKenneth RaymondRay HoffmanMary GarzaRobert DiazMarie StanleyAmanda SolomonScott BrewerKathy BrightKristen CrossAbigail YoungMichael CooperDavid DavisSteven MyersNancy RossMark EverettSteve WalkerJonathan ByrdNicholas DiazStacy DavisAngela TownsendRichard Cherry DDSTimothy GriffinJames Holland MDNicholas TannerDavid DavisDaniel MartinezLauren CampbellTimothy GomezRobert LandryJamie BaileyKenneth AlexanderMatthew GarciaTanya HawkinsJacob PorterDr. Patricia BakerRebecca FloydMark JordanBryan MayerJenna DickersonMary EatonCynthia GeorgeKathy BurgessBrett JenningsFrank RobersonBrandon GardnerKim LewisEdward MunozDr. Rachel GilbertDonna RiddleChristopher TateMichael DavisLouis McdanielNicole BurgessDavid JensenNicole GoodwinChristopher WelchJared LynchNicole BuckDavid GutierrezStephanie HarrisonWilliam PetersonMolly MasonAlbert WrightJoshua FernandezKendra WardEarl CaldwellShane MartinezElizabeth JohnsonMelissa ParksJennifer PettyMichael LeeAustin MooreDustin MossKristine WadeJeffrey DavisLisa VasquezKenneth Avila Jr.Sergio MayDavid RichardsonAndrew PierceChristian MuellerDavid WoodRobin BrownTimothy HillSteven WebsterHenry RamirezMichael RomeroJody HunterCaitlyn SmithDesiree CastroMelanie EsparzaHolly McphersonZachary RiveraChristine HillBrandon FlowersMichael TuckerMisty HatfieldChristine BurtonJames SmithTracy SteinCharles HoltAmy BrownSummer HuntTodd WilliamsSteven NelsonMelissa TranShelby RodriguezBrian MoralesJennifer HuangElizabeth MunozSteven NewtonRobyn HernandezNicholas JonesCurtis LeeDr. Andrea RoseWendy PetersonJennifer HernandezCorey BerryNicole WilliamsRita ReynoldsSara OwensEvan MooreSarah BryantGail CampbellDylan FrancoLindsey NobleMatthew JacksonMorgan ThomasElizabeth ChaseErnest BarnesRichard SheltonKaren BridgesCynthia StoneKristin SloanJennifer CunninghamRebecca ChapmanStacey TerryJohn ShawMr. Eric GordonAmber DiazRachel KellyAshley WalterDaniel HaleyRobert HendrixDonna HolmesKenneth HowardDonald MillsMichael ScottThomas SandersTeresa SullivanBriana LucasKyle RobertsSheri ThomasJordan PattersonDeborah RollinsAllison WhiteTimothy StewartAmanda NelsonSydney KimThomas HinesMichael FoleyAnthony WadeRobert PerezWendy FinleySabrina RasmussenBilly Franco PhDJason FlemingMaxwell LeonardJonathan CooperRandy BlakeMatthew MillsTracy EspinozaBrandy KellerAnita ScottDiana BradleyJohn GonzalezAngela SimpsonHannah HicksCody WilcoxShane DavisThomas WallsDr. Alexander Chang PhDMr. Robert HendricksKimberly JonesMichele MooreLaura MillerJennifer GonzalezVanessa GarciaGerald KimWendy ShepardHarold PetersonEddie WilliamsShawn ObrienRobert HaneyKathryn GonzalesAmy RiceHannah BruceMichele TerryJennifer JohnsonDavid WrightCarlos SmithErnest WongWilliam PottsMark JeffersonNicole RollinsJohn QuinnAndrew ReidKristen KingMatthew WilsonArthur LeeLori WilliamsDaniel GarciaMs. Stephanie Schwartz DDSLoretta PerezRandall BanksAdrian DavisDebra SmithMary LawsonWhitney EstesMorgan AllenSteven HansonAustin KellyGrace HarrisonJose SchmittNatasha DaviesLawrence ZhangMichael BoydBarbara AndersonShannon BlairCarolyn HawkinsCharles MorrisDerrick CarrollCynthia MartinezJesus BooneRebecca JohnsonAndrew AllisonMadeline MonroeCristina HobbsLindsey NavarroMichael NielsenJason BrownBreanna MooreDonald MartinezAbigail EspinozaAdam GriffinKarla McneilRebecca KnappAlicia JohnsonGabriel ArroyoEdward EdwardsDaniel JohnsonKevin LongDr. Devin Sharp PhDKenneth AriasShannon TateKrystal MarshallAlexander McculloughRichard SmithMeagan BakerDavid FullerChad SmithRichard ReyesMadison WagnerWilliam BowenAnthony AlvaradoBrittney Hammond DVMBrandon BrownKristopher WrightMark WarrenElizabeth FrazierMark BaileyChristopher MontgomeryElizabeth WallerLouis WoodsBrandy MitchellRoger KingTara DouglasMelissa OwensDavid GonzalezTodd WilliamsNathaniel OconnellTravis GreenLuke FryDouglas WoodsChristopher SilvaJacob TerryNancy HarrisonMichael SullivanMiss Norma McfarlandLaurie DoughertyJoshua TaylorAndrew CampbellHeather BellBradley MartinezAmy LeeDavid GoodAaron NelsonRobert TylerJaclyn WilliamsJoe KochDerek LopezAngela BryantWalter MaxwellDennis KleinNancy NelsonJason DrakeMary AcevedoDakota AdamsDaryl GregoryKathleen LoveJames ChavezDawn LewisEric ThompsonBrittany EdwardsCharles BaileyGina SimsJohn McdanielHeather ScottChristine GarciaTracy LoweryJay RobertsBrandon OrtizElizabeth EllisonPatricia WoodTroy MorganAdriana WallEric LewisRobert DukeCarol TorresRobert HooperMandy HensleyKayla PetersenReginald MolinaTasha GrayDawn ChristensenMarcus WilsonJason RodriguezKimberly FisherMichael JohnsonPatricia VillanuevaDavid TorresHeather RobinsonKathryn BernardDebbie TurnerKayla BurtonAmanda BatesKathleen KnoxMr. Colton Collins IIJamie MasonDwayne SmithCynthia CastilloBrandon WilliamsCrystal MaldonadoHaley GreenKimberly PorterElizabeth CarrilloJames HowellAnthony WelchTammie RogersSteven LeSharon PadillaJonathan GardnerJulie DavisStacie HollandDiana GarrettJessica SchmidtMallory GravesKerry HendersonBrandon VaughnAnita WilsonNancy SmithAshley LopezMichael ParkMr. Mason Hernandez MDCindy PowellKayla ScottKimberly JohnstonAnn FloresBrittney AdamsPatricia MillerJonathan GallowayVeronica GriffithMichelle RamosJoe NunezKathy BushEmily HessChase HortonBrittany CarrCharles GonzalezThomas AlvarezJason OrtizRhonda FergusonBrenda DixonKenneth BrooksTyler SmithAlison AndersonBethany HarveyNicholas CostaRyan AllenGabriel Ashley' to numeric",
      "\nThe above exception was the direct cause of the following exception:\n",
      "\u001b[1;31mTypeError\u001b[0m                                 Traceback (most recent call last)",
      "Cell \u001b[1;32mIn[42], line 8\u001b[0m\n\u001b[0;32m      5\u001b[0m twelfth_graders \u001b[38;5;241m=\u001b[39m school_data_complete[(school_data_complete[\u001b[38;5;124m\"\u001b[39m\u001b[38;5;124mgrade\u001b[39m\u001b[38;5;124m\"\u001b[39m] \u001b[38;5;241m==\u001b[39m \u001b[38;5;124m\"\u001b[39m\u001b[38;5;124m12th\u001b[39m\u001b[38;5;124m\"\u001b[39m)]\n\u001b[0;32m      7\u001b[0m \u001b[38;5;66;03m# Group by `school_name` and take the mean of the the `reading_score` column for each.\u001b[39;00m\n\u001b[1;32m----> 8\u001b[0m ninth_grade_reading_scores \u001b[38;5;241m=\u001b[39m \u001b[43mninth_graders\u001b[49m\u001b[38;5;241;43m.\u001b[39;49m\u001b[43mgroupby\u001b[49m\u001b[43m(\u001b[49m\u001b[43m[\u001b[49m\u001b[38;5;124;43m\"\u001b[39;49m\u001b[38;5;124;43mschool_name\u001b[39;49m\u001b[38;5;124;43m\"\u001b[39;49m\u001b[43m]\u001b[49m\u001b[43m)\u001b[49m\u001b[38;5;241;43m.\u001b[39;49m\u001b[43mmean\u001b[49m\u001b[43m(\u001b[49m\u001b[43m)\u001b[49m[\u001b[38;5;124m\"\u001b[39m\u001b[38;5;124mreading_score\u001b[39m\u001b[38;5;124m\"\u001b[39m]\n\u001b[0;32m      9\u001b[0m tenth_grade_reading_scores \u001b[38;5;241m=\u001b[39m tenth_graders\u001b[38;5;241m.\u001b[39mgroupby([\u001b[38;5;124m\"\u001b[39m\u001b[38;5;124mschool_name\u001b[39m\u001b[38;5;124m\"\u001b[39m])\u001b[38;5;241m.\u001b[39mmean()[\u001b[38;5;124m\"\u001b[39m\u001b[38;5;124mreading_score\u001b[39m\u001b[38;5;124m\"\u001b[39m]\n\u001b[0;32m     10\u001b[0m eleventh_grade_reading_scores \u001b[38;5;241m=\u001b[39m eleventh_graders\u001b[38;5;241m.\u001b[39mgroupby([\u001b[38;5;124m\"\u001b[39m\u001b[38;5;124mschool_name\u001b[39m\u001b[38;5;124m\"\u001b[39m])\u001b[38;5;241m.\u001b[39mmean()[\u001b[38;5;124m\"\u001b[39m\u001b[38;5;124mreading_score\u001b[39m\u001b[38;5;124m\"\u001b[39m]\n",
      "File \u001b[1;32m~\\anaconda3\\envs\\dev\\lib\\site-packages\\pandas\\core\\groupby\\groupby.py:2452\u001b[0m, in \u001b[0;36mGroupBy.mean\u001b[1;34m(self, numeric_only, engine, engine_kwargs)\u001b[0m\n\u001b[0;32m   2445\u001b[0m     \u001b[38;5;28;01mreturn\u001b[39;00m \u001b[38;5;28mself\u001b[39m\u001b[38;5;241m.\u001b[39m_numba_agg_general(\n\u001b[0;32m   2446\u001b[0m         grouped_mean,\n\u001b[0;32m   2447\u001b[0m         executor\u001b[38;5;241m.\u001b[39mfloat_dtype_mapping,\n\u001b[0;32m   2448\u001b[0m         engine_kwargs,\n\u001b[0;32m   2449\u001b[0m         min_periods\u001b[38;5;241m=\u001b[39m\u001b[38;5;241m0\u001b[39m,\n\u001b[0;32m   2450\u001b[0m     )\n\u001b[0;32m   2451\u001b[0m \u001b[38;5;28;01melse\u001b[39;00m:\n\u001b[1;32m-> 2452\u001b[0m     result \u001b[38;5;241m=\u001b[39m \u001b[38;5;28;43mself\u001b[39;49m\u001b[38;5;241;43m.\u001b[39;49m\u001b[43m_cython_agg_general\u001b[49m\u001b[43m(\u001b[49m\n\u001b[0;32m   2453\u001b[0m \u001b[43m        \u001b[49m\u001b[38;5;124;43m\"\u001b[39;49m\u001b[38;5;124;43mmean\u001b[39;49m\u001b[38;5;124;43m\"\u001b[39;49m\u001b[43m,\u001b[49m\n\u001b[0;32m   2454\u001b[0m \u001b[43m        \u001b[49m\u001b[43malt\u001b[49m\u001b[38;5;241;43m=\u001b[39;49m\u001b[38;5;28;43;01mlambda\u001b[39;49;00m\u001b[43m \u001b[49m\u001b[43mx\u001b[49m\u001b[43m:\u001b[49m\u001b[43m \u001b[49m\u001b[43mSeries\u001b[49m\u001b[43m(\u001b[49m\u001b[43mx\u001b[49m\u001b[43m,\u001b[49m\u001b[43m \u001b[49m\u001b[43mcopy\u001b[49m\u001b[38;5;241;43m=\u001b[39;49m\u001b[38;5;28;43;01mFalse\u001b[39;49;00m\u001b[43m)\u001b[49m\u001b[38;5;241;43m.\u001b[39;49m\u001b[43mmean\u001b[49m\u001b[43m(\u001b[49m\u001b[43mnumeric_only\u001b[49m\u001b[38;5;241;43m=\u001b[39;49m\u001b[43mnumeric_only\u001b[49m\u001b[43m)\u001b[49m\u001b[43m,\u001b[49m\n\u001b[0;32m   2455\u001b[0m \u001b[43m        \u001b[49m\u001b[43mnumeric_only\u001b[49m\u001b[38;5;241;43m=\u001b[39;49m\u001b[43mnumeric_only\u001b[49m\u001b[43m,\u001b[49m\n\u001b[0;32m   2456\u001b[0m \u001b[43m    \u001b[49m\u001b[43m)\u001b[49m\n\u001b[0;32m   2457\u001b[0m     \u001b[38;5;28;01mreturn\u001b[39;00m result\u001b[38;5;241m.\u001b[39m__finalize__(\u001b[38;5;28mself\u001b[39m\u001b[38;5;241m.\u001b[39mobj, method\u001b[38;5;241m=\u001b[39m\u001b[38;5;124m\"\u001b[39m\u001b[38;5;124mgroupby\u001b[39m\u001b[38;5;124m\"\u001b[39m)\n",
      "File \u001b[1;32m~\\anaconda3\\envs\\dev\\lib\\site-packages\\pandas\\core\\groupby\\groupby.py:1998\u001b[0m, in \u001b[0;36mGroupBy._cython_agg_general\u001b[1;34m(self, how, alt, numeric_only, min_count, **kwargs)\u001b[0m\n\u001b[0;32m   1995\u001b[0m     result \u001b[38;5;241m=\u001b[39m \u001b[38;5;28mself\u001b[39m\u001b[38;5;241m.\u001b[39m_agg_py_fallback(how, values, ndim\u001b[38;5;241m=\u001b[39mdata\u001b[38;5;241m.\u001b[39mndim, alt\u001b[38;5;241m=\u001b[39malt)\n\u001b[0;32m   1996\u001b[0m     \u001b[38;5;28;01mreturn\u001b[39;00m result\n\u001b[1;32m-> 1998\u001b[0m new_mgr \u001b[38;5;241m=\u001b[39m \u001b[43mdata\u001b[49m\u001b[38;5;241;43m.\u001b[39;49m\u001b[43mgrouped_reduce\u001b[49m\u001b[43m(\u001b[49m\u001b[43marray_func\u001b[49m\u001b[43m)\u001b[49m\n\u001b[0;32m   1999\u001b[0m res \u001b[38;5;241m=\u001b[39m \u001b[38;5;28mself\u001b[39m\u001b[38;5;241m.\u001b[39m_wrap_agged_manager(new_mgr)\n\u001b[0;32m   2000\u001b[0m \u001b[38;5;28;01mif\u001b[39;00m how \u001b[38;5;129;01min\u001b[39;00m [\u001b[38;5;124m\"\u001b[39m\u001b[38;5;124midxmin\u001b[39m\u001b[38;5;124m\"\u001b[39m, \u001b[38;5;124m\"\u001b[39m\u001b[38;5;124midxmax\u001b[39m\u001b[38;5;124m\"\u001b[39m]:\n",
      "File \u001b[1;32m~\\anaconda3\\envs\\dev\\lib\\site-packages\\pandas\\core\\internals\\managers.py:1469\u001b[0m, in \u001b[0;36mBlockManager.grouped_reduce\u001b[1;34m(self, func)\u001b[0m\n\u001b[0;32m   1465\u001b[0m \u001b[38;5;28;01mif\u001b[39;00m blk\u001b[38;5;241m.\u001b[39mis_object:\n\u001b[0;32m   1466\u001b[0m     \u001b[38;5;66;03m# split on object-dtype blocks bc some columns may raise\u001b[39;00m\n\u001b[0;32m   1467\u001b[0m     \u001b[38;5;66;03m#  while others do not.\u001b[39;00m\n\u001b[0;32m   1468\u001b[0m     \u001b[38;5;28;01mfor\u001b[39;00m sb \u001b[38;5;129;01min\u001b[39;00m blk\u001b[38;5;241m.\u001b[39m_split():\n\u001b[1;32m-> 1469\u001b[0m         applied \u001b[38;5;241m=\u001b[39m \u001b[43msb\u001b[49m\u001b[38;5;241;43m.\u001b[39;49m\u001b[43mapply\u001b[49m\u001b[43m(\u001b[49m\u001b[43mfunc\u001b[49m\u001b[43m)\u001b[49m\n\u001b[0;32m   1470\u001b[0m         result_blocks \u001b[38;5;241m=\u001b[39m extend_blocks(applied, result_blocks)\n\u001b[0;32m   1471\u001b[0m \u001b[38;5;28;01melse\u001b[39;00m:\n",
      "File \u001b[1;32m~\\anaconda3\\envs\\dev\\lib\\site-packages\\pandas\\core\\internals\\blocks.py:393\u001b[0m, in \u001b[0;36mBlock.apply\u001b[1;34m(self, func, **kwargs)\u001b[0m\n\u001b[0;32m    387\u001b[0m \u001b[38;5;129m@final\u001b[39m\n\u001b[0;32m    388\u001b[0m \u001b[38;5;28;01mdef\u001b[39;00m \u001b[38;5;21mapply\u001b[39m(\u001b[38;5;28mself\u001b[39m, func, \u001b[38;5;241m*\u001b[39m\u001b[38;5;241m*\u001b[39mkwargs) \u001b[38;5;241m-\u001b[39m\u001b[38;5;241m>\u001b[39m \u001b[38;5;28mlist\u001b[39m[Block]:\n\u001b[0;32m    389\u001b[0m \u001b[38;5;250m    \u001b[39m\u001b[38;5;124;03m\"\"\"\u001b[39;00m\n\u001b[0;32m    390\u001b[0m \u001b[38;5;124;03m    apply the function to my values; return a block if we are not\u001b[39;00m\n\u001b[0;32m    391\u001b[0m \u001b[38;5;124;03m    one\u001b[39;00m\n\u001b[0;32m    392\u001b[0m \u001b[38;5;124;03m    \"\"\"\u001b[39;00m\n\u001b[1;32m--> 393\u001b[0m     result \u001b[38;5;241m=\u001b[39m func(\u001b[38;5;28mself\u001b[39m\u001b[38;5;241m.\u001b[39mvalues, \u001b[38;5;241m*\u001b[39m\u001b[38;5;241m*\u001b[39mkwargs)\n\u001b[0;32m    395\u001b[0m     result \u001b[38;5;241m=\u001b[39m maybe_coerce_values(result)\n\u001b[0;32m    396\u001b[0m     \u001b[38;5;28;01mreturn\u001b[39;00m \u001b[38;5;28mself\u001b[39m\u001b[38;5;241m.\u001b[39m_split_op_result(result)\n",
      "File \u001b[1;32m~\\anaconda3\\envs\\dev\\lib\\site-packages\\pandas\\core\\groupby\\groupby.py:1995\u001b[0m, in \u001b[0;36mGroupBy._cython_agg_general.<locals>.array_func\u001b[1;34m(values)\u001b[0m\n\u001b[0;32m   1992\u001b[0m     \u001b[38;5;28;01mreturn\u001b[39;00m result\n\u001b[0;32m   1994\u001b[0m \u001b[38;5;28;01massert\u001b[39;00m alt \u001b[38;5;129;01mis\u001b[39;00m \u001b[38;5;129;01mnot\u001b[39;00m \u001b[38;5;28;01mNone\u001b[39;00m\n\u001b[1;32m-> 1995\u001b[0m result \u001b[38;5;241m=\u001b[39m \u001b[38;5;28;43mself\u001b[39;49m\u001b[38;5;241;43m.\u001b[39;49m\u001b[43m_agg_py_fallback\u001b[49m\u001b[43m(\u001b[49m\u001b[43mhow\u001b[49m\u001b[43m,\u001b[49m\u001b[43m \u001b[49m\u001b[43mvalues\u001b[49m\u001b[43m,\u001b[49m\u001b[43m \u001b[49m\u001b[43mndim\u001b[49m\u001b[38;5;241;43m=\u001b[39;49m\u001b[43mdata\u001b[49m\u001b[38;5;241;43m.\u001b[39;49m\u001b[43mndim\u001b[49m\u001b[43m,\u001b[49m\u001b[43m \u001b[49m\u001b[43malt\u001b[49m\u001b[38;5;241;43m=\u001b[39;49m\u001b[43malt\u001b[49m\u001b[43m)\u001b[49m\n\u001b[0;32m   1996\u001b[0m \u001b[38;5;28;01mreturn\u001b[39;00m result\n",
      "File \u001b[1;32m~\\anaconda3\\envs\\dev\\lib\\site-packages\\pandas\\core\\groupby\\groupby.py:1946\u001b[0m, in \u001b[0;36mGroupBy._agg_py_fallback\u001b[1;34m(self, how, values, ndim, alt)\u001b[0m\n\u001b[0;32m   1944\u001b[0m     msg \u001b[38;5;241m=\u001b[39m \u001b[38;5;124mf\u001b[39m\u001b[38;5;124m\"\u001b[39m\u001b[38;5;124magg function failed [how->\u001b[39m\u001b[38;5;132;01m{\u001b[39;00mhow\u001b[38;5;132;01m}\u001b[39;00m\u001b[38;5;124m,dtype->\u001b[39m\u001b[38;5;132;01m{\u001b[39;00mser\u001b[38;5;241m.\u001b[39mdtype\u001b[38;5;132;01m}\u001b[39;00m\u001b[38;5;124m]\u001b[39m\u001b[38;5;124m\"\u001b[39m\n\u001b[0;32m   1945\u001b[0m     \u001b[38;5;66;03m# preserve the kind of exception that raised\u001b[39;00m\n\u001b[1;32m-> 1946\u001b[0m     \u001b[38;5;28;01mraise\u001b[39;00m \u001b[38;5;28mtype\u001b[39m(err)(msg) \u001b[38;5;28;01mfrom\u001b[39;00m \u001b[38;5;21;01merr\u001b[39;00m\n\u001b[0;32m   1948\u001b[0m \u001b[38;5;28;01mif\u001b[39;00m ser\u001b[38;5;241m.\u001b[39mdtype \u001b[38;5;241m==\u001b[39m \u001b[38;5;28mobject\u001b[39m:\n\u001b[0;32m   1949\u001b[0m     res_values \u001b[38;5;241m=\u001b[39m res_values\u001b[38;5;241m.\u001b[39mastype(\u001b[38;5;28mobject\u001b[39m, copy\u001b[38;5;241m=\u001b[39m\u001b[38;5;28;01mFalse\u001b[39;00m)\n",
      "\u001b[1;31mTypeError\u001b[0m: agg function failed [how->mean,dtype->object]"
     ]
    }
   ],
   "source": [
    "# Use the code provided to separate the data by grade\n",
    "ninth_graders = school_data_complete[(school_data_complete[\"grade\"] == \"9th\")]\n",
    "tenth_graders = school_data_complete[(school_data_complete[\"grade\"] == \"10th\")]\n",
    "eleventh_graders = school_data_complete[(school_data_complete[\"grade\"] == \"11th\")]\n",
    "twelfth_graders = school_data_complete[(school_data_complete[\"grade\"] == \"12th\")]\n",
    "\n",
    "# Group by `school_name` and take the mean of the the `reading_score` column for each.\n",
    "ninth_grade_reading_scores = ninth_graders.groupby([\"school_name\"]).mean()[\"reading_score\"]\n",
    "tenth_grade_reading_scores = tenth_graders.groupby([\"school_name\"]).mean()[\"reading_score\"]\n",
    "eleventh_grade_reading_scores = eleventh_graders.groupby([\"school_name\"]).mean()[\"reading_score\"]\n",
    "twelfth_grade_reading_scores = twelfth_graders.groupby([\"school_name\"]).mean()[\"reading_score\"]\n",
    "\n",
    "# Combine each of the scores above into single DataFrame called `reading_scores_by_grade`\n",
    "reading_scores_by_grade = pd.DataFrame({\n",
    "    \"9th\": ninth_grade_reading_scores,\n",
    "    \"10th\": tenth_grade_reading_scores,\n",
    "    \"11th\": eleventh_grade_reading_scores,\n",
    "    \"12th\": twelfth_grade_reading_scores\n",
    "})\n",
    "\n",
    "# Minor data wrangling\n",
    "reading_scores_by_grade = reading_scores_by_grade[[\"9th\", \"10th\", \"11th\", \"12th\"]]\n",
    "reading_scores_by_grade.index.name = None\n",
    "\n",
    "# Display the DataFrame\n",
    "reading_scores_by_grade\n"
   ]
  },
  {
   "cell_type": "markdown",
   "metadata": {},
   "source": [
    "## Scores by School Spending"
   ]
  },
  {
   "cell_type": "code",
   "execution_count": 43,
   "metadata": {},
   "outputs": [],
   "source": [
    "# Establish the bins\n",
    "spending_bins = [0, 585, 630, 645, 680]\n",
    "labels = [\"<$585\", \"$585-630\", \"$630-645\", \"$645-680\"]\n"
   ]
  },
  {
   "cell_type": "code",
   "execution_count": 44,
   "metadata": {},
   "outputs": [
    {
     "ename": "NameError",
     "evalue": "name 'per_school_summary' is not defined",
     "output_type": "error",
     "traceback": [
      "\u001b[1;31m---------------------------------------------------------------------------\u001b[0m",
      "\u001b[1;31mNameError\u001b[0m                                 Traceback (most recent call last)",
      "Cell \u001b[1;32mIn[44], line 2\u001b[0m\n\u001b[0;32m      1\u001b[0m \u001b[38;5;66;03m# Create a copy of the school summary since it has the \"Per Student Budget\"\u001b[39;00m\n\u001b[1;32m----> 2\u001b[0m school_spending_df \u001b[38;5;241m=\u001b[39m \u001b[43mper_school_summary\u001b[49m\u001b[38;5;241m.\u001b[39mcopy()\n",
      "\u001b[1;31mNameError\u001b[0m: name 'per_school_summary' is not defined"
     ]
    }
   ],
   "source": [
    "# Create a copy of the school summary since it has the \"Per Student Budget\"\n",
    "school_spending_df = per_school_summary.copy()\n"
   ]
  },
  {
   "cell_type": "code",
   "execution_count": 46,
   "metadata": {},
   "outputs": [
    {
     "ename": "NameError",
     "evalue": "name 'school_spending_df' is not defined",
     "output_type": "error",
     "traceback": [
      "\u001b[1;31m---------------------------------------------------------------------------\u001b[0m",
      "\u001b[1;31mNameError\u001b[0m                                 Traceback (most recent call last)",
      "Cell \u001b[1;32mIn[46], line 2\u001b[0m\n\u001b[0;32m      1\u001b[0m \u001b[38;5;66;03m# Use `pd.cut` to categorize spending based on the bins.\u001b[39;00m\n\u001b[1;32m----> 2\u001b[0m school_spending_df[\u001b[38;5;124m\"\u001b[39m\u001b[38;5;124mSpending Ranges (Per Student)\u001b[39m\u001b[38;5;124m\"\u001b[39m] \u001b[38;5;241m=\u001b[39m pd\u001b[38;5;241m.\u001b[39mcut(\u001b[43mschool_spending_df\u001b[49m[\u001b[38;5;124m\"\u001b[39m\u001b[38;5;124mPer Student Budget\u001b[39m\u001b[38;5;124m\"\u001b[39m], spending_bins, labels\u001b[38;5;241m=\u001b[39mlabels)\n",
      "\u001b[1;31mNameError\u001b[0m: name 'school_spending_df' is not defined"
     ]
    }
   ],
   "source": [
    "# Use `pd.cut` to categorize spending based on the bins.\n",
    "school_spending_df[\"Spending Ranges (Per Student)\"] = pd.cut(school_spending_df[\"Per Student Budget\"], spending_bins, labels=labels)\n"
   ]
  },
  {
   "cell_type": "code",
   "execution_count": 47,
   "metadata": {},
   "outputs": [
    {
     "ename": "NameError",
     "evalue": "name 'school_spending_df' is not defined",
     "output_type": "error",
     "traceback": [
      "\u001b[1;31m---------------------------------------------------------------------------\u001b[0m",
      "\u001b[1;31mNameError\u001b[0m                                 Traceback (most recent call last)",
      "Cell \u001b[1;32mIn[47], line 2\u001b[0m\n\u001b[0;32m      1\u001b[0m \u001b[38;5;66;03m#  Calculate averages for the desired columns.\u001b[39;00m\n\u001b[1;32m----> 2\u001b[0m spending_math_scores \u001b[38;5;241m=\u001b[39m \u001b[43mschool_spending_df\u001b[49m\u001b[38;5;241m.\u001b[39mgroupby([\u001b[38;5;124m\"\u001b[39m\u001b[38;5;124mSpending Ranges (Per Student)\u001b[39m\u001b[38;5;124m\"\u001b[39m])[\u001b[38;5;124m\"\u001b[39m\u001b[38;5;124mAverage Math Score\u001b[39m\u001b[38;5;124m\"\u001b[39m]\u001b[38;5;241m.\u001b[39mmean()\n\u001b[0;32m      3\u001b[0m spending_reading_scores \u001b[38;5;241m=\u001b[39m school_spending_df\u001b[38;5;241m.\u001b[39mgroupby([\u001b[38;5;124m\"\u001b[39m\u001b[38;5;124mSpending Ranges (Per Student)\u001b[39m\u001b[38;5;124m\"\u001b[39m])[\u001b[38;5;124m\"\u001b[39m\u001b[38;5;124mAverage Reading Score\u001b[39m\u001b[38;5;124m\"\u001b[39m]\u001b[38;5;241m.\u001b[39mmean()\n\u001b[0;32m      4\u001b[0m spending_passing_math \u001b[38;5;241m=\u001b[39m school_spending_df\u001b[38;5;241m.\u001b[39mgroupby([\u001b[38;5;124m\"\u001b[39m\u001b[38;5;124mSpending Ranges (Per Student)\u001b[39m\u001b[38;5;124m\"\u001b[39m])[\u001b[38;5;124m\"\u001b[39m\u001b[38;5;124m%\u001b[39m\u001b[38;5;124m Passing Math\u001b[39m\u001b[38;5;124m\"\u001b[39m]\u001b[38;5;241m.\u001b[39mmean()\n",
      "\u001b[1;31mNameError\u001b[0m: name 'school_spending_df' is not defined"
     ]
    }
   ],
   "source": [
    "#  Calculate averages for the desired columns.\n",
    "spending_math_scores = school_spending_df.groupby([\"Spending Ranges (Per Student)\"])[\"Average Math Score\"].mean()\n",
    "spending_reading_scores = school_spending_df.groupby([\"Spending Ranges (Per Student)\"])[\"Average Reading Score\"].mean()\n",
    "spending_passing_math = school_spending_df.groupby([\"Spending Ranges (Per Student)\"])[\"% Passing Math\"].mean()\n",
    "spending_passing_reading = school_spending_df.groupby([\"Spending Ranges (Per Student)\"])[\"% Passing Reading\"].mean()\n",
    "overall_passing_spending = school_spending_df.groupby([\"Spending Ranges (Per Student)\"])[\"% Overall Passing\"].mean()\n"
   ]
  },
  {
   "cell_type": "code",
   "execution_count": 48,
   "metadata": {},
   "outputs": [
    {
     "ename": "NameError",
     "evalue": "name 'spending_math_scores' is not defined",
     "output_type": "error",
     "traceback": [
      "\u001b[1;31m---------------------------------------------------------------------------\u001b[0m",
      "\u001b[1;31mNameError\u001b[0m                                 Traceback (most recent call last)",
      "Cell \u001b[1;32mIn[48], line 3\u001b[0m\n\u001b[0;32m      1\u001b[0m \u001b[38;5;66;03m# Assemble into DataFrame\u001b[39;00m\n\u001b[0;32m      2\u001b[0m spending_summary \u001b[38;5;241m=\u001b[39m pd\u001b[38;5;241m.\u001b[39mDataFrame({\n\u001b[1;32m----> 3\u001b[0m     \u001b[38;5;124m\"\u001b[39m\u001b[38;5;124mAverage Math Score\u001b[39m\u001b[38;5;124m\"\u001b[39m: \u001b[43mspending_math_scores\u001b[49m,\n\u001b[0;32m      4\u001b[0m     \u001b[38;5;124m\"\u001b[39m\u001b[38;5;124mAverage Reading Score\u001b[39m\u001b[38;5;124m\"\u001b[39m: spending_reading_scores,\n\u001b[0;32m      5\u001b[0m     \u001b[38;5;124m\"\u001b[39m\u001b[38;5;124m%\u001b[39m\u001b[38;5;124m Passing Math\u001b[39m\u001b[38;5;124m\"\u001b[39m: spending_passing_math,\n\u001b[0;32m      6\u001b[0m     \u001b[38;5;124m\"\u001b[39m\u001b[38;5;124m%\u001b[39m\u001b[38;5;124m Passing Reading\u001b[39m\u001b[38;5;124m\"\u001b[39m: spending_passing_reading,\n\u001b[0;32m      7\u001b[0m     \u001b[38;5;124m\"\u001b[39m\u001b[38;5;124m%\u001b[39m\u001b[38;5;124m Overall Passing\u001b[39m\u001b[38;5;124m\"\u001b[39m: overall_passing_spending\n\u001b[0;32m      8\u001b[0m })\n\u001b[0;32m     10\u001b[0m \u001b[38;5;66;03m# Display results\u001b[39;00m\n\u001b[0;32m     11\u001b[0m spending_summary\n",
      "\u001b[1;31mNameError\u001b[0m: name 'spending_math_scores' is not defined"
     ]
    }
   ],
   "source": [
    "# Assemble into DataFrame\n",
    "spending_summary = pd.DataFrame({\n",
    "    \"Average Math Score\": spending_math_scores,\n",
    "    \"Average Reading Score\": spending_reading_scores,\n",
    "    \"% Passing Math\": spending_passing_math,\n",
    "    \"% Passing Reading\": spending_passing_reading,\n",
    "    \"% Overall Passing\": overall_passing_spending\n",
    "})\n",
    "\n",
    "# Display results\n",
    "spending_summary\n"
   ]
  },
  {
   "cell_type": "markdown",
   "metadata": {},
   "source": [
    "## Scores by School Size"
   ]
  },
  {
   "cell_type": "code",
   "execution_count": 49,
   "metadata": {},
   "outputs": [],
   "source": [
    "# Establish the bins.\n",
    "size_bins = [0, 1000, 2000, 5000]\n",
    "labels = [\"Small (<1000)\", \"Medium (1000-2000)\", \"Large (2000-5000)\"]\n"
   ]
  },
  {
   "cell_type": "code",
   "execution_count": 51,
   "metadata": {},
   "outputs": [
    {
     "ename": "NameError",
     "evalue": "name 'per_school_summary' is not defined",
     "output_type": "error",
     "traceback": [
      "\u001b[1;31m---------------------------------------------------------------------------\u001b[0m",
      "\u001b[1;31mNameError\u001b[0m                                 Traceback (most recent call last)",
      "Cell \u001b[1;32mIn[51], line 4\u001b[0m\n\u001b[0;32m      1\u001b[0m \u001b[38;5;66;03m# Categorize the spending based on the bins\u001b[39;00m\n\u001b[0;32m      2\u001b[0m \u001b[38;5;66;03m# Use `pd.cut` on the \"Total Students\" column of the `per_school_summary` DataFrame.\u001b[39;00m\n\u001b[1;32m----> 4\u001b[0m per_school_summary[\u001b[38;5;124m\"\u001b[39m\u001b[38;5;124mSchool Size\u001b[39m\u001b[38;5;124m\"\u001b[39m] \u001b[38;5;241m=\u001b[39m pd\u001b[38;5;241m.\u001b[39mcut(\u001b[43mper_school_summary\u001b[49m[\u001b[38;5;124m\"\u001b[39m\u001b[38;5;124mTotal Students\u001b[39m\u001b[38;5;124m\"\u001b[39m], size_bins, labels\u001b[38;5;241m=\u001b[39mlabels)\n\u001b[0;32m      5\u001b[0m per_school_summary\n",
      "\u001b[1;31mNameError\u001b[0m: name 'per_school_summary' is not defined"
     ]
    }
   ],
   "source": [
    "# Categorize the spending based on the bins\n",
    "# Use `pd.cut` on the \"Total Students\" column of the `per_school_summary` DataFrame.\n",
    "\n",
    "per_school_summary[\"School Size\"] = pd.cut(per_school_summary[\"Total Students\"], size_bins, labels=labels)\n",
    "per_school_summary\n"
   ]
  },
  {
   "cell_type": "code",
   "execution_count": 52,
   "metadata": {},
   "outputs": [
    {
     "ename": "NameError",
     "evalue": "name 'per_school_summary' is not defined",
     "output_type": "error",
     "traceback": [
      "\u001b[1;31m---------------------------------------------------------------------------\u001b[0m",
      "\u001b[1;31mNameError\u001b[0m                                 Traceback (most recent call last)",
      "Cell \u001b[1;32mIn[52], line 2\u001b[0m\n\u001b[0;32m      1\u001b[0m \u001b[38;5;66;03m# Calculate averages for the desired columns.\u001b[39;00m\n\u001b[1;32m----> 2\u001b[0m size_math_scores \u001b[38;5;241m=\u001b[39m \u001b[43mper_school_summary\u001b[49m\u001b[38;5;241m.\u001b[39mgroupby([\u001b[38;5;124m\"\u001b[39m\u001b[38;5;124mSchool Size\u001b[39m\u001b[38;5;124m\"\u001b[39m])[\u001b[38;5;124m\"\u001b[39m\u001b[38;5;124mAverage Math Score\u001b[39m\u001b[38;5;124m\"\u001b[39m]\u001b[38;5;241m.\u001b[39mmean()\n\u001b[0;32m      3\u001b[0m size_reading_scores \u001b[38;5;241m=\u001b[39m per_school_summary\u001b[38;5;241m.\u001b[39mgroupby([\u001b[38;5;124m\"\u001b[39m\u001b[38;5;124mSchool Size\u001b[39m\u001b[38;5;124m\"\u001b[39m])[\u001b[38;5;124m\"\u001b[39m\u001b[38;5;124mAverage Reading Score\u001b[39m\u001b[38;5;124m\"\u001b[39m]\u001b[38;5;241m.\u001b[39mmean()\n\u001b[0;32m      4\u001b[0m size_passing_math \u001b[38;5;241m=\u001b[39m per_school_summary\u001b[38;5;241m.\u001b[39mgroupby([\u001b[38;5;124m\"\u001b[39m\u001b[38;5;124mSchool Size\u001b[39m\u001b[38;5;124m\"\u001b[39m])[\u001b[38;5;124m\"\u001b[39m\u001b[38;5;124m%\u001b[39m\u001b[38;5;124m Passing Math\u001b[39m\u001b[38;5;124m\"\u001b[39m]\u001b[38;5;241m.\u001b[39mmean()\n",
      "\u001b[1;31mNameError\u001b[0m: name 'per_school_summary' is not defined"
     ]
    }
   ],
   "source": [
    "# Calculate averages for the desired columns.\n",
    "size_math_scores = per_school_summary.groupby([\"School Size\"])[\"Average Math Score\"].mean()\n",
    "size_reading_scores = per_school_summary.groupby([\"School Size\"])[\"Average Reading Score\"].mean()\n",
    "size_passing_math = per_school_summary.groupby([\"School Size\"])[\"% Passing Math\"].mean()\n",
    "size_passing_reading = per_school_summary.groupby([\"School Size\"])[\"% Passing Reading\"].mean()\n",
    "size_overall_passing = per_school_summary.groupby([\"School Size\"])[\"% Overall Passing\"].mean()\n"
   ]
  },
  {
   "cell_type": "code",
   "execution_count": 53,
   "metadata": {
    "scrolled": true
   },
   "outputs": [
    {
     "ename": "NameError",
     "evalue": "name 'size_math_scores' is not defined",
     "output_type": "error",
     "traceback": [
      "\u001b[1;31m---------------------------------------------------------------------------\u001b[0m",
      "\u001b[1;31mNameError\u001b[0m                                 Traceback (most recent call last)",
      "Cell \u001b[1;32mIn[53], line 4\u001b[0m\n\u001b[0;32m      1\u001b[0m \u001b[38;5;66;03m# Create a DataFrame called `size_summary` that breaks down school performance based on school size (small, medium, or large).\u001b[39;00m\n\u001b[0;32m      2\u001b[0m \u001b[38;5;66;03m# Use the scores above to create a new DataFrame called `size_summary`\u001b[39;00m\n\u001b[0;32m      3\u001b[0m size_summary \u001b[38;5;241m=\u001b[39m pd\u001b[38;5;241m.\u001b[39mDataFrame({\n\u001b[1;32m----> 4\u001b[0m     \u001b[38;5;124m\"\u001b[39m\u001b[38;5;124mAverage Math Score\u001b[39m\u001b[38;5;124m\"\u001b[39m: \u001b[43msize_math_scores\u001b[49m,\n\u001b[0;32m      5\u001b[0m     \u001b[38;5;124m\"\u001b[39m\u001b[38;5;124mAverage Reading Score\u001b[39m\u001b[38;5;124m\"\u001b[39m: size_reading_scores,\n\u001b[0;32m      6\u001b[0m     \u001b[38;5;124m\"\u001b[39m\u001b[38;5;124m%\u001b[39m\u001b[38;5;124m Passing Math\u001b[39m\u001b[38;5;124m\"\u001b[39m: size_passing_math,\n\u001b[0;32m      7\u001b[0m     \u001b[38;5;124m\"\u001b[39m\u001b[38;5;124m%\u001b[39m\u001b[38;5;124m Passing Reading\u001b[39m\u001b[38;5;124m\"\u001b[39m: size_passing_reading,\n\u001b[0;32m      8\u001b[0m     \u001b[38;5;124m\"\u001b[39m\u001b[38;5;124m%\u001b[39m\u001b[38;5;124m Overall Passing\u001b[39m\u001b[38;5;124m\"\u001b[39m: size_overall_passing\n\u001b[0;32m      9\u001b[0m })\n\u001b[0;32m     11\u001b[0m \u001b[38;5;66;03m# Display results\u001b[39;00m\n\u001b[0;32m     12\u001b[0m size_summary\n",
      "\u001b[1;31mNameError\u001b[0m: name 'size_math_scores' is not defined"
     ]
    }
   ],
   "source": [
    "# Create a DataFrame called `size_summary` that breaks down school performance based on school size (small, medium, or large).\n",
    "# Use the scores above to create a new DataFrame called `size_summary`\n",
    "size_summary = pd.DataFrame({\n",
    "    \"Average Math Score\": size_math_scores,\n",
    "    \"Average Reading Score\": size_reading_scores,\n",
    "    \"% Passing Math\": size_passing_math,\n",
    "    \"% Passing Reading\": size_passing_reading,\n",
    "    \"% Overall Passing\": size_overall_passing\n",
    "})\n",
    "\n",
    "# Display results\n",
    "size_summary\n"
   ]
  },
  {
   "cell_type": "markdown",
   "metadata": {},
   "source": [
    "## Scores by School Type"
   ]
  },
  {
   "cell_type": "code",
   "execution_count": 54,
   "metadata": {},
   "outputs": [
    {
     "ename": "NameError",
     "evalue": "name 'per_school_summary' is not defined",
     "output_type": "error",
     "traceback": [
      "\u001b[1;31m---------------------------------------------------------------------------\u001b[0m",
      "\u001b[1;31mNameError\u001b[0m                                 Traceback (most recent call last)",
      "Cell \u001b[1;32mIn[54], line 2\u001b[0m\n\u001b[0;32m      1\u001b[0m \u001b[38;5;66;03m# Group the per_school_summary DataFrame by \"School Type\" and average the results.\u001b[39;00m\n\u001b[1;32m----> 2\u001b[0m average_math_score_by_type \u001b[38;5;241m=\u001b[39m \u001b[43mper_school_summary\u001b[49m\u001b[38;5;241m.\u001b[39mgroupby([\u001b[38;5;124m\"\u001b[39m\u001b[38;5;124mSchool Type\u001b[39m\u001b[38;5;124m\"\u001b[39m])[\u001b[38;5;124m\"\u001b[39m\u001b[38;5;124mAverage Math Score\u001b[39m\u001b[38;5;124m\"\u001b[39m]\u001b[38;5;241m.\u001b[39mmean()\n\u001b[0;32m      3\u001b[0m average_reading_score_by_type \u001b[38;5;241m=\u001b[39m per_school_summary\u001b[38;5;241m.\u001b[39mgroupby([\u001b[38;5;124m\"\u001b[39m\u001b[38;5;124mSchool Type\u001b[39m\u001b[38;5;124m\"\u001b[39m])[\u001b[38;5;124m\"\u001b[39m\u001b[38;5;124mAverage Reading Score\u001b[39m\u001b[38;5;124m\"\u001b[39m]\u001b[38;5;241m.\u001b[39mmean()\n\u001b[0;32m      4\u001b[0m average_percent_passing_math_by_type \u001b[38;5;241m=\u001b[39m per_school_summary\u001b[38;5;241m.\u001b[39mgroupby([\u001b[38;5;124m\"\u001b[39m\u001b[38;5;124mSchool Type\u001b[39m\u001b[38;5;124m\"\u001b[39m])[\u001b[38;5;124m\"\u001b[39m\u001b[38;5;124m%\u001b[39m\u001b[38;5;124m Passing Math\u001b[39m\u001b[38;5;124m\"\u001b[39m]\u001b[38;5;241m.\u001b[39mmean()\n",
      "\u001b[1;31mNameError\u001b[0m: name 'per_school_summary' is not defined"
     ]
    }
   ],
   "source": [
    "# Group the per_school_summary DataFrame by \"School Type\" and average the results.\n",
    "average_math_score_by_type = per_school_summary.groupby([\"School Type\"])[\"Average Math Score\"].mean()\n",
    "average_reading_score_by_type = per_school_summary.groupby([\"School Type\"])[\"Average Reading Score\"].mean()\n",
    "average_percent_passing_math_by_type = per_school_summary.groupby([\"School Type\"])[\"% Passing Math\"].mean()\n",
    "average_percent_passing_reading_by_type = per_school_summary.groupby([\"School Type\"])[\"% Passing Reading\"].mean()\n",
    "average_percent_overall_passing_by_type = per_school_summary.groupby([\"School Type\"])[\"% Overall Passing\"].mean()\n"
   ]
  },
  {
   "cell_type": "code",
   "execution_count": 55,
   "metadata": {},
   "outputs": [
    {
     "ename": "NameError",
     "evalue": "name 'average_math_score_by_type' is not defined",
     "output_type": "error",
     "traceback": [
      "\u001b[1;31m---------------------------------------------------------------------------\u001b[0m",
      "\u001b[1;31mNameError\u001b[0m                                 Traceback (most recent call last)",
      "Cell \u001b[1;32mIn[55], line 3\u001b[0m\n\u001b[0;32m      1\u001b[0m \u001b[38;5;66;03m# Assemble the new data by type into a DataFrame called `type_summary`\u001b[39;00m\n\u001b[0;32m      2\u001b[0m type_summary \u001b[38;5;241m=\u001b[39m pd\u001b[38;5;241m.\u001b[39mDataFrame({\n\u001b[1;32m----> 3\u001b[0m     \u001b[38;5;124m\"\u001b[39m\u001b[38;5;124mAverage Math Score\u001b[39m\u001b[38;5;124m\"\u001b[39m: \u001b[43maverage_math_score_by_type\u001b[49m,\n\u001b[0;32m      4\u001b[0m     \u001b[38;5;124m\"\u001b[39m\u001b[38;5;124mAverage Reading Score\u001b[39m\u001b[38;5;124m\"\u001b[39m: average_reading_score_by_type,\n\u001b[0;32m      5\u001b[0m     \u001b[38;5;124m\"\u001b[39m\u001b[38;5;124m%\u001b[39m\u001b[38;5;124m Passing Math\u001b[39m\u001b[38;5;124m\"\u001b[39m: average_percent_passing_math_by_type,\n\u001b[0;32m      6\u001b[0m     \u001b[38;5;124m\"\u001b[39m\u001b[38;5;124m%\u001b[39m\u001b[38;5;124m Passing Reading\u001b[39m\u001b[38;5;124m\"\u001b[39m: average_percent_passing_reading_by_type,\n\u001b[0;32m      7\u001b[0m     \u001b[38;5;124m\"\u001b[39m\u001b[38;5;124m%\u001b[39m\u001b[38;5;124m Overall Passing\u001b[39m\u001b[38;5;124m\"\u001b[39m: average_percent_overall_passing_by_type\n\u001b[0;32m      8\u001b[0m })\n\u001b[0;32m      9\u001b[0m \u001b[38;5;66;03m# Display results\u001b[39;00m\n\u001b[0;32m     10\u001b[0m type_summary\n",
      "\u001b[1;31mNameError\u001b[0m: name 'average_math_score_by_type' is not defined"
     ]
    }
   ],
   "source": [
    "# Assemble the new data by type into a DataFrame called `type_summary`\n",
    "type_summary = pd.DataFrame({\n",
    "    \"Average Math Score\": average_math_score_by_type,\n",
    "    \"Average Reading Score\": average_reading_score_by_type,\n",
    "    \"% Passing Math\": average_percent_passing_math_by_type,\n",
    "    \"% Passing Reading\": average_percent_passing_reading_by_type,\n",
    "    \"% Overall Passing\": average_percent_overall_passing_by_type\n",
    "})\n",
    "# Display results\n",
    "type_summary\n"
   ]
  },
  {
   "cell_type": "code",
   "execution_count": null,
   "metadata": {},
   "outputs": [],
   "source": []
  }
 ],
 "metadata": {
  "anaconda-cloud": {},
  "kernel_info": {
   "name": "python3"
  },
  "kernelspec": {
   "display_name": "Python 3 (ipykernel)",
   "language": "python",
   "name": "python3"
  },
  "language_info": {
   "codemirror_mode": {
    "name": "ipython",
    "version": 3
   },
   "file_extension": ".py",
   "mimetype": "text/x-python",
   "name": "python",
   "nbconvert_exporter": "python",
   "pygments_lexer": "ipython3",
   "version": "3.10.14"
  },
  "latex_envs": {
   "LaTeX_envs_menu_present": true,
   "autoclose": false,
   "autocomplete": true,
   "bibliofile": "biblio.bib",
   "cite_by": "apalike",
   "current_citInitial": 1,
   "eqLabelWithNumbers": true,
   "eqNumInitial": 1,
   "hotkeys": {
    "equation": "Ctrl-E",
    "itemize": "Ctrl-I"
   },
   "labels_anchors": false,
   "latex_user_defs": false,
   "report_style_numbering": false,
   "user_envs_cfg": false
  },
  "nteract": {
   "version": "0.8.4"
  },
  "vscode": {
   "interpreter": {
    "hash": "5384d77d82de63fd599f73e77f9ec786e7719288bf80a29ec0288c670ac3cf32"
   }
  }
 },
 "nbformat": 4,
 "nbformat_minor": 4
}
