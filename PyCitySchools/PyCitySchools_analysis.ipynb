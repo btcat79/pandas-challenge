{
 "cells": [
  {
   "attachments": {},
   "cell_type": "markdown",
   "metadata": {},
   "source": [
    "# PyCity Schools Analysis\n",
    "\n",
    "- Your analysis here\n",
    "  \n",
    "---Unfortunately, I can't seem to figure out how to solve this error of having non-numeric data in the math scores and possibly english scores. Really frustrating. I will keep trying and hope to resubmit."
   ]
  },
  {
   "cell_type": "code",
   "execution_count": 1,
   "metadata": {},
   "outputs": [
    {
     "data": {
      "text/html": [
       "<div>\n",
       "<style scoped>\n",
       "    .dataframe tbody tr th:only-of-type {\n",
       "        vertical-align: middle;\n",
       "    }\n",
       "\n",
       "    .dataframe tbody tr th {\n",
       "        vertical-align: top;\n",
       "    }\n",
       "\n",
       "    .dataframe thead th {\n",
       "        text-align: right;\n",
       "    }\n",
       "</style>\n",
       "<table border=\"1\" class=\"dataframe\">\n",
       "  <thead>\n",
       "    <tr style=\"text-align: right;\">\n",
       "      <th></th>\n",
       "      <th>Student ID</th>\n",
       "      <th>student_name</th>\n",
       "      <th>gender</th>\n",
       "      <th>grade</th>\n",
       "      <th>school_name</th>\n",
       "      <th>reading_score</th>\n",
       "      <th>math_score</th>\n",
       "      <th>School ID</th>\n",
       "      <th>type</th>\n",
       "      <th>size</th>\n",
       "      <th>budget</th>\n",
       "    </tr>\n",
       "  </thead>\n",
       "  <tbody>\n",
       "    <tr>\n",
       "      <th>0</th>\n",
       "      <td>0</td>\n",
       "      <td>Paul Bradley</td>\n",
       "      <td>M</td>\n",
       "      <td>9th</td>\n",
       "      <td>Huang High School</td>\n",
       "      <td>66</td>\n",
       "      <td>79</td>\n",
       "      <td>0</td>\n",
       "      <td>District</td>\n",
       "      <td>2917</td>\n",
       "      <td>1910635</td>\n",
       "    </tr>\n",
       "    <tr>\n",
       "      <th>1</th>\n",
       "      <td>1</td>\n",
       "      <td>Victor Smith</td>\n",
       "      <td>M</td>\n",
       "      <td>12th</td>\n",
       "      <td>Huang High School</td>\n",
       "      <td>94</td>\n",
       "      <td>61</td>\n",
       "      <td>0</td>\n",
       "      <td>District</td>\n",
       "      <td>2917</td>\n",
       "      <td>1910635</td>\n",
       "    </tr>\n",
       "    <tr>\n",
       "      <th>2</th>\n",
       "      <td>2</td>\n",
       "      <td>Kevin Rodriguez</td>\n",
       "      <td>M</td>\n",
       "      <td>12th</td>\n",
       "      <td>Huang High School</td>\n",
       "      <td>90</td>\n",
       "      <td>60</td>\n",
       "      <td>0</td>\n",
       "      <td>District</td>\n",
       "      <td>2917</td>\n",
       "      <td>1910635</td>\n",
       "    </tr>\n",
       "    <tr>\n",
       "      <th>3</th>\n",
       "      <td>3</td>\n",
       "      <td>Dr. Richard Scott</td>\n",
       "      <td>M</td>\n",
       "      <td>12th</td>\n",
       "      <td>Huang High School</td>\n",
       "      <td>67</td>\n",
       "      <td>58</td>\n",
       "      <td>0</td>\n",
       "      <td>District</td>\n",
       "      <td>2917</td>\n",
       "      <td>1910635</td>\n",
       "    </tr>\n",
       "    <tr>\n",
       "      <th>4</th>\n",
       "      <td>4</td>\n",
       "      <td>Bonnie Ray</td>\n",
       "      <td>F</td>\n",
       "      <td>9th</td>\n",
       "      <td>Huang High School</td>\n",
       "      <td>97</td>\n",
       "      <td>84</td>\n",
       "      <td>0</td>\n",
       "      <td>District</td>\n",
       "      <td>2917</td>\n",
       "      <td>1910635</td>\n",
       "    </tr>\n",
       "  </tbody>\n",
       "</table>\n",
       "</div>"
      ],
      "text/plain": [
       "   Student ID       student_name gender grade        school_name  \\\n",
       "0           0       Paul Bradley      M   9th  Huang High School   \n",
       "1           1       Victor Smith      M  12th  Huang High School   \n",
       "2           2    Kevin Rodriguez      M  12th  Huang High School   \n",
       "3           3  Dr. Richard Scott      M  12th  Huang High School   \n",
       "4           4         Bonnie Ray      F   9th  Huang High School   \n",
       "\n",
       "   reading_score  math_score  School ID      type  size   budget  \n",
       "0             66          79          0  District  2917  1910635  \n",
       "1             94          61          0  District  2917  1910635  \n",
       "2             90          60          0  District  2917  1910635  \n",
       "3             67          58          0  District  2917  1910635  \n",
       "4             97          84          0  District  2917  1910635  "
      ]
     },
     "execution_count": 1,
     "metadata": {},
     "output_type": "execute_result"
    }
   ],
   "source": [
    "# Dependencies and Setup\n",
    "import pandas as pd\n",
    "from pathlib import Path\n",
    "\n",
    "# File to Load (Remember to Change These)\n",
    "school_data_to_load = Path(\"Resources/schools_complete.csv\")\n",
    "student_data_to_load = Path(\"Resources/students_complete.csv\")\n",
    "\n",
    "# Read School and Student Data File and store into Pandas DataFrames\n",
    "school_data = pd.read_csv(school_data_to_load)\n",
    "student_data = pd.read_csv(student_data_to_load)\n",
    "\n",
    "# Combine the data into a single dataset.\n",
    "school_data_complete = pd.merge(student_data, school_data, how=\"left\", on=[\"school_name\", \"school_name\"])\n",
    "\n",
    "# Clean the data by dropping rows with non-numeric math_score or reading_score\n",
    "school_data_complete = school_data_complete[pd.to_numeric(school_data_complete[\"math_score\"], errors='coerce').notna()]\n",
    "school_data_complete = school_data_complete[pd.to_numeric(school_data_complete[\"reading_score\"], errors='coerce').notna()]\n",
    "\n",
    "\n",
    "school_data_complete.head()\n"
   ]
  },
  {
   "cell_type": "code",
   "execution_count": 62,
   "metadata": {},
   "outputs": [
    {
     "data": {
      "text/plain": [
       "array([66, 94, 90, 67, 97, 82, 96, 95, 78, 64, 71, 85, 88, 74, 89, 91, 99,\n",
       "       81, 92, 63, 80, 73, 93, 65, 76, 79, 75, 77, 69, 83, 72, 87, 70, 84,\n",
       "       86, 68, 98], dtype=int64)"
      ]
     },
     "execution_count": 62,
     "metadata": {},
     "output_type": "execute_result"
    }
   ],
   "source": [
    "# Check for unique values in math_score and reading_score\n",
    "school_data_complete['math_score'].unique()\n",
    "school_data_complete['reading_score'].unique()\n"
   ]
  },
  {
   "cell_type": "code",
   "execution_count": 2,
   "metadata": {},
   "outputs": [
    {
     "name": "stdout",
     "output_type": "stream",
     "text": [
      "Student ID        int64\n",
      "student_name     object\n",
      "gender           object\n",
      "grade            object\n",
      "school_name      object\n",
      "reading_score     int64\n",
      "math_score        int64\n",
      "School ID         int64\n",
      "type             object\n",
      "size              int64\n",
      "budget            int64\n",
      "dtype: object\n"
     ]
    }
   ],
   "source": [
    "school_data_complete.dtypes\n"
   ]
  },
  {
   "cell_type": "code",
   "execution_count": 3,
   "metadata": {},
   "outputs": [],
   "source": [
    "# Convert math_score and reading_score to numeric, replace non-convertible values with NaN\n",
    "school_data_complete[\"math_score\"] = pd.to_numeric(school_data_complete[\"math_score\"], errors='coerce')\n",
    "school_data_complete[\"reading_score\"] = pd.to_numeric(school_data_complete[\"reading_score\"], errors='coerce')\n",
    "\n",
    "# Drop rows with NaN values in math_score or reading_score\n",
    "school_data_complete = school_data_complete.dropna(subset=[\"math_score\", \"reading_score\"])\n"
   ]
  },
  {
   "cell_type": "code",
   "execution_count": 4,
   "metadata": {},
   "outputs": [
    {
     "name": "stdout",
     "output_type": "stream",
     "text": [
      "math_score       float64\n",
      "reading_score    float64\n",
      "dtype: object\n"
     ]
    }
   ],
   "source": [
    "# Convert math_score and reading_score to float64\n",
    "school_data_complete[\"math_score\"] = school_data_complete[\"math_score\"].astype(float)\n",
    "school_data_complete[\"reading_score\"] = school_data_complete[\"reading_score\"].astype(float)\n",
    "\n",
    "# Check if the conversion was successful\n",
    "print(school_data_complete.dtypes[[\"math_score\", \"reading_score\"]])\n"
   ]
  },
  {
   "cell_type": "code",
   "execution_count": 5,
   "metadata": {},
   "outputs": [
    {
     "name": "stdout",
     "output_type": "stream",
     "text": [
      "              school_name  math_score\n",
      "0      Bailey High School   77.048432\n",
      "1     Cabrera High School   83.061895\n",
      "2    Figueroa High School   76.711767\n",
      "3        Ford High School   77.102592\n",
      "4     Griffin High School   83.351499\n",
      "5   Hernandez High School   77.289752\n",
      "6      Holden High School   83.803279\n",
      "7       Huang High School   76.629414\n",
      "8     Johnson High School   77.072464\n",
      "9        Pena High School   83.839917\n",
      "10  Rodriguez High School   76.842711\n",
      "11    Shelton High School   83.359455\n",
      "12     Thomas High School   83.418349\n",
      "13     Wilson High School   83.274201\n",
      "14     Wright High School   83.682222\n",
      "              school_name  reading_score\n",
      "0      Bailey High School      81.033963\n",
      "1     Cabrera High School      83.975780\n",
      "2    Figueroa High School      81.158020\n",
      "3        Ford High School      80.746258\n",
      "4     Griffin High School      83.816757\n",
      "5   Hernandez High School      80.934412\n",
      "6      Holden High School      83.814988\n",
      "7       Huang High School      81.182722\n",
      "8     Johnson High School      80.966394\n",
      "9        Pena High School      84.044699\n",
      "10  Rodriguez High School      80.744686\n",
      "11    Shelton High School      83.725724\n",
      "12     Thomas High School      83.848930\n",
      "13     Wilson High School      83.989488\n",
      "14     Wright High School      83.955000\n"
     ]
    }
   ],
   "source": [
    "# Group by school_name and calculate the mean math_score and reading_score\n",
    "per_school_math = school_data_complete.groupby(\"school_name\")[\"math_score\"].mean()\n",
    "per_school_reading = school_data_complete.groupby(\"school_name\")[\"reading_score\"].mean()\n",
    "\n",
    "# Convert to DataFrames for clarity\n",
    "per_school_math_df = per_school_math.reset_index()\n",
    "per_school_reading_df = per_school_reading.reset_index()\n",
    "\n",
    "# Display results to check for accuracy\n",
    "print(per_school_math_df)\n",
    "print(per_school_reading_df)"
   ]
  },
  {
   "cell_type": "code",
   "execution_count": 6,
   "metadata": {},
   "outputs": [
    {
     "name": "stdout",
     "output_type": "stream",
     "text": [
      "              school_name  math_score  reading_score\n",
      "0      Bailey High School   77.048432      81.033963\n",
      "1     Cabrera High School   83.061895      83.975780\n",
      "2    Figueroa High School   76.711767      81.158020\n",
      "3        Ford High School   77.102592      80.746258\n",
      "4     Griffin High School   83.351499      83.816757\n",
      "5   Hernandez High School   77.289752      80.934412\n",
      "6      Holden High School   83.803279      83.814988\n",
      "7       Huang High School   76.629414      81.182722\n",
      "8     Johnson High School   77.072464      80.966394\n",
      "9        Pena High School   83.839917      84.044699\n",
      "10  Rodriguez High School   76.842711      80.744686\n",
      "11    Shelton High School   83.359455      83.725724\n",
      "12     Thomas High School   83.418349      83.848930\n",
      "13     Wilson High School   83.274201      83.989488\n",
      "14     Wright High School   83.682222      83.955000\n"
     ]
    }
   ],
   "source": [
    "# Merge the two DataFrames back together\n",
    "per_school_scores_df = pd.merge(per_school_math_df, per_school_reading_df, on=\"school_name\", suffixes=(\"_math\", \"_reading\"))\n",
    "\n",
    "# Display the merged DataFrame\n",
    "print(per_school_scores_df)\n"
   ]
  },
  {
   "cell_type": "markdown",
   "metadata": {},
   "source": [
    "## District Summary"
   ]
  },
  {
   "cell_type": "code",
   "execution_count": 7,
   "metadata": {},
   "outputs": [
    {
     "data": {
      "text/plain": [
       "15"
      ]
     },
     "execution_count": 7,
     "metadata": {},
     "output_type": "execute_result"
    }
   ],
   "source": [
    "# Calculate the total number of unique schools\n",
    "school_count = school_data_complete[\"school_name\"].nunique()\n",
    "\n",
    "school_count\n"
   ]
  },
  {
   "cell_type": "code",
   "execution_count": 8,
   "metadata": {},
   "outputs": [
    {
     "data": {
      "text/plain": [
       "39170"
      ]
     },
     "execution_count": 8,
     "metadata": {},
     "output_type": "execute_result"
    }
   ],
   "source": [
    "# Calculate the total number of students\n",
    "student_count = school_data_complete[\"Student ID\"].count()\n",
    "student_count\n"
   ]
  },
  {
   "cell_type": "code",
   "execution_count": 9,
   "metadata": {},
   "outputs": [
    {
     "data": {
      "text/plain": [
       "82932329558"
      ]
     },
     "execution_count": 9,
     "metadata": {},
     "output_type": "execute_result"
    }
   ],
   "source": [
    "# Calculate the total budget\n",
    "total_budget = school_data_complete[\"budget\"].sum()\n",
    "total_budget\n"
   ]
  },
  {
   "cell_type": "code",
   "execution_count": 10,
   "metadata": {},
   "outputs": [
    {
     "data": {
      "text/plain": [
       "78.98537145774827"
      ]
     },
     "execution_count": 10,
     "metadata": {},
     "output_type": "execute_result"
    }
   ],
   "source": [
    "# Calculate the average (mean) math score\n",
    "average_math_score = school_data_complete[\"math_score\"].mean() \n",
    "average_math_score\n"
   ]
  },
  {
   "cell_type": "code",
   "execution_count": 11,
   "metadata": {},
   "outputs": [
    {
     "data": {
      "text/plain": [
       "81.87784018381414"
      ]
     },
     "execution_count": 11,
     "metadata": {},
     "output_type": "execute_result"
    }
   ],
   "source": [
    "# Calculate the average (mean) reading score\n",
    "average_reading_score = school_data_complete[\"reading_score\"].mean()\n",
    "average_reading_score\n"
   ]
  },
  {
   "cell_type": "code",
   "execution_count": 12,
   "metadata": {},
   "outputs": [
    {
     "data": {
      "text/plain": [
       "74.9808526933878"
      ]
     },
     "execution_count": 12,
     "metadata": {},
     "output_type": "execute_result"
    }
   ],
   "source": [
    "# Use the following to calculate the percentage of students who passed math (math scores greather than or equal to 70)\n",
    "passing_math_count = school_data_complete[(school_data_complete[\"math_score\"] >= 70)].count()[\"student_name\"]\n",
    "passing_math_percentage = passing_math_count / float(student_count) * 100\n",
    "passing_math_percentage\n"
   ]
  },
  {
   "cell_type": "code",
   "execution_count": 13,
   "metadata": {},
   "outputs": [
    {
     "data": {
      "text/plain": [
       "85.80546336482001"
      ]
     },
     "execution_count": 13,
     "metadata": {},
     "output_type": "execute_result"
    }
   ],
   "source": [
    "# Calculate the percentage of students who passed reading (hint: look at how the math percentage was calculated)\n",
    "passing_reading_count = school_data_complete[(school_data_complete[\"reading_score\"] >= 70)].count()[\"student_name\"]\n",
    "passing_reading_percentage = passing_reading_count / float(student_count) * 100\n",
    "passing_reading_percentage"
   ]
  },
  {
   "cell_type": "code",
   "execution_count": 14,
   "metadata": {},
   "outputs": [
    {
     "data": {
      "text/plain": [
       "65.17232575950983"
      ]
     },
     "execution_count": 14,
     "metadata": {},
     "output_type": "execute_result"
    }
   ],
   "source": [
    "# Use the following to calculate the percentage of students that passed math and reading\n",
    "passing_math_reading_count = school_data_complete[\n",
    "    (school_data_complete[\"math_score\"] >= 70) & (school_data_complete[\"reading_score\"] >= 70)\n",
    "].count()[\"student_name\"]\n",
    "overall_passing_rate = passing_math_reading_count /  float(student_count) * 100\n",
    "overall_passing_rate\n"
   ]
  },
  {
   "cell_type": "code",
   "execution_count": 15,
   "metadata": {},
   "outputs": [
    {
     "data": {
      "text/html": [
       "<div>\n",
       "<style scoped>\n",
       "    .dataframe tbody tr th:only-of-type {\n",
       "        vertical-align: middle;\n",
       "    }\n",
       "\n",
       "    .dataframe tbody tr th {\n",
       "        vertical-align: top;\n",
       "    }\n",
       "\n",
       "    .dataframe thead th {\n",
       "        text-align: right;\n",
       "    }\n",
       "</style>\n",
       "<table border=\"1\" class=\"dataframe\">\n",
       "  <thead>\n",
       "    <tr style=\"text-align: right;\">\n",
       "      <th></th>\n",
       "      <th>Total Schools</th>\n",
       "      <th>Total Students</th>\n",
       "      <th>Total Budget</th>\n",
       "      <th>Average Math Score</th>\n",
       "      <th>Average Reading Score</th>\n",
       "      <th>% Passing Math</th>\n",
       "      <th>% Passing Reading</th>\n",
       "      <th>% Overall Passing</th>\n",
       "    </tr>\n",
       "  </thead>\n",
       "  <tbody>\n",
       "    <tr>\n",
       "      <th>0</th>\n",
       "      <td>15</td>\n",
       "      <td>39,170</td>\n",
       "      <td>$82,932,329,558.00</td>\n",
       "      <td>78.985371</td>\n",
       "      <td>81.87784</td>\n",
       "      <td>74.980853</td>\n",
       "      <td>85.805463</td>\n",
       "      <td>65.172326</td>\n",
       "    </tr>\n",
       "  </tbody>\n",
       "</table>\n",
       "</div>"
      ],
      "text/plain": [
       "   Total Schools Total Students        Total Budget  Average Math Score  \\\n",
       "0             15         39,170  $82,932,329,558.00           78.985371   \n",
       "\n",
       "   Average Reading Score  % Passing Math  % Passing Reading  % Overall Passing  \n",
       "0               81.87784       74.980853          85.805463          65.172326  "
      ]
     },
     "execution_count": 15,
     "metadata": {},
     "output_type": "execute_result"
    }
   ],
   "source": [
    "# Create a high-level snapshot of the district's key metrics in a DataFrame\n",
    "district_summary = pd.DataFrame({\n",
    "    \"Total Schools\": [school_count],\n",
    "    \"Total Students\": [student_count],\n",
    "    \"Total Budget\": [total_budget],\n",
    "    \"Average Math Score\": [average_math_score],\n",
    "    \"Average Reading Score\": [average_reading_score],\n",
    "    \"% Passing Math\": [passing_math_percentage],\n",
    "    \"% Passing Reading\": [passing_reading_percentage],\n",
    "    \"% Overall Passing\": [overall_passing_rate]\n",
    "})\n",
    "\n",
    "# Formatting\n",
    "district_summary[\"Total Students\"] = district_summary[\"Total Students\"].map(\"{:,}\".format)\n",
    "district_summary[\"Total Budget\"] = district_summary[\"Total Budget\"].map(\"${:,.2f}\".format)\n",
    "\n",
    "# Display the DataFrame\n",
    "district_summary\n"
   ]
  },
  {
   "cell_type": "markdown",
   "metadata": {},
   "source": [
    "## School Summary"
   ]
  },
  {
   "cell_type": "code",
   "execution_count": 16,
   "metadata": {},
   "outputs": [
    {
     "data": {
      "text/plain": [
       "school_name\n",
       "Huang High School        District\n",
       "Figueroa High School     District\n",
       "Shelton High School       Charter\n",
       "Hernandez High School    District\n",
       "Griffin High School       Charter\n",
       "Wilson High School        Charter\n",
       "Cabrera High School       Charter\n",
       "Bailey High School       District\n",
       "Holden High School        Charter\n",
       "Pena High School          Charter\n",
       "Wright High School        Charter\n",
       "Rodriguez High School    District\n",
       "Johnson High School      District\n",
       "Ford High School         District\n",
       "Thomas High School        Charter\n",
       "Name: type, dtype: object"
      ]
     },
     "execution_count": 16,
     "metadata": {},
     "output_type": "execute_result"
    }
   ],
   "source": [
    "# Use the code provided to select the type per school from school_data\n",
    "school_types = school_data.set_index([\"school_name\"])[\"type\"]\n",
    "school_types"
   ]
  },
  {
   "cell_type": "code",
   "execution_count": 17,
   "metadata": {},
   "outputs": [
    {
     "data": {
      "text/plain": [
       "school_name\n",
       "Bailey High School       4976\n",
       "Johnson High School      4761\n",
       "Hernandez High School    4635\n",
       "Rodriguez High School    3999\n",
       "Figueroa High School     2949\n",
       "Huang High School        2917\n",
       "Ford High School         2739\n",
       "Wilson High School       2283\n",
       "Cabrera High School      1858\n",
       "Wright High School       1800\n",
       "Shelton High School      1761\n",
       "Thomas High School       1635\n",
       "Griffin High School      1468\n",
       "Pena High School          962\n",
       "Holden High School        427\n",
       "Name: count, dtype: int64"
      ]
     },
     "execution_count": 17,
     "metadata": {},
     "output_type": "execute_result"
    }
   ],
   "source": [
    "# Calculate the total student count per school from school_data\n",
    "per_school_counts = school_data_complete[\"school_name\"].value_counts()\n",
    "per_school_counts"
   ]
  },
  {
   "cell_type": "code",
   "execution_count": 18,
   "metadata": {},
   "outputs": [
    {
     "data": {
      "text/plain": [
       "school_name\n",
       "Bailey High School       628.0\n",
       "Cabrera High School      582.0\n",
       "Figueroa High School     639.0\n",
       "Ford High School         644.0\n",
       "Griffin High School      625.0\n",
       "Hernandez High School    652.0\n",
       "Holden High School       581.0\n",
       "Huang High School        655.0\n",
       "Johnson High School      650.0\n",
       "Pena High School         609.0\n",
       "Rodriguez High School    637.0\n",
       "Shelton High School      600.0\n",
       "Thomas High School       638.0\n",
       "Wilson High School       578.0\n",
       "Wright High School       583.0\n",
       "dtype: float64"
      ]
     },
     "execution_count": 18,
     "metadata": {},
     "output_type": "execute_result"
    }
   ],
   "source": [
    "# Calculate the total school budget and per capita spending per school from school_data\n",
    "per_school_budget = school_data.set_index([\"school_name\"])[\"budget\"]\n",
    "per_school_capita = per_school_budget / per_school_counts\n",
    "per_school_budget\n",
    "per_school_capita"
   ]
  },
  {
   "cell_type": "code",
   "execution_count": 19,
   "metadata": {},
   "outputs": [
    {
     "name": "stdout",
     "output_type": "stream",
     "text": [
      "Student ID         int64\n",
      "student_name      object\n",
      "gender            object\n",
      "grade             object\n",
      "school_name       object\n",
      "reading_score    float64\n",
      "math_score       float64\n",
      "School ID          int64\n",
      "type              object\n",
      "size               int64\n",
      "budget             int64\n",
      "dtype: object\n",
      "[79. 61. 60. 58. 84. 94. 80. 69. 87. 70. 77. 67. 88. 55. 75. 89. 68. 73.\n",
      " 85. 99. 65. 90. 74. 76. 66. 95. 93. 59. 81. 56. 78. 71. 72. 57. 82. 62.\n",
      " 63. 86. 98. 91. 92. 97. 83. 96. 64.]\n",
      "[66. 94. 90. 67. 97. 82. 96. 95. 78. 64. 71. 85. 88. 74. 89. 91. 99. 81.\n",
      " 92. 63. 80. 73. 93. 65. 76. 79. 75. 77. 69. 83. 72. 87. 70. 84. 86. 68.\n",
      " 98.]\n"
     ]
    }
   ],
   "source": [
    "# Inspect the data types and check for non-numeric values in math_score and reading_score columns\n",
    "print(school_data_complete.dtypes)\n",
    "print(school_data_complete[\"math_score\"].unique())\n",
    "print(school_data_complete[\"reading_score\"].unique())\n",
    "# Force conversion to numeric, replace non-convertible values with NaN, and drop those rows\n",
    "school_data_complete[\"math_score\"] = pd.to_numeric(school_data_complete[\"math_score\"], errors='coerce')\n",
    "school_data_complete[\"reading_score\"] = pd.to_numeric(school_data_complete[\"reading_score\"], errors='coerce')\n",
    "\n",
    "# Drop rows with NaN values in math_score or reading_score\n",
    "school_data_complete = school_data_complete.dropna(subset=[\"math_score\", \"reading_score\"])\n"
   ]
  },
  {
   "cell_type": "code",
   "execution_count": 20,
   "metadata": {},
   "outputs": [
    {
     "name": "stdout",
     "output_type": "stream",
     "text": [
      "39155\n"
     ]
    }
   ],
   "source": [
    "# Check for duplicate school names\n",
    "print(school_data_complete[\"school_name\"].duplicated().sum())"
   ]
  },
  {
   "cell_type": "code",
   "execution_count": 21,
   "metadata": {},
   "outputs": [
    {
     "name": "stdout",
     "output_type": "stream",
     "text": [
      "school_name\n",
      "Bailey High School       77.048432\n",
      "Cabrera High School      83.061895\n",
      "Figueroa High School     76.711767\n",
      "Ford High School         77.102592\n",
      "Griffin High School      83.351499\n",
      "Hernandez High School    77.289752\n",
      "Holden High School       83.803279\n",
      "Huang High School        76.629414\n",
      "Johnson High School      77.072464\n",
      "Pena High School         83.839917\n",
      "Rodriguez High School    76.842711\n",
      "Shelton High School      83.359455\n",
      "Thomas High School       83.418349\n",
      "Wilson High School       83.274201\n",
      "Wright High School       83.682222\n",
      "Name: math_score, dtype: float64\n",
      "school_name\n",
      "Bailey High School       81.033963\n",
      "Cabrera High School      83.975780\n",
      "Figueroa High School     81.158020\n",
      "Ford High School         80.746258\n",
      "Griffin High School      83.816757\n",
      "Hernandez High School    80.934412\n",
      "Holden High School       83.814988\n",
      "Huang High School        81.182722\n",
      "Johnson High School      80.966394\n",
      "Pena High School         84.044699\n",
      "Rodriguez High School    80.744686\n",
      "Shelton High School      83.725724\n",
      "Thomas High School       83.848930\n",
      "Wilson High School       83.989488\n",
      "Wright High School       83.955000\n",
      "Name: reading_score, dtype: float64\n"
     ]
    }
   ],
   "source": [
    "# Simplified groupby operation for math_score\n",
    "try:\n",
    "    per_school_math_simple = school_data_complete.groupby(\"school_name\")[\"math_score\"].mean()\n",
    "    print(per_school_math_simple)\n",
    "except Exception as e:\n",
    "    print(f\"Error occurred: {e}\")\n",
    "\n",
    "# Simplified groupby operation for reading_score\n",
    "try:\n",
    "    per_school_reading_simple = school_data_complete.groupby(\"school_name\")[\"reading_score\"].mean()\n",
    "    print(per_school_reading_simple)\n",
    "except Exception as e:\n",
    "    print(f\"Error occurred: {e}\")\n",
    "# Re-read the data to reset any previous changes\n",
    "school_data_complete = pd.merge(student_data, school_data, how=\"left\", on=[\"school_name\", \"school_name\"])\n"
   ]
  },
  {
   "cell_type": "code",
   "execution_count": 22,
   "metadata": {},
   "outputs": [
    {
     "name": "stdout",
     "output_type": "stream",
     "text": [
      "                       Student ID      student_name gender grade  \\\n",
      "school_name                                                        \n",
      "Bailey High School          17871      Blake Martin      M   9th   \n",
      "Cabrera High School         16013      Olivia Short      F  11th   \n",
      "Figueroa High School         2917        Amy Jacobs      F  10th   \n",
      "Ford High School            34796   Michael Mercado      M   9th   \n",
      "Griffin High School         12262    Heather Wright      F  11th   \n",
      "Hernandez High School        7627     Russell Davis      M  10th   \n",
      "Holden High School          22847  Daniel Rodriguez      M  11th   \n",
      "Huang High School               0      Paul Bradley      M   9th   \n",
      "Johnson High School         30035        Lisa Casey      F  12th   \n",
      "Pena High School            23274        Alec Davis      M   9th   \n",
      "Rodriguez High School       26036    Sherry Jenkins      F  11th   \n",
      "Shelton High School          5866  Jamie Montgomery      F  12th   \n",
      "Thomas High School          37535        Norma Mata      F  10th   \n",
      "Wilson High School          13730    Kelli Anderson      F  10th   \n",
      "Wright High School          24236     Aaron Johnson      M  10th   \n",
      "\n",
      "                       reading_score  math_score  School ID      type  size  \\\n",
      "school_name                                                                   \n",
      "Bailey High School                75          59          7  District  4976   \n",
      "Cabrera High School               94          94          6   Charter  1858   \n",
      "Figueroa High School              85          87          1  District  2949   \n",
      "Ford High School                  66          94         13  District  2739   \n",
      "Griffin High School               79          68          4   Charter  1468   \n",
      "Hernandez High School             70          88          3  District  4635   \n",
      "Holden High School                86          92          8   Charter   427   \n",
      "Huang High School                 66          79          0  District  2917   \n",
      "Johnson High School               87          87         12  District  4761   \n",
      "Pena High School                  91          75          9   Charter   962   \n",
      "Rodriguez High School             74          81         11  District  3999   \n",
      "Shelton High School               70          91          2   Charter  1761   \n",
      "Thomas High School                76          76         14   Charter  1635   \n",
      "Wilson High School                84          71          5   Charter  2283   \n",
      "Wright High School                89          72         10   Charter  1800   \n",
      "\n",
      "                        budget  \n",
      "school_name                     \n",
      "Bailey High School     3124928  \n",
      "Cabrera High School    1081356  \n",
      "Figueroa High School   1884411  \n",
      "Ford High School       1763916  \n",
      "Griffin High School     917500  \n",
      "Hernandez High School  3022020  \n",
      "Holden High School      248087  \n",
      "Huang High School      1910635  \n",
      "Johnson High School    3094650  \n",
      "Pena High School        585858  \n",
      "Rodriguez High School  2547363  \n",
      "Shelton High School    1056600  \n",
      "Thomas High School     1043130  \n",
      "Wilson High School     1319574  \n",
      "Wright High School     1049400  \n"
     ]
    }
   ],
   "source": [
    "try:\n",
    "    groupby_test = school_data_complete.groupby(\"school_name\").first()\n",
    "    print(groupby_test)\n",
    "except Exception as e:\n",
    "    print(f\"Error occurred: {e}\")\n"
   ]
  },
  {
   "cell_type": "code",
   "execution_count": 23,
   "metadata": {},
   "outputs": [
    {
     "data": {
      "text/plain": [
       "school_name\n",
       "Bailey High School       3318\n",
       "Cabrera High School      1749\n",
       "Figueroa High School     1946\n",
       "Ford High School         1871\n",
       "Griffin High School      1371\n",
       "Hernandez High School    3094\n",
       "Holden High School        395\n",
       "Huang High School        1916\n",
       "Johnson High School      3145\n",
       "Pena High School          910\n",
       "Rodriguez High School    2654\n",
       "Shelton High School      1653\n",
       "Thomas High School       1525\n",
       "Wilson High School       2143\n",
       "Wright High School       1680\n",
       "Name: student_name, dtype: int64"
      ]
     },
     "execution_count": 23,
     "metadata": {},
     "output_type": "execute_result"
    }
   ],
   "source": [
    "# Calculate the number of students per school with math scores of 70 or higher from school_data_complete\n",
    "students_passing_math = school_data_complete[school_data_complete[\"math_score\"] >= 70]\n",
    "school_students_passing_math = students_passing_math.groupby([\"school_name\"]).count()[\"student_name\"]\n",
    "students_passing_math\n",
    "school_students_passing_math"
   ]
  },
  {
   "cell_type": "code",
   "execution_count": 24,
   "metadata": {},
   "outputs": [
    {
     "data": {
      "text/plain": [
       "school_name\n",
       "Bailey High School       4077\n",
       "Cabrera High School      1803\n",
       "Figueroa High School     2381\n",
       "Ford High School         2172\n",
       "Griffin High School      1426\n",
       "Hernandez High School    3748\n",
       "Holden High School        411\n",
       "Huang High School        2372\n",
       "Johnson High School      3867\n",
       "Pena High School          923\n",
       "Rodriguez High School    3208\n",
       "Shelton High School      1688\n",
       "Thomas High School       1591\n",
       "Wilson High School       2204\n",
       "Wright High School       1739\n",
       "Name: student_name, dtype: int64"
      ]
     },
     "execution_count": 24,
     "metadata": {},
     "output_type": "execute_result"
    }
   ],
   "source": [
    "# Calculate the number of students per school with reading scores of 70 or higher from school_data_complete\n",
    "students_passing_reading = school_data_complete[school_data_complete[\"reading_score\"] >= 70]\n",
    "school_students_passing_reading = students_passing_reading.groupby([\"school_name\"]).count()[\"student_name\"]\n",
    "students_passing_reading\n",
    "school_students_passing_reading"
   ]
  },
  {
   "cell_type": "code",
   "execution_count": 25,
   "metadata": {},
   "outputs": [
    {
     "data": {
      "text/plain": [
       "school_name\n",
       "Bailey High School       2719\n",
       "Cabrera High School      1697\n",
       "Figueroa High School     1569\n",
       "Ford High School         1487\n",
       "Griffin High School      1330\n",
       "Hernandez High School    2481\n",
       "Holden High School        381\n",
       "Huang High School        1561\n",
       "Johnson High School      2549\n",
       "Pena High School          871\n",
       "Rodriguez High School    2119\n",
       "Shelton High School      1583\n",
       "Thomas High School       1487\n",
       "Wilson High School       2068\n",
       "Wright High School       1626\n",
       "dtype: int64"
      ]
     },
     "execution_count": 25,
     "metadata": {},
     "output_type": "execute_result"
    }
   ],
   "source": [
    "# Use the provided code to calculate the number of students per school that passed both math and reading with scores of 70 or higher\n",
    "students_passing_math_and_reading = school_data_complete[\n",
    "    (school_data_complete[\"reading_score\"] >= 70) & (school_data_complete[\"math_score\"] >= 70)\n",
    "]\n",
    "school_students_passing_math_and_reading = students_passing_math_and_reading.groupby([\"school_name\"]).size()\n",
    "school_students_passing_math_and_reading"
   ]
  },
  {
   "cell_type": "code",
   "execution_count": 26,
   "metadata": {},
   "outputs": [
    {
     "data": {
      "text/plain": [
       "school_name\n",
       "Bailey High School       54.642283\n",
       "Cabrera High School      91.334769\n",
       "Figueroa High School     53.204476\n",
       "Ford High School         54.289887\n",
       "Griffin High School      90.599455\n",
       "Hernandez High School    53.527508\n",
       "Holden High School       89.227166\n",
       "Huang High School        53.513884\n",
       "Johnson High School      53.539172\n",
       "Pena High School         90.540541\n",
       "Rodriguez High School    52.988247\n",
       "Shelton High School      89.892107\n",
       "Thomas High School       90.948012\n",
       "Wilson High School       90.582567\n",
       "Wright High School       90.333333\n",
       "dtype: float64"
      ]
     },
     "execution_count": 26,
     "metadata": {},
     "output_type": "execute_result"
    }
   ],
   "source": [
    "# Use the provided code to calculate the passing rates\n",
    "per_school_passing_math = school_students_passing_math / per_school_counts * 100\n",
    "per_school_passing_reading = school_students_passing_reading / per_school_counts * 100\n",
    "overall_passing_rate = school_students_passing_math_and_reading / per_school_counts * 100\n",
    "per_school_passing_math\n",
    "per_school_passing_reading\n",
    "overall_passing_rate\n"
   ]
  },
  {
   "cell_type": "code",
   "execution_count": 27,
   "metadata": {},
   "outputs": [
    {
     "data": {
      "text/plain": [
       "school_name\n",
       "Bailey High School       4976\n",
       "Johnson High School      4761\n",
       "Hernandez High School    4635\n",
       "Rodriguez High School    3999\n",
       "Figueroa High School     2949\n",
       "Huang High School        2917\n",
       "Ford High School         2739\n",
       "Wilson High School       2283\n",
       "Cabrera High School      1858\n",
       "Wright High School       1800\n",
       "Shelton High School      1761\n",
       "Thomas High School       1635\n",
       "Griffin High School      1468\n",
       "Pena High School          962\n",
       "Holden High School        427\n",
       "Name: count, dtype: int64"
      ]
     },
     "execution_count": 27,
     "metadata": {},
     "output_type": "execute_result"
    }
   ],
   "source": [
    "# Calculate the total student count per school from school_data\n",
    "per_school_counts = school_data_complete[\"school_name\"].value_counts()\n",
    "per_school_counts"
   ]
  },
  {
   "cell_type": "code",
   "execution_count": 28,
   "metadata": {},
   "outputs": [
    {
     "name": "stdout",
     "output_type": "stream",
     "text": [
      "              school_name     budget\n",
      "0      Bailey High School  3124928.0\n",
      "1     Cabrera High School  1081356.0\n",
      "2    Figueroa High School  1884411.0\n",
      "3        Ford High School  1763916.0\n",
      "4     Griffin High School   917500.0\n",
      "5   Hernandez High School  3022020.0\n",
      "6      Holden High School   248087.0\n",
      "7       Huang High School  1910635.0\n",
      "8     Johnson High School  3094650.0\n",
      "9        Pena High School   585858.0\n",
      "10  Rodriguez High School  2547363.0\n",
      "11    Shelton High School  1056600.0\n",
      "12     Thomas High School  1043130.0\n",
      "13     Wilson High School  1319574.0\n",
      "14     Wright High School  1049400.0\n"
     ]
    }
   ],
   "source": [
    "# Group by school_name and calculate the mean budget\n",
    "per_school_budget = school_data_complete.groupby(\"school_name\")[\"budget\"].mean()\n",
    "\n",
    "# Convert to DataFrame for clarity\n",
    "per_school_budget_df = per_school_budget.reset_index()\n",
    "\n",
    "# Display results to check for accuracy\n",
    "print(per_school_budget_df)"
   ]
  },
  {
   "cell_type": "code",
   "execution_count": 29,
   "metadata": {},
   "outputs": [
    {
     "name": "stdout",
     "output_type": "stream",
     "text": [
      "                    index   0\n",
      "0                       0 NaN\n",
      "1                       1 NaN\n",
      "2                       2 NaN\n",
      "3                       3 NaN\n",
      "4                       4 NaN\n",
      "5                       5 NaN\n",
      "6                       6 NaN\n",
      "7                       7 NaN\n",
      "8                       8 NaN\n",
      "9                       9 NaN\n",
      "10                     10 NaN\n",
      "11                     11 NaN\n",
      "12                     12 NaN\n",
      "13                     13 NaN\n",
      "14                     14 NaN\n",
      "15     Bailey High School NaN\n",
      "16    Cabrera High School NaN\n",
      "17   Figueroa High School NaN\n",
      "18       Ford High School NaN\n",
      "19    Griffin High School NaN\n",
      "20  Hernandez High School NaN\n",
      "21     Holden High School NaN\n",
      "22      Huang High School NaN\n",
      "23    Johnson High School NaN\n",
      "24       Pena High School NaN\n",
      "25  Rodriguez High School NaN\n",
      "26    Shelton High School NaN\n",
      "27     Thomas High School NaN\n",
      "28     Wilson High School NaN\n",
      "29     Wright High School NaN\n"
     ]
    }
   ],
   "source": [
    "# Calculate per school capita\n",
    "per_school_capita = per_school_budget_df[\"budget\"] / per_school_counts\n",
    "\n",
    "# Convert to DataFrame for clarity\n",
    "per_school_capita_df = per_school_capita.reset_index()\n",
    "\n",
    "\n",
    "# Display the results to check for accuracy\n",
    "print(per_school_capita_df)\n"
   ]
  },
  {
   "cell_type": "code",
   "execution_count": 30,
   "metadata": {},
   "outputs": [],
   "source": [
    "# Calculate the percentage of students with a passing math score\n",
    "per_school_passing_math = school_data_complete[(school_data_complete[\"math_score\"] >= 70)].groupby([\"school_name\"]).count()[\"Student ID\"] / per_school_counts * 100\n",
    "\n",
    "# Calculate the percentage of students with a passing reading score\n",
    "per_school_passing_reading = school_data_complete[(school_data_complete[\"reading_score\"] >= 70)].groupby([\"school_name\"]).count()[\"Student ID\"] / per_school_counts * 100\n",
    "\n",
    "# Calculate the overall passing rate (average of the above two)\n",
    "per_school_overall_passing = (per_school_passing_math + per_school_passing_reading) / 2\n"
   ]
  },
  {
   "cell_type": "code",
   "execution_count": 31,
   "metadata": {},
   "outputs": [
    {
     "name": "stdout",
     "output_type": "stream",
     "text": [
      "float64\n",
      "float64\n",
      "float64\n"
     ]
    }
   ],
   "source": [
    "# Convert all relevant columns to numeric, forcing any non-numeric values to NaN and then dropping them\n",
    "per_school_passing_math = pd.to_numeric(per_school_passing_math, errors='coerce')\n",
    "per_school_passing_reading = pd.to_numeric(per_school_passing_reading, errors='coerce')\n",
    "per_school_overall_passing = pd.to_numeric(per_school_overall_passing, errors='coerce')\n",
    "\n",
    "# Recheck the types to make sure they are now consistent\n",
    "print(per_school_passing_math.dtype)\n",
    "print(per_school_passing_reading.dtype)\n",
    "print(per_school_overall_passing.dtype)\n"
   ]
  },
  {
   "cell_type": "code",
   "execution_count": 32,
   "metadata": {},
   "outputs": [
    {
     "name": "stdout",
     "output_type": "stream",
     "text": [
      "int64\n",
      "float64\n",
      "float64\n",
      "float64\n",
      "float64\n",
      "float64\n",
      "float64\n",
      "float64\n"
     ]
    }
   ],
   "source": [
    "print(per_school_counts.dtype)\n",
    "print(per_school_budget.dtype)\n",
    "print(per_school_capita.dtype)\n",
    "print(per_school_math.dtype)\n",
    "print(per_school_reading.dtype)\n",
    "print(per_school_passing_math.dtype)\n",
    "print(per_school_passing_reading.dtype)\n",
    "print(per_school_overall_passing.dtype)\n"
   ]
  },
  {
   "cell_type": "code",
   "execution_count": 33,
   "metadata": {},
   "outputs": [],
   "source": [
    "per_school_counts = pd.to_numeric(per_school_counts, errors='coerce')\n",
    "per_school_budget = pd.to_numeric(per_school_budget, errors='coerce')\n",
    "per_school_capita = pd.to_numeric(per_school_capita, errors='coerce')\n",
    "per_school_math = pd.to_numeric(per_school_math, errors='coerce')\n",
    "per_school_reading = pd.to_numeric(per_school_reading, errors='coerce')\n",
    "per_school_passing_math = pd.to_numeric(per_school_passing_math, errors='coerce')\n",
    "per_school_passing_reading = pd.to_numeric(per_school_passing_reading, errors='coerce')\n",
    "per_school_overall_passing = pd.to_numeric(per_school_overall_passing, errors='coerce')\n"
   ]
  },
  {
   "cell_type": "code",
   "execution_count": 34,
   "metadata": {},
   "outputs": [],
   "source": [
    "per_school_counts = per_school_counts.fillna(0)\n",
    "per_school_budget = per_school_budget.fillna(0)\n",
    "per_school_capita = per_school_capita.fillna(0)\n",
    "per_school_math = per_school_math.fillna(0)\n",
    "per_school_reading = per_school_reading.fillna(0)\n",
    "per_school_passing_math = per_school_passing_math.fillna(0)\n",
    "per_school_passing_reading = per_school_passing_reading.fillna(0)\n",
    "per_school_overall_passing = per_school_overall_passing.fillna(0)\n"
   ]
  },
  {
   "cell_type": "code",
   "execution_count": 35,
   "metadata": {},
   "outputs": [
    {
     "name": "stdout",
     "output_type": "stream",
     "text": [
      "Index(['Bailey High School', 'Johnson High School', 'Hernandez High School',\n",
      "       'Rodriguez High School', 'Figueroa High School', 'Huang High School',\n",
      "       'Ford High School', 'Wilson High School', 'Cabrera High School',\n",
      "       'Wright High School', 'Shelton High School', 'Thomas High School',\n",
      "       'Griffin High School', 'Pena High School', 'Holden High School'],\n",
      "      dtype='object', name='school_name')\n",
      "Index(['Bailey High School', 'Cabrera High School', 'Figueroa High School',\n",
      "       'Ford High School', 'Griffin High School', 'Hernandez High School',\n",
      "       'Holden High School', 'Huang High School', 'Johnson High School',\n",
      "       'Pena High School', 'Rodriguez High School', 'Shelton High School',\n",
      "       'Thomas High School', 'Wilson High School', 'Wright High School'],\n",
      "      dtype='object', name='school_name')\n",
      "Index([                      0,                       1,\n",
      "                             2,                       3,\n",
      "                             4,                       5,\n",
      "                             6,                       7,\n",
      "                             8,                       9,\n",
      "                            10,                      11,\n",
      "                            12,                      13,\n",
      "                            14,    'Bailey High School',\n",
      "         'Cabrera High School',  'Figueroa High School',\n",
      "            'Ford High School',   'Griffin High School',\n",
      "       'Hernandez High School',    'Holden High School',\n",
      "           'Huang High School',   'Johnson High School',\n",
      "            'Pena High School', 'Rodriguez High School',\n",
      "         'Shelton High School',    'Thomas High School',\n",
      "          'Wilson High School',    'Wright High School'],\n",
      "      dtype='object')\n",
      "Index(['Bailey High School', 'Cabrera High School', 'Figueroa High School',\n",
      "       'Ford High School', 'Griffin High School', 'Hernandez High School',\n",
      "       'Holden High School', 'Huang High School', 'Johnson High School',\n",
      "       'Pena High School', 'Rodriguez High School', 'Shelton High School',\n",
      "       'Thomas High School', 'Wilson High School', 'Wright High School'],\n",
      "      dtype='object', name='school_name')\n",
      "Index(['Bailey High School', 'Cabrera High School', 'Figueroa High School',\n",
      "       'Ford High School', 'Griffin High School', 'Hernandez High School',\n",
      "       'Holden High School', 'Huang High School', 'Johnson High School',\n",
      "       'Pena High School', 'Rodriguez High School', 'Shelton High School',\n",
      "       'Thomas High School', 'Wilson High School', 'Wright High School'],\n",
      "      dtype='object', name='school_name')\n",
      "Index(['Bailey High School', 'Cabrera High School', 'Figueroa High School',\n",
      "       'Ford High School', 'Griffin High School', 'Hernandez High School',\n",
      "       'Holden High School', 'Huang High School', 'Johnson High School',\n",
      "       'Pena High School', 'Rodriguez High School', 'Shelton High School',\n",
      "       'Thomas High School', 'Wilson High School', 'Wright High School'],\n",
      "      dtype='object', name='school_name')\n",
      "Index(['Bailey High School', 'Cabrera High School', 'Figueroa High School',\n",
      "       'Ford High School', 'Griffin High School', 'Hernandez High School',\n",
      "       'Holden High School', 'Huang High School', 'Johnson High School',\n",
      "       'Pena High School', 'Rodriguez High School', 'Shelton High School',\n",
      "       'Thomas High School', 'Wilson High School', 'Wright High School'],\n",
      "      dtype='object', name='school_name')\n",
      "Index(['Bailey High School', 'Cabrera High School', 'Figueroa High School',\n",
      "       'Ford High School', 'Griffin High School', 'Hernandez High School',\n",
      "       'Holden High School', 'Huang High School', 'Johnson High School',\n",
      "       'Pena High School', 'Rodriguez High School', 'Shelton High School',\n",
      "       'Thomas High School', 'Wilson High School', 'Wright High School'],\n",
      "      dtype='object', name='school_name')\n"
     ]
    }
   ],
   "source": [
    "print(per_school_counts.index)\n",
    "print(per_school_budget.index)\n",
    "print(per_school_capita.index)\n",
    "print(per_school_math.index)\n",
    "print(per_school_reading.index)\n",
    "print(per_school_passing_math.index)\n",
    "print(per_school_passing_reading.index)\n",
    "print(per_school_overall_passing.index)\n"
   ]
  },
  {
   "cell_type": "code",
   "execution_count": 36,
   "metadata": {},
   "outputs": [],
   "source": [
    "common_index = per_school_counts.index\n",
    "\n",
    "per_school_budget = per_school_budget.reindex(common_index)\n",
    "per_school_capita = per_school_capita.reindex(common_index)\n",
    "per_school_math = per_school_math.reindex(common_index)\n",
    "per_school_reading = per_school_reading.reindex(common_index)\n",
    "per_school_passing_math = per_school_passing_math.reindex(common_index)\n",
    "per_school_passing_reading = per_school_passing_reading.reindex(common_index)\n",
    "per_school_overall_passing = per_school_overall_passing.reindex(common_index)\n"
   ]
  },
  {
   "cell_type": "code",
   "execution_count": 37,
   "metadata": {},
   "outputs": [
    {
     "data": {
      "text/html": [
       "<div>\n",
       "<style scoped>\n",
       "    .dataframe tbody tr th:only-of-type {\n",
       "        vertical-align: middle;\n",
       "    }\n",
       "\n",
       "    .dataframe tbody tr th {\n",
       "        vertical-align: top;\n",
       "    }\n",
       "\n",
       "    .dataframe thead th {\n",
       "        text-align: right;\n",
       "    }\n",
       "</style>\n",
       "<table border=\"1\" class=\"dataframe\">\n",
       "  <thead>\n",
       "    <tr style=\"text-align: right;\">\n",
       "      <th></th>\n",
       "      <th>Total Students</th>\n",
       "      <th>Total School Budget</th>\n",
       "      <th>Per Student Budget</th>\n",
       "      <th>Average Math Score</th>\n",
       "      <th>Average Reading Score</th>\n",
       "      <th>% Passing Math</th>\n",
       "      <th>% Passing Reading</th>\n",
       "      <th>% Overall Passing</th>\n",
       "    </tr>\n",
       "    <tr>\n",
       "      <th>school_name</th>\n",
       "      <th></th>\n",
       "      <th></th>\n",
       "      <th></th>\n",
       "      <th></th>\n",
       "      <th></th>\n",
       "      <th></th>\n",
       "      <th></th>\n",
       "      <th></th>\n",
       "    </tr>\n",
       "  </thead>\n",
       "  <tbody>\n",
       "    <tr>\n",
       "      <th>Bailey High School</th>\n",
       "      <td>4976</td>\n",
       "      <td>$3,124,928.00</td>\n",
       "      <td>$0.00</td>\n",
       "      <td>77.048432</td>\n",
       "      <td>81.033963</td>\n",
       "      <td>66.680064</td>\n",
       "      <td>81.933280</td>\n",
       "      <td>74.306672</td>\n",
       "    </tr>\n",
       "    <tr>\n",
       "      <th>Johnson High School</th>\n",
       "      <td>4761</td>\n",
       "      <td>$3,094,650.00</td>\n",
       "      <td>$0.00</td>\n",
       "      <td>77.072464</td>\n",
       "      <td>80.966394</td>\n",
       "      <td>66.057551</td>\n",
       "      <td>81.222432</td>\n",
       "      <td>73.639992</td>\n",
       "    </tr>\n",
       "    <tr>\n",
       "      <th>Hernandez High School</th>\n",
       "      <td>4635</td>\n",
       "      <td>$3,022,020.00</td>\n",
       "      <td>$0.00</td>\n",
       "      <td>77.289752</td>\n",
       "      <td>80.934412</td>\n",
       "      <td>66.752967</td>\n",
       "      <td>80.862999</td>\n",
       "      <td>73.807983</td>\n",
       "    </tr>\n",
       "    <tr>\n",
       "      <th>Rodriguez High School</th>\n",
       "      <td>3999</td>\n",
       "      <td>$2,547,363.00</td>\n",
       "      <td>$0.00</td>\n",
       "      <td>76.842711</td>\n",
       "      <td>80.744686</td>\n",
       "      <td>66.366592</td>\n",
       "      <td>80.220055</td>\n",
       "      <td>73.293323</td>\n",
       "    </tr>\n",
       "    <tr>\n",
       "      <th>Figueroa High School</th>\n",
       "      <td>2949</td>\n",
       "      <td>$1,884,411.00</td>\n",
       "      <td>$0.00</td>\n",
       "      <td>76.711767</td>\n",
       "      <td>81.158020</td>\n",
       "      <td>65.988471</td>\n",
       "      <td>80.739234</td>\n",
       "      <td>73.363852</td>\n",
       "    </tr>\n",
       "    <tr>\n",
       "      <th>Huang High School</th>\n",
       "      <td>2917</td>\n",
       "      <td>$1,910,635.00</td>\n",
       "      <td>$0.00</td>\n",
       "      <td>76.629414</td>\n",
       "      <td>81.182722</td>\n",
       "      <td>65.683922</td>\n",
       "      <td>81.316421</td>\n",
       "      <td>73.500171</td>\n",
       "    </tr>\n",
       "    <tr>\n",
       "      <th>Ford High School</th>\n",
       "      <td>2739</td>\n",
       "      <td>$1,763,916.00</td>\n",
       "      <td>$0.00</td>\n",
       "      <td>77.102592</td>\n",
       "      <td>80.746258</td>\n",
       "      <td>68.309602</td>\n",
       "      <td>79.299014</td>\n",
       "      <td>73.804308</td>\n",
       "    </tr>\n",
       "    <tr>\n",
       "      <th>Wilson High School</th>\n",
       "      <td>2283</td>\n",
       "      <td>$1,319,574.00</td>\n",
       "      <td>$0.00</td>\n",
       "      <td>83.274201</td>\n",
       "      <td>83.989488</td>\n",
       "      <td>93.867718</td>\n",
       "      <td>96.539641</td>\n",
       "      <td>95.203679</td>\n",
       "    </tr>\n",
       "    <tr>\n",
       "      <th>Cabrera High School</th>\n",
       "      <td>1858</td>\n",
       "      <td>$1,081,356.00</td>\n",
       "      <td>$0.00</td>\n",
       "      <td>83.061895</td>\n",
       "      <td>83.975780</td>\n",
       "      <td>94.133477</td>\n",
       "      <td>97.039828</td>\n",
       "      <td>95.586652</td>\n",
       "    </tr>\n",
       "    <tr>\n",
       "      <th>Wright High School</th>\n",
       "      <td>1800</td>\n",
       "      <td>$1,049,400.00</td>\n",
       "      <td>$0.00</td>\n",
       "      <td>83.682222</td>\n",
       "      <td>83.955000</td>\n",
       "      <td>93.333333</td>\n",
       "      <td>96.611111</td>\n",
       "      <td>94.972222</td>\n",
       "    </tr>\n",
       "    <tr>\n",
       "      <th>Shelton High School</th>\n",
       "      <td>1761</td>\n",
       "      <td>$1,056,600.00</td>\n",
       "      <td>$0.00</td>\n",
       "      <td>83.359455</td>\n",
       "      <td>83.725724</td>\n",
       "      <td>93.867121</td>\n",
       "      <td>95.854628</td>\n",
       "      <td>94.860875</td>\n",
       "    </tr>\n",
       "    <tr>\n",
       "      <th>Thomas High School</th>\n",
       "      <td>1635</td>\n",
       "      <td>$1,043,130.00</td>\n",
       "      <td>$0.00</td>\n",
       "      <td>83.418349</td>\n",
       "      <td>83.848930</td>\n",
       "      <td>93.272171</td>\n",
       "      <td>97.308869</td>\n",
       "      <td>95.290520</td>\n",
       "    </tr>\n",
       "    <tr>\n",
       "      <th>Griffin High School</th>\n",
       "      <td>1468</td>\n",
       "      <td>$917,500.00</td>\n",
       "      <td>$0.00</td>\n",
       "      <td>83.351499</td>\n",
       "      <td>83.816757</td>\n",
       "      <td>93.392371</td>\n",
       "      <td>97.138965</td>\n",
       "      <td>95.265668</td>\n",
       "    </tr>\n",
       "    <tr>\n",
       "      <th>Pena High School</th>\n",
       "      <td>962</td>\n",
       "      <td>$585,858.00</td>\n",
       "      <td>$0.00</td>\n",
       "      <td>83.839917</td>\n",
       "      <td>84.044699</td>\n",
       "      <td>94.594595</td>\n",
       "      <td>95.945946</td>\n",
       "      <td>95.270270</td>\n",
       "    </tr>\n",
       "    <tr>\n",
       "      <th>Holden High School</th>\n",
       "      <td>427</td>\n",
       "      <td>$248,087.00</td>\n",
       "      <td>$0.00</td>\n",
       "      <td>83.803279</td>\n",
       "      <td>83.814988</td>\n",
       "      <td>92.505855</td>\n",
       "      <td>96.252927</td>\n",
       "      <td>94.379391</td>\n",
       "    </tr>\n",
       "  </tbody>\n",
       "</table>\n",
       "</div>"
      ],
      "text/plain": [
       "                       Total Students Total School Budget Per Student Budget  \\\n",
       "school_name                                                                    \n",
       "Bailey High School               4976       $3,124,928.00              $0.00   \n",
       "Johnson High School              4761       $3,094,650.00              $0.00   \n",
       "Hernandez High School            4635       $3,022,020.00              $0.00   \n",
       "Rodriguez High School            3999       $2,547,363.00              $0.00   \n",
       "Figueroa High School             2949       $1,884,411.00              $0.00   \n",
       "Huang High School                2917       $1,910,635.00              $0.00   \n",
       "Ford High School                 2739       $1,763,916.00              $0.00   \n",
       "Wilson High School               2283       $1,319,574.00              $0.00   \n",
       "Cabrera High School              1858       $1,081,356.00              $0.00   \n",
       "Wright High School               1800       $1,049,400.00              $0.00   \n",
       "Shelton High School              1761       $1,056,600.00              $0.00   \n",
       "Thomas High School               1635       $1,043,130.00              $0.00   \n",
       "Griffin High School              1468         $917,500.00              $0.00   \n",
       "Pena High School                  962         $585,858.00              $0.00   \n",
       "Holden High School                427         $248,087.00              $0.00   \n",
       "\n",
       "                       Average Math Score  Average Reading Score  \\\n",
       "school_name                                                        \n",
       "Bailey High School              77.048432              81.033963   \n",
       "Johnson High School             77.072464              80.966394   \n",
       "Hernandez High School           77.289752              80.934412   \n",
       "Rodriguez High School           76.842711              80.744686   \n",
       "Figueroa High School            76.711767              81.158020   \n",
       "Huang High School               76.629414              81.182722   \n",
       "Ford High School                77.102592              80.746258   \n",
       "Wilson High School              83.274201              83.989488   \n",
       "Cabrera High School             83.061895              83.975780   \n",
       "Wright High School              83.682222              83.955000   \n",
       "Shelton High School             83.359455              83.725724   \n",
       "Thomas High School              83.418349              83.848930   \n",
       "Griffin High School             83.351499              83.816757   \n",
       "Pena High School                83.839917              84.044699   \n",
       "Holden High School              83.803279              83.814988   \n",
       "\n",
       "                       % Passing Math  % Passing Reading  % Overall Passing  \n",
       "school_name                                                                  \n",
       "Bailey High School          66.680064          81.933280          74.306672  \n",
       "Johnson High School         66.057551          81.222432          73.639992  \n",
       "Hernandez High School       66.752967          80.862999          73.807983  \n",
       "Rodriguez High School       66.366592          80.220055          73.293323  \n",
       "Figueroa High School        65.988471          80.739234          73.363852  \n",
       "Huang High School           65.683922          81.316421          73.500171  \n",
       "Ford High School            68.309602          79.299014          73.804308  \n",
       "Wilson High School          93.867718          96.539641          95.203679  \n",
       "Cabrera High School         94.133477          97.039828          95.586652  \n",
       "Wright High School          93.333333          96.611111          94.972222  \n",
       "Shelton High School         93.867121          95.854628          94.860875  \n",
       "Thomas High School          93.272171          97.308869          95.290520  \n",
       "Griffin High School         93.392371          97.138965          95.265668  \n",
       "Pena High School            94.594595          95.945946          95.270270  \n",
       "Holden High School          92.505855          96.252927          94.379391  "
      ]
     },
     "execution_count": 37,
     "metadata": {},
     "output_type": "execute_result"
    }
   ],
   "source": [
    "per_school_summary = pd.DataFrame({\n",
    "    \"Total Students\": per_school_counts,\n",
    "    \"Total School Budget\": per_school_budget,\n",
    "    \"Per Student Budget\": per_school_capita,\n",
    "    \"Average Math Score\": per_school_math,\n",
    "    \"Average Reading Score\": per_school_reading,\n",
    "    \"% Passing Math\": per_school_passing_math,\n",
    "    \"% Passing Reading\": per_school_passing_reading,\n",
    "    \"% Overall Passing\": per_school_overall_passing\n",
    "})\n",
    "\n",
    "# Formatting\n",
    "per_school_summary[\"Total School Budget\"] = per_school_summary[\"Total School Budget\"].map(\"${:,.2f}\".format)\n",
    "per_school_summary[\"Per Student Budget\"] = per_school_summary[\"Per Student Budget\"].map(\"${:,.2f}\".format)\n",
    "\n",
    "# Display the DataFrame\n",
    "per_school_summary\n",
    "\n"
   ]
  },
  {
   "cell_type": "code",
   "execution_count": 100,
   "metadata": {},
   "outputs": [
    {
     "ename": "TypeError",
     "evalue": "unsupported operand type(s) for /: 'str' and 'int'",
     "output_type": "error",
     "traceback": [
      "\u001b[1;31m---------------------------------------------------------------------------\u001b[0m",
      "\u001b[1;31mTypeError\u001b[0m                                 Traceback (most recent call last)",
      "File \u001b[1;32m~\\anaconda3\\envs\\dev\\lib\\site-packages\\pandas\\core\\ops\\array_ops.py:218\u001b[0m, in \u001b[0;36m_na_arithmetic_op\u001b[1;34m(left, right, op, is_cmp)\u001b[0m\n\u001b[0;32m    217\u001b[0m \u001b[38;5;28;01mtry\u001b[39;00m:\n\u001b[1;32m--> 218\u001b[0m     result \u001b[38;5;241m=\u001b[39m \u001b[43mfunc\u001b[49m\u001b[43m(\u001b[49m\u001b[43mleft\u001b[49m\u001b[43m,\u001b[49m\u001b[43m \u001b[49m\u001b[43mright\u001b[49m\u001b[43m)\u001b[49m\n\u001b[0;32m    219\u001b[0m \u001b[38;5;28;01mexcept\u001b[39;00m \u001b[38;5;167;01mTypeError\u001b[39;00m:\n",
      "File \u001b[1;32m~\\anaconda3\\envs\\dev\\lib\\site-packages\\pandas\\core\\computation\\expressions.py:242\u001b[0m, in \u001b[0;36mevaluate\u001b[1;34m(op, a, b, use_numexpr)\u001b[0m\n\u001b[0;32m    240\u001b[0m     \u001b[38;5;28;01mif\u001b[39;00m use_numexpr:\n\u001b[0;32m    241\u001b[0m         \u001b[38;5;66;03m# error: \"None\" not callable\u001b[39;00m\n\u001b[1;32m--> 242\u001b[0m         \u001b[38;5;28;01mreturn\u001b[39;00m \u001b[43m_evaluate\u001b[49m\u001b[43m(\u001b[49m\u001b[43mop\u001b[49m\u001b[43m,\u001b[49m\u001b[43m \u001b[49m\u001b[43mop_str\u001b[49m\u001b[43m,\u001b[49m\u001b[43m \u001b[49m\u001b[43ma\u001b[49m\u001b[43m,\u001b[49m\u001b[43m \u001b[49m\u001b[43mb\u001b[49m\u001b[43m)\u001b[49m  \u001b[38;5;66;03m# type: ignore[misc]\u001b[39;00m\n\u001b[0;32m    243\u001b[0m \u001b[38;5;28;01mreturn\u001b[39;00m _evaluate_standard(op, op_str, a, b)\n",
      "File \u001b[1;32m~\\anaconda3\\envs\\dev\\lib\\site-packages\\pandas\\core\\computation\\expressions.py:131\u001b[0m, in \u001b[0;36m_evaluate_numexpr\u001b[1;34m(op, op_str, a, b)\u001b[0m\n\u001b[0;32m    130\u001b[0m \u001b[38;5;28;01mif\u001b[39;00m result \u001b[38;5;129;01mis\u001b[39;00m \u001b[38;5;28;01mNone\u001b[39;00m:\n\u001b[1;32m--> 131\u001b[0m     result \u001b[38;5;241m=\u001b[39m \u001b[43m_evaluate_standard\u001b[49m\u001b[43m(\u001b[49m\u001b[43mop\u001b[49m\u001b[43m,\u001b[49m\u001b[43m \u001b[49m\u001b[43mop_str\u001b[49m\u001b[43m,\u001b[49m\u001b[43m \u001b[49m\u001b[43ma\u001b[49m\u001b[43m,\u001b[49m\u001b[43m \u001b[49m\u001b[43mb\u001b[49m\u001b[43m)\u001b[49m\n\u001b[0;32m    133\u001b[0m \u001b[38;5;28;01mreturn\u001b[39;00m result\n",
      "File \u001b[1;32m~\\anaconda3\\envs\\dev\\lib\\site-packages\\pandas\\core\\computation\\expressions.py:73\u001b[0m, in \u001b[0;36m_evaluate_standard\u001b[1;34m(op, op_str, a, b)\u001b[0m\n\u001b[0;32m     72\u001b[0m     _store_test_result(\u001b[38;5;28;01mFalse\u001b[39;00m)\n\u001b[1;32m---> 73\u001b[0m \u001b[38;5;28;01mreturn\u001b[39;00m \u001b[43mop\u001b[49m\u001b[43m(\u001b[49m\u001b[43ma\u001b[49m\u001b[43m,\u001b[49m\u001b[43m \u001b[49m\u001b[43mb\u001b[49m\u001b[43m)\u001b[49m\n",
      "\u001b[1;31mTypeError\u001b[0m: unsupported operand type(s) for /: 'str' and 'int'",
      "\nDuring handling of the above exception, another exception occurred:\n",
      "\u001b[1;31mTypeError\u001b[0m                                 Traceback (most recent call last)",
      "Cell \u001b[1;32mIn[100], line 2\u001b[0m\n\u001b[0;32m      1\u001b[0m \u001b[38;5;66;03m# Calculate the Per Student Budget\u001b[39;00m\n\u001b[1;32m----> 2\u001b[0m per_school_summary[\u001b[38;5;124m\"\u001b[39m\u001b[38;5;124mPer Student Budget\u001b[39m\u001b[38;5;124m\"\u001b[39m] \u001b[38;5;241m=\u001b[39m \u001b[43mper_school_summary\u001b[49m\u001b[43m[\u001b[49m\u001b[38;5;124;43m\"\u001b[39;49m\u001b[38;5;124;43mTotal School Budget\u001b[39;49m\u001b[38;5;124;43m\"\u001b[39;49m\u001b[43m]\u001b[49m\u001b[43m \u001b[49m\u001b[38;5;241;43m/\u001b[39;49m\u001b[43m \u001b[49m\u001b[43mper_school_summary\u001b[49m\u001b[43m[\u001b[49m\u001b[38;5;124;43m\"\u001b[39;49m\u001b[38;5;124;43mTotal Students\u001b[39;49m\u001b[38;5;124;43m\"\u001b[39;49m\u001b[43m]\u001b[49m\n\u001b[0;32m      4\u001b[0m \u001b[38;5;66;03m# Inspect the first few rows to verify the calculation\u001b[39;00m\n\u001b[0;32m      5\u001b[0m \u001b[38;5;28mprint\u001b[39m(per_school_summary[[\u001b[38;5;124m\"\u001b[39m\u001b[38;5;124mTotal School Budget\u001b[39m\u001b[38;5;124m\"\u001b[39m, \u001b[38;5;124m\"\u001b[39m\u001b[38;5;124mTotal Students\u001b[39m\u001b[38;5;124m\"\u001b[39m, \u001b[38;5;124m\"\u001b[39m\u001b[38;5;124mPer Student Budget\u001b[39m\u001b[38;5;124m\"\u001b[39m]]\u001b[38;5;241m.\u001b[39mhead(\u001b[38;5;241m20\u001b[39m))\n",
      "File \u001b[1;32m~\\anaconda3\\envs\\dev\\lib\\site-packages\\pandas\\core\\ops\\common.py:76\u001b[0m, in \u001b[0;36m_unpack_zerodim_and_defer.<locals>.new_method\u001b[1;34m(self, other)\u001b[0m\n\u001b[0;32m     72\u001b[0m             \u001b[38;5;28;01mreturn\u001b[39;00m \u001b[38;5;28mNotImplemented\u001b[39m\n\u001b[0;32m     74\u001b[0m other \u001b[38;5;241m=\u001b[39m item_from_zerodim(other)\n\u001b[1;32m---> 76\u001b[0m \u001b[38;5;28;01mreturn\u001b[39;00m \u001b[43mmethod\u001b[49m\u001b[43m(\u001b[49m\u001b[38;5;28;43mself\u001b[39;49m\u001b[43m,\u001b[49m\u001b[43m \u001b[49m\u001b[43mother\u001b[49m\u001b[43m)\u001b[49m\n",
      "File \u001b[1;32m~\\anaconda3\\envs\\dev\\lib\\site-packages\\pandas\\core\\arraylike.py:210\u001b[0m, in \u001b[0;36mOpsMixin.__truediv__\u001b[1;34m(self, other)\u001b[0m\n\u001b[0;32m    208\u001b[0m \u001b[38;5;129m@unpack_zerodim_and_defer\u001b[39m(\u001b[38;5;124m\"\u001b[39m\u001b[38;5;124m__truediv__\u001b[39m\u001b[38;5;124m\"\u001b[39m)\n\u001b[0;32m    209\u001b[0m \u001b[38;5;28;01mdef\u001b[39;00m \u001b[38;5;21m__truediv__\u001b[39m(\u001b[38;5;28mself\u001b[39m, other):\n\u001b[1;32m--> 210\u001b[0m     \u001b[38;5;28;01mreturn\u001b[39;00m \u001b[38;5;28;43mself\u001b[39;49m\u001b[38;5;241;43m.\u001b[39;49m\u001b[43m_arith_method\u001b[49m\u001b[43m(\u001b[49m\u001b[43mother\u001b[49m\u001b[43m,\u001b[49m\u001b[43m \u001b[49m\u001b[43moperator\u001b[49m\u001b[38;5;241;43m.\u001b[39;49m\u001b[43mtruediv\u001b[49m\u001b[43m)\u001b[49m\n",
      "File \u001b[1;32m~\\anaconda3\\envs\\dev\\lib\\site-packages\\pandas\\core\\series.py:6135\u001b[0m, in \u001b[0;36mSeries._arith_method\u001b[1;34m(self, other, op)\u001b[0m\n\u001b[0;32m   6133\u001b[0m \u001b[38;5;28;01mdef\u001b[39;00m \u001b[38;5;21m_arith_method\u001b[39m(\u001b[38;5;28mself\u001b[39m, other, op):\n\u001b[0;32m   6134\u001b[0m     \u001b[38;5;28mself\u001b[39m, other \u001b[38;5;241m=\u001b[39m \u001b[38;5;28mself\u001b[39m\u001b[38;5;241m.\u001b[39m_align_for_op(other)\n\u001b[1;32m-> 6135\u001b[0m     \u001b[38;5;28;01mreturn\u001b[39;00m \u001b[43mbase\u001b[49m\u001b[38;5;241;43m.\u001b[39;49m\u001b[43mIndexOpsMixin\u001b[49m\u001b[38;5;241;43m.\u001b[39;49m\u001b[43m_arith_method\u001b[49m\u001b[43m(\u001b[49m\u001b[38;5;28;43mself\u001b[39;49m\u001b[43m,\u001b[49m\u001b[43m \u001b[49m\u001b[43mother\u001b[49m\u001b[43m,\u001b[49m\u001b[43m \u001b[49m\u001b[43mop\u001b[49m\u001b[43m)\u001b[49m\n",
      "File \u001b[1;32m~\\anaconda3\\envs\\dev\\lib\\site-packages\\pandas\\core\\base.py:1382\u001b[0m, in \u001b[0;36mIndexOpsMixin._arith_method\u001b[1;34m(self, other, op)\u001b[0m\n\u001b[0;32m   1379\u001b[0m     rvalues \u001b[38;5;241m=\u001b[39m np\u001b[38;5;241m.\u001b[39marange(rvalues\u001b[38;5;241m.\u001b[39mstart, rvalues\u001b[38;5;241m.\u001b[39mstop, rvalues\u001b[38;5;241m.\u001b[39mstep)\n\u001b[0;32m   1381\u001b[0m \u001b[38;5;28;01mwith\u001b[39;00m np\u001b[38;5;241m.\u001b[39merrstate(\u001b[38;5;28mall\u001b[39m\u001b[38;5;241m=\u001b[39m\u001b[38;5;124m\"\u001b[39m\u001b[38;5;124mignore\u001b[39m\u001b[38;5;124m\"\u001b[39m):\n\u001b[1;32m-> 1382\u001b[0m     result \u001b[38;5;241m=\u001b[39m \u001b[43mops\u001b[49m\u001b[38;5;241;43m.\u001b[39;49m\u001b[43marithmetic_op\u001b[49m\u001b[43m(\u001b[49m\u001b[43mlvalues\u001b[49m\u001b[43m,\u001b[49m\u001b[43m \u001b[49m\u001b[43mrvalues\u001b[49m\u001b[43m,\u001b[49m\u001b[43m \u001b[49m\u001b[43mop\u001b[49m\u001b[43m)\u001b[49m\n\u001b[0;32m   1384\u001b[0m \u001b[38;5;28;01mreturn\u001b[39;00m \u001b[38;5;28mself\u001b[39m\u001b[38;5;241m.\u001b[39m_construct_result(result, name\u001b[38;5;241m=\u001b[39mres_name)\n",
      "File \u001b[1;32m~\\anaconda3\\envs\\dev\\lib\\site-packages\\pandas\\core\\ops\\array_ops.py:283\u001b[0m, in \u001b[0;36marithmetic_op\u001b[1;34m(left, right, op)\u001b[0m\n\u001b[0;32m    279\u001b[0m     _bool_arith_check(op, left, right)  \u001b[38;5;66;03m# type: ignore[arg-type]\u001b[39;00m\n\u001b[0;32m    281\u001b[0m     \u001b[38;5;66;03m# error: Argument 1 to \"_na_arithmetic_op\" has incompatible type\u001b[39;00m\n\u001b[0;32m    282\u001b[0m     \u001b[38;5;66;03m# \"Union[ExtensionArray, ndarray[Any, Any]]\"; expected \"ndarray[Any, Any]\"\u001b[39;00m\n\u001b[1;32m--> 283\u001b[0m     res_values \u001b[38;5;241m=\u001b[39m \u001b[43m_na_arithmetic_op\u001b[49m\u001b[43m(\u001b[49m\u001b[43mleft\u001b[49m\u001b[43m,\u001b[49m\u001b[43m \u001b[49m\u001b[43mright\u001b[49m\u001b[43m,\u001b[49m\u001b[43m \u001b[49m\u001b[43mop\u001b[49m\u001b[43m)\u001b[49m  \u001b[38;5;66;03m# type: ignore[arg-type]\u001b[39;00m\n\u001b[0;32m    285\u001b[0m \u001b[38;5;28;01mreturn\u001b[39;00m res_values\n",
      "File \u001b[1;32m~\\anaconda3\\envs\\dev\\lib\\site-packages\\pandas\\core\\ops\\array_ops.py:227\u001b[0m, in \u001b[0;36m_na_arithmetic_op\u001b[1;34m(left, right, op, is_cmp)\u001b[0m\n\u001b[0;32m    219\u001b[0m \u001b[38;5;28;01mexcept\u001b[39;00m \u001b[38;5;167;01mTypeError\u001b[39;00m:\n\u001b[0;32m    220\u001b[0m     \u001b[38;5;28;01mif\u001b[39;00m \u001b[38;5;129;01mnot\u001b[39;00m is_cmp \u001b[38;5;129;01mand\u001b[39;00m (\n\u001b[0;32m    221\u001b[0m         left\u001b[38;5;241m.\u001b[39mdtype \u001b[38;5;241m==\u001b[39m \u001b[38;5;28mobject\u001b[39m \u001b[38;5;129;01mor\u001b[39;00m \u001b[38;5;28mgetattr\u001b[39m(right, \u001b[38;5;124m\"\u001b[39m\u001b[38;5;124mdtype\u001b[39m\u001b[38;5;124m\"\u001b[39m, \u001b[38;5;28;01mNone\u001b[39;00m) \u001b[38;5;241m==\u001b[39m \u001b[38;5;28mobject\u001b[39m\n\u001b[0;32m    222\u001b[0m     ):\n\u001b[1;32m   (...)\u001b[0m\n\u001b[0;32m    225\u001b[0m         \u001b[38;5;66;03m# Don't do this for comparisons, as that will handle complex numbers\u001b[39;00m\n\u001b[0;32m    226\u001b[0m         \u001b[38;5;66;03m#  incorrectly, see GH#32047\u001b[39;00m\n\u001b[1;32m--> 227\u001b[0m         result \u001b[38;5;241m=\u001b[39m \u001b[43m_masked_arith_op\u001b[49m\u001b[43m(\u001b[49m\u001b[43mleft\u001b[49m\u001b[43m,\u001b[49m\u001b[43m \u001b[49m\u001b[43mright\u001b[49m\u001b[43m,\u001b[49m\u001b[43m \u001b[49m\u001b[43mop\u001b[49m\u001b[43m)\u001b[49m\n\u001b[0;32m    228\u001b[0m     \u001b[38;5;28;01melse\u001b[39;00m:\n\u001b[0;32m    229\u001b[0m         \u001b[38;5;28;01mraise\u001b[39;00m\n",
      "File \u001b[1;32m~\\anaconda3\\envs\\dev\\lib\\site-packages\\pandas\\core\\ops\\array_ops.py:163\u001b[0m, in \u001b[0;36m_masked_arith_op\u001b[1;34m(x, y, op)\u001b[0m\n\u001b[0;32m    161\u001b[0m     \u001b[38;5;66;03m# See GH#5284, GH#5035, GH#19448 for historical reference\u001b[39;00m\n\u001b[0;32m    162\u001b[0m     \u001b[38;5;28;01mif\u001b[39;00m mask\u001b[38;5;241m.\u001b[39many():\n\u001b[1;32m--> 163\u001b[0m         result[mask] \u001b[38;5;241m=\u001b[39m \u001b[43mop\u001b[49m\u001b[43m(\u001b[49m\u001b[43mxrav\u001b[49m\u001b[43m[\u001b[49m\u001b[43mmask\u001b[49m\u001b[43m]\u001b[49m\u001b[43m,\u001b[49m\u001b[43m \u001b[49m\u001b[43myrav\u001b[49m\u001b[43m[\u001b[49m\u001b[43mmask\u001b[49m\u001b[43m]\u001b[49m\u001b[43m)\u001b[49m\n\u001b[0;32m    165\u001b[0m \u001b[38;5;28;01melse\u001b[39;00m:\n\u001b[0;32m    166\u001b[0m     \u001b[38;5;28;01mif\u001b[39;00m \u001b[38;5;129;01mnot\u001b[39;00m is_scalar(y):\n",
      "\u001b[1;31mTypeError\u001b[0m: unsupported operand type(s) for /: 'str' and 'int'"
     ]
    }
   ],
   "source": [
    "# Calculate the Per Student Budget\n",
    "per_school_summary[\"Per Student Budget\"] = per_school_summary[\"Total School Budget\"] / per_school_summary[\"Total Students\"]\n",
    "\n",
    "# Inspect the first few rows to verify the calculation\n",
    "print(per_school_summary[[\"Total School Budget\", \"Total Students\", \"Per Student Budget\"]].head(20))\n",
    "\n",
    "# Create a copy of the school_summary since it has the \"Per Student Budget\" column\n",
    "school_spending_df = per_school_summary.copy()\n"
   ]
  },
  {
   "cell_type": "code",
   "execution_count": 99,
   "metadata": {},
   "outputs": [
    {
     "name": "stdout",
     "output_type": "stream",
     "text": [
      "school_name\n",
      "Bailey High School       $0.00\n",
      "Johnson High School      $0.00\n",
      "Hernandez High School    $0.00\n",
      "Rodriguez High School    $0.00\n",
      "Figueroa High School     $0.00\n",
      "Huang High School        $0.00\n",
      "Ford High School         $0.00\n",
      "Wilson High School       $0.00\n",
      "Cabrera High School      $0.00\n",
      "Wright High School       $0.00\n",
      "Shelton High School      $0.00\n",
      "Thomas High School       $0.00\n",
      "Griffin High School      $0.00\n",
      "Pena High School         $0.00\n",
      "Holden High School       $0.00\n",
      "Name: Per Student Budget, dtype: object\n"
     ]
    }
   ],
   "source": [
    "# Inspect the original values in the \"Per Student Budget\" column before conversion and cleaning\n",
    "print(school_spending_df[\"Per Student Budget\"].head(20))  # Display the first 20 values to get an idea\n"
   ]
  },
  {
   "cell_type": "markdown",
   "metadata": {},
   "source": [
    "## Highest-Performing Schools (by % Overall Passing)"
   ]
  },
  {
   "cell_type": "code",
   "execution_count": 38,
   "metadata": {
    "scrolled": true
   },
   "outputs": [
    {
     "data": {
      "text/html": [
       "<div>\n",
       "<style scoped>\n",
       "    .dataframe tbody tr th:only-of-type {\n",
       "        vertical-align: middle;\n",
       "    }\n",
       "\n",
       "    .dataframe tbody tr th {\n",
       "        vertical-align: top;\n",
       "    }\n",
       "\n",
       "    .dataframe thead th {\n",
       "        text-align: right;\n",
       "    }\n",
       "</style>\n",
       "<table border=\"1\" class=\"dataframe\">\n",
       "  <thead>\n",
       "    <tr style=\"text-align: right;\">\n",
       "      <th></th>\n",
       "      <th>Total Students</th>\n",
       "      <th>Total School Budget</th>\n",
       "      <th>Per Student Budget</th>\n",
       "      <th>Average Math Score</th>\n",
       "      <th>Average Reading Score</th>\n",
       "      <th>% Passing Math</th>\n",
       "      <th>% Passing Reading</th>\n",
       "      <th>% Overall Passing</th>\n",
       "    </tr>\n",
       "    <tr>\n",
       "      <th>school_name</th>\n",
       "      <th></th>\n",
       "      <th></th>\n",
       "      <th></th>\n",
       "      <th></th>\n",
       "      <th></th>\n",
       "      <th></th>\n",
       "      <th></th>\n",
       "      <th></th>\n",
       "    </tr>\n",
       "  </thead>\n",
       "  <tbody>\n",
       "    <tr>\n",
       "      <th>Cabrera High School</th>\n",
       "      <td>1858</td>\n",
       "      <td>$1,081,356.00</td>\n",
       "      <td>$0.00</td>\n",
       "      <td>83.061895</td>\n",
       "      <td>83.975780</td>\n",
       "      <td>94.133477</td>\n",
       "      <td>97.039828</td>\n",
       "      <td>95.586652</td>\n",
       "    </tr>\n",
       "    <tr>\n",
       "      <th>Thomas High School</th>\n",
       "      <td>1635</td>\n",
       "      <td>$1,043,130.00</td>\n",
       "      <td>$0.00</td>\n",
       "      <td>83.418349</td>\n",
       "      <td>83.848930</td>\n",
       "      <td>93.272171</td>\n",
       "      <td>97.308869</td>\n",
       "      <td>95.290520</td>\n",
       "    </tr>\n",
       "    <tr>\n",
       "      <th>Pena High School</th>\n",
       "      <td>962</td>\n",
       "      <td>$585,858.00</td>\n",
       "      <td>$0.00</td>\n",
       "      <td>83.839917</td>\n",
       "      <td>84.044699</td>\n",
       "      <td>94.594595</td>\n",
       "      <td>95.945946</td>\n",
       "      <td>95.270270</td>\n",
       "    </tr>\n",
       "    <tr>\n",
       "      <th>Griffin High School</th>\n",
       "      <td>1468</td>\n",
       "      <td>$917,500.00</td>\n",
       "      <td>$0.00</td>\n",
       "      <td>83.351499</td>\n",
       "      <td>83.816757</td>\n",
       "      <td>93.392371</td>\n",
       "      <td>97.138965</td>\n",
       "      <td>95.265668</td>\n",
       "    </tr>\n",
       "    <tr>\n",
       "      <th>Wilson High School</th>\n",
       "      <td>2283</td>\n",
       "      <td>$1,319,574.00</td>\n",
       "      <td>$0.00</td>\n",
       "      <td>83.274201</td>\n",
       "      <td>83.989488</td>\n",
       "      <td>93.867718</td>\n",
       "      <td>96.539641</td>\n",
       "      <td>95.203679</td>\n",
       "    </tr>\n",
       "  </tbody>\n",
       "</table>\n",
       "</div>"
      ],
      "text/plain": [
       "                     Total Students Total School Budget Per Student Budget  \\\n",
       "school_name                                                                  \n",
       "Cabrera High School            1858       $1,081,356.00              $0.00   \n",
       "Thomas High School             1635       $1,043,130.00              $0.00   \n",
       "Pena High School                962         $585,858.00              $0.00   \n",
       "Griffin High School            1468         $917,500.00              $0.00   \n",
       "Wilson High School             2283       $1,319,574.00              $0.00   \n",
       "\n",
       "                     Average Math Score  Average Reading Score  \\\n",
       "school_name                                                      \n",
       "Cabrera High School           83.061895              83.975780   \n",
       "Thomas High School            83.418349              83.848930   \n",
       "Pena High School              83.839917              84.044699   \n",
       "Griffin High School           83.351499              83.816757   \n",
       "Wilson High School            83.274201              83.989488   \n",
       "\n",
       "                     % Passing Math  % Passing Reading  % Overall Passing  \n",
       "school_name                                                                \n",
       "Cabrera High School       94.133477          97.039828          95.586652  \n",
       "Thomas High School        93.272171          97.308869          95.290520  \n",
       "Pena High School          94.594595          95.945946          95.270270  \n",
       "Griffin High School       93.392371          97.138965          95.265668  \n",
       "Wilson High School        93.867718          96.539641          95.203679  "
      ]
     },
     "execution_count": 38,
     "metadata": {},
     "output_type": "execute_result"
    }
   ],
   "source": [
    "# Sort the schools by `% Overall Passing` in descending order and display the top 5 rows.\n",
    "top_schools = per_school_summary.sort_values([\"% Overall Passing\"], ascending=False)\n",
    "top_schools.head(5)\n"
   ]
  },
  {
   "cell_type": "markdown",
   "metadata": {},
   "source": [
    "## Bottom Performing Schools (By % Overall Passing)"
   ]
  },
  {
   "cell_type": "code",
   "execution_count": 39,
   "metadata": {},
   "outputs": [
    {
     "data": {
      "text/html": [
       "<div>\n",
       "<style scoped>\n",
       "    .dataframe tbody tr th:only-of-type {\n",
       "        vertical-align: middle;\n",
       "    }\n",
       "\n",
       "    .dataframe tbody tr th {\n",
       "        vertical-align: top;\n",
       "    }\n",
       "\n",
       "    .dataframe thead th {\n",
       "        text-align: right;\n",
       "    }\n",
       "</style>\n",
       "<table border=\"1\" class=\"dataframe\">\n",
       "  <thead>\n",
       "    <tr style=\"text-align: right;\">\n",
       "      <th></th>\n",
       "      <th>Total Students</th>\n",
       "      <th>Total School Budget</th>\n",
       "      <th>Per Student Budget</th>\n",
       "      <th>Average Math Score</th>\n",
       "      <th>Average Reading Score</th>\n",
       "      <th>% Passing Math</th>\n",
       "      <th>% Passing Reading</th>\n",
       "      <th>% Overall Passing</th>\n",
       "    </tr>\n",
       "    <tr>\n",
       "      <th>school_name</th>\n",
       "      <th></th>\n",
       "      <th></th>\n",
       "      <th></th>\n",
       "      <th></th>\n",
       "      <th></th>\n",
       "      <th></th>\n",
       "      <th></th>\n",
       "      <th></th>\n",
       "    </tr>\n",
       "  </thead>\n",
       "  <tbody>\n",
       "    <tr>\n",
       "      <th>Rodriguez High School</th>\n",
       "      <td>3999</td>\n",
       "      <td>$2,547,363.00</td>\n",
       "      <td>$0.00</td>\n",
       "      <td>76.842711</td>\n",
       "      <td>80.744686</td>\n",
       "      <td>66.366592</td>\n",
       "      <td>80.220055</td>\n",
       "      <td>73.293323</td>\n",
       "    </tr>\n",
       "    <tr>\n",
       "      <th>Figueroa High School</th>\n",
       "      <td>2949</td>\n",
       "      <td>$1,884,411.00</td>\n",
       "      <td>$0.00</td>\n",
       "      <td>76.711767</td>\n",
       "      <td>81.158020</td>\n",
       "      <td>65.988471</td>\n",
       "      <td>80.739234</td>\n",
       "      <td>73.363852</td>\n",
       "    </tr>\n",
       "    <tr>\n",
       "      <th>Huang High School</th>\n",
       "      <td>2917</td>\n",
       "      <td>$1,910,635.00</td>\n",
       "      <td>$0.00</td>\n",
       "      <td>76.629414</td>\n",
       "      <td>81.182722</td>\n",
       "      <td>65.683922</td>\n",
       "      <td>81.316421</td>\n",
       "      <td>73.500171</td>\n",
       "    </tr>\n",
       "    <tr>\n",
       "      <th>Johnson High School</th>\n",
       "      <td>4761</td>\n",
       "      <td>$3,094,650.00</td>\n",
       "      <td>$0.00</td>\n",
       "      <td>77.072464</td>\n",
       "      <td>80.966394</td>\n",
       "      <td>66.057551</td>\n",
       "      <td>81.222432</td>\n",
       "      <td>73.639992</td>\n",
       "    </tr>\n",
       "    <tr>\n",
       "      <th>Ford High School</th>\n",
       "      <td>2739</td>\n",
       "      <td>$1,763,916.00</td>\n",
       "      <td>$0.00</td>\n",
       "      <td>77.102592</td>\n",
       "      <td>80.746258</td>\n",
       "      <td>68.309602</td>\n",
       "      <td>79.299014</td>\n",
       "      <td>73.804308</td>\n",
       "    </tr>\n",
       "  </tbody>\n",
       "</table>\n",
       "</div>"
      ],
      "text/plain": [
       "                       Total Students Total School Budget Per Student Budget  \\\n",
       "school_name                                                                    \n",
       "Rodriguez High School            3999       $2,547,363.00              $0.00   \n",
       "Figueroa High School             2949       $1,884,411.00              $0.00   \n",
       "Huang High School                2917       $1,910,635.00              $0.00   \n",
       "Johnson High School              4761       $3,094,650.00              $0.00   \n",
       "Ford High School                 2739       $1,763,916.00              $0.00   \n",
       "\n",
       "                       Average Math Score  Average Reading Score  \\\n",
       "school_name                                                        \n",
       "Rodriguez High School           76.842711              80.744686   \n",
       "Figueroa High School            76.711767              81.158020   \n",
       "Huang High School               76.629414              81.182722   \n",
       "Johnson High School             77.072464              80.966394   \n",
       "Ford High School                77.102592              80.746258   \n",
       "\n",
       "                       % Passing Math  % Passing Reading  % Overall Passing  \n",
       "school_name                                                                  \n",
       "Rodriguez High School       66.366592          80.220055          73.293323  \n",
       "Figueroa High School        65.988471          80.739234          73.363852  \n",
       "Huang High School           65.683922          81.316421          73.500171  \n",
       "Johnson High School         66.057551          81.222432          73.639992  \n",
       "Ford High School            68.309602          79.299014          73.804308  "
      ]
     },
     "execution_count": 39,
     "metadata": {},
     "output_type": "execute_result"
    }
   ],
   "source": [
    "# Sort the schools by `% Overall Passing` in ascending order and display the top 5 rows.\n",
    "bottom_schools = per_school_summary.sort_values([\"% Overall Passing\"], ascending=True)\n",
    "bottom_schools.head(5)\n"
   ]
  },
  {
   "cell_type": "markdown",
   "metadata": {},
   "source": [
    "## Math Scores by Grade"
   ]
  },
  {
   "cell_type": "code",
   "execution_count": 43,
   "metadata": {},
   "outputs": [
    {
     "data": {
      "text/plain": [
       "array([79, 61, 60, 58, 84, 94, 80, 69, 87, 70, 77, 67, 88, 55, 75, 89, 68,\n",
       "       73, 85, 99, 65, 90, 74, 76, 66, 95, 93, 59, 81, 56, 78, 71, 72, 57,\n",
       "       82, 62, 63, 86, 98, 91, 92, 97, 83, 96, 64], dtype=int64)"
      ]
     },
     "execution_count": 43,
     "metadata": {},
     "output_type": "execute_result"
    }
   ],
   "source": [
    "school_data_complete.dtypes\n",
    "school_data_complete[\"math_score\"].unique()\n"
   ]
  },
  {
   "cell_type": "code",
   "execution_count": 42,
   "metadata": {},
   "outputs": [],
   "source": [
    "school_data_complete[\"math_score\"] = pd.to_numeric(school_data_complete[\"math_score\"], errors='coerce')\n"
   ]
  },
  {
   "cell_type": "code",
   "execution_count": 44,
   "metadata": {},
   "outputs": [],
   "source": [
    "school_data_complete = school_data_complete.dropna(subset=[\"math_score\"])\n"
   ]
  },
  {
   "cell_type": "code",
   "execution_count": 45,
   "metadata": {},
   "outputs": [],
   "source": [
    "school_data_complete = school_data_complete.dropna(subset=[\"math_score\"])\n"
   ]
  },
  {
   "cell_type": "code",
   "execution_count": 63,
   "metadata": {},
   "outputs": [
    {
     "name": "stdout",
     "output_type": "stream",
     "text": [
      "[79 61 60 58 84 94 80 69 87 70 77 67 88 55 75 89 68 73 85 99 65 90 74 76\n",
      " 66 95 93 59 81 56 78 71 72 57 82 62 63 86 98 91 92 97 83 96 64]\n",
      "['9th' '12th' '11th' '10th']\n",
      "['Huang High School' 'Figueroa High School' 'Shelton High School'\n",
      " 'Hernandez High School' 'Griffin High School' 'Wilson High School'\n",
      " 'Cabrera High School' 'Bailey High School' 'Holden High School'\n",
      " 'Pena High School' 'Wright High School' 'Rodriguez High School'\n",
      " 'Johnson High School' 'Ford High School' 'Thomas High School']\n"
     ]
    }
   ],
   "source": [
    "# Check for unique values in math_score, grade, and school_name\n",
    "print(school_data_complete[\"math_score\"].unique())\n",
    "print(school_data_complete[\"grade\"].unique())\n",
    "print(school_data_complete[\"school_name\"].unique())\n"
   ]
  },
  {
   "cell_type": "code",
   "execution_count": 64,
   "metadata": {},
   "outputs": [],
   "source": [
    "# Group by `school_name` and `grade` to calculate the mean `math_score` for each grade in each school.\n",
    "ninth_graders = school_data_complete[(school_data_complete[\"grade\"] == \"9th\")]\n",
    "tenth_graders = school_data_complete[(school_data_complete[\"grade\"] == \"10th\")]\n",
    "eleventh_graders = school_data_complete[(school_data_complete[\"grade\"] == \"11th\")]\n",
    "twelfth_graders = school_data_complete[(school_data_complete[\"grade\"] == \"12th\")]"
   ]
  },
  {
   "cell_type": "code",
   "execution_count": 65,
   "metadata": {},
   "outputs": [
    {
     "data": {
      "text/plain": [
       "array([61, 60, 58, 69, 88, 68, 77, 59, 78, 71, 57, 82, 65, 76, 73, 67, 74,\n",
       "       86, 81, 66, 79, 92, 91, 98, 72, 63, 90, 56, 85, 97, 83, 75, 89, 55,\n",
       "       87, 94, 93, 95, 80, 96, 84, 64, 62, 70, 99], dtype=int64)"
      ]
     },
     "execution_count": 65,
     "metadata": {},
     "output_type": "execute_result"
    }
   ],
   "source": [
    "# Inspect the data types and unique values in math_score\n",
    "ninth_graders[\"math_score\"].dtypes\n",
    "ninth_graders[\"math_score\"].unique()\n",
    "tenth_graders[\"math_score\"].dtypes\n",
    "tenth_graders[\"math_score\"].unique()\n",
    "eleventh_graders[\"math_score\"].dtypes\n",
    "eleventh_graders[\"math_score\"].unique()\n",
    "twelfth_graders[\"math_score\"].dtypes\n",
    "twelfth_graders[\"math_score\"].unique()"
   ]
  },
  {
   "cell_type": "code",
   "execution_count": 67,
   "metadata": {},
   "outputs": [],
   "source": [
    "# Group by `school_name` and `grade` to prepare for calculations\n",
    "ninth_graders = school_data_complete[(school_data_complete[\"grade\"] == \"9th\")]\n",
    "tenth_graders = school_data_complete[(school_data_complete[\"grade\"] == \"10th\")]\n",
    "eleventh_graders = school_data_complete[(school_data_complete[\"grade\"] == \"11th\")]\n",
    "twelfth_graders = school_data_complete[(school_data_complete[\"grade\"] == \"12th\")]\n"
   ]
  },
  {
   "cell_type": "code",
   "execution_count": 68,
   "metadata": {},
   "outputs": [],
   "source": [
    "# Calculate the mean math scores for each grade\n",
    "ninth_grade_math_scores = ninth_graders.groupby([\"school_name\"])[\"math_score\"].mean()\n",
    "tenth_grade_math_scores = tenth_graders.groupby([\"school_name\"])[\"math_score\"].mean()\n",
    "eleventh_grade_math_scores = eleventh_graders.groupby([\"school_name\"])[\"math_score\"].mean()\n",
    "twelfth_grade_math_scores = twelfth_graders.groupby([\"school_name\"])[\"math_score\"].mean()\n"
   ]
  },
  {
   "cell_type": "code",
   "execution_count": 69,
   "metadata": {},
   "outputs": [],
   "source": [
    "# Reset the index for clarity\n",
    "ninth_grade_math_scores_df = ninth_grade_math_scores.reset_index()\n",
    "tenth_grade_math_scores_df = tenth_grade_math_scores.reset_index()\n",
    "eleventh_grade_math_scores_df = eleventh_grade_math_scores.reset_index()\n",
    "twelfth_grade_math_scores_df = twelfth_grade_math_scores.reset_index()\n"
   ]
  },
  {
   "cell_type": "code",
   "execution_count": 70,
   "metadata": {},
   "outputs": [
    {
     "name": "stdout",
     "output_type": "stream",
     "text": [
      "              School Name        9th       10th       11th       12th\n",
      "0      Bailey High School  77.083676  76.996772  77.515588  76.492218\n",
      "1     Cabrera High School  83.094697  83.154506  82.765560  83.277487\n",
      "2    Figueroa High School  76.403037  76.539974  76.884344  77.151369\n",
      "3        Ford High School  77.361345  77.672316  76.918058  76.179963\n",
      "4     Griffin High School  82.044010  84.229064  83.842105  83.356164\n",
      "5   Hernandez High School  77.438495  77.337408  77.136029  77.186567\n",
      "6      Holden High School  83.787402  83.429825  85.000000  82.855422\n",
      "7       Huang High School  77.027251  75.908735  76.446602  77.225641\n",
      "8     Johnson High School  77.187857  76.691117  77.491653  76.863248\n",
      "9        Pena High School  83.625455  83.372000  84.328125  84.121547\n",
      "10  Rodriguez High School  76.859966  76.612500  76.395626  77.690748\n",
      "11    Shelton High School  83.420755  82.917411  83.383495  83.778976\n",
      "12     Thomas High School  83.590022  83.087886  83.498795  83.497041\n",
      "13     Wilson High School  83.085578  83.724422  83.195326  83.035794\n",
      "14     Wright High School  83.264706  84.010288  83.836782  83.644986\n"
     ]
    }
   ],
   "source": [
    "# Merge the DataFrames for each grade\n",
    "math_scores_by_grade = pd.merge(ninth_grade_math_scores_df, tenth_grade_math_scores_df, on=\"school_name\", suffixes=(\"_9th\", \"_10th\"))\n",
    "math_scores_by_grade = pd.merge(math_scores_by_grade, eleventh_grade_math_scores_df, on=\"school_name\")\n",
    "math_scores_by_grade = pd.merge(math_scores_by_grade, twelfth_grade_math_scores_df, on=\"school_name\", suffixes=(\"_11th\", \"_12th\"))\n",
    "\n",
    "# Rename columns for clarity\n",
    "math_scores_by_grade.columns = [\"School Name\", \"9th\", \"10th\", \"11th\", \"12th\"]\n",
    "\n",
    "# Display the final DataFrame\n",
    "print(math_scores_by_grade)\n"
   ]
  },
  {
   "cell_type": "markdown",
   "metadata": {},
   "source": [
    "## Reading Score by Grade "
   ]
  },
  {
   "cell_type": "code",
   "execution_count": 71,
   "metadata": {},
   "outputs": [],
   "source": [
    "# Group by `school_name` and `grade` to prepare for calculations\n",
    "ninth_graders_reading = school_data_complete[(school_data_complete[\"grade\"] == \"9th\")]\n",
    "tenth_graders_reading = school_data_complete[(school_data_complete[\"grade\"] == \"10th\")]\n",
    "eleventh_graders_reading = school_data_complete[(school_data_complete[\"grade\"] == \"11th\")]\n",
    "twelfth_graders_reading = school_data_complete[(school_data_complete[\"grade\"] == \"12th\")]\n"
   ]
  },
  {
   "cell_type": "code",
   "execution_count": 72,
   "metadata": {},
   "outputs": [],
   "source": [
    "# Calculate the mean reading scores for each grade\n",
    "ninth_grade_reading_scores = ninth_graders_reading.groupby([\"school_name\"])[\"reading_score\"].mean()\n",
    "tenth_grade_reading_scores = tenth_graders_reading.groupby([\"school_name\"])[\"reading_score\"].mean()\n",
    "eleventh_grade_reading_scores = eleventh_graders_reading.groupby([\"school_name\"])[\"reading_score\"].mean()\n",
    "twelfth_grade_reading_scores = twelfth_graders_reading.groupby([\"school_name\"])[\"reading_score\"].mean()\n"
   ]
  },
  {
   "cell_type": "code",
   "execution_count": 73,
   "metadata": {},
   "outputs": [],
   "source": [
    "# Reset the index for clarity\n",
    "ninth_grade_reading_scores_df = ninth_grade_reading_scores.reset_index()\n",
    "tenth_grade_reading_scores_df = tenth_grade_reading_scores.reset_index()\n",
    "eleventh_grade_reading_scores_df = eleventh_grade_reading_scores.reset_index()\n",
    "twelfth_grade_reading_scores_df = twelfth_grade_reading_scores.reset_index()\n"
   ]
  },
  {
   "cell_type": "code",
   "execution_count": 74,
   "metadata": {},
   "outputs": [
    {
     "name": "stdout",
     "output_type": "stream",
     "text": [
      "              School Name        9th       10th       11th       12th\n",
      "0      Bailey High School  81.303155  80.907183  80.945643  80.912451\n",
      "1     Cabrera High School  83.676136  84.253219  83.788382  84.287958\n",
      "2    Figueroa High School  81.198598  81.408912  80.640339  81.384863\n",
      "3        Ford High School  80.632653  81.262712  80.403642  80.662338\n",
      "4     Griffin High School  83.369193  83.706897  84.288089  84.013699\n",
      "5   Hernandez High School  80.866860  80.660147  81.396140  80.857143\n",
      "6      Holden High School  83.677165  83.324561  83.815534  84.698795\n",
      "7       Huang High School  81.290284  81.512386  81.417476  80.305983\n",
      "8     Johnson High School  81.260714  80.773431  80.616027  81.227564\n",
      "9        Pena High School  83.807273  83.612000  84.335938  84.591160\n",
      "10  Rodriguez High School  80.993127  80.629808  80.864811  80.376426\n",
      "11    Shelton High School  84.122642  83.441964  84.373786  82.781671\n",
      "12     Thomas High School  83.728850  84.254157  83.585542  83.831361\n",
      "13     Wilson High School  83.939778  84.021452  83.764608  84.317673\n",
      "14     Wright High School  83.833333  83.812757  84.156322  84.073171\n"
     ]
    }
   ],
   "source": [
    "# Merge the DataFrames for each grade\n",
    "reading_scores_by_grade = pd.merge(ninth_grade_reading_scores_df, tenth_grade_reading_scores_df, on=\"school_name\", suffixes=(\"_9th\", \"_10th\"))\n",
    "reading_scores_by_grade = pd.merge(reading_scores_by_grade, eleventh_grade_reading_scores_df, on=\"school_name\")\n",
    "reading_scores_by_grade = pd.merge(reading_scores_by_grade, twelfth_grade_reading_scores_df, on=\"school_name\", suffixes=(\"_11th\", \"_12th\"))\n",
    "\n",
    "# Rename columns for clarity\n",
    "reading_scores_by_grade.columns = [\"School Name\", \"9th\", \"10th\", \"11th\", \"12th\"]\n",
    "\n",
    "# Display the final DataFrame\n",
    "print(reading_scores_by_grade)\n"
   ]
  },
  {
   "cell_type": "markdown",
   "metadata": {},
   "source": [
    "## Scores by School Spending"
   ]
  },
  {
   "cell_type": "code",
   "execution_count": 93,
   "metadata": {},
   "outputs": [
    {
     "name": "stdout",
     "output_type": "stream",
     "text": [
      "[]\n",
      "0\n",
      "0\n"
     ]
    }
   ],
   "source": [
    "# Re-inspect the unique values in the \"Per Student Budget\" column\n",
    "print(school_spending_df[\"Per Student Budget\"].unique())\n",
    "\n",
    "# Check for any NaN values in the \"Per Student Budget\" column\n",
    "print(school_spending_df[\"Per Student Budget\"].isna().sum())\n",
    "\n",
    "# Ensure all values in the \"Per Student Budget\" column are numeric\n",
    "school_spending_df[\"Per Student Budget\"] = pd.to_numeric(school_spending_df[\"Per Student Budget\"], errors='coerce')\n",
    "\n",
    "# Drop any rows with NaN values in the \"Per Student Budget\" column after conversion\n",
    "school_spending_df = school_spending_df.dropna(subset=[\"Per Student Budget\"])\n",
    "\n",
    "# Verify that there are no NaN values left\n",
    "print(school_spending_df[\"Per Student Budget\"].isna().sum())\n"
   ]
  },
  {
   "cell_type": "code",
   "execution_count": 97,
   "metadata": {},
   "outputs": [
    {
     "name": "stdout",
     "output_type": "stream",
     "text": [
      "count    0.0\n",
      "mean     NaN\n",
      "std      NaN\n",
      "min      NaN\n",
      "25%      NaN\n",
      "50%      NaN\n",
      "75%      NaN\n",
      "max      NaN\n",
      "Name: Per Student Budget, dtype: float64\n",
      "[]\n"
     ]
    }
   ],
   "source": [
    "# Inspect the values in the \"Per Student Budget\" column after conversion and dropping NaNs\n",
    "print(school_spending_df[\"Per Student Budget\"].describe())\n",
    "print(school_spending_df[\"Per Student Budget\"].unique())\n"
   ]
  },
  {
   "cell_type": "code",
   "execution_count": null,
   "metadata": {},
   "outputs": [],
   "source": []
  },
  {
   "cell_type": "code",
   "execution_count": 94,
   "metadata": {},
   "outputs": [],
   "source": [
    "# Establish the bins\n",
    "spending_bins = [0, 585, 630, 645, 680]\n",
    "labels = [\"<$585\", \"$585-630\", \"$630-645\", \"$645-680\"]\n"
   ]
  },
  {
   "cell_type": "code",
   "execution_count": 95,
   "metadata": {},
   "outputs": [
    {
     "name": "stdout",
     "output_type": "stream",
     "text": [
      "Empty DataFrame\n",
      "Columns: [Total Students, Total School Budget, Per Student Budget, Average Math Score, Average Reading Score, % Passing Math, % Passing Reading, % Overall Passing, School Size, Spending Ranges (Per Student)]\n",
      "Index: []\n"
     ]
    }
   ],
   "source": [
    "# Reattempt the pd.cut operation to create the \"Spending Ranges (Per Student)\" column\n",
    "school_spending_df[\"Spending Ranges (Per Student)\"] = pd.cut(school_spending_df[\"Per Student Budget\"], bins=spending_bins, labels=labels)\n",
    "\n",
    "# Check if the column has been created correctly\n",
    "print(school_spending_df.head())\n",
    "\n"
   ]
  },
  {
   "cell_type": "code",
   "execution_count": 96,
   "metadata": {},
   "outputs": [
    {
     "name": "stdout",
     "output_type": "stream",
     "text": [
      "Spending Ranges (Per Student)\n",
      "<$585      NaN\n",
      "$585-630   NaN\n",
      "$630-645   NaN\n",
      "$645-680   NaN\n",
      "Name: Average Math Score, dtype: float64\n",
      "Spending Ranges (Per Student)\n",
      "<$585      NaN\n",
      "$585-630   NaN\n",
      "$630-645   NaN\n",
      "$645-680   NaN\n",
      "Name: Average Reading Score, dtype: float64\n",
      "Spending Ranges (Per Student)\n",
      "<$585      NaN\n",
      "$585-630   NaN\n",
      "$630-645   NaN\n",
      "$645-680   NaN\n",
      "Name: % Passing Math, dtype: float64\n",
      "Spending Ranges (Per Student)\n",
      "<$585      NaN\n",
      "$585-630   NaN\n",
      "$630-645   NaN\n",
      "$645-680   NaN\n",
      "Name: % Passing Reading, dtype: float64\n",
      "Spending Ranges (Per Student)\n",
      "<$585      NaN\n",
      "$585-630   NaN\n",
      "$630-645   NaN\n",
      "$645-680   NaN\n",
      "Name: % Overall Passing, dtype: float64\n"
     ]
    },
    {
     "name": "stderr",
     "output_type": "stream",
     "text": [
      "C:\\Users\\Hester\\AppData\\Local\\Temp\\ipykernel_13168\\2252184066.py:2: FutureWarning: The default of observed=False is deprecated and will be changed to True in a future version of pandas. Pass observed=False to retain current behavior or observed=True to adopt the future default and silence this warning.\n",
      "  spending_math_scores = school_spending_df.groupby([\"Spending Ranges (Per Student)\"])[\"Average Math Score\"].mean()\n",
      "C:\\Users\\Hester\\AppData\\Local\\Temp\\ipykernel_13168\\2252184066.py:3: FutureWarning: The default of observed=False is deprecated and will be changed to True in a future version of pandas. Pass observed=False to retain current behavior or observed=True to adopt the future default and silence this warning.\n",
      "  spending_reading_scores = school_spending_df.groupby([\"Spending Ranges (Per Student)\"])[\"Average Reading Score\"].mean()\n",
      "C:\\Users\\Hester\\AppData\\Local\\Temp\\ipykernel_13168\\2252184066.py:4: FutureWarning: The default of observed=False is deprecated and will be changed to True in a future version of pandas. Pass observed=False to retain current behavior or observed=True to adopt the future default and silence this warning.\n",
      "  spending_passing_math = school_spending_df.groupby([\"Spending Ranges (Per Student)\"])[\"% Passing Math\"].mean()\n",
      "C:\\Users\\Hester\\AppData\\Local\\Temp\\ipykernel_13168\\2252184066.py:5: FutureWarning: The default of observed=False is deprecated and will be changed to True in a future version of pandas. Pass observed=False to retain current behavior or observed=True to adopt the future default and silence this warning.\n",
      "  spending_passing_reading = school_spending_df.groupby([\"Spending Ranges (Per Student)\"])[\"% Passing Reading\"].mean()\n",
      "C:\\Users\\Hester\\AppData\\Local\\Temp\\ipykernel_13168\\2252184066.py:6: FutureWarning: The default of observed=False is deprecated and will be changed to True in a future version of pandas. Pass observed=False to retain current behavior or observed=True to adopt the future default and silence this warning.\n",
      "  overall_passing_spending = school_spending_df.groupby([\"Spending Ranges (Per Student)\"])[\"% Overall Passing\"].mean()\n"
     ]
    }
   ],
   "source": [
    "# Reattempt the groupby operations for spending ranges\n",
    "spending_math_scores = school_spending_df.groupby([\"Spending Ranges (Per Student)\"])[\"Average Math Score\"].mean()\n",
    "spending_reading_scores = school_spending_df.groupby([\"Spending Ranges (Per Student)\"])[\"Average Reading Score\"].mean()\n",
    "spending_passing_math = school_spending_df.groupby([\"Spending Ranges (Per Student)\"])[\"% Passing Math\"].mean()\n",
    "spending_passing_reading = school_spending_df.groupby([\"Spending Ranges (Per Student)\"])[\"% Passing Reading\"].mean()\n",
    "overall_passing_spending = school_spending_df.groupby([\"Spending Ranges (Per Student)\"])[\"% Overall Passing\"].mean()\n",
    "\n",
    "# Check the results to ensure they are correct\n",
    "print(spending_math_scores)\n",
    "print(spending_reading_scores)\n",
    "print(spending_passing_math)\n",
    "print(spending_passing_reading)\n",
    "print(overall_passing_spending)\n"
   ]
  },
  {
   "cell_type": "code",
   "execution_count": 84,
   "metadata": {},
   "outputs": [],
   "source": [
    "# Create a copy of the school summary since it has the \"Per Student Budget\"\n",
    "school_spending_df = per_school_summary.copy()\n"
   ]
  },
  {
   "cell_type": "code",
   "execution_count": 85,
   "metadata": {},
   "outputs": [
    {
     "name": "stdout",
     "output_type": "stream",
     "text": [
      "['$0.00']\n"
     ]
    }
   ],
   "source": [
    "# Inspect the unique values in the \"Per Student Budget\" column\n",
    "print(school_spending_df[\"Per Student Budget\"].unique())\n"
   ]
  },
  {
   "cell_type": "code",
   "execution_count": 86,
   "metadata": {},
   "outputs": [],
   "source": [
    "# Convert \"Per Student Budget\" to numeric, forcing errors to NaN\n",
    "school_spending_df[\"Per Student Budget\"] = pd.to_numeric(school_spending_df[\"Per Student Budget\"], errors='coerce')\n",
    "\n",
    "# Drop rows with NaN values in \"Per Student Budget\"\n",
    "school_spending_df = school_spending_df.dropna(subset=[\"Per Student Budget\"])\n"
   ]
  },
  {
   "cell_type": "code",
   "execution_count": 87,
   "metadata": {},
   "outputs": [],
   "source": [
    "# Use `pd.cut` to categorize spending based on the bins.\n",
    "school_spending_df[\"Spending Ranges (Per Student)\"] = pd.cut(school_spending_df[\"Per Student Budget\"], spending_bins, labels=labels)\n"
   ]
  },
  {
   "cell_type": "code",
   "execution_count": 88,
   "metadata": {},
   "outputs": [
    {
     "name": "stdout",
     "output_type": "stream",
     "text": [
      "Empty DataFrame\n",
      "Columns: [Total Students, Total School Budget, Per Student Budget, Average Math Score, Average Reading Score, % Passing Math, % Passing Reading, % Overall Passing, School Size, Spending Ranges (Per Student)]\n",
      "Index: []\n"
     ]
    }
   ],
   "source": [
    "# Check if \"Spending Ranges (Per Student)\" column exists and inspect its first few entries\n",
    "print(school_spending_df.head())\n"
   ]
  },
  {
   "cell_type": "code",
   "execution_count": 89,
   "metadata": {},
   "outputs": [
    {
     "name": "stdout",
     "output_type": "stream",
     "text": [
      "[]\n",
      "[0, 585, 630, 645, 680]\n",
      "['<$585', '$585-630', '$630-645', '$645-680']\n"
     ]
    }
   ],
   "source": [
    "# Inspect the unique values in the \"Per Student Budget\" column again\n",
    "print(school_spending_df[\"Per Student Budget\"].unique())\n",
    "\n",
    "# Check the bins and labels to ensure they are set up correctly\n",
    "print(spending_bins)\n",
    "print(labels)\n"
   ]
  },
  {
   "cell_type": "code",
   "execution_count": 90,
   "metadata": {},
   "outputs": [
    {
     "name": "stdout",
     "output_type": "stream",
     "text": [
      "Empty DataFrame\n",
      "Columns: [Total Students, Total School Budget, Per Student Budget, Average Math Score, Average Reading Score, % Passing Math, % Passing Reading, % Overall Passing, School Size, Spending Ranges (Per Student)]\n",
      "Index: []\n"
     ]
    }
   ],
   "source": [
    "# Reattempt the pd.cut operation\n",
    "school_spending_df[\"Spending Ranges (Per Student)\"] = pd.cut(school_spending_df[\"Per Student Budget\"], bins=spending_bins, labels=labels)\n",
    "\n",
    "# Check if the column has been created correctly\n",
    "print(school_spending_df.head())\n"
   ]
  },
  {
   "cell_type": "code",
   "execution_count": 92,
   "metadata": {},
   "outputs": [
    {
     "name": "stdout",
     "output_type": "stream",
     "text": [
      "Spending Ranges (Per Student)\n",
      "<$585      NaN\n",
      "$585-630   NaN\n",
      "$630-645   NaN\n",
      "$645-680   NaN\n",
      "Name: Average Math Score, dtype: float64\n",
      "Spending Ranges (Per Student)\n",
      "<$585      NaN\n",
      "$585-630   NaN\n",
      "$630-645   NaN\n",
      "$645-680   NaN\n",
      "Name: Average Reading Score, dtype: float64\n",
      "Spending Ranges (Per Student)\n",
      "<$585      NaN\n",
      "$585-630   NaN\n",
      "$630-645   NaN\n",
      "$645-680   NaN\n",
      "Name: % Passing Math, dtype: float64\n",
      "Spending Ranges (Per Student)\n",
      "<$585      NaN\n",
      "$585-630   NaN\n",
      "$630-645   NaN\n",
      "$645-680   NaN\n",
      "Name: % Passing Reading, dtype: float64\n",
      "Spending Ranges (Per Student)\n",
      "<$585      NaN\n",
      "$585-630   NaN\n",
      "$630-645   NaN\n",
      "$645-680   NaN\n",
      "Name: % Overall Passing, dtype: float64\n"
     ]
    },
    {
     "name": "stderr",
     "output_type": "stream",
     "text": [
      "C:\\Users\\Hester\\AppData\\Local\\Temp\\ipykernel_13168\\3308965380.py:2: FutureWarning: The default of observed=False is deprecated and will be changed to True in a future version of pandas. Pass observed=False to retain current behavior or observed=True to adopt the future default and silence this warning.\n",
      "  spending_math_scores = school_spending_df.groupby([\"Spending Ranges (Per Student)\"])[\"Average Math Score\"].mean()\n",
      "C:\\Users\\Hester\\AppData\\Local\\Temp\\ipykernel_13168\\3308965380.py:3: FutureWarning: The default of observed=False is deprecated and will be changed to True in a future version of pandas. Pass observed=False to retain current behavior or observed=True to adopt the future default and silence this warning.\n",
      "  spending_reading_scores = school_spending_df.groupby([\"Spending Ranges (Per Student)\"])[\"Average Reading Score\"].mean()\n",
      "C:\\Users\\Hester\\AppData\\Local\\Temp\\ipykernel_13168\\3308965380.py:4: FutureWarning: The default of observed=False is deprecated and will be changed to True in a future version of pandas. Pass observed=False to retain current behavior or observed=True to adopt the future default and silence this warning.\n",
      "  spending_passing_math = school_spending_df.groupby([\"Spending Ranges (Per Student)\"])[\"% Passing Math\"].mean()\n",
      "C:\\Users\\Hester\\AppData\\Local\\Temp\\ipykernel_13168\\3308965380.py:5: FutureWarning: The default of observed=False is deprecated and will be changed to True in a future version of pandas. Pass observed=False to retain current behavior or observed=True to adopt the future default and silence this warning.\n",
      "  spending_passing_reading = school_spending_df.groupby([\"Spending Ranges (Per Student)\"])[\"% Passing Reading\"].mean()\n",
      "C:\\Users\\Hester\\AppData\\Local\\Temp\\ipykernel_13168\\3308965380.py:6: FutureWarning: The default of observed=False is deprecated and will be changed to True in a future version of pandas. Pass observed=False to retain current behavior or observed=True to adopt the future default and silence this warning.\n",
      "  overall_passing_spending = school_spending_df.groupby([\"Spending Ranges (Per Student)\"])[\"% Overall Passing\"].mean()\n"
     ]
    }
   ],
   "source": [
    "# Reattempt the groupby operations\n",
    "spending_math_scores = school_spending_df.groupby([\"Spending Ranges (Per Student)\"])[\"Average Math Score\"].mean()\n",
    "spending_reading_scores = school_spending_df.groupby([\"Spending Ranges (Per Student)\"])[\"Average Reading Score\"].mean()\n",
    "spending_passing_math = school_spending_df.groupby([\"Spending Ranges (Per Student)\"])[\"% Passing Math\"].mean()\n",
    "spending_passing_reading = school_spending_df.groupby([\"Spending Ranges (Per Student)\"])[\"% Passing Reading\"].mean()\n",
    "overall_passing_spending = school_spending_df.groupby([\"Spending Ranges (Per Student)\"])[\"% Overall Passing\"].mean()\n",
    "\n",
    "# Check the results to ensure they are correct\n",
    "print(spending_math_scores)\n",
    "print(spending_reading_scores)\n",
    "print(spending_passing_math)\n",
    "print(spending_passing_reading)\n",
    "print(overall_passing_spending)\n",
    "\n"
   ]
  },
  {
   "cell_type": "code",
   "execution_count": 55,
   "metadata": {},
   "outputs": [
    {
     "ename": "NameError",
     "evalue": "name 'spending_math_scores' is not defined",
     "output_type": "error",
     "traceback": [
      "\u001b[1;31m---------------------------------------------------------------------------\u001b[0m",
      "\u001b[1;31mNameError\u001b[0m                                 Traceback (most recent call last)",
      "Cell \u001b[1;32mIn[55], line 3\u001b[0m\n\u001b[0;32m      1\u001b[0m \u001b[38;5;66;03m# Assemble into DataFrame\u001b[39;00m\n\u001b[0;32m      2\u001b[0m spending_summary \u001b[38;5;241m=\u001b[39m pd\u001b[38;5;241m.\u001b[39mDataFrame({\n\u001b[1;32m----> 3\u001b[0m     \u001b[38;5;124m\"\u001b[39m\u001b[38;5;124mAverage Math Score\u001b[39m\u001b[38;5;124m\"\u001b[39m: \u001b[43mspending_math_scores\u001b[49m,\n\u001b[0;32m      4\u001b[0m     \u001b[38;5;124m\"\u001b[39m\u001b[38;5;124mAverage Reading Score\u001b[39m\u001b[38;5;124m\"\u001b[39m: spending_reading_scores,\n\u001b[0;32m      5\u001b[0m     \u001b[38;5;124m\"\u001b[39m\u001b[38;5;124m%\u001b[39m\u001b[38;5;124m Passing Math\u001b[39m\u001b[38;5;124m\"\u001b[39m: spending_passing_math,\n\u001b[0;32m      6\u001b[0m     \u001b[38;5;124m\"\u001b[39m\u001b[38;5;124m%\u001b[39m\u001b[38;5;124m Passing Reading\u001b[39m\u001b[38;5;124m\"\u001b[39m: spending_passing_reading,\n\u001b[0;32m      7\u001b[0m     \u001b[38;5;124m\"\u001b[39m\u001b[38;5;124m%\u001b[39m\u001b[38;5;124m Overall Passing\u001b[39m\u001b[38;5;124m\"\u001b[39m: overall_passing_spending\n\u001b[0;32m      8\u001b[0m })\n\u001b[0;32m     10\u001b[0m \u001b[38;5;66;03m# Display results\u001b[39;00m\n\u001b[0;32m     11\u001b[0m spending_summary\n",
      "\u001b[1;31mNameError\u001b[0m: name 'spending_math_scores' is not defined"
     ]
    }
   ],
   "source": [
    "# Assemble into DataFrame\n",
    "spending_summary = pd.DataFrame({\n",
    "    \"Average Math Score\": spending_math_scores,\n",
    "    \"Average Reading Score\": spending_reading_scores,\n",
    "    \"% Passing Math\": spending_passing_math,\n",
    "    \"% Passing Reading\": spending_passing_reading,\n",
    "    \"% Overall Passing\": overall_passing_spending\n",
    "})\n",
    "\n",
    "# Display results\n",
    "spending_summary\n"
   ]
  },
  {
   "cell_type": "markdown",
   "metadata": {},
   "source": [
    "## Scores by School Size"
   ]
  },
  {
   "cell_type": "code",
   "execution_count": 56,
   "metadata": {},
   "outputs": [],
   "source": [
    "# Establish the bins.\n",
    "size_bins = [0, 1000, 2000, 5000]\n",
    "labels = [\"Small (<1000)\", \"Medium (1000-2000)\", \"Large (2000-5000)\"]\n"
   ]
  },
  {
   "cell_type": "code",
   "execution_count": 57,
   "metadata": {},
   "outputs": [
    {
     "data": {
      "text/html": [
       "<div>\n",
       "<style scoped>\n",
       "    .dataframe tbody tr th:only-of-type {\n",
       "        vertical-align: middle;\n",
       "    }\n",
       "\n",
       "    .dataframe tbody tr th {\n",
       "        vertical-align: top;\n",
       "    }\n",
       "\n",
       "    .dataframe thead th {\n",
       "        text-align: right;\n",
       "    }\n",
       "</style>\n",
       "<table border=\"1\" class=\"dataframe\">\n",
       "  <thead>\n",
       "    <tr style=\"text-align: right;\">\n",
       "      <th></th>\n",
       "      <th>Total Students</th>\n",
       "      <th>Total School Budget</th>\n",
       "      <th>Per Student Budget</th>\n",
       "      <th>Average Math Score</th>\n",
       "      <th>Average Reading Score</th>\n",
       "      <th>% Passing Math</th>\n",
       "      <th>% Passing Reading</th>\n",
       "      <th>% Overall Passing</th>\n",
       "      <th>School Size</th>\n",
       "    </tr>\n",
       "    <tr>\n",
       "      <th>school_name</th>\n",
       "      <th></th>\n",
       "      <th></th>\n",
       "      <th></th>\n",
       "      <th></th>\n",
       "      <th></th>\n",
       "      <th></th>\n",
       "      <th></th>\n",
       "      <th></th>\n",
       "      <th></th>\n",
       "    </tr>\n",
       "  </thead>\n",
       "  <tbody>\n",
       "    <tr>\n",
       "      <th>Bailey High School</th>\n",
       "      <td>4976</td>\n",
       "      <td>$3,124,928.00</td>\n",
       "      <td>$0.00</td>\n",
       "      <td>77.048432</td>\n",
       "      <td>81.033963</td>\n",
       "      <td>66.680064</td>\n",
       "      <td>81.933280</td>\n",
       "      <td>74.306672</td>\n",
       "      <td>Large (2000-5000)</td>\n",
       "    </tr>\n",
       "    <tr>\n",
       "      <th>Johnson High School</th>\n",
       "      <td>4761</td>\n",
       "      <td>$3,094,650.00</td>\n",
       "      <td>$0.00</td>\n",
       "      <td>77.072464</td>\n",
       "      <td>80.966394</td>\n",
       "      <td>66.057551</td>\n",
       "      <td>81.222432</td>\n",
       "      <td>73.639992</td>\n",
       "      <td>Large (2000-5000)</td>\n",
       "    </tr>\n",
       "    <tr>\n",
       "      <th>Hernandez High School</th>\n",
       "      <td>4635</td>\n",
       "      <td>$3,022,020.00</td>\n",
       "      <td>$0.00</td>\n",
       "      <td>77.289752</td>\n",
       "      <td>80.934412</td>\n",
       "      <td>66.752967</td>\n",
       "      <td>80.862999</td>\n",
       "      <td>73.807983</td>\n",
       "      <td>Large (2000-5000)</td>\n",
       "    </tr>\n",
       "    <tr>\n",
       "      <th>Rodriguez High School</th>\n",
       "      <td>3999</td>\n",
       "      <td>$2,547,363.00</td>\n",
       "      <td>$0.00</td>\n",
       "      <td>76.842711</td>\n",
       "      <td>80.744686</td>\n",
       "      <td>66.366592</td>\n",
       "      <td>80.220055</td>\n",
       "      <td>73.293323</td>\n",
       "      <td>Large (2000-5000)</td>\n",
       "    </tr>\n",
       "    <tr>\n",
       "      <th>Figueroa High School</th>\n",
       "      <td>2949</td>\n",
       "      <td>$1,884,411.00</td>\n",
       "      <td>$0.00</td>\n",
       "      <td>76.711767</td>\n",
       "      <td>81.158020</td>\n",
       "      <td>65.988471</td>\n",
       "      <td>80.739234</td>\n",
       "      <td>73.363852</td>\n",
       "      <td>Large (2000-5000)</td>\n",
       "    </tr>\n",
       "    <tr>\n",
       "      <th>Huang High School</th>\n",
       "      <td>2917</td>\n",
       "      <td>$1,910,635.00</td>\n",
       "      <td>$0.00</td>\n",
       "      <td>76.629414</td>\n",
       "      <td>81.182722</td>\n",
       "      <td>65.683922</td>\n",
       "      <td>81.316421</td>\n",
       "      <td>73.500171</td>\n",
       "      <td>Large (2000-5000)</td>\n",
       "    </tr>\n",
       "    <tr>\n",
       "      <th>Ford High School</th>\n",
       "      <td>2739</td>\n",
       "      <td>$1,763,916.00</td>\n",
       "      <td>$0.00</td>\n",
       "      <td>77.102592</td>\n",
       "      <td>80.746258</td>\n",
       "      <td>68.309602</td>\n",
       "      <td>79.299014</td>\n",
       "      <td>73.804308</td>\n",
       "      <td>Large (2000-5000)</td>\n",
       "    </tr>\n",
       "    <tr>\n",
       "      <th>Wilson High School</th>\n",
       "      <td>2283</td>\n",
       "      <td>$1,319,574.00</td>\n",
       "      <td>$0.00</td>\n",
       "      <td>83.274201</td>\n",
       "      <td>83.989488</td>\n",
       "      <td>93.867718</td>\n",
       "      <td>96.539641</td>\n",
       "      <td>95.203679</td>\n",
       "      <td>Large (2000-5000)</td>\n",
       "    </tr>\n",
       "    <tr>\n",
       "      <th>Cabrera High School</th>\n",
       "      <td>1858</td>\n",
       "      <td>$1,081,356.00</td>\n",
       "      <td>$0.00</td>\n",
       "      <td>83.061895</td>\n",
       "      <td>83.975780</td>\n",
       "      <td>94.133477</td>\n",
       "      <td>97.039828</td>\n",
       "      <td>95.586652</td>\n",
       "      <td>Medium (1000-2000)</td>\n",
       "    </tr>\n",
       "    <tr>\n",
       "      <th>Wright High School</th>\n",
       "      <td>1800</td>\n",
       "      <td>$1,049,400.00</td>\n",
       "      <td>$0.00</td>\n",
       "      <td>83.682222</td>\n",
       "      <td>83.955000</td>\n",
       "      <td>93.333333</td>\n",
       "      <td>96.611111</td>\n",
       "      <td>94.972222</td>\n",
       "      <td>Medium (1000-2000)</td>\n",
       "    </tr>\n",
       "    <tr>\n",
       "      <th>Shelton High School</th>\n",
       "      <td>1761</td>\n",
       "      <td>$1,056,600.00</td>\n",
       "      <td>$0.00</td>\n",
       "      <td>83.359455</td>\n",
       "      <td>83.725724</td>\n",
       "      <td>93.867121</td>\n",
       "      <td>95.854628</td>\n",
       "      <td>94.860875</td>\n",
       "      <td>Medium (1000-2000)</td>\n",
       "    </tr>\n",
       "    <tr>\n",
       "      <th>Thomas High School</th>\n",
       "      <td>1635</td>\n",
       "      <td>$1,043,130.00</td>\n",
       "      <td>$0.00</td>\n",
       "      <td>83.418349</td>\n",
       "      <td>83.848930</td>\n",
       "      <td>93.272171</td>\n",
       "      <td>97.308869</td>\n",
       "      <td>95.290520</td>\n",
       "      <td>Medium (1000-2000)</td>\n",
       "    </tr>\n",
       "    <tr>\n",
       "      <th>Griffin High School</th>\n",
       "      <td>1468</td>\n",
       "      <td>$917,500.00</td>\n",
       "      <td>$0.00</td>\n",
       "      <td>83.351499</td>\n",
       "      <td>83.816757</td>\n",
       "      <td>93.392371</td>\n",
       "      <td>97.138965</td>\n",
       "      <td>95.265668</td>\n",
       "      <td>Medium (1000-2000)</td>\n",
       "    </tr>\n",
       "    <tr>\n",
       "      <th>Pena High School</th>\n",
       "      <td>962</td>\n",
       "      <td>$585,858.00</td>\n",
       "      <td>$0.00</td>\n",
       "      <td>83.839917</td>\n",
       "      <td>84.044699</td>\n",
       "      <td>94.594595</td>\n",
       "      <td>95.945946</td>\n",
       "      <td>95.270270</td>\n",
       "      <td>Small (&lt;1000)</td>\n",
       "    </tr>\n",
       "    <tr>\n",
       "      <th>Holden High School</th>\n",
       "      <td>427</td>\n",
       "      <td>$248,087.00</td>\n",
       "      <td>$0.00</td>\n",
       "      <td>83.803279</td>\n",
       "      <td>83.814988</td>\n",
       "      <td>92.505855</td>\n",
       "      <td>96.252927</td>\n",
       "      <td>94.379391</td>\n",
       "      <td>Small (&lt;1000)</td>\n",
       "    </tr>\n",
       "  </tbody>\n",
       "</table>\n",
       "</div>"
      ],
      "text/plain": [
       "                       Total Students Total School Budget Per Student Budget  \\\n",
       "school_name                                                                    \n",
       "Bailey High School               4976       $3,124,928.00              $0.00   \n",
       "Johnson High School              4761       $3,094,650.00              $0.00   \n",
       "Hernandez High School            4635       $3,022,020.00              $0.00   \n",
       "Rodriguez High School            3999       $2,547,363.00              $0.00   \n",
       "Figueroa High School             2949       $1,884,411.00              $0.00   \n",
       "Huang High School                2917       $1,910,635.00              $0.00   \n",
       "Ford High School                 2739       $1,763,916.00              $0.00   \n",
       "Wilson High School               2283       $1,319,574.00              $0.00   \n",
       "Cabrera High School              1858       $1,081,356.00              $0.00   \n",
       "Wright High School               1800       $1,049,400.00              $0.00   \n",
       "Shelton High School              1761       $1,056,600.00              $0.00   \n",
       "Thomas High School               1635       $1,043,130.00              $0.00   \n",
       "Griffin High School              1468         $917,500.00              $0.00   \n",
       "Pena High School                  962         $585,858.00              $0.00   \n",
       "Holden High School                427         $248,087.00              $0.00   \n",
       "\n",
       "                       Average Math Score  Average Reading Score  \\\n",
       "school_name                                                        \n",
       "Bailey High School              77.048432              81.033963   \n",
       "Johnson High School             77.072464              80.966394   \n",
       "Hernandez High School           77.289752              80.934412   \n",
       "Rodriguez High School           76.842711              80.744686   \n",
       "Figueroa High School            76.711767              81.158020   \n",
       "Huang High School               76.629414              81.182722   \n",
       "Ford High School                77.102592              80.746258   \n",
       "Wilson High School              83.274201              83.989488   \n",
       "Cabrera High School             83.061895              83.975780   \n",
       "Wright High School              83.682222              83.955000   \n",
       "Shelton High School             83.359455              83.725724   \n",
       "Thomas High School              83.418349              83.848930   \n",
       "Griffin High School             83.351499              83.816757   \n",
       "Pena High School                83.839917              84.044699   \n",
       "Holden High School              83.803279              83.814988   \n",
       "\n",
       "                       % Passing Math  % Passing Reading  % Overall Passing  \\\n",
       "school_name                                                                   \n",
       "Bailey High School          66.680064          81.933280          74.306672   \n",
       "Johnson High School         66.057551          81.222432          73.639992   \n",
       "Hernandez High School       66.752967          80.862999          73.807983   \n",
       "Rodriguez High School       66.366592          80.220055          73.293323   \n",
       "Figueroa High School        65.988471          80.739234          73.363852   \n",
       "Huang High School           65.683922          81.316421          73.500171   \n",
       "Ford High School            68.309602          79.299014          73.804308   \n",
       "Wilson High School          93.867718          96.539641          95.203679   \n",
       "Cabrera High School         94.133477          97.039828          95.586652   \n",
       "Wright High School          93.333333          96.611111          94.972222   \n",
       "Shelton High School         93.867121          95.854628          94.860875   \n",
       "Thomas High School          93.272171          97.308869          95.290520   \n",
       "Griffin High School         93.392371          97.138965          95.265668   \n",
       "Pena High School            94.594595          95.945946          95.270270   \n",
       "Holden High School          92.505855          96.252927          94.379391   \n",
       "\n",
       "                              School Size  \n",
       "school_name                                \n",
       "Bailey High School      Large (2000-5000)  \n",
       "Johnson High School     Large (2000-5000)  \n",
       "Hernandez High School   Large (2000-5000)  \n",
       "Rodriguez High School   Large (2000-5000)  \n",
       "Figueroa High School    Large (2000-5000)  \n",
       "Huang High School       Large (2000-5000)  \n",
       "Ford High School        Large (2000-5000)  \n",
       "Wilson High School      Large (2000-5000)  \n",
       "Cabrera High School    Medium (1000-2000)  \n",
       "Wright High School     Medium (1000-2000)  \n",
       "Shelton High School    Medium (1000-2000)  \n",
       "Thomas High School     Medium (1000-2000)  \n",
       "Griffin High School    Medium (1000-2000)  \n",
       "Pena High School            Small (<1000)  \n",
       "Holden High School          Small (<1000)  "
      ]
     },
     "execution_count": 57,
     "metadata": {},
     "output_type": "execute_result"
    }
   ],
   "source": [
    "# Categorize the spending based on the bins\n",
    "# Use `pd.cut` on the \"Total Students\" column of the `per_school_summary` DataFrame.\n",
    "\n",
    "per_school_summary[\"School Size\"] = pd.cut(per_school_summary[\"Total Students\"], size_bins, labels=labels)\n",
    "per_school_summary\n"
   ]
  },
  {
   "cell_type": "code",
   "execution_count": 58,
   "metadata": {},
   "outputs": [
    {
     "name": "stderr",
     "output_type": "stream",
     "text": [
      "C:\\Users\\Hester\\AppData\\Local\\Temp\\ipykernel_13168\\3588142246.py:2: FutureWarning: The default of observed=False is deprecated and will be changed to True in a future version of pandas. Pass observed=False to retain current behavior or observed=True to adopt the future default and silence this warning.\n",
      "  size_math_scores = per_school_summary.groupby([\"School Size\"])[\"Average Math Score\"].mean()\n",
      "C:\\Users\\Hester\\AppData\\Local\\Temp\\ipykernel_13168\\3588142246.py:3: FutureWarning: The default of observed=False is deprecated and will be changed to True in a future version of pandas. Pass observed=False to retain current behavior or observed=True to adopt the future default and silence this warning.\n",
      "  size_reading_scores = per_school_summary.groupby([\"School Size\"])[\"Average Reading Score\"].mean()\n",
      "C:\\Users\\Hester\\AppData\\Local\\Temp\\ipykernel_13168\\3588142246.py:4: FutureWarning: The default of observed=False is deprecated and will be changed to True in a future version of pandas. Pass observed=False to retain current behavior or observed=True to adopt the future default and silence this warning.\n",
      "  size_passing_math = per_school_summary.groupby([\"School Size\"])[\"% Passing Math\"].mean()\n",
      "C:\\Users\\Hester\\AppData\\Local\\Temp\\ipykernel_13168\\3588142246.py:5: FutureWarning: The default of observed=False is deprecated and will be changed to True in a future version of pandas. Pass observed=False to retain current behavior or observed=True to adopt the future default and silence this warning.\n",
      "  size_passing_reading = per_school_summary.groupby([\"School Size\"])[\"% Passing Reading\"].mean()\n",
      "C:\\Users\\Hester\\AppData\\Local\\Temp\\ipykernel_13168\\3588142246.py:6: FutureWarning: The default of observed=False is deprecated and will be changed to True in a future version of pandas. Pass observed=False to retain current behavior or observed=True to adopt the future default and silence this warning.\n",
      "  size_overall_passing = per_school_summary.groupby([\"School Size\"])[\"% Overall Passing\"].mean()\n"
     ]
    }
   ],
   "source": [
    "# Calculate averages for the desired columns.\n",
    "size_math_scores = per_school_summary.groupby([\"School Size\"])[\"Average Math Score\"].mean()\n",
    "size_reading_scores = per_school_summary.groupby([\"School Size\"])[\"Average Reading Score\"].mean()\n",
    "size_passing_math = per_school_summary.groupby([\"School Size\"])[\"% Passing Math\"].mean()\n",
    "size_passing_reading = per_school_summary.groupby([\"School Size\"])[\"% Passing Reading\"].mean()\n",
    "size_overall_passing = per_school_summary.groupby([\"School Size\"])[\"% Overall Passing\"].mean()\n"
   ]
  },
  {
   "cell_type": "code",
   "execution_count": 59,
   "metadata": {
    "scrolled": true
   },
   "outputs": [
    {
     "data": {
      "text/html": [
       "<div>\n",
       "<style scoped>\n",
       "    .dataframe tbody tr th:only-of-type {\n",
       "        vertical-align: middle;\n",
       "    }\n",
       "\n",
       "    .dataframe tbody tr th {\n",
       "        vertical-align: top;\n",
       "    }\n",
       "\n",
       "    .dataframe thead th {\n",
       "        text-align: right;\n",
       "    }\n",
       "</style>\n",
       "<table border=\"1\" class=\"dataframe\">\n",
       "  <thead>\n",
       "    <tr style=\"text-align: right;\">\n",
       "      <th></th>\n",
       "      <th>Average Math Score</th>\n",
       "      <th>Average Reading Score</th>\n",
       "      <th>% Passing Math</th>\n",
       "      <th>% Passing Reading</th>\n",
       "      <th>% Overall Passing</th>\n",
       "    </tr>\n",
       "    <tr>\n",
       "      <th>School Size</th>\n",
       "      <th></th>\n",
       "      <th></th>\n",
       "      <th></th>\n",
       "      <th></th>\n",
       "      <th></th>\n",
       "    </tr>\n",
       "  </thead>\n",
       "  <tbody>\n",
       "    <tr>\n",
       "      <th>Small (&lt;1000)</th>\n",
       "      <td>83.821598</td>\n",
       "      <td>83.929843</td>\n",
       "      <td>93.550225</td>\n",
       "      <td>96.099437</td>\n",
       "      <td>94.824831</td>\n",
       "    </tr>\n",
       "    <tr>\n",
       "      <th>Medium (1000-2000)</th>\n",
       "      <td>83.374684</td>\n",
       "      <td>83.864438</td>\n",
       "      <td>93.599695</td>\n",
       "      <td>96.790680</td>\n",
       "      <td>95.195187</td>\n",
       "    </tr>\n",
       "    <tr>\n",
       "      <th>Large (2000-5000)</th>\n",
       "      <td>77.746417</td>\n",
       "      <td>81.344493</td>\n",
       "      <td>69.963361</td>\n",
       "      <td>82.766634</td>\n",
       "      <td>76.364998</td>\n",
       "    </tr>\n",
       "  </tbody>\n",
       "</table>\n",
       "</div>"
      ],
      "text/plain": [
       "                    Average Math Score  Average Reading Score  % Passing Math  \\\n",
       "School Size                                                                     \n",
       "Small (<1000)                83.821598              83.929843       93.550225   \n",
       "Medium (1000-2000)           83.374684              83.864438       93.599695   \n",
       "Large (2000-5000)            77.746417              81.344493       69.963361   \n",
       "\n",
       "                    % Passing Reading  % Overall Passing  \n",
       "School Size                                               \n",
       "Small (<1000)               96.099437          94.824831  \n",
       "Medium (1000-2000)          96.790680          95.195187  \n",
       "Large (2000-5000)           82.766634          76.364998  "
      ]
     },
     "execution_count": 59,
     "metadata": {},
     "output_type": "execute_result"
    }
   ],
   "source": [
    "# Create a DataFrame called `size_summary` that breaks down school performance based on school size (small, medium, or large).\n",
    "# Use the scores above to create a new DataFrame called `size_summary`\n",
    "size_summary = pd.DataFrame({\n",
    "    \"Average Math Score\": size_math_scores,\n",
    "    \"Average Reading Score\": size_reading_scores,\n",
    "    \"% Passing Math\": size_passing_math,\n",
    "    \"% Passing Reading\": size_passing_reading,\n",
    "    \"% Overall Passing\": size_overall_passing\n",
    "})\n",
    "\n",
    "# Display results\n",
    "size_summary\n"
   ]
  },
  {
   "cell_type": "markdown",
   "metadata": {},
   "source": [
    "## Scores by School Type"
   ]
  },
  {
   "cell_type": "code",
   "execution_count": 60,
   "metadata": {},
   "outputs": [
    {
     "ename": "KeyError",
     "evalue": "'School Type'",
     "output_type": "error",
     "traceback": [
      "\u001b[1;31m---------------------------------------------------------------------------\u001b[0m",
      "\u001b[1;31mKeyError\u001b[0m                                  Traceback (most recent call last)",
      "Cell \u001b[1;32mIn[60], line 2\u001b[0m\n\u001b[0;32m      1\u001b[0m \u001b[38;5;66;03m# Group the per_school_summary DataFrame by \"School Type\" and average the results.\u001b[39;00m\n\u001b[1;32m----> 2\u001b[0m average_math_score_by_type \u001b[38;5;241m=\u001b[39m \u001b[43mper_school_summary\u001b[49m\u001b[38;5;241;43m.\u001b[39;49m\u001b[43mgroupby\u001b[49m\u001b[43m(\u001b[49m\u001b[43m[\u001b[49m\u001b[38;5;124;43m\"\u001b[39;49m\u001b[38;5;124;43mSchool Type\u001b[39;49m\u001b[38;5;124;43m\"\u001b[39;49m\u001b[43m]\u001b[49m\u001b[43m)\u001b[49m[\u001b[38;5;124m\"\u001b[39m\u001b[38;5;124mAverage Math Score\u001b[39m\u001b[38;5;124m\"\u001b[39m]\u001b[38;5;241m.\u001b[39mmean()\n\u001b[0;32m      3\u001b[0m average_reading_score_by_type \u001b[38;5;241m=\u001b[39m per_school_summary\u001b[38;5;241m.\u001b[39mgroupby([\u001b[38;5;124m\"\u001b[39m\u001b[38;5;124mSchool Type\u001b[39m\u001b[38;5;124m\"\u001b[39m])[\u001b[38;5;124m\"\u001b[39m\u001b[38;5;124mAverage Reading Score\u001b[39m\u001b[38;5;124m\"\u001b[39m]\u001b[38;5;241m.\u001b[39mmean()\n\u001b[0;32m      4\u001b[0m average_percent_passing_math_by_type \u001b[38;5;241m=\u001b[39m per_school_summary\u001b[38;5;241m.\u001b[39mgroupby([\u001b[38;5;124m\"\u001b[39m\u001b[38;5;124mSchool Type\u001b[39m\u001b[38;5;124m\"\u001b[39m])[\u001b[38;5;124m\"\u001b[39m\u001b[38;5;124m%\u001b[39m\u001b[38;5;124m Passing Math\u001b[39m\u001b[38;5;124m\"\u001b[39m]\u001b[38;5;241m.\u001b[39mmean()\n",
      "File \u001b[1;32m~\\anaconda3\\envs\\dev\\lib\\site-packages\\pandas\\core\\frame.py:9183\u001b[0m, in \u001b[0;36mDataFrame.groupby\u001b[1;34m(self, by, axis, level, as_index, sort, group_keys, observed, dropna)\u001b[0m\n\u001b[0;32m   9180\u001b[0m \u001b[38;5;28;01mif\u001b[39;00m level \u001b[38;5;129;01mis\u001b[39;00m \u001b[38;5;28;01mNone\u001b[39;00m \u001b[38;5;129;01mand\u001b[39;00m by \u001b[38;5;129;01mis\u001b[39;00m \u001b[38;5;28;01mNone\u001b[39;00m:\n\u001b[0;32m   9181\u001b[0m     \u001b[38;5;28;01mraise\u001b[39;00m \u001b[38;5;167;01mTypeError\u001b[39;00m(\u001b[38;5;124m\"\u001b[39m\u001b[38;5;124mYou have to supply one of \u001b[39m\u001b[38;5;124m'\u001b[39m\u001b[38;5;124mby\u001b[39m\u001b[38;5;124m'\u001b[39m\u001b[38;5;124m and \u001b[39m\u001b[38;5;124m'\u001b[39m\u001b[38;5;124mlevel\u001b[39m\u001b[38;5;124m'\u001b[39m\u001b[38;5;124m\"\u001b[39m)\n\u001b[1;32m-> 9183\u001b[0m \u001b[38;5;28;01mreturn\u001b[39;00m \u001b[43mDataFrameGroupBy\u001b[49m\u001b[43m(\u001b[49m\n\u001b[0;32m   9184\u001b[0m \u001b[43m    \u001b[49m\u001b[43mobj\u001b[49m\u001b[38;5;241;43m=\u001b[39;49m\u001b[38;5;28;43mself\u001b[39;49m\u001b[43m,\u001b[49m\n\u001b[0;32m   9185\u001b[0m \u001b[43m    \u001b[49m\u001b[43mkeys\u001b[49m\u001b[38;5;241;43m=\u001b[39;49m\u001b[43mby\u001b[49m\u001b[43m,\u001b[49m\n\u001b[0;32m   9186\u001b[0m \u001b[43m    \u001b[49m\u001b[43maxis\u001b[49m\u001b[38;5;241;43m=\u001b[39;49m\u001b[43maxis\u001b[49m\u001b[43m,\u001b[49m\n\u001b[0;32m   9187\u001b[0m \u001b[43m    \u001b[49m\u001b[43mlevel\u001b[49m\u001b[38;5;241;43m=\u001b[39;49m\u001b[43mlevel\u001b[49m\u001b[43m,\u001b[49m\n\u001b[0;32m   9188\u001b[0m \u001b[43m    \u001b[49m\u001b[43mas_index\u001b[49m\u001b[38;5;241;43m=\u001b[39;49m\u001b[43mas_index\u001b[49m\u001b[43m,\u001b[49m\n\u001b[0;32m   9189\u001b[0m \u001b[43m    \u001b[49m\u001b[43msort\u001b[49m\u001b[38;5;241;43m=\u001b[39;49m\u001b[43msort\u001b[49m\u001b[43m,\u001b[49m\n\u001b[0;32m   9190\u001b[0m \u001b[43m    \u001b[49m\u001b[43mgroup_keys\u001b[49m\u001b[38;5;241;43m=\u001b[39;49m\u001b[43mgroup_keys\u001b[49m\u001b[43m,\u001b[49m\n\u001b[0;32m   9191\u001b[0m \u001b[43m    \u001b[49m\u001b[43mobserved\u001b[49m\u001b[38;5;241;43m=\u001b[39;49m\u001b[43mobserved\u001b[49m\u001b[43m,\u001b[49m\n\u001b[0;32m   9192\u001b[0m \u001b[43m    \u001b[49m\u001b[43mdropna\u001b[49m\u001b[38;5;241;43m=\u001b[39;49m\u001b[43mdropna\u001b[49m\u001b[43m,\u001b[49m\n\u001b[0;32m   9193\u001b[0m \u001b[43m\u001b[49m\u001b[43m)\u001b[49m\n",
      "File \u001b[1;32m~\\anaconda3\\envs\\dev\\lib\\site-packages\\pandas\\core\\groupby\\groupby.py:1329\u001b[0m, in \u001b[0;36mGroupBy.__init__\u001b[1;34m(self, obj, keys, axis, level, grouper, exclusions, selection, as_index, sort, group_keys, observed, dropna)\u001b[0m\n\u001b[0;32m   1326\u001b[0m \u001b[38;5;28mself\u001b[39m\u001b[38;5;241m.\u001b[39mdropna \u001b[38;5;241m=\u001b[39m dropna\n\u001b[0;32m   1328\u001b[0m \u001b[38;5;28;01mif\u001b[39;00m grouper \u001b[38;5;129;01mis\u001b[39;00m \u001b[38;5;28;01mNone\u001b[39;00m:\n\u001b[1;32m-> 1329\u001b[0m     grouper, exclusions, obj \u001b[38;5;241m=\u001b[39m \u001b[43mget_grouper\u001b[49m\u001b[43m(\u001b[49m\n\u001b[0;32m   1330\u001b[0m \u001b[43m        \u001b[49m\u001b[43mobj\u001b[49m\u001b[43m,\u001b[49m\n\u001b[0;32m   1331\u001b[0m \u001b[43m        \u001b[49m\u001b[43mkeys\u001b[49m\u001b[43m,\u001b[49m\n\u001b[0;32m   1332\u001b[0m \u001b[43m        \u001b[49m\u001b[43maxis\u001b[49m\u001b[38;5;241;43m=\u001b[39;49m\u001b[43maxis\u001b[49m\u001b[43m,\u001b[49m\n\u001b[0;32m   1333\u001b[0m \u001b[43m        \u001b[49m\u001b[43mlevel\u001b[49m\u001b[38;5;241;43m=\u001b[39;49m\u001b[43mlevel\u001b[49m\u001b[43m,\u001b[49m\n\u001b[0;32m   1334\u001b[0m \u001b[43m        \u001b[49m\u001b[43msort\u001b[49m\u001b[38;5;241;43m=\u001b[39;49m\u001b[43msort\u001b[49m\u001b[43m,\u001b[49m\n\u001b[0;32m   1335\u001b[0m \u001b[43m        \u001b[49m\u001b[43mobserved\u001b[49m\u001b[38;5;241;43m=\u001b[39;49m\u001b[38;5;28;43;01mFalse\u001b[39;49;00m\u001b[43m \u001b[49m\u001b[38;5;28;43;01mif\u001b[39;49;00m\u001b[43m \u001b[49m\u001b[43mobserved\u001b[49m\u001b[43m \u001b[49m\u001b[38;5;129;43;01mis\u001b[39;49;00m\u001b[43m \u001b[49m\u001b[43mlib\u001b[49m\u001b[38;5;241;43m.\u001b[39;49m\u001b[43mno_default\u001b[49m\u001b[43m \u001b[49m\u001b[38;5;28;43;01melse\u001b[39;49;00m\u001b[43m \u001b[49m\u001b[43mobserved\u001b[49m\u001b[43m,\u001b[49m\n\u001b[0;32m   1336\u001b[0m \u001b[43m        \u001b[49m\u001b[43mdropna\u001b[49m\u001b[38;5;241;43m=\u001b[39;49m\u001b[38;5;28;43mself\u001b[39;49m\u001b[38;5;241;43m.\u001b[39;49m\u001b[43mdropna\u001b[49m\u001b[43m,\u001b[49m\n\u001b[0;32m   1337\u001b[0m \u001b[43m    \u001b[49m\u001b[43m)\u001b[49m\n\u001b[0;32m   1339\u001b[0m \u001b[38;5;28;01mif\u001b[39;00m observed \u001b[38;5;129;01mis\u001b[39;00m lib\u001b[38;5;241m.\u001b[39mno_default:\n\u001b[0;32m   1340\u001b[0m     \u001b[38;5;28;01mif\u001b[39;00m \u001b[38;5;28many\u001b[39m(ping\u001b[38;5;241m.\u001b[39m_passed_categorical \u001b[38;5;28;01mfor\u001b[39;00m ping \u001b[38;5;129;01min\u001b[39;00m grouper\u001b[38;5;241m.\u001b[39mgroupings):\n",
      "File \u001b[1;32m~\\anaconda3\\envs\\dev\\lib\\site-packages\\pandas\\core\\groupby\\grouper.py:1043\u001b[0m, in \u001b[0;36mget_grouper\u001b[1;34m(obj, key, axis, level, sort, observed, validate, dropna)\u001b[0m\n\u001b[0;32m   1041\u001b[0m         in_axis, level, gpr \u001b[38;5;241m=\u001b[39m \u001b[38;5;28;01mFalse\u001b[39;00m, gpr, \u001b[38;5;28;01mNone\u001b[39;00m\n\u001b[0;32m   1042\u001b[0m     \u001b[38;5;28;01melse\u001b[39;00m:\n\u001b[1;32m-> 1043\u001b[0m         \u001b[38;5;28;01mraise\u001b[39;00m \u001b[38;5;167;01mKeyError\u001b[39;00m(gpr)\n\u001b[0;32m   1044\u001b[0m \u001b[38;5;28;01melif\u001b[39;00m \u001b[38;5;28misinstance\u001b[39m(gpr, Grouper) \u001b[38;5;129;01mand\u001b[39;00m gpr\u001b[38;5;241m.\u001b[39mkey \u001b[38;5;129;01mis\u001b[39;00m \u001b[38;5;129;01mnot\u001b[39;00m \u001b[38;5;28;01mNone\u001b[39;00m:\n\u001b[0;32m   1045\u001b[0m     \u001b[38;5;66;03m# Add key to exclusions\u001b[39;00m\n\u001b[0;32m   1046\u001b[0m     exclusions\u001b[38;5;241m.\u001b[39madd(gpr\u001b[38;5;241m.\u001b[39mkey)\n",
      "\u001b[1;31mKeyError\u001b[0m: 'School Type'"
     ]
    }
   ],
   "source": [
    "# Group the per_school_summary DataFrame by \"School Type\" and average the results.\n",
    "average_math_score_by_type = per_school_summary.groupby([\"School Type\"])[\"Average Math Score\"].mean()\n",
    "average_reading_score_by_type = per_school_summary.groupby([\"School Type\"])[\"Average Reading Score\"].mean()\n",
    "average_percent_passing_math_by_type = per_school_summary.groupby([\"School Type\"])[\"% Passing Math\"].mean()\n",
    "average_percent_passing_reading_by_type = per_school_summary.groupby([\"School Type\"])[\"% Passing Reading\"].mean()\n",
    "average_percent_overall_passing_by_type = per_school_summary.groupby([\"School Type\"])[\"% Overall Passing\"].mean()\n"
   ]
  },
  {
   "cell_type": "code",
   "execution_count": 61,
   "metadata": {},
   "outputs": [
    {
     "ename": "NameError",
     "evalue": "name 'average_math_score_by_type' is not defined",
     "output_type": "error",
     "traceback": [
      "\u001b[1;31m---------------------------------------------------------------------------\u001b[0m",
      "\u001b[1;31mNameError\u001b[0m                                 Traceback (most recent call last)",
      "Cell \u001b[1;32mIn[61], line 3\u001b[0m\n\u001b[0;32m      1\u001b[0m \u001b[38;5;66;03m# Assemble the new data by type into a DataFrame called `type_summary`\u001b[39;00m\n\u001b[0;32m      2\u001b[0m type_summary \u001b[38;5;241m=\u001b[39m pd\u001b[38;5;241m.\u001b[39mDataFrame({\n\u001b[1;32m----> 3\u001b[0m     \u001b[38;5;124m\"\u001b[39m\u001b[38;5;124mAverage Math Score\u001b[39m\u001b[38;5;124m\"\u001b[39m: \u001b[43maverage_math_score_by_type\u001b[49m,\n\u001b[0;32m      4\u001b[0m     \u001b[38;5;124m\"\u001b[39m\u001b[38;5;124mAverage Reading Score\u001b[39m\u001b[38;5;124m\"\u001b[39m: average_reading_score_by_type,\n\u001b[0;32m      5\u001b[0m     \u001b[38;5;124m\"\u001b[39m\u001b[38;5;124m%\u001b[39m\u001b[38;5;124m Passing Math\u001b[39m\u001b[38;5;124m\"\u001b[39m: average_percent_passing_math_by_type,\n\u001b[0;32m      6\u001b[0m     \u001b[38;5;124m\"\u001b[39m\u001b[38;5;124m%\u001b[39m\u001b[38;5;124m Passing Reading\u001b[39m\u001b[38;5;124m\"\u001b[39m: average_percent_passing_reading_by_type,\n\u001b[0;32m      7\u001b[0m     \u001b[38;5;124m\"\u001b[39m\u001b[38;5;124m%\u001b[39m\u001b[38;5;124m Overall Passing\u001b[39m\u001b[38;5;124m\"\u001b[39m: average_percent_overall_passing_by_type\n\u001b[0;32m      8\u001b[0m })\n\u001b[0;32m      9\u001b[0m \u001b[38;5;66;03m# Display results\u001b[39;00m\n\u001b[0;32m     10\u001b[0m type_summary\n",
      "\u001b[1;31mNameError\u001b[0m: name 'average_math_score_by_type' is not defined"
     ]
    }
   ],
   "source": [
    "# Assemble the new data by type into a DataFrame called `type_summary`\n",
    "type_summary = pd.DataFrame({\n",
    "    \"Average Math Score\": average_math_score_by_type,\n",
    "    \"Average Reading Score\": average_reading_score_by_type,\n",
    "    \"% Passing Math\": average_percent_passing_math_by_type,\n",
    "    \"% Passing Reading\": average_percent_passing_reading_by_type,\n",
    "    \"% Overall Passing\": average_percent_overall_passing_by_type\n",
    "})\n",
    "# Display results\n",
    "type_summary\n"
   ]
  },
  {
   "cell_type": "code",
   "execution_count": null,
   "metadata": {},
   "outputs": [],
   "source": []
  }
 ],
 "metadata": {
  "anaconda-cloud": {},
  "kernel_info": {
   "name": "python3"
  },
  "kernelspec": {
   "display_name": "Python 3 (ipykernel)",
   "language": "python",
   "name": "python3"
  },
  "language_info": {
   "codemirror_mode": {
    "name": "ipython",
    "version": 3
   },
   "file_extension": ".py",
   "mimetype": "text/x-python",
   "name": "python",
   "nbconvert_exporter": "python",
   "pygments_lexer": "ipython3",
   "version": "3.10.14"
  },
  "latex_envs": {
   "LaTeX_envs_menu_present": true,
   "autoclose": false,
   "autocomplete": true,
   "bibliofile": "biblio.bib",
   "cite_by": "apalike",
   "current_citInitial": 1,
   "eqLabelWithNumbers": true,
   "eqNumInitial": 1,
   "hotkeys": {
    "equation": "Ctrl-E",
    "itemize": "Ctrl-I"
   },
   "labels_anchors": false,
   "latex_user_defs": false,
   "report_style_numbering": false,
   "user_envs_cfg": false
  },
  "nteract": {
   "version": "0.8.4"
  },
  "vscode": {
   "interpreter": {
    "hash": "5384d77d82de63fd599f73e77f9ec786e7719288bf80a29ec0288c670ac3cf32"
   }
  }
 },
 "nbformat": 4,
 "nbformat_minor": 4
}
